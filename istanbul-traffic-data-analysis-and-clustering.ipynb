{
 "cells": [
  {
   "cell_type": "code",
   "execution_count": 1,
   "id": "5576f1bd",
   "metadata": {
    "_cell_guid": "b1076dfc-b9ad-4769-8c92-a6c4dae69d19",
    "_uuid": "8f2839f25d086af736a60e9eeb907d3b93b6e0e5",
    "execution": {
     "iopub.execute_input": "2024-10-15T06:57:15.896126Z",
     "iopub.status.busy": "2024-10-15T06:57:15.895576Z",
     "iopub.status.idle": "2024-10-15T06:57:16.818301Z",
     "shell.execute_reply": "2024-10-15T06:57:16.816926Z"
    },
    "papermill": {
     "duration": 0.938193,
     "end_time": "2024-10-15T06:57:16.821158",
     "exception": false,
     "start_time": "2024-10-15T06:57:15.882965",
     "status": "completed"
    },
    "tags": []
   },
   "outputs": [
    {
     "name": "stdout",
     "output_type": "stream",
     "text": [
      "/kaggle/input/istanbul-municipality-traffic-density-data-2024aug/traffic_density__202408.csv\n"
     ]
    }
   ],
   "source": [
    "# This Python 3 environment comes with many helpful analytics libraries installed\n",
    "# It is defined by the kaggle/python Docker image: https://github.com/kaggle/docker-python\n",
    "# For example, here's several helpful packages to load\n",
    "\n",
    "import numpy as np # linear algebra\n",
    "import pandas as pd # data processing, CSV file I/O (e.g. pd.read_csv)\n",
    "\n",
    "# Input data files are available in the read-only \"../input/\" directory\n",
    "# For example, running this (by clicking run or pressing Shift+Enter) will list all files under the input directory\n",
    "\n",
    "import os\n",
    "for dirname, _, filenames in os.walk('/kaggle/input'):\n",
    "    for filename in filenames:\n",
    "        print(os.path.join(dirname, filename))\n",
    "\n",
    "# You can write up to 20GB to the current directory (/kaggle/working/) that gets preserved as output when you create a version using \"Save & Run All\" \n",
    "# You can also write temporary files to /kaggle/temp/, but they won't be saved outside of the current session"
   ]
  },
  {
   "cell_type": "code",
   "execution_count": 2,
   "id": "3d3c1e5c",
   "metadata": {
    "execution": {
     "iopub.execute_input": "2024-10-15T06:57:16.844824Z",
     "iopub.status.busy": "2024-10-15T06:57:16.844232Z",
     "iopub.status.idle": "2024-10-15T06:57:21.250652Z",
     "shell.execute_reply": "2024-10-15T06:57:21.249297Z"
    },
    "papermill": {
     "duration": 4.421718,
     "end_time": "2024-10-15T06:57:21.253510",
     "exception": false,
     "start_time": "2024-10-15T06:57:16.831792",
     "status": "completed"
    },
    "tags": []
   },
   "outputs": [],
   "source": [
    "\n",
    "df=pd.read_csv(\"/kaggle/input/istanbul-municipality-traffic-density-data-2024aug/traffic_density__202408.csv\")"
   ]
  },
  {
   "cell_type": "code",
   "execution_count": 3,
   "id": "95d9cc80",
   "metadata": {
    "execution": {
     "iopub.execute_input": "2024-10-15T06:57:21.277514Z",
     "iopub.status.busy": "2024-10-15T06:57:21.275862Z",
     "iopub.status.idle": "2024-10-15T06:57:21.307121Z",
     "shell.execute_reply": "2024-10-15T06:57:21.305851Z"
    },
    "papermill": {
     "duration": 0.046157,
     "end_time": "2024-10-15T06:57:21.310136",
     "exception": false,
     "start_time": "2024-10-15T06:57:21.263979",
     "status": "completed"
    },
    "tags": []
   },
   "outputs": [
    {
     "data": {
      "text/html": [
       "<div>\n",
       "<style scoped>\n",
       "    .dataframe tbody tr th:only-of-type {\n",
       "        vertical-align: middle;\n",
       "    }\n",
       "\n",
       "    .dataframe tbody tr th {\n",
       "        vertical-align: top;\n",
       "    }\n",
       "\n",
       "    .dataframe thead th {\n",
       "        text-align: right;\n",
       "    }\n",
       "</style>\n",
       "<table border=\"1\" class=\"dataframe\">\n",
       "  <thead>\n",
       "    <tr style=\"text-align: right;\">\n",
       "      <th></th>\n",
       "      <th>DATE_TIME</th>\n",
       "      <th>LONGITUDE</th>\n",
       "      <th>LATITUDE</th>\n",
       "      <th>GEOHASH</th>\n",
       "      <th>MINIMUM_SPEED</th>\n",
       "      <th>MAXIMUM_SPEED</th>\n",
       "      <th>AVERAGE_SPEED</th>\n",
       "      <th>NUMBER_OF_VEHICLES</th>\n",
       "    </tr>\n",
       "  </thead>\n",
       "  <tbody>\n",
       "    <tr>\n",
       "      <th>0</th>\n",
       "      <td>2024-08-01 00:00:00</td>\n",
       "      <td>28.427124</td>\n",
       "      <td>41.058655</td>\n",
       "      <td>sxk1wf</td>\n",
       "      <td>61</td>\n",
       "      <td>126</td>\n",
       "      <td>90</td>\n",
       "      <td>50</td>\n",
       "    </tr>\n",
       "    <tr>\n",
       "      <th>1</th>\n",
       "      <td>2024-08-01 00:00:00</td>\n",
       "      <td>28.591919</td>\n",
       "      <td>41.102600</td>\n",
       "      <td>sxk3fd</td>\n",
       "      <td>33</td>\n",
       "      <td>154</td>\n",
       "      <td>89</td>\n",
       "      <td>58</td>\n",
       "    </tr>\n",
       "    <tr>\n",
       "      <th>2</th>\n",
       "      <td>2024-08-01 00:00:00</td>\n",
       "      <td>28.339233</td>\n",
       "      <td>41.097107</td>\n",
       "      <td>sxk1uc</td>\n",
       "      <td>65</td>\n",
       "      <td>141</td>\n",
       "      <td>95</td>\n",
       "      <td>38</td>\n",
       "    </tr>\n",
       "    <tr>\n",
       "      <th>3</th>\n",
       "      <td>2024-08-01 00:00:00</td>\n",
       "      <td>28.229370</td>\n",
       "      <td>41.130066</td>\n",
       "      <td>sxk1fr</td>\n",
       "      <td>51</td>\n",
       "      <td>129</td>\n",
       "      <td>84</td>\n",
       "      <td>38</td>\n",
       "    </tr>\n",
       "    <tr>\n",
       "      <th>4</th>\n",
       "      <td>2024-08-01 00:00:00</td>\n",
       "      <td>28.493042</td>\n",
       "      <td>41.119080</td>\n",
       "      <td>sxk3bm</td>\n",
       "      <td>30</td>\n",
       "      <td>113</td>\n",
       "      <td>67</td>\n",
       "      <td>23</td>\n",
       "    </tr>\n",
       "  </tbody>\n",
       "</table>\n",
       "</div>"
      ],
      "text/plain": [
       "             DATE_TIME  LONGITUDE   LATITUDE GEOHASH  MINIMUM_SPEED  \\\n",
       "0  2024-08-01 00:00:00  28.427124  41.058655  sxk1wf             61   \n",
       "1  2024-08-01 00:00:00  28.591919  41.102600  sxk3fd             33   \n",
       "2  2024-08-01 00:00:00  28.339233  41.097107  sxk1uc             65   \n",
       "3  2024-08-01 00:00:00  28.229370  41.130066  sxk1fr             51   \n",
       "4  2024-08-01 00:00:00  28.493042  41.119080  sxk3bm             30   \n",
       "\n",
       "   MAXIMUM_SPEED  AVERAGE_SPEED  NUMBER_OF_VEHICLES  \n",
       "0            126             90                  50  \n",
       "1            154             89                  58  \n",
       "2            141             95                  38  \n",
       "3            129             84                  38  \n",
       "4            113             67                  23  "
      ]
     },
     "execution_count": 3,
     "metadata": {},
     "output_type": "execute_result"
    }
   ],
   "source": [
    "df.head()"
   ]
  },
  {
   "cell_type": "markdown",
   "id": "717e61e1",
   "metadata": {
    "papermill": {
     "duration": 0.0157,
     "end_time": "2024-10-15T06:57:21.337908",
     "exception": false,
     "start_time": "2024-10-15T06:57:21.322208",
     "status": "completed"
    },
    "tags": []
   },
   "source": []
  },
  {
   "cell_type": "markdown",
   "id": "ad1d12a2",
   "metadata": {
    "papermill": {
     "duration": 0.010112,
     "end_time": "2024-10-15T06:57:21.359658",
     "exception": false,
     "start_time": "2024-10-15T06:57:21.349546",
     "status": "completed"
    },
    "tags": []
   },
   "source": [
    "# TOP Regions in Turkey with Highest Number of Vehicles"
   ]
  },
  {
   "cell_type": "code",
   "execution_count": 4,
   "id": "84be1838",
   "metadata": {
    "execution": {
     "iopub.execute_input": "2024-10-15T06:57:21.382822Z",
     "iopub.status.busy": "2024-10-15T06:57:21.382029Z",
     "iopub.status.idle": "2024-10-15T06:57:23.614907Z",
     "shell.execute_reply": "2024-10-15T06:57:23.613758Z"
    },
    "papermill": {
     "duration": 2.247506,
     "end_time": "2024-10-15T06:57:23.617623",
     "exception": false,
     "start_time": "2024-10-15T06:57:21.370117",
     "status": "completed"
    },
    "tags": []
   },
   "outputs": [],
   "source": [
    "import matplotlib.pyplot as plt\n",
    "import seaborn as sns\n",
    "import folium"
   ]
  },
  {
   "cell_type": "code",
   "execution_count": 5,
   "id": "09ac3748",
   "metadata": {
    "execution": {
     "iopub.execute_input": "2024-10-15T06:57:23.641215Z",
     "iopub.status.busy": "2024-10-15T06:57:23.640282Z",
     "iopub.status.idle": "2024-10-15T06:57:23.789434Z",
     "shell.execute_reply": "2024-10-15T06:57:23.788237Z"
    },
    "papermill": {
     "duration": 0.163848,
     "end_time": "2024-10-15T06:57:23.792278",
     "exception": false,
     "start_time": "2024-10-15T06:57:23.628430",
     "status": "completed"
    },
    "tags": []
   },
   "outputs": [],
   "source": [
    "df1 = df.groupby(['LONGITUDE','LATITUDE']).agg({\"NUMBER_OF_VEHICLES\":\"sum\"}).reset_index().sort_values(by='NUMBER_OF_VEHICLES',ascending=False)"
   ]
  },
  {
   "cell_type": "code",
   "execution_count": 6,
   "id": "624218c2",
   "metadata": {
    "execution": {
     "iopub.execute_input": "2024-10-15T06:57:23.814954Z",
     "iopub.status.busy": "2024-10-15T06:57:23.814509Z",
     "iopub.status.idle": "2024-10-15T06:57:23.874563Z",
     "shell.execute_reply": "2024-10-15T06:57:23.873480Z"
    },
    "papermill": {
     "duration": 0.07442,
     "end_time": "2024-10-15T06:57:23.877289",
     "exception": false,
     "start_time": "2024-10-15T06:57:23.802869",
     "status": "completed"
    },
    "tags": []
   },
   "outputs": [
    {
     "data": {
      "text/html": [
       "<div style=\"width:100%;\"><div style=\"position:relative;width:100%;height:0;padding-bottom:60%;\"><span style=\"color:#565656\">Make this Notebook Trusted to load map: File -> Trust Notebook</span><iframe srcdoc=\"&lt;!DOCTYPE html&gt;\n",
       "&lt;html&gt;\n",
       "&lt;head&gt;\n",
       "    \n",
       "    &lt;meta http-equiv=&quot;content-type&quot; content=&quot;text/html; charset=UTF-8&quot; /&gt;\n",
       "    \n",
       "        &lt;script&gt;\n",
       "            L_NO_TOUCH = false;\n",
       "            L_DISABLE_3D = false;\n",
       "        &lt;/script&gt;\n",
       "    \n",
       "    &lt;style&gt;html, body {width: 100%;height: 100%;margin: 0;padding: 0;}&lt;/style&gt;\n",
       "    &lt;style&gt;#map {position:absolute;top:0;bottom:0;right:0;left:0;}&lt;/style&gt;\n",
       "    &lt;script src=&quot;https://cdn.jsdelivr.net/npm/leaflet@1.9.3/dist/leaflet.js&quot;&gt;&lt;/script&gt;\n",
       "    &lt;script src=&quot;https://code.jquery.com/jquery-3.7.1.min.js&quot;&gt;&lt;/script&gt;\n",
       "    &lt;script src=&quot;https://cdn.jsdelivr.net/npm/bootstrap@5.2.2/dist/js/bootstrap.bundle.min.js&quot;&gt;&lt;/script&gt;\n",
       "    &lt;script src=&quot;https://cdnjs.cloudflare.com/ajax/libs/Leaflet.awesome-markers/2.0.2/leaflet.awesome-markers.js&quot;&gt;&lt;/script&gt;\n",
       "    &lt;link rel=&quot;stylesheet&quot; href=&quot;https://cdn.jsdelivr.net/npm/leaflet@1.9.3/dist/leaflet.css&quot;/&gt;\n",
       "    &lt;link rel=&quot;stylesheet&quot; href=&quot;https://cdn.jsdelivr.net/npm/bootstrap@5.2.2/dist/css/bootstrap.min.css&quot;/&gt;\n",
       "    &lt;link rel=&quot;stylesheet&quot; href=&quot;https://netdna.bootstrapcdn.com/bootstrap/3.0.0/css/bootstrap-glyphicons.css&quot;/&gt;\n",
       "    &lt;link rel=&quot;stylesheet&quot; href=&quot;https://cdn.jsdelivr.net/npm/@fortawesome/fontawesome-free@6.2.0/css/all.min.css&quot;/&gt;\n",
       "    &lt;link rel=&quot;stylesheet&quot; href=&quot;https://cdnjs.cloudflare.com/ajax/libs/Leaflet.awesome-markers/2.0.2/leaflet.awesome-markers.css&quot;/&gt;\n",
       "    &lt;link rel=&quot;stylesheet&quot; href=&quot;https://cdn.jsdelivr.net/gh/python-visualization/folium/folium/templates/leaflet.awesome.rotate.min.css&quot;/&gt;\n",
       "    \n",
       "            &lt;meta name=&quot;viewport&quot; content=&quot;width=device-width,\n",
       "                initial-scale=1.0, maximum-scale=1.0, user-scalable=no&quot; /&gt;\n",
       "            &lt;style&gt;\n",
       "                #map_dd2dde113688a556b25dde04ec094b34 {\n",
       "                    position: relative;\n",
       "                    width: 100.0%;\n",
       "                    height: 100.0%;\n",
       "                    left: 0.0%;\n",
       "                    top: 0.0%;\n",
       "                }\n",
       "                .leaflet-container { font-size: 1rem; }\n",
       "            &lt;/style&gt;\n",
       "        \n",
       "&lt;/head&gt;\n",
       "&lt;body&gt;\n",
       "    \n",
       "    \n",
       "            &lt;div class=&quot;folium-map&quot; id=&quot;map_dd2dde113688a556b25dde04ec094b34&quot; &gt;&lt;/div&gt;\n",
       "        \n",
       "&lt;/body&gt;\n",
       "&lt;script&gt;\n",
       "    \n",
       "    \n",
       "            var map_dd2dde113688a556b25dde04ec094b34 = L.map(\n",
       "                &quot;map_dd2dde113688a556b25dde04ec094b34&quot;,\n",
       "                {\n",
       "                    center: [40.9378051757813, 29.3280029296875],\n",
       "                    crs: L.CRS.EPSG3857,\n",
       "                    zoom: 10,\n",
       "                    zoomControl: true,\n",
       "                    preferCanvas: false,\n",
       "                }\n",
       "            );\n",
       "\n",
       "            \n",
       "\n",
       "        \n",
       "    \n",
       "            var tile_layer_20957f42e732122ffed0f965782e9f7b = L.tileLayer(\n",
       "                &quot;https://tile.openstreetmap.org/{z}/{x}/{y}.png&quot;,\n",
       "                {&quot;attribution&quot;: &quot;\\u0026copy; \\u003ca href=\\&quot;https://www.openstreetmap.org/copyright\\&quot;\\u003eOpenStreetMap\\u003c/a\\u003e contributors&quot;, &quot;detectRetina&quot;: false, &quot;maxNativeZoom&quot;: 19, &quot;maxZoom&quot;: 19, &quot;minZoom&quot;: 0, &quot;noWrap&quot;: false, &quot;opacity&quot;: 1, &quot;subdomains&quot;: &quot;abc&quot;, &quot;tms&quot;: false}\n",
       "            );\n",
       "        \n",
       "    \n",
       "            tile_layer_20957f42e732122ffed0f965782e9f7b.addTo(map_dd2dde113688a556b25dde04ec094b34);\n",
       "        \n",
       "    \n",
       "            var marker_080bf1684e013f26d274728b042cec74 = L.marker(\n",
       "                [40.9378051757813, 29.3280029296875],\n",
       "                {}\n",
       "            ).addTo(map_dd2dde113688a556b25dde04ec094b34);\n",
       "        \n",
       "    \n",
       "        var popup_1c17a6886514286b99163a897981b615 = L.popup({&quot;maxWidth&quot;: &quot;100%&quot;});\n",
       "\n",
       "        \n",
       "            \n",
       "                var html_8923beb2f39dcc68b5f67bfd53e3c059 = $(`&lt;div id=&quot;html_8923beb2f39dcc68b5f67bfd53e3c059&quot; style=&quot;width: 100.0%; height: 100.0%;&quot;&gt;0&lt;/div&gt;`)[0];\n",
       "                popup_1c17a6886514286b99163a897981b615.setContent(html_8923beb2f39dcc68b5f67bfd53e3c059);\n",
       "            \n",
       "        \n",
       "\n",
       "        marker_080bf1684e013f26d274728b042cec74.bindPopup(popup_1c17a6886514286b99163a897981b615)\n",
       "        ;\n",
       "\n",
       "        \n",
       "    \n",
       "    \n",
       "            var marker_bc16da450fb8d2d99c62cbad86a9ef3d = L.marker(\n",
       "                [41.0641479492188, 28.8116455078125],\n",
       "                {}\n",
       "            ).addTo(map_dd2dde113688a556b25dde04ec094b34);\n",
       "        \n",
       "    \n",
       "        var popup_b3e5c8a2785dcc19da062a22795a4f37 = L.popup({&quot;maxWidth&quot;: &quot;100%&quot;});\n",
       "\n",
       "        \n",
       "            \n",
       "                var html_b0ee1c911593ad9abb17abff7a975645 = $(`&lt;div id=&quot;html_b0ee1c911593ad9abb17abff7a975645&quot; style=&quot;width: 100.0%; height: 100.0%;&quot;&gt;1&lt;/div&gt;`)[0];\n",
       "                popup_b3e5c8a2785dcc19da062a22795a4f37.setContent(html_b0ee1c911593ad9abb17abff7a975645);\n",
       "            \n",
       "        \n",
       "\n",
       "        marker_bc16da450fb8d2d99c62cbad86a9ef3d.bindPopup(popup_b3e5c8a2785dcc19da062a22795a4f37)\n",
       "        ;\n",
       "\n",
       "        \n",
       "    \n",
       "    \n",
       "            var marker_d601351bf707187d96e4dd27e4aa2e97 = L.marker(\n",
       "                [40.9323120117188, 29.3389892578125],\n",
       "                {}\n",
       "            ).addTo(map_dd2dde113688a556b25dde04ec094b34);\n",
       "        \n",
       "    \n",
       "        var popup_c2825a66b62f7a41cfc29e5adfe6559a = L.popup({&quot;maxWidth&quot;: &quot;100%&quot;});\n",
       "\n",
       "        \n",
       "            \n",
       "                var html_48e2d7d8530ce7a7be92986e3aef9756 = $(`&lt;div id=&quot;html_48e2d7d8530ce7a7be92986e3aef9756&quot; style=&quot;width: 100.0%; height: 100.0%;&quot;&gt;2&lt;/div&gt;`)[0];\n",
       "                popup_c2825a66b62f7a41cfc29e5adfe6559a.setContent(html_48e2d7d8530ce7a7be92986e3aef9756);\n",
       "            \n",
       "        \n",
       "\n",
       "        marker_d601351bf707187d96e4dd27e4aa2e97.bindPopup(popup_c2825a66b62f7a41cfc29e5adfe6559a)\n",
       "        ;\n",
       "\n",
       "        \n",
       "    \n",
       "    \n",
       "            var marker_d70b4abfdef4be20ff27a2db272ab497 = L.marker(\n",
       "                [41.0641479492188, 28.8336181640625],\n",
       "                {}\n",
       "            ).addTo(map_dd2dde113688a556b25dde04ec094b34);\n",
       "        \n",
       "    \n",
       "        var popup_c1040f0c74909913a8a9a2f49411c431 = L.popup({&quot;maxWidth&quot;: &quot;100%&quot;});\n",
       "\n",
       "        \n",
       "            \n",
       "                var html_640b498afada4e5ce309abc524deaa2c = $(`&lt;div id=&quot;html_640b498afada4e5ce309abc524deaa2c&quot; style=&quot;width: 100.0%; height: 100.0%;&quot;&gt;3&lt;/div&gt;`)[0];\n",
       "                popup_c1040f0c74909913a8a9a2f49411c431.setContent(html_640b498afada4e5ce309abc524deaa2c);\n",
       "            \n",
       "        \n",
       "\n",
       "        marker_d70b4abfdef4be20ff27a2db272ab497.bindPopup(popup_c1040f0c74909913a8a9a2f49411c431)\n",
       "        ;\n",
       "\n",
       "        \n",
       "    \n",
       "    \n",
       "            var marker_aee07484bf1e0f057d653832338d77d5 = L.marker(\n",
       "                [40.9927368164063, 29.1522216796875],\n",
       "                {}\n",
       "            ).addTo(map_dd2dde113688a556b25dde04ec094b34);\n",
       "        \n",
       "    \n",
       "        var popup_224361e6edca84052536c9b83280c669 = L.popup({&quot;maxWidth&quot;: &quot;100%&quot;});\n",
       "\n",
       "        \n",
       "            \n",
       "                var html_b795e2eebd4a8df8031c266a1b11b373 = $(`&lt;div id=&quot;html_b795e2eebd4a8df8031c266a1b11b373&quot; style=&quot;width: 100.0%; height: 100.0%;&quot;&gt;4&lt;/div&gt;`)[0];\n",
       "                popup_224361e6edca84052536c9b83280c669.setContent(html_b795e2eebd4a8df8031c266a1b11b373);\n",
       "            \n",
       "        \n",
       "\n",
       "        marker_aee07484bf1e0f057d653832338d77d5.bindPopup(popup_224361e6edca84052536c9b83280c669)\n",
       "        ;\n",
       "\n",
       "        \n",
       "    \n",
       "    \n",
       "            var marker_0e77783b69aa7729884afe4bbdf7911f = L.marker(\n",
       "                [41.0586547851563, 28.8116455078125],\n",
       "                {}\n",
       "            ).addTo(map_dd2dde113688a556b25dde04ec094b34);\n",
       "        \n",
       "    \n",
       "        var popup_efe8839b2aca7f26e5d7765f143ecec0 = L.popup({&quot;maxWidth&quot;: &quot;100%&quot;});\n",
       "\n",
       "        \n",
       "            \n",
       "                var html_c48aa6b37483d15a57b15e78318583c1 = $(`&lt;div id=&quot;html_c48aa6b37483d15a57b15e78318583c1&quot; style=&quot;width: 100.0%; height: 100.0%;&quot;&gt;5&lt;/div&gt;`)[0];\n",
       "                popup_efe8839b2aca7f26e5d7765f143ecec0.setContent(html_c48aa6b37483d15a57b15e78318583c1);\n",
       "            \n",
       "        \n",
       "\n",
       "        marker_0e77783b69aa7729884afe4bbdf7911f.bindPopup(popup_efe8839b2aca7f26e5d7765f143ecec0)\n",
       "        ;\n",
       "\n",
       "        \n",
       "    \n",
       "    \n",
       "            var marker_d624cd6579ef4e62c8fe93d86c592f03 = L.marker(\n",
       "                [41.0037231445313, 28.6798095703125],\n",
       "                {}\n",
       "            ).addTo(map_dd2dde113688a556b25dde04ec094b34);\n",
       "        \n",
       "    \n",
       "        var popup_445a4dd542a031c232b8e92da5b91556 = L.popup({&quot;maxWidth&quot;: &quot;100%&quot;});\n",
       "\n",
       "        \n",
       "            \n",
       "                var html_ea46c2becdd4ae13a2b5bae76d42603e = $(`&lt;div id=&quot;html_ea46c2becdd4ae13a2b5bae76d42603e&quot; style=&quot;width: 100.0%; height: 100.0%;&quot;&gt;6&lt;/div&gt;`)[0];\n",
       "                popup_445a4dd542a031c232b8e92da5b91556.setContent(html_ea46c2becdd4ae13a2b5bae76d42603e);\n",
       "            \n",
       "        \n",
       "\n",
       "        marker_d624cd6579ef4e62c8fe93d86c592f03.bindPopup(popup_445a4dd542a031c232b8e92da5b91556)\n",
       "        ;\n",
       "\n",
       "        \n",
       "    \n",
       "    \n",
       "            var marker_da8baa22fb58cdcbdc9b631734cee4ab = L.marker(\n",
       "                [40.8663940429688, 29.2730712890625],\n",
       "                {}\n",
       "            ).addTo(map_dd2dde113688a556b25dde04ec094b34);\n",
       "        \n",
       "    \n",
       "        var popup_4e048561155edd88aad736af79dd7258 = L.popup({&quot;maxWidth&quot;: &quot;100%&quot;});\n",
       "\n",
       "        \n",
       "            \n",
       "                var html_fb6e48258a9053c4089018935187c8f8 = $(`&lt;div id=&quot;html_fb6e48258a9053c4089018935187c8f8&quot; style=&quot;width: 100.0%; height: 100.0%;&quot;&gt;7&lt;/div&gt;`)[0];\n",
       "                popup_4e048561155edd88aad736af79dd7258.setContent(html_fb6e48258a9053c4089018935187c8f8);\n",
       "            \n",
       "        \n",
       "\n",
       "        marker_da8baa22fb58cdcbdc9b631734cee4ab.bindPopup(popup_4e048561155edd88aad736af79dd7258)\n",
       "        ;\n",
       "\n",
       "        \n",
       "    \n",
       "    \n",
       "            var marker_21fc929d8ed6bfada0e199e88e21f096 = L.marker(\n",
       "                [40.9982299804688, 29.1192626953125],\n",
       "                {}\n",
       "            ).addTo(map_dd2dde113688a556b25dde04ec094b34);\n",
       "        \n",
       "    \n",
       "        var popup_1fc8f12bd6ca29d4b0feab13c360a402 = L.popup({&quot;maxWidth&quot;: &quot;100%&quot;});\n",
       "\n",
       "        \n",
       "            \n",
       "                var html_10d9ba1888f9a395d284a08a0d35ebb2 = $(`&lt;div id=&quot;html_10d9ba1888f9a395d284a08a0d35ebb2&quot; style=&quot;width: 100.0%; height: 100.0%;&quot;&gt;8&lt;/div&gt;`)[0];\n",
       "                popup_1fc8f12bd6ca29d4b0feab13c360a402.setContent(html_10d9ba1888f9a395d284a08a0d35ebb2);\n",
       "            \n",
       "        \n",
       "\n",
       "        marker_21fc929d8ed6bfada0e199e88e21f096.bindPopup(popup_1fc8f12bd6ca29d4b0feab13c360a402)\n",
       "        ;\n",
       "\n",
       "        \n",
       "    \n",
       "    \n",
       "            var marker_a8a36dbcff43428bfacc0f61a89c6a77 = L.marker(\n",
       "                [41.0641479492188, 28.8006591796875],\n",
       "                {}\n",
       "            ).addTo(map_dd2dde113688a556b25dde04ec094b34);\n",
       "        \n",
       "    \n",
       "        var popup_29e96e48ff79f47aba8bf295a202ed9f = L.popup({&quot;maxWidth&quot;: &quot;100%&quot;});\n",
       "\n",
       "        \n",
       "            \n",
       "                var html_be95985bdbbccf291f1290b17f916111 = $(`&lt;div id=&quot;html_be95985bdbbccf291f1290b17f916111&quot; style=&quot;width: 100.0%; height: 100.0%;&quot;&gt;9&lt;/div&gt;`)[0];\n",
       "                popup_29e96e48ff79f47aba8bf295a202ed9f.setContent(html_be95985bdbbccf291f1290b17f916111);\n",
       "            \n",
       "        \n",
       "\n",
       "        marker_a8a36dbcff43428bfacc0f61a89c6a77.bindPopup(popup_29e96e48ff79f47aba8bf295a202ed9f)\n",
       "        ;\n",
       "\n",
       "        \n",
       "    \n",
       "    \n",
       "            var marker_67f6bb224c245912b6da4bdb675214d9 = L.marker(\n",
       "                [41.0476684570313, 28.8116455078125],\n",
       "                {}\n",
       "            ).addTo(map_dd2dde113688a556b25dde04ec094b34);\n",
       "        \n",
       "    \n",
       "        var popup_c4d06585a5e6fd96a95698d0a2eeed2e = L.popup({&quot;maxWidth&quot;: &quot;100%&quot;});\n",
       "\n",
       "        \n",
       "            \n",
       "                var html_faee5ea37e2e0f8a0ac3dfe28b56ae4e = $(`&lt;div id=&quot;html_faee5ea37e2e0f8a0ac3dfe28b56ae4e&quot; style=&quot;width: 100.0%; height: 100.0%;&quot;&gt;10&lt;/div&gt;`)[0];\n",
       "                popup_c4d06585a5e6fd96a95698d0a2eeed2e.setContent(html_faee5ea37e2e0f8a0ac3dfe28b56ae4e);\n",
       "            \n",
       "        \n",
       "\n",
       "        marker_67f6bb224c245912b6da4bdb675214d9.bindPopup(popup_c4d06585a5e6fd96a95698d0a2eeed2e)\n",
       "        ;\n",
       "\n",
       "        \n",
       "    \n",
       "    \n",
       "            var marker_a81d325592eb7a5c1044ecc95e6928e2 = L.marker(\n",
       "                [40.9762573242188, 29.2401123046875],\n",
       "                {}\n",
       "            ).addTo(map_dd2dde113688a556b25dde04ec094b34);\n",
       "        \n",
       "    \n",
       "        var popup_abdead162bbbdb9c57b21c53baf5d4b9 = L.popup({&quot;maxWidth&quot;: &quot;100%&quot;});\n",
       "\n",
       "        \n",
       "            \n",
       "                var html_c865af62fa9d8ca29eefe22eaf8a5ec8 = $(`&lt;div id=&quot;html_c865af62fa9d8ca29eefe22eaf8a5ec8&quot; style=&quot;width: 100.0%; height: 100.0%;&quot;&gt;11&lt;/div&gt;`)[0];\n",
       "                popup_abdead162bbbdb9c57b21c53baf5d4b9.setContent(html_c865af62fa9d8ca29eefe22eaf8a5ec8);\n",
       "            \n",
       "        \n",
       "\n",
       "        marker_a81d325592eb7a5c1044ecc95e6928e2.bindPopup(popup_abdead162bbbdb9c57b21c53baf5d4b9)\n",
       "        ;\n",
       "\n",
       "        \n",
       "    \n",
       "    \n",
       "            var marker_369b6995b21799d4cfa1e7fefb0c06d4 = L.marker(\n",
       "                [40.9817504882813, 29.2071533203125],\n",
       "                {}\n",
       "            ).addTo(map_dd2dde113688a556b25dde04ec094b34);\n",
       "        \n",
       "    \n",
       "        var popup_6c6c3a3cf48847a565cfcb419c8f3e6e = L.popup({&quot;maxWidth&quot;: &quot;100%&quot;});\n",
       "\n",
       "        \n",
       "            \n",
       "                var html_57eeaee55fb3ed9311227f8129732c06 = $(`&lt;div id=&quot;html_57eeaee55fb3ed9311227f8129732c06&quot; style=&quot;width: 100.0%; height: 100.0%;&quot;&gt;12&lt;/div&gt;`)[0];\n",
       "                popup_6c6c3a3cf48847a565cfcb419c8f3e6e.setContent(html_57eeaee55fb3ed9311227f8129732c06);\n",
       "            \n",
       "        \n",
       "\n",
       "        marker_369b6995b21799d4cfa1e7fefb0c06d4.bindPopup(popup_6c6c3a3cf48847a565cfcb419c8f3e6e)\n",
       "        ;\n",
       "\n",
       "        \n",
       "    \n",
       "    \n",
       "            var marker_fa521408499677b4047c53588f8295fb = L.marker(\n",
       "                [40.9268188476563, 29.3499755859375],\n",
       "                {}\n",
       "            ).addTo(map_dd2dde113688a556b25dde04ec094b34);\n",
       "        \n",
       "    \n",
       "        var popup_580199c32ac60081bffe8dd03888628b = L.popup({&quot;maxWidth&quot;: &quot;100%&quot;});\n",
       "\n",
       "        \n",
       "            \n",
       "                var html_b42392816a307e6221f85d1f82e570bd = $(`&lt;div id=&quot;html_b42392816a307e6221f85d1f82e570bd&quot; style=&quot;width: 100.0%; height: 100.0%;&quot;&gt;13&lt;/div&gt;`)[0];\n",
       "                popup_580199c32ac60081bffe8dd03888628b.setContent(html_b42392816a307e6221f85d1f82e570bd);\n",
       "            \n",
       "        \n",
       "\n",
       "        marker_fa521408499677b4047c53588f8295fb.bindPopup(popup_580199c32ac60081bffe8dd03888628b)\n",
       "        ;\n",
       "\n",
       "        \n",
       "    \n",
       "    \n",
       "            var marker_dca6878e373fc28238638353cab9552d = L.marker(\n",
       "                [40.9432983398438, 29.3170166015625],\n",
       "                {}\n",
       "            ).addTo(map_dd2dde113688a556b25dde04ec094b34);\n",
       "        \n",
       "    \n",
       "        var popup_6123645445e04a2fbcd9f9e3d6da280c = L.popup({&quot;maxWidth&quot;: &quot;100%&quot;});\n",
       "\n",
       "        \n",
       "            \n",
       "                var html_eaf9e329f5b97da94860bee1a22da4e9 = $(`&lt;div id=&quot;html_eaf9e329f5b97da94860bee1a22da4e9&quot; style=&quot;width: 100.0%; height: 100.0%;&quot;&gt;14&lt;/div&gt;`)[0];\n",
       "                popup_6123645445e04a2fbcd9f9e3d6da280c.setContent(html_eaf9e329f5b97da94860bee1a22da4e9);\n",
       "            \n",
       "        \n",
       "\n",
       "        marker_dca6878e373fc28238638353cab9552d.bindPopup(popup_6123645445e04a2fbcd9f9e3d6da280c)\n",
       "        ;\n",
       "\n",
       "        \n",
       "    \n",
       "    \n",
       "            var marker_13412d14191ec878e79e38407aac2c69 = L.marker(\n",
       "                [41.0256958007813, 28.8116455078125],\n",
       "                {}\n",
       "            ).addTo(map_dd2dde113688a556b25dde04ec094b34);\n",
       "        \n",
       "    \n",
       "        var popup_a0599e62d27ff86c66f11503b58bc0f8 = L.popup({&quot;maxWidth&quot;: &quot;100%&quot;});\n",
       "\n",
       "        \n",
       "            \n",
       "                var html_b39df84329c7976d8688ee9d4b02010e = $(`&lt;div id=&quot;html_b39df84329c7976d8688ee9d4b02010e&quot; style=&quot;width: 100.0%; height: 100.0%;&quot;&gt;15&lt;/div&gt;`)[0];\n",
       "                popup_a0599e62d27ff86c66f11503b58bc0f8.setContent(html_b39df84329c7976d8688ee9d4b02010e);\n",
       "            \n",
       "        \n",
       "\n",
       "        marker_13412d14191ec878e79e38407aac2c69.bindPopup(popup_a0599e62d27ff86c66f11503b58bc0f8)\n",
       "        ;\n",
       "\n",
       "        \n",
       "    \n",
       "    \n",
       "            var marker_c337a9df507b5b5e69a64ff6b37b6cb9 = L.marker(\n",
       "                [40.9817504882813, 29.2181396484375],\n",
       "                {}\n",
       "            ).addTo(map_dd2dde113688a556b25dde04ec094b34);\n",
       "        \n",
       "    \n",
       "        var popup_d9608db0ad4d0a5ef382a298369e3c7d = L.popup({&quot;maxWidth&quot;: &quot;100%&quot;});\n",
       "\n",
       "        \n",
       "            \n",
       "                var html_1322f386c432a9eb2ee137eaacc43a24 = $(`&lt;div id=&quot;html_1322f386c432a9eb2ee137eaacc43a24&quot; style=&quot;width: 100.0%; height: 100.0%;&quot;&gt;16&lt;/div&gt;`)[0];\n",
       "                popup_d9608db0ad4d0a5ef382a298369e3c7d.setContent(html_1322f386c432a9eb2ee137eaacc43a24);\n",
       "            \n",
       "        \n",
       "\n",
       "        marker_c337a9df507b5b5e69a64ff6b37b6cb9.bindPopup(popup_d9608db0ad4d0a5ef382a298369e3c7d)\n",
       "        ;\n",
       "\n",
       "        \n",
       "    \n",
       "    \n",
       "            var marker_dcc06742a0c02a11f690b6afa65ebe3a = L.marker(\n",
       "                [41.0531616210938, 28.6798095703125],\n",
       "                {}\n",
       "            ).addTo(map_dd2dde113688a556b25dde04ec094b34);\n",
       "        \n",
       "    \n",
       "        var popup_7b6f9e2ed4f8cc5603ec7392977a13c0 = L.popup({&quot;maxWidth&quot;: &quot;100%&quot;});\n",
       "\n",
       "        \n",
       "            \n",
       "                var html_805c6194a104f16d7410f7b77f08638e = $(`&lt;div id=&quot;html_805c6194a104f16d7410f7b77f08638e&quot; style=&quot;width: 100.0%; height: 100.0%;&quot;&gt;17&lt;/div&gt;`)[0];\n",
       "                popup_7b6f9e2ed4f8cc5603ec7392977a13c0.setContent(html_805c6194a104f16d7410f7b77f08638e);\n",
       "            \n",
       "        \n",
       "\n",
       "        marker_dcc06742a0c02a11f690b6afa65ebe3a.bindPopup(popup_7b6f9e2ed4f8cc5603ec7392977a13c0)\n",
       "        ;\n",
       "\n",
       "        \n",
       "    \n",
       "    \n",
       "            var marker_1758ac9a0abf8615b5e5a75dad3e846e = L.marker(\n",
       "                [40.9707641601563, 29.2620849609375],\n",
       "                {}\n",
       "            ).addTo(map_dd2dde113688a556b25dde04ec094b34);\n",
       "        \n",
       "    \n",
       "        var popup_3d253342ec9543b9ca0f158f47b9de8e = L.popup({&quot;maxWidth&quot;: &quot;100%&quot;});\n",
       "\n",
       "        \n",
       "            \n",
       "                var html_99608f54e58b5c5df71172734676462e = $(`&lt;div id=&quot;html_99608f54e58b5c5df71172734676462e&quot; style=&quot;width: 100.0%; height: 100.0%;&quot;&gt;18&lt;/div&gt;`)[0];\n",
       "                popup_3d253342ec9543b9ca0f158f47b9de8e.setContent(html_99608f54e58b5c5df71172734676462e);\n",
       "            \n",
       "        \n",
       "\n",
       "        marker_1758ac9a0abf8615b5e5a75dad3e846e.bindPopup(popup_3d253342ec9543b9ca0f158f47b9de8e)\n",
       "        ;\n",
       "\n",
       "        \n",
       "    \n",
       "    \n",
       "            var marker_4eed0cf4fc8c18dfb0c79f90f9bba592 = L.marker(\n",
       "                [41.0531616210938, 28.7237548828125],\n",
       "                {}\n",
       "            ).addTo(map_dd2dde113688a556b25dde04ec094b34);\n",
       "        \n",
       "    \n",
       "        var popup_94d11596345475cb43aac015ca7b6d68 = L.popup({&quot;maxWidth&quot;: &quot;100%&quot;});\n",
       "\n",
       "        \n",
       "            \n",
       "                var html_e96484fcc987fdcb3bec6889a684c84c = $(`&lt;div id=&quot;html_e96484fcc987fdcb3bec6889a684c84c&quot; style=&quot;width: 100.0%; height: 100.0%;&quot;&gt;19&lt;/div&gt;`)[0];\n",
       "                popup_94d11596345475cb43aac015ca7b6d68.setContent(html_e96484fcc987fdcb3bec6889a684c84c);\n",
       "            \n",
       "        \n",
       "\n",
       "        marker_4eed0cf4fc8c18dfb0c79f90f9bba592.bindPopup(popup_94d11596345475cb43aac015ca7b6d68)\n",
       "        ;\n",
       "\n",
       "        \n",
       "    \n",
       "&lt;/script&gt;\n",
       "&lt;/html&gt;\" style=\"position:absolute;width:100%;height:100%;left:0;top:0;border:none !important;\" allowfullscreen webkitallowfullscreen mozallowfullscreen></iframe></div></div>"
      ],
      "text/plain": [
       "<folium.folium.Map at 0x7892950efeb0>"
      ]
     },
     "execution_count": 6,
     "metadata": {},
     "output_type": "execute_result"
    }
   ],
   "source": [
    "my_map = folium.Map(location=[df1.iloc[0]['LATITUDE'], df1.iloc[0]['LONGITUDE']])\n",
    "for index,record in df1.reset_index().head(20).iterrows():\n",
    "    \n",
    "\n",
    "    folium.Marker([record[\"LATITUDE\"], record['LONGITUDE']], popup=index ).add_to(my_map)\n",
    "\n",
    "   \n",
    "    \n",
    "\n",
    "my_map\n"
   ]
  },
  {
   "cell_type": "markdown",
   "id": "10fb96e7",
   "metadata": {
    "papermill": {
     "duration": 0.011161,
     "end_time": "2024-10-15T06:57:23.899721",
     "exception": false,
     "start_time": "2024-10-15T06:57:23.888560",
     "status": "completed"
    },
    "tags": []
   },
   "source": [
    "## REGIONS IN ISTANBUL WITH HIGH  DRIVING SPEED "
   ]
  },
  {
   "cell_type": "code",
   "execution_count": null,
   "id": "b809105a",
   "metadata": {
    "papermill": {
     "duration": 0.011019,
     "end_time": "2024-10-15T06:57:23.922089",
     "exception": false,
     "start_time": "2024-10-15T06:57:23.911070",
     "status": "completed"
    },
    "tags": []
   },
   "outputs": [],
   "source": []
  },
  {
   "cell_type": "code",
   "execution_count": 7,
   "id": "80f41f32",
   "metadata": {
    "execution": {
     "iopub.execute_input": "2024-10-15T06:57:23.946854Z",
     "iopub.status.busy": "2024-10-15T06:57:23.946397Z",
     "iopub.status.idle": "2024-10-15T06:57:24.136268Z",
     "shell.execute_reply": "2024-10-15T06:57:24.135043Z"
    },
    "papermill": {
     "duration": 0.205451,
     "end_time": "2024-10-15T06:57:24.138912",
     "exception": false,
     "start_time": "2024-10-15T06:57:23.933461",
     "status": "completed"
    },
    "tags": []
   },
   "outputs": [
    {
     "data": {
      "text/html": [
       "<div style=\"width:100%;\"><div style=\"position:relative;width:100%;height:0;padding-bottom:60%;\"><span style=\"color:#565656\">Make this Notebook Trusted to load map: File -> Trust Notebook</span><iframe srcdoc=\"&lt;!DOCTYPE html&gt;\n",
       "&lt;html&gt;\n",
       "&lt;head&gt;\n",
       "    \n",
       "    &lt;meta http-equiv=&quot;content-type&quot; content=&quot;text/html; charset=UTF-8&quot; /&gt;\n",
       "    \n",
       "        &lt;script&gt;\n",
       "            L_NO_TOUCH = false;\n",
       "            L_DISABLE_3D = false;\n",
       "        &lt;/script&gt;\n",
       "    \n",
       "    &lt;style&gt;html, body {width: 100%;height: 100%;margin: 0;padding: 0;}&lt;/style&gt;\n",
       "    &lt;style&gt;#map {position:absolute;top:0;bottom:0;right:0;left:0;}&lt;/style&gt;\n",
       "    &lt;script src=&quot;https://cdn.jsdelivr.net/npm/leaflet@1.9.3/dist/leaflet.js&quot;&gt;&lt;/script&gt;\n",
       "    &lt;script src=&quot;https://code.jquery.com/jquery-3.7.1.min.js&quot;&gt;&lt;/script&gt;\n",
       "    &lt;script src=&quot;https://cdn.jsdelivr.net/npm/bootstrap@5.2.2/dist/js/bootstrap.bundle.min.js&quot;&gt;&lt;/script&gt;\n",
       "    &lt;script src=&quot;https://cdnjs.cloudflare.com/ajax/libs/Leaflet.awesome-markers/2.0.2/leaflet.awesome-markers.js&quot;&gt;&lt;/script&gt;\n",
       "    &lt;link rel=&quot;stylesheet&quot; href=&quot;https://cdn.jsdelivr.net/npm/leaflet@1.9.3/dist/leaflet.css&quot;/&gt;\n",
       "    &lt;link rel=&quot;stylesheet&quot; href=&quot;https://cdn.jsdelivr.net/npm/bootstrap@5.2.2/dist/css/bootstrap.min.css&quot;/&gt;\n",
       "    &lt;link rel=&quot;stylesheet&quot; href=&quot;https://netdna.bootstrapcdn.com/bootstrap/3.0.0/css/bootstrap-glyphicons.css&quot;/&gt;\n",
       "    &lt;link rel=&quot;stylesheet&quot; href=&quot;https://cdn.jsdelivr.net/npm/@fortawesome/fontawesome-free@6.2.0/css/all.min.css&quot;/&gt;\n",
       "    &lt;link rel=&quot;stylesheet&quot; href=&quot;https://cdnjs.cloudflare.com/ajax/libs/Leaflet.awesome-markers/2.0.2/leaflet.awesome-markers.css&quot;/&gt;\n",
       "    &lt;link rel=&quot;stylesheet&quot; href=&quot;https://cdn.jsdelivr.net/gh/python-visualization/folium/folium/templates/leaflet.awesome.rotate.min.css&quot;/&gt;\n",
       "    \n",
       "            &lt;meta name=&quot;viewport&quot; content=&quot;width=device-width,\n",
       "                initial-scale=1.0, maximum-scale=1.0, user-scalable=no&quot; /&gt;\n",
       "            &lt;style&gt;\n",
       "                #map_a6e11acc420c224124a65403101c3352 {\n",
       "                    position: relative;\n",
       "                    width: 100.0%;\n",
       "                    height: 100.0%;\n",
       "                    left: 0.0%;\n",
       "                    top: 0.0%;\n",
       "                }\n",
       "                .leaflet-container { font-size: 1rem; }\n",
       "            &lt;/style&gt;\n",
       "        \n",
       "&lt;/head&gt;\n",
       "&lt;body&gt;\n",
       "    \n",
       "    \n",
       "            &lt;div class=&quot;folium-map&quot; id=&quot;map_a6e11acc420c224124a65403101c3352&quot; &gt;&lt;/div&gt;\n",
       "        \n",
       "&lt;/body&gt;\n",
       "&lt;script&gt;\n",
       "    \n",
       "    \n",
       "            var map_a6e11acc420c224124a65403101c3352 = L.map(\n",
       "                &quot;map_a6e11acc420c224124a65403101c3352&quot;,\n",
       "                {\n",
       "                    center: [41.0586547851563, 29.1741943359375],\n",
       "                    crs: L.CRS.EPSG3857,\n",
       "                    zoom: 10,\n",
       "                    zoomControl: true,\n",
       "                    preferCanvas: false,\n",
       "                }\n",
       "            );\n",
       "\n",
       "            \n",
       "\n",
       "        \n",
       "    \n",
       "            var tile_layer_1e125843468583a9ae220268cdc8f2bb = L.tileLayer(\n",
       "                &quot;https://tile.openstreetmap.org/{z}/{x}/{y}.png&quot;,\n",
       "                {&quot;attribution&quot;: &quot;\\u0026copy; \\u003ca href=\\&quot;https://www.openstreetmap.org/copyright\\&quot;\\u003eOpenStreetMap\\u003c/a\\u003e contributors&quot;, &quot;detectRetina&quot;: false, &quot;maxNativeZoom&quot;: 19, &quot;maxZoom&quot;: 19, &quot;minZoom&quot;: 0, &quot;noWrap&quot;: false, &quot;opacity&quot;: 1, &quot;subdomains&quot;: &quot;abc&quot;, &quot;tms&quot;: false}\n",
       "            );\n",
       "        \n",
       "    \n",
       "            tile_layer_1e125843468583a9ae220268cdc8f2bb.addTo(map_a6e11acc420c224124a65403101c3352);\n",
       "        \n",
       "    \n",
       "            var marker_863b03b12f01e3b139a3aac7027f3d15 = L.marker(\n",
       "                [41.0586547851563, 29.1741943359375],\n",
       "                {}\n",
       "            ).addTo(map_a6e11acc420c224124a65403101c3352);\n",
       "        \n",
       "    \n",
       "        var popup_1b22dd386f4985e811c1ef5dcc2aacf4 = L.popup({&quot;maxWidth&quot;: &quot;100%&quot;});\n",
       "\n",
       "        \n",
       "            \n",
       "                var html_ae2fafb6a124b623b77ab93d75264fd2 = $(`&lt;div id=&quot;html_ae2fafb6a124b623b77ab93d75264fd2&quot; style=&quot;width: 100.0%; height: 100.0%;&quot;&gt;0&lt;/div&gt;`)[0];\n",
       "                popup_1b22dd386f4985e811c1ef5dcc2aacf4.setContent(html_ae2fafb6a124b623b77ab93d75264fd2);\n",
       "            \n",
       "        \n",
       "\n",
       "        marker_863b03b12f01e3b139a3aac7027f3d15.bindPopup(popup_1b22dd386f4985e811c1ef5dcc2aacf4)\n",
       "        ;\n",
       "\n",
       "        \n",
       "    \n",
       "    \n",
       "            var marker_11b80b46c3a0dd5ceddbbc4b58d52066 = L.marker(\n",
       "                [41.0586547851563, 29.1851806640625],\n",
       "                {}\n",
       "            ).addTo(map_a6e11acc420c224124a65403101c3352);\n",
       "        \n",
       "    \n",
       "        var popup_faeb2b70b24c4484d4120b833fba9e82 = L.popup({&quot;maxWidth&quot;: &quot;100%&quot;});\n",
       "\n",
       "        \n",
       "            \n",
       "                var html_4098f9993c244a85db9fbc88d14944fe = $(`&lt;div id=&quot;html_4098f9993c244a85db9fbc88d14944fe&quot; style=&quot;width: 100.0%; height: 100.0%;&quot;&gt;1&lt;/div&gt;`)[0];\n",
       "                popup_faeb2b70b24c4484d4120b833fba9e82.setContent(html_4098f9993c244a85db9fbc88d14944fe);\n",
       "            \n",
       "        \n",
       "\n",
       "        marker_11b80b46c3a0dd5ceddbbc4b58d52066.bindPopup(popup_faeb2b70b24c4484d4120b833fba9e82)\n",
       "        ;\n",
       "\n",
       "        \n",
       "    \n",
       "    \n",
       "            var marker_7a15fc3b625350c8fbc16cecdfac2116 = L.marker(\n",
       "                [41.0531616210938, 29.1522216796875],\n",
       "                {}\n",
       "            ).addTo(map_a6e11acc420c224124a65403101c3352);\n",
       "        \n",
       "    \n",
       "        var popup_65813759622c7aa3510d4f0e2e102c5a = L.popup({&quot;maxWidth&quot;: &quot;100%&quot;});\n",
       "\n",
       "        \n",
       "            \n",
       "                var html_d039587cf77f3d416215b0f4b344d22e = $(`&lt;div id=&quot;html_d039587cf77f3d416215b0f4b344d22e&quot; style=&quot;width: 100.0%; height: 100.0%;&quot;&gt;2&lt;/div&gt;`)[0];\n",
       "                popup_65813759622c7aa3510d4f0e2e102c5a.setContent(html_d039587cf77f3d416215b0f4b344d22e);\n",
       "            \n",
       "        \n",
       "\n",
       "        marker_7a15fc3b625350c8fbc16cecdfac2116.bindPopup(popup_65813759622c7aa3510d4f0e2e102c5a)\n",
       "        ;\n",
       "\n",
       "        \n",
       "    \n",
       "    \n",
       "            var marker_643b848d2096e23921155f5daa712c31 = L.marker(\n",
       "                [41.0531616210938, 29.1851806640625],\n",
       "                {}\n",
       "            ).addTo(map_a6e11acc420c224124a65403101c3352);\n",
       "        \n",
       "    \n",
       "        var popup_942c8cd580138993f08f549b42a40ec8 = L.popup({&quot;maxWidth&quot;: &quot;100%&quot;});\n",
       "\n",
       "        \n",
       "            \n",
       "                var html_93de53dc6c05da1a254e0247fca642ee = $(`&lt;div id=&quot;html_93de53dc6c05da1a254e0247fca642ee&quot; style=&quot;width: 100.0%; height: 100.0%;&quot;&gt;3&lt;/div&gt;`)[0];\n",
       "                popup_942c8cd580138993f08f549b42a40ec8.setContent(html_93de53dc6c05da1a254e0247fca642ee);\n",
       "            \n",
       "        \n",
       "\n",
       "        marker_643b848d2096e23921155f5daa712c31.bindPopup(popup_942c8cd580138993f08f549b42a40ec8)\n",
       "        ;\n",
       "\n",
       "        \n",
       "    \n",
       "    \n",
       "            var marker_b9dd75906095bf4f5a2ce7ad233ae611 = L.marker(\n",
       "                [41.0476684570313, 29.2291259765625],\n",
       "                {}\n",
       "            ).addTo(map_a6e11acc420c224124a65403101c3352);\n",
       "        \n",
       "    \n",
       "        var popup_8d4e1508f4cdce1a174f46e6cde4bc98 = L.popup({&quot;maxWidth&quot;: &quot;100%&quot;});\n",
       "\n",
       "        \n",
       "            \n",
       "                var html_99740da690358f02225c62d3888ba2b2 = $(`&lt;div id=&quot;html_99740da690358f02225c62d3888ba2b2&quot; style=&quot;width: 100.0%; height: 100.0%;&quot;&gt;4&lt;/div&gt;`)[0];\n",
       "                popup_8d4e1508f4cdce1a174f46e6cde4bc98.setContent(html_99740da690358f02225c62d3888ba2b2);\n",
       "            \n",
       "        \n",
       "\n",
       "        marker_b9dd75906095bf4f5a2ce7ad233ae611.bindPopup(popup_8d4e1508f4cdce1a174f46e6cde4bc98)\n",
       "        ;\n",
       "\n",
       "        \n",
       "    \n",
       "    \n",
       "            var marker_1732cae896209c083dfe1409030cb8cf = L.marker(\n",
       "                [41.0476684570313, 29.2401123046875],\n",
       "                {}\n",
       "            ).addTo(map_a6e11acc420c224124a65403101c3352);\n",
       "        \n",
       "    \n",
       "        var popup_e7aff49eb2ad4bddaa6ec1764005ff0d = L.popup({&quot;maxWidth&quot;: &quot;100%&quot;});\n",
       "\n",
       "        \n",
       "            \n",
       "                var html_fe2edd8ff1891dec308931f132019eed = $(`&lt;div id=&quot;html_fe2edd8ff1891dec308931f132019eed&quot; style=&quot;width: 100.0%; height: 100.0%;&quot;&gt;5&lt;/div&gt;`)[0];\n",
       "                popup_e7aff49eb2ad4bddaa6ec1764005ff0d.setContent(html_fe2edd8ff1891dec308931f132019eed);\n",
       "            \n",
       "        \n",
       "\n",
       "        marker_1732cae896209c083dfe1409030cb8cf.bindPopup(popup_e7aff49eb2ad4bddaa6ec1764005ff0d)\n",
       "        ;\n",
       "\n",
       "        \n",
       "    \n",
       "    \n",
       "            var marker_a9f65a461ab0c0b547f49f5937a70482 = L.marker(\n",
       "                [41.0421752929688, 29.2291259765625],\n",
       "                {}\n",
       "            ).addTo(map_a6e11acc420c224124a65403101c3352);\n",
       "        \n",
       "    \n",
       "        var popup_dd498c9c7c926d7f3ecebc6e2ac0f7bd = L.popup({&quot;maxWidth&quot;: &quot;100%&quot;});\n",
       "\n",
       "        \n",
       "            \n",
       "                var html_396ff2c7a0fe4a198066d0937609b24f = $(`&lt;div id=&quot;html_396ff2c7a0fe4a198066d0937609b24f&quot; style=&quot;width: 100.0%; height: 100.0%;&quot;&gt;6&lt;/div&gt;`)[0];\n",
       "                popup_dd498c9c7c926d7f3ecebc6e2ac0f7bd.setContent(html_396ff2c7a0fe4a198066d0937609b24f);\n",
       "            \n",
       "        \n",
       "\n",
       "        marker_a9f65a461ab0c0b547f49f5937a70482.bindPopup(popup_dd498c9c7c926d7f3ecebc6e2ac0f7bd)\n",
       "        ;\n",
       "\n",
       "        \n",
       "    \n",
       "    \n",
       "            var marker_825a31f5454eb05bd4cb4bdbe8535e91 = L.marker(\n",
       "                [41.0476684570313, 29.2071533203125],\n",
       "                {}\n",
       "            ).addTo(map_a6e11acc420c224124a65403101c3352);\n",
       "        \n",
       "    \n",
       "        var popup_4addd9ea8134932fb60e885ed39a4ed1 = L.popup({&quot;maxWidth&quot;: &quot;100%&quot;});\n",
       "\n",
       "        \n",
       "            \n",
       "                var html_6fd3abee8c44be89cde05faeac512e2a = $(`&lt;div id=&quot;html_6fd3abee8c44be89cde05faeac512e2a&quot; style=&quot;width: 100.0%; height: 100.0%;&quot;&gt;7&lt;/div&gt;`)[0];\n",
       "                popup_4addd9ea8134932fb60e885ed39a4ed1.setContent(html_6fd3abee8c44be89cde05faeac512e2a);\n",
       "            \n",
       "        \n",
       "\n",
       "        marker_825a31f5454eb05bd4cb4bdbe8535e91.bindPopup(popup_4addd9ea8134932fb60e885ed39a4ed1)\n",
       "        ;\n",
       "\n",
       "        \n",
       "    \n",
       "    \n",
       "            var marker_66f5b45fd43a528b84e371bd04999db1 = L.marker(\n",
       "                [41.0421752929688, 29.2071533203125],\n",
       "                {}\n",
       "            ).addTo(map_a6e11acc420c224124a65403101c3352);\n",
       "        \n",
       "    \n",
       "        var popup_7a75ee268b8e4aaa0fb67e1bfe0f14f0 = L.popup({&quot;maxWidth&quot;: &quot;100%&quot;});\n",
       "\n",
       "        \n",
       "            \n",
       "                var html_86587cf583c37b71299f487029beab7c = $(`&lt;div id=&quot;html_86587cf583c37b71299f487029beab7c&quot; style=&quot;width: 100.0%; height: 100.0%;&quot;&gt;8&lt;/div&gt;`)[0];\n",
       "                popup_7a75ee268b8e4aaa0fb67e1bfe0f14f0.setContent(html_86587cf583c37b71299f487029beab7c);\n",
       "            \n",
       "        \n",
       "\n",
       "        marker_66f5b45fd43a528b84e371bd04999db1.bindPopup(popup_7a75ee268b8e4aaa0fb67e1bfe0f14f0)\n",
       "        ;\n",
       "\n",
       "        \n",
       "    \n",
       "    \n",
       "            var marker_5c42f86c864749a9c7292b7c06150c1d = L.marker(\n",
       "                [41.0531616210938, 29.1961669921875],\n",
       "                {}\n",
       "            ).addTo(map_a6e11acc420c224124a65403101c3352);\n",
       "        \n",
       "    \n",
       "        var popup_4b05f39d5c0800e622a80bafe908d09d = L.popup({&quot;maxWidth&quot;: &quot;100%&quot;});\n",
       "\n",
       "        \n",
       "            \n",
       "                var html_9d5cb1ab37ee81898a095bc0ca30ab68 = $(`&lt;div id=&quot;html_9d5cb1ab37ee81898a095bc0ca30ab68&quot; style=&quot;width: 100.0%; height: 100.0%;&quot;&gt;9&lt;/div&gt;`)[0];\n",
       "                popup_4b05f39d5c0800e622a80bafe908d09d.setContent(html_9d5cb1ab37ee81898a095bc0ca30ab68);\n",
       "            \n",
       "        \n",
       "\n",
       "        marker_5c42f86c864749a9c7292b7c06150c1d.bindPopup(popup_4b05f39d5c0800e622a80bafe908d09d)\n",
       "        ;\n",
       "\n",
       "        \n",
       "    \n",
       "    \n",
       "            var marker_05649af5a5d54c4b83d6eacb8356e489 = L.marker(\n",
       "                [41.0421752929688, 29.2181396484375],\n",
       "                {}\n",
       "            ).addTo(map_a6e11acc420c224124a65403101c3352);\n",
       "        \n",
       "    \n",
       "        var popup_f19003415c6caae5b6378e0fd79daf8e = L.popup({&quot;maxWidth&quot;: &quot;100%&quot;});\n",
       "\n",
       "        \n",
       "            \n",
       "                var html_ab5a5e7983a2727ce6ada80b7061aa72 = $(`&lt;div id=&quot;html_ab5a5e7983a2727ce6ada80b7061aa72&quot; style=&quot;width: 100.0%; height: 100.0%;&quot;&gt;10&lt;/div&gt;`)[0];\n",
       "                popup_f19003415c6caae5b6378e0fd79daf8e.setContent(html_ab5a5e7983a2727ce6ada80b7061aa72);\n",
       "            \n",
       "        \n",
       "\n",
       "        marker_05649af5a5d54c4b83d6eacb8356e489.bindPopup(popup_f19003415c6caae5b6378e0fd79daf8e)\n",
       "        ;\n",
       "\n",
       "        \n",
       "    \n",
       "    \n",
       "            var marker_59902c80b62326f7555b8413afb705c2 = L.marker(\n",
       "                [41.2124633789063, 29.0863037109375],\n",
       "                {}\n",
       "            ).addTo(map_a6e11acc420c224124a65403101c3352);\n",
       "        \n",
       "    \n",
       "        var popup_cb8f6d34e2f4e255e10ed855f25790d2 = L.popup({&quot;maxWidth&quot;: &quot;100%&quot;});\n",
       "\n",
       "        \n",
       "            \n",
       "                var html_b16b2e6536f8f0ca7d0668299aa57e9b = $(`&lt;div id=&quot;html_b16b2e6536f8f0ca7d0668299aa57e9b&quot; style=&quot;width: 100.0%; height: 100.0%;&quot;&gt;11&lt;/div&gt;`)[0];\n",
       "                popup_cb8f6d34e2f4e255e10ed855f25790d2.setContent(html_b16b2e6536f8f0ca7d0668299aa57e9b);\n",
       "            \n",
       "        \n",
       "\n",
       "        marker_59902c80b62326f7555b8413afb705c2.bindPopup(popup_cb8f6d34e2f4e255e10ed855f25790d2)\n",
       "        ;\n",
       "\n",
       "        \n",
       "    \n",
       "    \n",
       "            var marker_17bf7ad47980f9c477de31cd33ca3091 = L.marker(\n",
       "                [41.0476684570313, 29.1412353515625],\n",
       "                {}\n",
       "            ).addTo(map_a6e11acc420c224124a65403101c3352);\n",
       "        \n",
       "    \n",
       "        var popup_f88f693f90bce2ecde0f465330889c23 = L.popup({&quot;maxWidth&quot;: &quot;100%&quot;});\n",
       "\n",
       "        \n",
       "            \n",
       "                var html_fb6a949ef198204446f786f89cb7cdbf = $(`&lt;div id=&quot;html_fb6a949ef198204446f786f89cb7cdbf&quot; style=&quot;width: 100.0%; height: 100.0%;&quot;&gt;12&lt;/div&gt;`)[0];\n",
       "                popup_f88f693f90bce2ecde0f465330889c23.setContent(html_fb6a949ef198204446f786f89cb7cdbf);\n",
       "            \n",
       "        \n",
       "\n",
       "        marker_17bf7ad47980f9c477de31cd33ca3091.bindPopup(popup_f88f693f90bce2ecde0f465330889c23)\n",
       "        ;\n",
       "\n",
       "        \n",
       "    \n",
       "    \n",
       "            var marker_294012a36bf1a09e4aceaf139c169768 = L.marker(\n",
       "                [41.0476684570313, 29.1522216796875],\n",
       "                {}\n",
       "            ).addTo(map_a6e11acc420c224124a65403101c3352);\n",
       "        \n",
       "    \n",
       "        var popup_4d01017c8c3c73b896639f2f947ce931 = L.popup({&quot;maxWidth&quot;: &quot;100%&quot;});\n",
       "\n",
       "        \n",
       "            \n",
       "                var html_5507163e8090778881caec0b53e25ca8 = $(`&lt;div id=&quot;html_5507163e8090778881caec0b53e25ca8&quot; style=&quot;width: 100.0%; height: 100.0%;&quot;&gt;13&lt;/div&gt;`)[0];\n",
       "                popup_4d01017c8c3c73b896639f2f947ce931.setContent(html_5507163e8090778881caec0b53e25ca8);\n",
       "            \n",
       "        \n",
       "\n",
       "        marker_294012a36bf1a09e4aceaf139c169768.bindPopup(popup_4d01017c8c3c73b896639f2f947ce931)\n",
       "        ;\n",
       "\n",
       "        \n",
       "    \n",
       "    \n",
       "            var marker_c6ff0368dd2eaae87d97a855febe5b7b = L.marker(\n",
       "                [41.1630249023438, 28.3721923828125],\n",
       "                {}\n",
       "            ).addTo(map_a6e11acc420c224124a65403101c3352);\n",
       "        \n",
       "    \n",
       "        var popup_a0c4e4b28b413ba3a9bf30a39844ed41 = L.popup({&quot;maxWidth&quot;: &quot;100%&quot;});\n",
       "\n",
       "        \n",
       "            \n",
       "                var html_b57e0365681bc4b4509f69406af3537a = $(`&lt;div id=&quot;html_b57e0365681bc4b4509f69406af3537a&quot; style=&quot;width: 100.0%; height: 100.0%;&quot;&gt;14&lt;/div&gt;`)[0];\n",
       "                popup_a0c4e4b28b413ba3a9bf30a39844ed41.setContent(html_b57e0365681bc4b4509f69406af3537a);\n",
       "            \n",
       "        \n",
       "\n",
       "        marker_c6ff0368dd2eaae87d97a855febe5b7b.bindPopup(popup_a0c4e4b28b413ba3a9bf30a39844ed41)\n",
       "        ;\n",
       "\n",
       "        \n",
       "    \n",
       "    \n",
       "            var marker_60253f5833277d41286be21ce92e2e5e = L.marker(\n",
       "                [41.1685180664063, 28.3721923828125],\n",
       "                {}\n",
       "            ).addTo(map_a6e11acc420c224124a65403101c3352);\n",
       "        \n",
       "    \n",
       "        var popup_7d034fab7fd35d82b945efd471fd0686 = L.popup({&quot;maxWidth&quot;: &quot;100%&quot;});\n",
       "\n",
       "        \n",
       "            \n",
       "                var html_df025dfbe9aa9a3cf82869d470e00377 = $(`&lt;div id=&quot;html_df025dfbe9aa9a3cf82869d470e00377&quot; style=&quot;width: 100.0%; height: 100.0%;&quot;&gt;15&lt;/div&gt;`)[0];\n",
       "                popup_7d034fab7fd35d82b945efd471fd0686.setContent(html_df025dfbe9aa9a3cf82869d470e00377);\n",
       "            \n",
       "        \n",
       "\n",
       "        marker_60253f5833277d41286be21ce92e2e5e.bindPopup(popup_7d034fab7fd35d82b945efd471fd0686)\n",
       "        ;\n",
       "\n",
       "        \n",
       "    \n",
       "    \n",
       "            var marker_24b68ed0a52b760732ebfac176f037ce = L.marker(\n",
       "                [41.1465454101563, 29.2840576171875],\n",
       "                {}\n",
       "            ).addTo(map_a6e11acc420c224124a65403101c3352);\n",
       "        \n",
       "    \n",
       "        var popup_24ef14c74223e671ba458444150ea7c7 = L.popup({&quot;maxWidth&quot;: &quot;100%&quot;});\n",
       "\n",
       "        \n",
       "            \n",
       "                var html_5f1c2787cecbdcbc02233a8a3c733ce4 = $(`&lt;div id=&quot;html_5f1c2787cecbdcbc02233a8a3c733ce4&quot; style=&quot;width: 100.0%; height: 100.0%;&quot;&gt;16&lt;/div&gt;`)[0];\n",
       "                popup_24ef14c74223e671ba458444150ea7c7.setContent(html_5f1c2787cecbdcbc02233a8a3c733ce4);\n",
       "            \n",
       "        \n",
       "\n",
       "        marker_24b68ed0a52b760732ebfac176f037ce.bindPopup(popup_24ef14c74223e671ba458444150ea7c7)\n",
       "        ;\n",
       "\n",
       "        \n",
       "    \n",
       "    \n",
       "            var marker_b9e20c981d3f5b1ff05b7fb837029fe0 = L.marker(\n",
       "                [41.1685180664063, 28.4051513671875],\n",
       "                {}\n",
       "            ).addTo(map_a6e11acc420c224124a65403101c3352);\n",
       "        \n",
       "    \n",
       "        var popup_e3e1843fcc04de7d54b7e83664ed444e = L.popup({&quot;maxWidth&quot;: &quot;100%&quot;});\n",
       "\n",
       "        \n",
       "            \n",
       "                var html_1d686d737e3c4604db5a306e736ff6f4 = $(`&lt;div id=&quot;html_1d686d737e3c4604db5a306e736ff6f4&quot; style=&quot;width: 100.0%; height: 100.0%;&quot;&gt;17&lt;/div&gt;`)[0];\n",
       "                popup_e3e1843fcc04de7d54b7e83664ed444e.setContent(html_1d686d737e3c4604db5a306e736ff6f4);\n",
       "            \n",
       "        \n",
       "\n",
       "        marker_b9e20c981d3f5b1ff05b7fb837029fe0.bindPopup(popup_e3e1843fcc04de7d54b7e83664ed444e)\n",
       "        ;\n",
       "\n",
       "        \n",
       "    \n",
       "    \n",
       "            var marker_08cc96bb45b4782935baecdc0c3946ca = L.marker(\n",
       "                [41.0531616210938, 29.1632080078125],\n",
       "                {}\n",
       "            ).addTo(map_a6e11acc420c224124a65403101c3352);\n",
       "        \n",
       "    \n",
       "        var popup_4955d5ecaa1db32e722de577c13bcb48 = L.popup({&quot;maxWidth&quot;: &quot;100%&quot;});\n",
       "\n",
       "        \n",
       "            \n",
       "                var html_eedf151b8cd2468e93e85517f3de009d = $(`&lt;div id=&quot;html_eedf151b8cd2468e93e85517f3de009d&quot; style=&quot;width: 100.0%; height: 100.0%;&quot;&gt;18&lt;/div&gt;`)[0];\n",
       "                popup_4955d5ecaa1db32e722de577c13bcb48.setContent(html_eedf151b8cd2468e93e85517f3de009d);\n",
       "            \n",
       "        \n",
       "\n",
       "        marker_08cc96bb45b4782935baecdc0c3946ca.bindPopup(popup_4955d5ecaa1db32e722de577c13bcb48)\n",
       "        ;\n",
       "\n",
       "        \n",
       "    \n",
       "    \n",
       "            var marker_c933fcbeefff2d17334903a5809073ad = L.marker(\n",
       "                [41.1685180664063, 28.4161376953125],\n",
       "                {}\n",
       "            ).addTo(map_a6e11acc420c224124a65403101c3352);\n",
       "        \n",
       "    \n",
       "        var popup_6e5b13ec8fd793823f393366b964904a = L.popup({&quot;maxWidth&quot;: &quot;100%&quot;});\n",
       "\n",
       "        \n",
       "            \n",
       "                var html_f9ece9b7310d916f14b6ccabcedbd6ba = $(`&lt;div id=&quot;html_f9ece9b7310d916f14b6ccabcedbd6ba&quot; style=&quot;width: 100.0%; height: 100.0%;&quot;&gt;19&lt;/div&gt;`)[0];\n",
       "                popup_6e5b13ec8fd793823f393366b964904a.setContent(html_f9ece9b7310d916f14b6ccabcedbd6ba);\n",
       "            \n",
       "        \n",
       "\n",
       "        marker_c933fcbeefff2d17334903a5809073ad.bindPopup(popup_6e5b13ec8fd793823f393366b964904a)\n",
       "        ;\n",
       "\n",
       "        \n",
       "    \n",
       "&lt;/script&gt;\n",
       "&lt;/html&gt;\" style=\"position:absolute;width:100%;height:100%;left:0;top:0;border:none !important;\" allowfullscreen webkitallowfullscreen mozallowfullscreen></iframe></div></div>"
      ],
      "text/plain": [
       "<folium.folium.Map at 0x7892bb334df0>"
      ]
     },
     "execution_count": 7,
     "metadata": {},
     "output_type": "execute_result"
    }
   ],
   "source": [
    "df1 = df.groupby(['LONGITUDE','LATITUDE']).agg({\"AVERAGE_SPEED\":\"mean\"}).reset_index().sort_values(by='AVERAGE_SPEED',ascending=False)\n",
    "my_map = folium.Map(location=[df1.iloc[0]['LATITUDE'], df1.iloc[0]['LONGITUDE']])\n",
    "for index,record in df1.reset_index().head(20).iterrows():\n",
    "    \n",
    "\n",
    "    folium.Marker([record[\"LATITUDE\"], record['LONGITUDE']], popup=index ).add_to(my_map)\n",
    "\n",
    "   \n",
    "    \n",
    "\n",
    "my_map\n"
   ]
  },
  {
   "cell_type": "markdown",
   "id": "fc31e7c0",
   "metadata": {
    "papermill": {
     "duration": 0.012121,
     "end_time": "2024-10-15T06:57:24.163324",
     "exception": false,
     "start_time": "2024-10-15T06:57:24.151203",
     "status": "completed"
    },
    "tags": []
   },
   "source": [
    "## TOP 5 REGIONS IN ISTANBUL WITH SLOWEST DRIVING SPEED "
   ]
  },
  {
   "cell_type": "code",
   "execution_count": 8,
   "id": "ed65b3ab",
   "metadata": {
    "execution": {
     "iopub.execute_input": "2024-10-15T06:57:24.189490Z",
     "iopub.status.busy": "2024-10-15T06:57:24.189061Z",
     "iopub.status.idle": "2024-10-15T06:57:24.358512Z",
     "shell.execute_reply": "2024-10-15T06:57:24.357390Z"
    },
    "papermill": {
     "duration": 0.185602,
     "end_time": "2024-10-15T06:57:24.361016",
     "exception": false,
     "start_time": "2024-10-15T06:57:24.175414",
     "status": "completed"
    },
    "tags": []
   },
   "outputs": [
    {
     "data": {
      "text/html": [
       "<div style=\"width:100%;\"><div style=\"position:relative;width:100%;height:0;padding-bottom:60%;\"><span style=\"color:#565656\">Make this Notebook Trusted to load map: File -> Trust Notebook</span><iframe srcdoc=\"&lt;!DOCTYPE html&gt;\n",
       "&lt;html&gt;\n",
       "&lt;head&gt;\n",
       "    \n",
       "    &lt;meta http-equiv=&quot;content-type&quot; content=&quot;text/html; charset=UTF-8&quot; /&gt;\n",
       "    \n",
       "        &lt;script&gt;\n",
       "            L_NO_TOUCH = false;\n",
       "            L_DISABLE_3D = false;\n",
       "        &lt;/script&gt;\n",
       "    \n",
       "    &lt;style&gt;html, body {width: 100%;height: 100%;margin: 0;padding: 0;}&lt;/style&gt;\n",
       "    &lt;style&gt;#map {position:absolute;top:0;bottom:0;right:0;left:0;}&lt;/style&gt;\n",
       "    &lt;script src=&quot;https://cdn.jsdelivr.net/npm/leaflet@1.9.3/dist/leaflet.js&quot;&gt;&lt;/script&gt;\n",
       "    &lt;script src=&quot;https://code.jquery.com/jquery-3.7.1.min.js&quot;&gt;&lt;/script&gt;\n",
       "    &lt;script src=&quot;https://cdn.jsdelivr.net/npm/bootstrap@5.2.2/dist/js/bootstrap.bundle.min.js&quot;&gt;&lt;/script&gt;\n",
       "    &lt;script src=&quot;https://cdnjs.cloudflare.com/ajax/libs/Leaflet.awesome-markers/2.0.2/leaflet.awesome-markers.js&quot;&gt;&lt;/script&gt;\n",
       "    &lt;link rel=&quot;stylesheet&quot; href=&quot;https://cdn.jsdelivr.net/npm/leaflet@1.9.3/dist/leaflet.css&quot;/&gt;\n",
       "    &lt;link rel=&quot;stylesheet&quot; href=&quot;https://cdn.jsdelivr.net/npm/bootstrap@5.2.2/dist/css/bootstrap.min.css&quot;/&gt;\n",
       "    &lt;link rel=&quot;stylesheet&quot; href=&quot;https://netdna.bootstrapcdn.com/bootstrap/3.0.0/css/bootstrap-glyphicons.css&quot;/&gt;\n",
       "    &lt;link rel=&quot;stylesheet&quot; href=&quot;https://cdn.jsdelivr.net/npm/@fortawesome/fontawesome-free@6.2.0/css/all.min.css&quot;/&gt;\n",
       "    &lt;link rel=&quot;stylesheet&quot; href=&quot;https://cdnjs.cloudflare.com/ajax/libs/Leaflet.awesome-markers/2.0.2/leaflet.awesome-markers.css&quot;/&gt;\n",
       "    &lt;link rel=&quot;stylesheet&quot; href=&quot;https://cdn.jsdelivr.net/gh/python-visualization/folium/folium/templates/leaflet.awesome.rotate.min.css&quot;/&gt;\n",
       "    \n",
       "            &lt;meta name=&quot;viewport&quot; content=&quot;width=device-width,\n",
       "                initial-scale=1.0, maximum-scale=1.0, user-scalable=no&quot; /&gt;\n",
       "            &lt;style&gt;\n",
       "                #map_8614a0ef87629fb9d4f73dc4b6a5f046 {\n",
       "                    position: relative;\n",
       "                    width: 100.0%;\n",
       "                    height: 100.0%;\n",
       "                    left: 0.0%;\n",
       "                    top: 0.0%;\n",
       "                }\n",
       "                .leaflet-container { font-size: 1rem; }\n",
       "            &lt;/style&gt;\n",
       "        \n",
       "&lt;/head&gt;\n",
       "&lt;body&gt;\n",
       "    \n",
       "    \n",
       "            &lt;div class=&quot;folium-map&quot; id=&quot;map_8614a0ef87629fb9d4f73dc4b6a5f046&quot; &gt;&lt;/div&gt;\n",
       "        \n",
       "&lt;/body&gt;\n",
       "&lt;script&gt;\n",
       "    \n",
       "    \n",
       "            var map_8614a0ef87629fb9d4f73dc4b6a5f046 = L.map(\n",
       "                &quot;map_8614a0ef87629fb9d4f73dc4b6a5f046&quot;,\n",
       "                {\n",
       "                    center: [41.0641479492188, 28.9984130859375],\n",
       "                    crs: L.CRS.EPSG3857,\n",
       "                    zoom: 10,\n",
       "                    zoomControl: true,\n",
       "                    preferCanvas: false,\n",
       "                }\n",
       "            );\n",
       "\n",
       "            \n",
       "\n",
       "        \n",
       "    \n",
       "            var tile_layer_8a6dad5fb6a2008a0afa68758e4fc6ed = L.tileLayer(\n",
       "                &quot;https://tile.openstreetmap.org/{z}/{x}/{y}.png&quot;,\n",
       "                {&quot;attribution&quot;: &quot;\\u0026copy; \\u003ca href=\\&quot;https://www.openstreetmap.org/copyright\\&quot;\\u003eOpenStreetMap\\u003c/a\\u003e contributors&quot;, &quot;detectRetina&quot;: false, &quot;maxNativeZoom&quot;: 19, &quot;maxZoom&quot;: 19, &quot;minZoom&quot;: 0, &quot;noWrap&quot;: false, &quot;opacity&quot;: 1, &quot;subdomains&quot;: &quot;abc&quot;, &quot;tms&quot;: false}\n",
       "            );\n",
       "        \n",
       "    \n",
       "            tile_layer_8a6dad5fb6a2008a0afa68758e4fc6ed.addTo(map_8614a0ef87629fb9d4f73dc4b6a5f046);\n",
       "        \n",
       "    \n",
       "            var marker_c63afe828991c5011be5eb8c01f3a794 = L.marker(\n",
       "                [41.0641479492188, 28.9984130859375],\n",
       "                {}\n",
       "            ).addTo(map_8614a0ef87629fb9d4f73dc4b6a5f046);\n",
       "        \n",
       "    \n",
       "        var popup_134d33b33c2b6eae20108645089edb23 = L.popup({&quot;maxWidth&quot;: &quot;100%&quot;});\n",
       "\n",
       "        \n",
       "            \n",
       "                var html_f892c21a57153e6daae73e6d9505efa5 = $(`&lt;div id=&quot;html_f892c21a57153e6daae73e6d9505efa5&quot; style=&quot;width: 100.0%; height: 100.0%;&quot;&gt;1.653259361997226&lt;/div&gt;`)[0];\n",
       "                popup_134d33b33c2b6eae20108645089edb23.setContent(html_f892c21a57153e6daae73e6d9505efa5);\n",
       "            \n",
       "        \n",
       "\n",
       "        marker_c63afe828991c5011be5eb8c01f3a794.bindPopup(popup_134d33b33c2b6eae20108645089edb23)\n",
       "        ;\n",
       "\n",
       "        \n",
       "    \n",
       "    \n",
       "            var marker_0a8ee3e5450b78c81002081c2a7b0266 = L.marker(\n",
       "                [41.0421752929688, 28.9874267578125],\n",
       "                {}\n",
       "            ).addTo(map_8614a0ef87629fb9d4f73dc4b6a5f046);\n",
       "        \n",
       "    \n",
       "        var popup_9bde321625fa477580ea20e49a34cfcf = L.popup({&quot;maxWidth&quot;: &quot;100%&quot;});\n",
       "\n",
       "        \n",
       "            \n",
       "                var html_ad74cc2c797a88c1c7242ea26d355464 = $(`&lt;div id=&quot;html_ad74cc2c797a88c1c7242ea26d355464&quot; style=&quot;width: 100.0%; height: 100.0%;&quot;&gt;1.8044382801664356&lt;/div&gt;`)[0];\n",
       "                popup_9bde321625fa477580ea20e49a34cfcf.setContent(html_ad74cc2c797a88c1c7242ea26d355464);\n",
       "            \n",
       "        \n",
       "\n",
       "        marker_0a8ee3e5450b78c81002081c2a7b0266.bindPopup(popup_9bde321625fa477580ea20e49a34cfcf)\n",
       "        ;\n",
       "\n",
       "        \n",
       "    \n",
       "    \n",
       "            var marker_a6cad8992258616f492d73fd3d5b6b0c = L.marker(\n",
       "                [41.0641479492188, 28.9874267578125],\n",
       "                {}\n",
       "            ).addTo(map_8614a0ef87629fb9d4f73dc4b6a5f046);\n",
       "        \n",
       "    \n",
       "        var popup_0b9100d07bc81ba070d5e8fd90941188 = L.popup({&quot;maxWidth&quot;: &quot;100%&quot;});\n",
       "\n",
       "        \n",
       "            \n",
       "                var html_025e38e81b807c2782b5fd7d0543a089 = $(`&lt;div id=&quot;html_025e38e81b807c2782b5fd7d0543a089&quot; style=&quot;width: 100.0%; height: 100.0%;&quot;&gt;1.8058252427184467&lt;/div&gt;`)[0];\n",
       "                popup_0b9100d07bc81ba070d5e8fd90941188.setContent(html_025e38e81b807c2782b5fd7d0543a089);\n",
       "            \n",
       "        \n",
       "\n",
       "        marker_a6cad8992258616f492d73fd3d5b6b0c.bindPopup(popup_0b9100d07bc81ba070d5e8fd90941188)\n",
       "        ;\n",
       "\n",
       "        \n",
       "    \n",
       "    \n",
       "            var marker_8b0c796f08b84c34c5a395e6e4a9f45c = L.marker(\n",
       "                [41.0092163085938, 28.9544677734375],\n",
       "                {}\n",
       "            ).addTo(map_8614a0ef87629fb9d4f73dc4b6a5f046);\n",
       "        \n",
       "    \n",
       "        var popup_7ff3fba50e42477095f845712a442b8d = L.popup({&quot;maxWidth&quot;: &quot;100%&quot;});\n",
       "\n",
       "        \n",
       "            \n",
       "                var html_a364f819b43d4becab8da96db375d384 = $(`&lt;div id=&quot;html_a364f819b43d4becab8da96db375d384&quot; style=&quot;width: 100.0%; height: 100.0%;&quot;&gt;1.8210818307905687&lt;/div&gt;`)[0];\n",
       "                popup_7ff3fba50e42477095f845712a442b8d.setContent(html_a364f819b43d4becab8da96db375d384);\n",
       "            \n",
       "        \n",
       "\n",
       "        marker_8b0c796f08b84c34c5a395e6e4a9f45c.bindPopup(popup_7ff3fba50e42477095f845712a442b8d)\n",
       "        ;\n",
       "\n",
       "        \n",
       "    \n",
       "    \n",
       "            var marker_66db606c3bcb5d5305a4c489a82411b8 = L.marker(\n",
       "                [41.0421752929688, 29.0093994140625],\n",
       "                {}\n",
       "            ).addTo(map_8614a0ef87629fb9d4f73dc4b6a5f046);\n",
       "        \n",
       "    \n",
       "        var popup_54334470c346c7b86d567ac3535171d9 = L.popup({&quot;maxWidth&quot;: &quot;100%&quot;});\n",
       "\n",
       "        \n",
       "            \n",
       "                var html_ac52ee3a839b6ff81a6354df2701709d = $(`&lt;div id=&quot;html_ac52ee3a839b6ff81a6354df2701709d&quot; style=&quot;width: 100.0%; height: 100.0%;&quot;&gt;1.8959778085991679&lt;/div&gt;`)[0];\n",
       "                popup_54334470c346c7b86d567ac3535171d9.setContent(html_ac52ee3a839b6ff81a6354df2701709d);\n",
       "            \n",
       "        \n",
       "\n",
       "        marker_66db606c3bcb5d5305a4c489a82411b8.bindPopup(popup_54334470c346c7b86d567ac3535171d9)\n",
       "        ;\n",
       "\n",
       "        \n",
       "    \n",
       "    \n",
       "            var marker_1136ea21fc8093f10e90ba3eaf284465 = L.marker(\n",
       "                [41.0531616210938, 28.9874267578125],\n",
       "                {}\n",
       "            ).addTo(map_8614a0ef87629fb9d4f73dc4b6a5f046);\n",
       "        \n",
       "    \n",
       "        var popup_b4773e89a4c67d97edb832b7ef9975c9 = L.popup({&quot;maxWidth&quot;: &quot;100%&quot;});\n",
       "\n",
       "        \n",
       "            \n",
       "                var html_f008a13926562d84322d42d7b5356117 = $(`&lt;div id=&quot;html_f008a13926562d84322d42d7b5356117&quot; style=&quot;width: 100.0%; height: 100.0%;&quot;&gt;1.91123439667129&lt;/div&gt;`)[0];\n",
       "                popup_b4773e89a4c67d97edb832b7ef9975c9.setContent(html_f008a13926562d84322d42d7b5356117);\n",
       "            \n",
       "        \n",
       "\n",
       "        marker_1136ea21fc8093f10e90ba3eaf284465.bindPopup(popup_b4773e89a4c67d97edb832b7ef9975c9)\n",
       "        ;\n",
       "\n",
       "        \n",
       "    \n",
       "    \n",
       "            var marker_703bee6fe6cfc4b42eebd692fbe0b0a8 = L.marker(\n",
       "                [41.0366821289063, 28.9764404296875],\n",
       "                {}\n",
       "            ).addTo(map_8614a0ef87629fb9d4f73dc4b6a5f046);\n",
       "        \n",
       "    \n",
       "        var popup_94bbf02494a1d1f17c94d838f396bb71 = L.popup({&quot;maxWidth&quot;: &quot;100%&quot;});\n",
       "\n",
       "        \n",
       "            \n",
       "                var html_de0ddafe07e33d37200ca4dd4cb3968c = $(`&lt;div id=&quot;html_de0ddafe07e33d37200ca4dd4cb3968c&quot; style=&quot;width: 100.0%; height: 100.0%;&quot;&gt;1.912621359223301&lt;/div&gt;`)[0];\n",
       "                popup_94bbf02494a1d1f17c94d838f396bb71.setContent(html_de0ddafe07e33d37200ca4dd4cb3968c);\n",
       "            \n",
       "        \n",
       "\n",
       "        marker_703bee6fe6cfc4b42eebd692fbe0b0a8.bindPopup(popup_94bbf02494a1d1f17c94d838f396bb71)\n",
       "        ;\n",
       "\n",
       "        \n",
       "    \n",
       "    \n",
       "            var marker_5ae66443617289fb788ae43e592960f0 = L.marker(\n",
       "                [40.9817504882813, 28.7237548828125],\n",
       "                {}\n",
       "            ).addTo(map_8614a0ef87629fb9d4f73dc4b6a5f046);\n",
       "        \n",
       "    \n",
       "        var popup_a741f8946236bc1d77577cbb7e073f17 = L.popup({&quot;maxWidth&quot;: &quot;100%&quot;});\n",
       "\n",
       "        \n",
       "            \n",
       "                var html_8219fd0a377e00e1d692f6f91095fcda = $(`&lt;div id=&quot;html_8219fd0a377e00e1d692f6f91095fcda&quot; style=&quot;width: 100.0%; height: 100.0%;&quot;&gt;1.940360610263523&lt;/div&gt;`)[0];\n",
       "                popup_a741f8946236bc1d77577cbb7e073f17.setContent(html_8219fd0a377e00e1d692f6f91095fcda);\n",
       "            \n",
       "        \n",
       "\n",
       "        marker_5ae66443617289fb788ae43e592960f0.bindPopup(popup_a741f8946236bc1d77577cbb7e073f17)\n",
       "        ;\n",
       "\n",
       "        \n",
       "    \n",
       "    \n",
       "            var marker_497c33f392c84a2742da7f42d3a4782d = L.marker(\n",
       "                [41.0256958007813, 28.9764404296875],\n",
       "                {}\n",
       "            ).addTo(map_8614a0ef87629fb9d4f73dc4b6a5f046);\n",
       "        \n",
       "    \n",
       "        var popup_73857ec2392e4488bc038211a11a428e = L.popup({&quot;maxWidth&quot;: &quot;100%&quot;});\n",
       "\n",
       "        \n",
       "            \n",
       "                var html_c956b82db03b6f0e6d5f03e2cde6054e = $(`&lt;div id=&quot;html_c956b82db03b6f0e6d5f03e2cde6054e&quot; style=&quot;width: 100.0%; height: 100.0%;&quot;&gt;1.943134535367545&lt;/div&gt;`)[0];\n",
       "                popup_73857ec2392e4488bc038211a11a428e.setContent(html_c956b82db03b6f0e6d5f03e2cde6054e);\n",
       "            \n",
       "        \n",
       "\n",
       "        marker_497c33f392c84a2742da7f42d3a4782d.bindPopup(popup_73857ec2392e4488bc038211a11a428e)\n",
       "        ;\n",
       "\n",
       "        \n",
       "    \n",
       "    \n",
       "            var marker_212c79c0db12e3cbe39253047c49f369 = L.marker(\n",
       "                [41.0806274414063, 29.0093994140625],\n",
       "                {}\n",
       "            ).addTo(map_8614a0ef87629fb9d4f73dc4b6a5f046);\n",
       "        \n",
       "    \n",
       "        var popup_9e28725c608a8d193eef7350045b060c = L.popup({&quot;maxWidth&quot;: &quot;100%&quot;});\n",
       "\n",
       "        \n",
       "            \n",
       "                var html_d680f78f686ac6be69a9142d3b9632e3 = $(`&lt;div id=&quot;html_d680f78f686ac6be69a9142d3b9632e3&quot; style=&quot;width: 100.0%; height: 100.0%;&quot;&gt;2.0&lt;/div&gt;`)[0];\n",
       "                popup_9e28725c608a8d193eef7350045b060c.setContent(html_d680f78f686ac6be69a9142d3b9632e3);\n",
       "            \n",
       "        \n",
       "\n",
       "        marker_212c79c0db12e3cbe39253047c49f369.bindPopup(popup_9e28725c608a8d193eef7350045b060c)\n",
       "        ;\n",
       "\n",
       "        \n",
       "    \n",
       "&lt;/script&gt;\n",
       "&lt;/html&gt;\" style=\"position:absolute;width:100%;height:100%;left:0;top:0;border:none !important;\" allowfullscreen webkitallowfullscreen mozallowfullscreen></iframe></div></div>"
      ],
      "text/plain": [
       "<folium.folium.Map at 0x7892950ede40>"
      ]
     },
     "execution_count": 8,
     "metadata": {},
     "output_type": "execute_result"
    }
   ],
   "source": [
    "\n",
    "df1 = df.groupby(['LONGITUDE','LATITUDE']).agg({\"MINIMUM_SPEED\":\"mean\"}).reset_index().sort_values(by='MINIMUM_SPEED')\n",
    "my_map = folium.Map(location=[df1.iloc[0]['LATITUDE'], df1.iloc[0]['LONGITUDE']])\n",
    "for index,record in df1.reset_index().head(10).iterrows():\n",
    "    \n",
    "\n",
    "    folium.Marker([record[\"LATITUDE\"], record['LONGITUDE']], popup=record['MINIMUM_SPEED'] ).add_to(my_map)\n",
    "\n",
    "   \n",
    "    \n",
    "\n",
    "my_map\n"
   ]
  },
  {
   "cell_type": "code",
   "execution_count": 9,
   "id": "1907b8e6",
   "metadata": {
    "execution": {
     "iopub.execute_input": "2024-10-15T06:57:24.389376Z",
     "iopub.status.busy": "2024-10-15T06:57:24.388938Z",
     "iopub.status.idle": "2024-10-15T06:57:24.737917Z",
     "shell.execute_reply": "2024-10-15T06:57:24.736779Z"
    },
    "papermill": {
     "duration": 0.366577,
     "end_time": "2024-10-15T06:57:24.740581",
     "exception": false,
     "start_time": "2024-10-15T06:57:24.374004",
     "status": "completed"
    },
    "tags": []
   },
   "outputs": [],
   "source": [
    "df['DATE_TIME']=pd.to_datetime(df['DATE_TIME'])"
   ]
  },
  {
   "cell_type": "code",
   "execution_count": 10,
   "id": "a19a06dd",
   "metadata": {
    "execution": {
     "iopub.execute_input": "2024-10-15T06:57:24.768172Z",
     "iopub.status.busy": "2024-10-15T06:57:24.767739Z",
     "iopub.status.idle": "2024-10-15T06:57:24.775359Z",
     "shell.execute_reply": "2024-10-15T06:57:24.774152Z"
    },
    "papermill": {
     "duration": 0.024344,
     "end_time": "2024-10-15T06:57:24.777763",
     "exception": false,
     "start_time": "2024-10-15T06:57:24.753419",
     "status": "completed"
    },
    "tags": []
   },
   "outputs": [
    {
     "data": {
      "text/plain": [
       "Index(['DATE_TIME', 'LONGITUDE', 'LATITUDE', 'GEOHASH', 'MINIMUM_SPEED',\n",
       "       'MAXIMUM_SPEED', 'AVERAGE_SPEED', 'NUMBER_OF_VEHICLES'],\n",
       "      dtype='object')"
      ]
     },
     "execution_count": 10,
     "metadata": {},
     "output_type": "execute_result"
    }
   ],
   "source": [
    "df.columns"
   ]
  },
  {
   "cell_type": "code",
   "execution_count": null,
   "id": "f8788ca7",
   "metadata": {
    "papermill": {
     "duration": 0.01273,
     "end_time": "2024-10-15T06:57:24.803384",
     "exception": false,
     "start_time": "2024-10-15T06:57:24.790654",
     "status": "completed"
    },
    "tags": []
   },
   "outputs": [],
   "source": []
  },
  {
   "cell_type": "markdown",
   "id": "bcd34f04",
   "metadata": {
    "papermill": {
     "duration": 0.01266,
     "end_time": "2024-10-15T06:57:24.828975",
     "exception": false,
     "start_time": "2024-10-15T06:57:24.816315",
     "status": "completed"
    },
    "tags": []
   },
   "source": [
    "# Clustering places based on driving speeds using K-Means\n",
    "\n",
    "We will start with 4 clusters, then will find the optimum number of clusters using Elbow Method"
   ]
  },
  {
   "cell_type": "code",
   "execution_count": 11,
   "id": "6023cacd",
   "metadata": {
    "execution": {
     "iopub.execute_input": "2024-10-15T06:57:24.856731Z",
     "iopub.status.busy": "2024-10-15T06:57:24.856289Z",
     "iopub.status.idle": "2024-10-15T06:57:25.374397Z",
     "shell.execute_reply": "2024-10-15T06:57:25.373185Z"
    },
    "papermill": {
     "duration": 0.53558,
     "end_time": "2024-10-15T06:57:25.377470",
     "exception": false,
     "start_time": "2024-10-15T06:57:24.841890",
     "status": "completed"
    },
    "tags": []
   },
   "outputs": [],
   "source": [
    "from sklearn.cluster import KMeans\n",
    "kmeans = KMeans(n_clusters=4)\n"
   ]
  },
  {
   "cell_type": "code",
   "execution_count": 12,
   "id": "9f7c6d9f",
   "metadata": {
    "execution": {
     "iopub.execute_input": "2024-10-15T06:57:25.406146Z",
     "iopub.status.busy": "2024-10-15T06:57:25.405689Z",
     "iopub.status.idle": "2024-10-15T06:57:25.413339Z",
     "shell.execute_reply": "2024-10-15T06:57:25.412160Z"
    },
    "papermill": {
     "duration": 0.024369,
     "end_time": "2024-10-15T06:57:25.415563",
     "exception": false,
     "start_time": "2024-10-15T06:57:25.391194",
     "status": "completed"
    },
    "tags": []
   },
   "outputs": [
    {
     "data": {
      "text/plain": [
       "Index(['DATE_TIME', 'LONGITUDE', 'LATITUDE', 'GEOHASH', 'MINIMUM_SPEED',\n",
       "       'MAXIMUM_SPEED', 'AVERAGE_SPEED', 'NUMBER_OF_VEHICLES'],\n",
       "      dtype='object')"
      ]
     },
     "execution_count": 12,
     "metadata": {},
     "output_type": "execute_result"
    }
   ],
   "source": [
    "df.columns"
   ]
  },
  {
   "cell_type": "code",
   "execution_count": 13,
   "id": "ddfda119",
   "metadata": {
    "execution": {
     "iopub.execute_input": "2024-10-15T06:57:25.443844Z",
     "iopub.status.busy": "2024-10-15T06:57:25.443361Z",
     "iopub.status.idle": "2024-10-15T06:57:34.918460Z",
     "shell.execute_reply": "2024-10-15T06:57:34.917252Z"
    },
    "papermill": {
     "duration": 9.49215,
     "end_time": "2024-10-15T06:57:34.921029",
     "exception": false,
     "start_time": "2024-10-15T06:57:25.428879",
     "status": "completed"
    },
    "tags": []
   },
   "outputs": [
    {
     "name": "stderr",
     "output_type": "stream",
     "text": [
      "/opt/conda/lib/python3.10/site-packages/sklearn/cluster/_kmeans.py:870: FutureWarning: The default value of `n_init` will change from 10 to 'auto' in 1.4. Set the value of `n_init` explicitly to suppress the warning\n",
      "  warnings.warn(\n"
     ]
    },
    {
     "data": {
      "text/html": [
       "<style>#sk-container-id-1 {color: black;background-color: white;}#sk-container-id-1 pre{padding: 0;}#sk-container-id-1 div.sk-toggleable {background-color: white;}#sk-container-id-1 label.sk-toggleable__label {cursor: pointer;display: block;width: 100%;margin-bottom: 0;padding: 0.3em;box-sizing: border-box;text-align: center;}#sk-container-id-1 label.sk-toggleable__label-arrow:before {content: \"▸\";float: left;margin-right: 0.25em;color: #696969;}#sk-container-id-1 label.sk-toggleable__label-arrow:hover:before {color: black;}#sk-container-id-1 div.sk-estimator:hover label.sk-toggleable__label-arrow:before {color: black;}#sk-container-id-1 div.sk-toggleable__content {max-height: 0;max-width: 0;overflow: hidden;text-align: left;background-color: #f0f8ff;}#sk-container-id-1 div.sk-toggleable__content pre {margin: 0.2em;color: black;border-radius: 0.25em;background-color: #f0f8ff;}#sk-container-id-1 input.sk-toggleable__control:checked~div.sk-toggleable__content {max-height: 200px;max-width: 100%;overflow: auto;}#sk-container-id-1 input.sk-toggleable__control:checked~label.sk-toggleable__label-arrow:before {content: \"▾\";}#sk-container-id-1 div.sk-estimator input.sk-toggleable__control:checked~label.sk-toggleable__label {background-color: #d4ebff;}#sk-container-id-1 div.sk-label input.sk-toggleable__control:checked~label.sk-toggleable__label {background-color: #d4ebff;}#sk-container-id-1 input.sk-hidden--visually {border: 0;clip: rect(1px 1px 1px 1px);clip: rect(1px, 1px, 1px, 1px);height: 1px;margin: -1px;overflow: hidden;padding: 0;position: absolute;width: 1px;}#sk-container-id-1 div.sk-estimator {font-family: monospace;background-color: #f0f8ff;border: 1px dotted black;border-radius: 0.25em;box-sizing: border-box;margin-bottom: 0.5em;}#sk-container-id-1 div.sk-estimator:hover {background-color: #d4ebff;}#sk-container-id-1 div.sk-parallel-item::after {content: \"\";width: 100%;border-bottom: 1px solid gray;flex-grow: 1;}#sk-container-id-1 div.sk-label:hover label.sk-toggleable__label {background-color: #d4ebff;}#sk-container-id-1 div.sk-serial::before {content: \"\";position: absolute;border-left: 1px solid gray;box-sizing: border-box;top: 0;bottom: 0;left: 50%;z-index: 0;}#sk-container-id-1 div.sk-serial {display: flex;flex-direction: column;align-items: center;background-color: white;padding-right: 0.2em;padding-left: 0.2em;position: relative;}#sk-container-id-1 div.sk-item {position: relative;z-index: 1;}#sk-container-id-1 div.sk-parallel {display: flex;align-items: stretch;justify-content: center;background-color: white;position: relative;}#sk-container-id-1 div.sk-item::before, #sk-container-id-1 div.sk-parallel-item::before {content: \"\";position: absolute;border-left: 1px solid gray;box-sizing: border-box;top: 0;bottom: 0;left: 50%;z-index: -1;}#sk-container-id-1 div.sk-parallel-item {display: flex;flex-direction: column;z-index: 1;position: relative;background-color: white;}#sk-container-id-1 div.sk-parallel-item:first-child::after {align-self: flex-end;width: 50%;}#sk-container-id-1 div.sk-parallel-item:last-child::after {align-self: flex-start;width: 50%;}#sk-container-id-1 div.sk-parallel-item:only-child::after {width: 0;}#sk-container-id-1 div.sk-dashed-wrapped {border: 1px dashed gray;margin: 0 0.4em 0.5em 0.4em;box-sizing: border-box;padding-bottom: 0.4em;background-color: white;}#sk-container-id-1 div.sk-label label {font-family: monospace;font-weight: bold;display: inline-block;line-height: 1.2em;}#sk-container-id-1 div.sk-label-container {text-align: center;}#sk-container-id-1 div.sk-container {/* jupyter's `normalize.less` sets `[hidden] { display: none; }` but bootstrap.min.css set `[hidden] { display: none !important; }` so we also need the `!important` here to be able to override the default hidden behavior on the sphinx rendered scikit-learn.org. See: https://github.com/scikit-learn/scikit-learn/issues/21755 */display: inline-block !important;position: relative;}#sk-container-id-1 div.sk-text-repr-fallback {display: none;}</style><div id=\"sk-container-id-1\" class=\"sk-top-container\"><div class=\"sk-text-repr-fallback\"><pre>KMeans(n_clusters=4)</pre><b>In a Jupyter environment, please rerun this cell to show the HTML representation or trust the notebook. <br />On GitHub, the HTML representation is unable to render, please try loading this page with nbviewer.org.</b></div><div class=\"sk-container\" hidden><div class=\"sk-item\"><div class=\"sk-estimator sk-toggleable\"><input class=\"sk-toggleable__control sk-hidden--visually\" id=\"sk-estimator-id-1\" type=\"checkbox\" checked><label for=\"sk-estimator-id-1\" class=\"sk-toggleable__label sk-toggleable__label-arrow\">KMeans</label><div class=\"sk-toggleable__content\"><pre>KMeans(n_clusters=4)</pre></div></div></div></div></div>"
      ],
      "text/plain": [
       "KMeans(n_clusters=4)"
      ]
     },
     "execution_count": 13,
     "metadata": {},
     "output_type": "execute_result"
    }
   ],
   "source": [
    "kmeans.fit(df.drop(columns=[\"DATE_TIME\",\"GEOHASH\"],axis=1))"
   ]
  },
  {
   "cell_type": "code",
   "execution_count": 14,
   "id": "5b3b1fd5",
   "metadata": {
    "execution": {
     "iopub.execute_input": "2024-10-15T06:57:34.949977Z",
     "iopub.status.busy": "2024-10-15T06:57:34.949509Z",
     "iopub.status.idle": "2024-10-15T06:57:34.956676Z",
     "shell.execute_reply": "2024-10-15T06:57:34.955567Z"
    },
    "papermill": {
     "duration": 0.024605,
     "end_time": "2024-10-15T06:57:34.959065",
     "exception": false,
     "start_time": "2024-10-15T06:57:34.934460",
     "status": "completed"
    },
    "tags": []
   },
   "outputs": [
    {
     "data": {
      "text/plain": [
       "6957964656.778474"
      ]
     },
     "execution_count": 14,
     "metadata": {},
     "output_type": "execute_result"
    }
   ],
   "source": [
    "kmeans.inertia_"
   ]
  },
  {
   "cell_type": "code",
   "execution_count": 15,
   "id": "9d077c78",
   "metadata": {
    "execution": {
     "iopub.execute_input": "2024-10-15T06:57:34.988933Z",
     "iopub.status.busy": "2024-10-15T06:57:34.988490Z",
     "iopub.status.idle": "2024-10-15T06:58:01.203693Z",
     "shell.execute_reply": "2024-10-15T06:58:01.202024Z"
    },
    "papermill": {
     "duration": 26.233851,
     "end_time": "2024-10-15T06:58:01.206663",
     "exception": false,
     "start_time": "2024-10-15T06:57:34.972812",
     "status": "completed"
    },
    "tags": []
   },
   "outputs": [
    {
     "name": "stderr",
     "output_type": "stream",
     "text": [
      "/opt/conda/lib/python3.10/site-packages/sklearn/cluster/_kmeans.py:870: FutureWarning: The default value of `n_init` will change from 10 to 'auto' in 1.4. Set the value of `n_init` explicitly to suppress the warning\n",
      "  warnings.warn(\n",
      "/opt/conda/lib/python3.10/site-packages/sklearn/cluster/_kmeans.py:870: FutureWarning: The default value of `n_init` will change from 10 to 'auto' in 1.4. Set the value of `n_init` explicitly to suppress the warning\n",
      "  warnings.warn(\n",
      "/opt/conda/lib/python3.10/site-packages/sklearn/cluster/_kmeans.py:870: FutureWarning: The default value of `n_init` will change from 10 to 'auto' in 1.4. Set the value of `n_init` explicitly to suppress the warning\n",
      "  warnings.warn(\n",
      "/opt/conda/lib/python3.10/site-packages/sklearn/cluster/_kmeans.py:870: FutureWarning: The default value of `n_init` will change from 10 to 'auto' in 1.4. Set the value of `n_init` explicitly to suppress the warning\n",
      "  warnings.warn(\n"
     ]
    }
   ],
   "source": [
    "inertia=[]\n",
    "for i in range(1,5):\n",
    "    kmeans = KMeans(n_clusters=i)\n",
    "    kmeans.fit(df.drop(columns=[\"DATE_TIME\",\"GEOHASH\"],axis=1))\n",
    "    inertia.append(kmeans.inertia_)"
   ]
  },
  {
   "cell_type": "code",
   "execution_count": 16,
   "id": "3fc685e4",
   "metadata": {
    "execution": {
     "iopub.execute_input": "2024-10-15T06:58:01.237498Z",
     "iopub.status.busy": "2024-10-15T06:58:01.236630Z",
     "iopub.status.idle": "2024-10-15T06:58:01.643999Z",
     "shell.execute_reply": "2024-10-15T06:58:01.642787Z"
    },
    "papermill": {
     "duration": 0.42562,
     "end_time": "2024-10-15T06:58:01.646614",
     "exception": false,
     "start_time": "2024-10-15T06:58:01.220994",
     "status": "completed"
    },
    "tags": []
   },
   "outputs": [
    {
     "name": "stderr",
     "output_type": "stream",
     "text": [
      "/opt/conda/lib/python3.10/site-packages/seaborn/_oldcore.py:1119: FutureWarning: use_inf_as_na option is deprecated and will be removed in a future version. Convert inf values to NaN before operating instead.\n",
      "  with pd.option_context('mode.use_inf_as_na', True):\n",
      "/opt/conda/lib/python3.10/site-packages/seaborn/_oldcore.py:1119: FutureWarning: use_inf_as_na option is deprecated and will be removed in a future version. Convert inf values to NaN before operating instead.\n",
      "  with pd.option_context('mode.use_inf_as_na', True):\n"
     ]
    },
    {
     "data": {
      "text/plain": [
       "<Axes: >"
      ]
     },
     "execution_count": 16,
     "metadata": {},
     "output_type": "execute_result"
    },
    {
     "data": {
      "image/png": "[encoded data removed]",
      "text/plain": [
       "<Figure size 640x480 with 1 Axes>"
      ]
     },
     "metadata": {},
     "output_type": "display_data"
    }
   ],
   "source": [
    "sns.lineplot(x=range(1,5),y=inertia)"
   ]
  },
  {
   "cell_type": "markdown",
   "id": "e25b91c0",
   "metadata": {
    "papermill": {
     "duration": 0.014376,
     "end_time": "2024-10-15T06:58:01.675951",
     "exception": false,
     "start_time": "2024-10-15T06:58:01.661575",
     "status": "completed"
    },
    "tags": []
   },
   "source": [
    "# The optimum number of clusters is 3. Lets refit the data on 3 clusters"
   ]
  },
  {
   "cell_type": "code",
   "execution_count": 17,
   "id": "f5dddc43",
   "metadata": {
    "execution": {
     "iopub.execute_input": "2024-10-15T06:58:01.707487Z",
     "iopub.status.busy": "2024-10-15T06:58:01.707028Z",
     "iopub.status.idle": "2024-10-15T06:58:09.739946Z",
     "shell.execute_reply": "2024-10-15T06:58:09.738776Z"
    },
    "papermill": {
     "duration": 8.051583,
     "end_time": "2024-10-15T06:58:09.742529",
     "exception": false,
     "start_time": "2024-10-15T06:58:01.690946",
     "status": "completed"
    },
    "tags": []
   },
   "outputs": [
    {
     "name": "stderr",
     "output_type": "stream",
     "text": [
      "/opt/conda/lib/python3.10/site-packages/sklearn/cluster/_kmeans.py:870: FutureWarning: The default value of `n_init` will change from 10 to 'auto' in 1.4. Set the value of `n_init` explicitly to suppress the warning\n",
      "  warnings.warn(\n"
     ]
    },
    {
     "data": {
      "text/html": [
       "<style>#sk-container-id-2 {color: black;background-color: white;}#sk-container-id-2 pre{padding: 0;}#sk-container-id-2 div.sk-toggleable {background-color: white;}#sk-container-id-2 label.sk-toggleable__label {cursor: pointer;display: block;width: 100%;margin-bottom: 0;padding: 0.3em;box-sizing: border-box;text-align: center;}#sk-container-id-2 label.sk-toggleable__label-arrow:before {content: \"▸\";float: left;margin-right: 0.25em;color: #696969;}#sk-container-id-2 label.sk-toggleable__label-arrow:hover:before {color: black;}#sk-container-id-2 div.sk-estimator:hover label.sk-toggleable__label-arrow:before {color: black;}#sk-container-id-2 div.sk-toggleable__content {max-height: 0;max-width: 0;overflow: hidden;text-align: left;background-color: #f0f8ff;}#sk-container-id-2 div.sk-toggleable__content pre {margin: 0.2em;color: black;border-radius: 0.25em;background-color: #f0f8ff;}#sk-container-id-2 input.sk-toggleable__control:checked~div.sk-toggleable__content {max-height: 200px;max-width: 100%;overflow: auto;}#sk-container-id-2 input.sk-toggleable__control:checked~label.sk-toggleable__label-arrow:before {content: \"▾\";}#sk-container-id-2 div.sk-estimator input.sk-toggleable__control:checked~label.sk-toggleable__label {background-color: #d4ebff;}#sk-container-id-2 div.sk-label input.sk-toggleable__control:checked~label.sk-toggleable__label {background-color: #d4ebff;}#sk-container-id-2 input.sk-hidden--visually {border: 0;clip: rect(1px 1px 1px 1px);clip: rect(1px, 1px, 1px, 1px);height: 1px;margin: -1px;overflow: hidden;padding: 0;position: absolute;width: 1px;}#sk-container-id-2 div.sk-estimator {font-family: monospace;background-color: #f0f8ff;border: 1px dotted black;border-radius: 0.25em;box-sizing: border-box;margin-bottom: 0.5em;}#sk-container-id-2 div.sk-estimator:hover {background-color: #d4ebff;}#sk-container-id-2 div.sk-parallel-item::after {content: \"\";width: 100%;border-bottom: 1px solid gray;flex-grow: 1;}#sk-container-id-2 div.sk-label:hover label.sk-toggleable__label {background-color: #d4ebff;}#sk-container-id-2 div.sk-serial::before {content: \"\";position: absolute;border-left: 1px solid gray;box-sizing: border-box;top: 0;bottom: 0;left: 50%;z-index: 0;}#sk-container-id-2 div.sk-serial {display: flex;flex-direction: column;align-items: center;background-color: white;padding-right: 0.2em;padding-left: 0.2em;position: relative;}#sk-container-id-2 div.sk-item {position: relative;z-index: 1;}#sk-container-id-2 div.sk-parallel {display: flex;align-items: stretch;justify-content: center;background-color: white;position: relative;}#sk-container-id-2 div.sk-item::before, #sk-container-id-2 div.sk-parallel-item::before {content: \"\";position: absolute;border-left: 1px solid gray;box-sizing: border-box;top: 0;bottom: 0;left: 50%;z-index: -1;}#sk-container-id-2 div.sk-parallel-item {display: flex;flex-direction: column;z-index: 1;position: relative;background-color: white;}#sk-container-id-2 div.sk-parallel-item:first-child::after {align-self: flex-end;width: 50%;}#sk-container-id-2 div.sk-parallel-item:last-child::after {align-self: flex-start;width: 50%;}#sk-container-id-2 div.sk-parallel-item:only-child::after {width: 0;}#sk-container-id-2 div.sk-dashed-wrapped {border: 1px dashed gray;margin: 0 0.4em 0.5em 0.4em;box-sizing: border-box;padding-bottom: 0.4em;background-color: white;}#sk-container-id-2 div.sk-label label {font-family: monospace;font-weight: bold;display: inline-block;line-height: 1.2em;}#sk-container-id-2 div.sk-label-container {text-align: center;}#sk-container-id-2 div.sk-container {/* jupyter's `normalize.less` sets `[hidden] { display: none; }` but bootstrap.min.css set `[hidden] { display: none !important; }` so we also need the `!important` here to be able to override the default hidden behavior on the sphinx rendered scikit-learn.org. See: https://github.com/scikit-learn/scikit-learn/issues/21755 */display: inline-block !important;position: relative;}#sk-container-id-2 div.sk-text-repr-fallback {display: none;}</style><div id=\"sk-container-id-2\" class=\"sk-top-container\"><div class=\"sk-text-repr-fallback\"><pre>KMeans(n_clusters=3)</pre><b>In a Jupyter environment, please rerun this cell to show the HTML representation or trust the notebook. <br />On GitHub, the HTML representation is unable to render, please try loading this page with nbviewer.org.</b></div><div class=\"sk-container\" hidden><div class=\"sk-item\"><div class=\"sk-estimator sk-toggleable\"><input class=\"sk-toggleable__control sk-hidden--visually\" id=\"sk-estimator-id-2\" type=\"checkbox\" checked><label for=\"sk-estimator-id-2\" class=\"sk-toggleable__label sk-toggleable__label-arrow\">KMeans</label><div class=\"sk-toggleable__content\"><pre>KMeans(n_clusters=3)</pre></div></div></div></div></div>"
      ],
      "text/plain": [
       "KMeans(n_clusters=3)"
      ]
     },
     "execution_count": 17,
     "metadata": {},
     "output_type": "execute_result"
    }
   ],
   "source": [
    "kmeans = KMeans(n_clusters=3)\n",
    "kmeans.fit(df.drop(columns=[\"DATE_TIME\",\"GEOHASH\"],axis=1))"
   ]
  },
  {
   "cell_type": "code",
   "execution_count": 18,
   "id": "3a12c5b3",
   "metadata": {
    "execution": {
     "iopub.execute_input": "2024-10-15T06:58:09.775429Z",
     "iopub.status.busy": "2024-10-15T06:58:09.774618Z",
     "iopub.status.idle": "2024-10-15T06:58:09.781971Z",
     "shell.execute_reply": "2024-10-15T06:58:09.780829Z"
    },
    "papermill": {
     "duration": 0.026437,
     "end_time": "2024-10-15T06:58:09.784451",
     "exception": false,
     "start_time": "2024-10-15T06:58:09.758014",
     "status": "completed"
    },
    "tags": []
   },
   "outputs": [],
   "source": [
    "df['Cluster']=kmeans.labels_"
   ]
  },
  {
   "cell_type": "markdown",
   "id": "245f3984",
   "metadata": {
    "papermill": {
     "duration": 0.015626,
     "end_time": "2024-10-15T06:58:09.815737",
     "exception": false,
     "start_time": "2024-10-15T06:58:09.800111",
     "status": "completed"
    },
    "tags": []
   },
   "source": [
    "## Lets View  the places which are clustered "
   ]
  },
  {
   "cell_type": "code",
   "execution_count": 19,
   "id": "898561d4",
   "metadata": {
    "execution": {
     "iopub.execute_input": "2024-10-15T06:58:09.848263Z",
     "iopub.status.busy": "2024-10-15T06:58:09.847811Z",
     "iopub.status.idle": "2024-10-15T06:58:16.992060Z",
     "shell.execute_reply": "2024-10-15T06:58:16.990810Z"
    },
    "papermill": {
     "duration": 7.163598,
     "end_time": "2024-10-15T06:58:16.994816",
     "exception": false,
     "start_time": "2024-10-15T06:58:09.831218",
     "status": "completed"
    },
    "tags": []
   },
   "outputs": [
    {
     "data": {
      "text/plain": [
       "<Axes: xlabel='Cluster', ylabel='NUMBER_OF_VEHICLES'>"
      ]
     },
     "execution_count": 19,
     "metadata": {},
     "output_type": "execute_result"
    },
    {
     "data": {
      "image/png": "[encoded data removed]",
      "text/plain": [
       "<Figure size 640x480 with 1 Axes>"
      ]
     },
     "metadata": {},
     "output_type": "display_data"
    }
   ],
   "source": [
    "import seaborn as sns\n",
    "sns.scatterplot(y='NUMBER_OF_VEHICLES',x='Cluster',data=df)"
   ]
  },
  {
   "cell_type": "code",
   "execution_count": 20,
   "id": "5e01bbd3",
   "metadata": {
    "execution": {
     "iopub.execute_input": "2024-10-15T06:58:17.029926Z",
     "iopub.status.busy": "2024-10-15T06:58:17.029465Z",
     "iopub.status.idle": "2024-10-15T06:58:24.082743Z",
     "shell.execute_reply": "2024-10-15T06:58:24.081536Z"
    },
    "papermill": {
     "duration": 7.074182,
     "end_time": "2024-10-15T06:58:24.085326",
     "exception": false,
     "start_time": "2024-10-15T06:58:17.011144",
     "status": "completed"
    },
    "tags": []
   },
   "outputs": [
    {
     "data": {
      "text/plain": [
       "<Axes: xlabel='Cluster', ylabel='MAXIMUM_SPEED'>"
      ]
     },
     "execution_count": 20,
     "metadata": {},
     "output_type": "execute_result"
    },
    {
     "data": {
      "image/png": "[encoded data removed]",
      "text/plain": [
       "<Figure size 640x480 with 1 Axes>"
      ]
     },
     "metadata": {},
     "output_type": "display_data"
    }
   ],
   "source": [
    "sns.scatterplot(y='MAXIMUM_SPEED',x='Cluster',data=df)"
   ]
  },
  {
   "cell_type": "code",
   "execution_count": 21,
   "id": "b5538fec",
   "metadata": {
    "execution": {
     "iopub.execute_input": "2024-10-15T06:58:24.120856Z",
     "iopub.status.busy": "2024-10-15T06:58:24.120422Z",
     "iopub.status.idle": "2024-10-15T06:58:31.165872Z",
     "shell.execute_reply": "2024-10-15T06:58:31.164719Z"
    },
    "papermill": {
     "duration": 7.066201,
     "end_time": "2024-10-15T06:58:31.168402",
     "exception": false,
     "start_time": "2024-10-15T06:58:24.102201",
     "status": "completed"
    },
    "tags": []
   },
   "outputs": [
    {
     "data": {
      "text/plain": [
       "<Axes: xlabel='Cluster', ylabel='AVERAGE_SPEED'>"
      ]
     },
     "execution_count": 21,
     "metadata": {},
     "output_type": "execute_result"
    },
    {
     "data": {
      "image/png": "[encoded data removed]",
      "text/plain": [
       "<Figure size 640x480 with 1 Axes>"
      ]
     },
     "metadata": {},
     "output_type": "display_data"
    }
   ],
   "source": [
    "sns.scatterplot(y='AVERAGE_SPEED',x='Cluster',data=df)"
   ]
  },
  {
   "cell_type": "code",
   "execution_count": 22,
   "id": "b7e44da5",
   "metadata": {
    "execution": {
     "iopub.execute_input": "2024-10-15T06:58:31.204754Z",
     "iopub.status.busy": "2024-10-15T06:58:31.204313Z",
     "iopub.status.idle": "2024-10-15T06:58:38.234736Z",
     "shell.execute_reply": "2024-10-15T06:58:38.233458Z"
    },
    "papermill": {
     "duration": 7.051474,
     "end_time": "2024-10-15T06:58:38.237376",
     "exception": false,
     "start_time": "2024-10-15T06:58:31.185902",
     "status": "completed"
    },
    "tags": []
   },
   "outputs": [
    {
     "data": {
      "text/plain": [
       "<Axes: xlabel='Cluster', ylabel='MINIMUM_SPEED'>"
      ]
     },
     "execution_count": 22,
     "metadata": {},
     "output_type": "execute_result"
    },
    {
     "data": {
      "image/png": "[encoded data removed]",
      "text/plain": [
       "<Figure size 640x480 with 1 Axes>"
      ]
     },
     "metadata": {},
     "output_type": "display_data"
    }
   ],
   "source": [
    "sns.scatterplot(y='MINIMUM_SPEED',x='Cluster',data=df)"
   ]
  },
  {
   "cell_type": "markdown",
   "id": "1cdd8ff9",
   "metadata": {
    "papermill": {
     "duration": 0.017712,
     "end_time": "2024-10-15T06:58:38.273592",
     "exception": false,
     "start_time": "2024-10-15T06:58:38.255880",
     "status": "completed"
    },
    "tags": []
   },
   "source": [
    "## CONCLUSION "
   ]
  },
  {
   "cell_type": "markdown",
   "id": "dd0a0899",
   "metadata": {
    "papermill": {
     "duration": 0.017766,
     "end_time": "2024-10-15T06:58:38.309529",
     "exception": false,
     "start_time": "2024-10-15T06:58:38.291763",
     "status": "completed"
    },
    "tags": []
   },
   "source": [
    "Our dataset has been finely divided into clusters . Each cluster has its own value of Average Speed , No. of Vehicles and Speed. "
   ]
  },
  {
   "cell_type": "code",
   "execution_count": null,
   "id": "4968ef3b",
   "metadata": {
    "papermill": {
     "duration": 0.017851,
     "end_time": "2024-10-15T06:58:38.345573",
     "exception": false,
     "start_time": "2024-10-15T06:58:38.327722",
     "status": "completed"
    },
    "tags": []
   },
   "outputs": [],
   "source": []
  }
 ],
 "metadata": {
  "kaggle": {
   "accelerator": "none",
   "dataSources": [
    {
     "datasetId": 5764394,
     "sourceId": 9477558,
     "sourceType": "datasetVersion"
    }
   ],
   "dockerImageVersionId": 30786,
   "isGpuEnabled": false,
   "isInternetEnabled": true,
   "language": "python",
   "sourceType": "notebook"
  },
  "kernelspec": {
   "display_name": "Python 3",
   "language": "python",
   "name": "python3"
  },
  "language_info": {
   "codemirror_mode": {
    "name": "ipython",
    "version": 3
   },
   "file_extension": ".py",
   "mimetype": "text/x-python",
   "name": "python",
   "nbconvert_exporter": "python",
   "pygments_lexer": "ipython3",
   "version": "3.10.14"
  },
  "papermill": {
   "default_parameters": {},
   "duration": 86.241887,
   "end_time": "2024-10-15T06:58:39.085833",
   "environment_variables": {},
   "exception": null,
   "input_path": "__notebook__.ipynb",
   "output_path": "__notebook__.ipynb",
   "parameters": {},
   "start_time": "2024-10-15T06:57:12.843946",
   "version": "2.6.0"
  }
 },
 "nbformat": 4,
 "nbformat_minor": 5
}
