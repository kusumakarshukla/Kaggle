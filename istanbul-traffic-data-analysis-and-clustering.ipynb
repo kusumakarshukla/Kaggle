{
 "cells": [
  {
   "cell_type": "code",
   "execution_count": 1,
   "id": "b32ac78a",
   "metadata": {
    "_cell_guid": "b1076dfc-b9ad-4769-8c92-a6c4dae69d19",
    "_uuid": "8f2839f25d086af736a60e9eeb907d3b93b6e0e5",
    "execution": {
     "iopub.execute_input": "2024-10-14T10:12:06.880535Z",
     "iopub.status.busy": "2024-10-14T10:12:06.880069Z",
     "iopub.status.idle": "2024-10-14T10:12:08.083608Z",
     "shell.execute_reply": "2024-10-14T10:12:08.081677Z"
    },
    "papermill": {
     "duration": 1.220857,
     "end_time": "2024-10-14T10:12:08.086794",
     "exception": false,
     "start_time": "2024-10-14T10:12:06.865937",
     "status": "completed"
    },
    "tags": []
   },
   "outputs": [
    {
     "name": "stdout",
     "output_type": "stream",
     "text": [
      "/kaggle/input/istanbul-municipality-traffic-density-data-2024aug/traffic_density__202408.csv\n"
     ]
    }
   ],
   "source": [
    "# This Python 3 environment comes with many helpful analytics libraries installed\n",
    "# It is defined by the kaggle/python Docker image: https://github.com/kaggle/docker-python\n",
    "# For example, here's several helpful packages to load\n",
    "\n",
    "import numpy as np # linear algebra\n",
    "import pandas as pd # data processing, CSV file I/O (e.g. pd.read_csv)\n",
    "\n",
    "# Input data files are available in the read-only \"../input/\" directory\n",
    "# For example, running this (by clicking run or pressing Shift+Enter) will list all files under the input directory\n",
    "\n",
    "import os\n",
    "for dirname, _, filenames in os.walk('/kaggle/input'):\n",
    "    for filename in filenames:\n",
    "        print(os.path.join(dirname, filename))\n",
    "\n",
    "# You can write up to 20GB to the current directory (/kaggle/working/) that gets preserved as output when you create a version using \"Save & Run All\" \n",
    "# You can also write temporary files to /kaggle/temp/, but they won't be saved outside of the current session"
   ]
  },
  {
   "cell_type": "code",
   "execution_count": 2,
   "id": "8305d5fb",
   "metadata": {
    "execution": {
     "iopub.execute_input": "2024-10-14T10:12:08.113241Z",
     "iopub.status.busy": "2024-10-14T10:12:08.112419Z",
     "iopub.status.idle": "2024-10-14T10:12:11.846621Z",
     "shell.execute_reply": "2024-10-14T10:12:11.845379Z"
    },
    "papermill": {
     "duration": 3.751561,
     "end_time": "2024-10-14T10:12:11.850279",
     "exception": false,
     "start_time": "2024-10-14T10:12:08.098718",
     "status": "completed"
    },
    "tags": []
   },
   "outputs": [],
   "source": [
    "\n",
    "df=pd.read_csv(\"/kaggle/input/istanbul-municipality-traffic-density-data-2024aug/traffic_density__202408.csv\")"
   ]
  },
  {
   "cell_type": "code",
   "execution_count": 3,
   "id": "46051a60",
   "metadata": {
    "execution": {
     "iopub.execute_input": "2024-10-14T10:12:11.875710Z",
     "iopub.status.busy": "2024-10-14T10:12:11.875300Z",
     "iopub.status.idle": "2024-10-14T10:12:11.907564Z",
     "shell.execute_reply": "2024-10-14T10:12:11.906239Z"
    },
    "papermill": {
     "duration": 0.048985,
     "end_time": "2024-10-14T10:12:11.911212",
     "exception": false,
     "start_time": "2024-10-14T10:12:11.862227",
     "status": "completed"
    },
    "tags": []
   },
   "outputs": [
    {
     "data": {
      "text/html": [
       "<div>\n",
       "<style scoped>\n",
       "    .dataframe tbody tr th:only-of-type {\n",
       "        vertical-align: middle;\n",
       "    }\n",
       "\n",
       "    .dataframe tbody tr th {\n",
       "        vertical-align: top;\n",
       "    }\n",
       "\n",
       "    .dataframe thead th {\n",
       "        text-align: right;\n",
       "    }\n",
       "</style>\n",
       "<table border=\"1\" class=\"dataframe\">\n",
       "  <thead>\n",
       "    <tr style=\"text-align: right;\">\n",
       "      <th></th>\n",
       "      <th>DATE_TIME</th>\n",
       "      <th>LONGITUDE</th>\n",
       "      <th>LATITUDE</th>\n",
       "      <th>GEOHASH</th>\n",
       "      <th>MINIMUM_SPEED</th>\n",
       "      <th>MAXIMUM_SPEED</th>\n",
       "      <th>AVERAGE_SPEED</th>\n",
       "      <th>NUMBER_OF_VEHICLES</th>\n",
       "    </tr>\n",
       "  </thead>\n",
       "  <tbody>\n",
       "    <tr>\n",
       "      <th>0</th>\n",
       "      <td>2024-08-01 00:00:00</td>\n",
       "      <td>28.427124</td>\n",
       "      <td>41.058655</td>\n",
       "      <td>sxk1wf</td>\n",
       "      <td>61</td>\n",
       "      <td>126</td>\n",
       "      <td>90</td>\n",
       "      <td>50</td>\n",
       "    </tr>\n",
       "    <tr>\n",
       "      <th>1</th>\n",
       "      <td>2024-08-01 00:00:00</td>\n",
       "      <td>28.591919</td>\n",
       "      <td>41.102600</td>\n",
       "      <td>sxk3fd</td>\n",
       "      <td>33</td>\n",
       "      <td>154</td>\n",
       "      <td>89</td>\n",
       "      <td>58</td>\n",
       "    </tr>\n",
       "    <tr>\n",
       "      <th>2</th>\n",
       "      <td>2024-08-01 00:00:00</td>\n",
       "      <td>28.339233</td>\n",
       "      <td>41.097107</td>\n",
       "      <td>sxk1uc</td>\n",
       "      <td>65</td>\n",
       "      <td>141</td>\n",
       "      <td>95</td>\n",
       "      <td>38</td>\n",
       "    </tr>\n",
       "    <tr>\n",
       "      <th>3</th>\n",
       "      <td>2024-08-01 00:00:00</td>\n",
       "      <td>28.229370</td>\n",
       "      <td>41.130066</td>\n",
       "      <td>sxk1fr</td>\n",
       "      <td>51</td>\n",
       "      <td>129</td>\n",
       "      <td>84</td>\n",
       "      <td>38</td>\n",
       "    </tr>\n",
       "    <tr>\n",
       "      <th>4</th>\n",
       "      <td>2024-08-01 00:00:00</td>\n",
       "      <td>28.493042</td>\n",
       "      <td>41.119080</td>\n",
       "      <td>sxk3bm</td>\n",
       "      <td>30</td>\n",
       "      <td>113</td>\n",
       "      <td>67</td>\n",
       "      <td>23</td>\n",
       "    </tr>\n",
       "  </tbody>\n",
       "</table>\n",
       "</div>"
      ],
      "text/plain": [
       "             DATE_TIME  LONGITUDE   LATITUDE GEOHASH  MINIMUM_SPEED  \\\n",
       "0  2024-08-01 00:00:00  28.427124  41.058655  sxk1wf             61   \n",
       "1  2024-08-01 00:00:00  28.591919  41.102600  sxk3fd             33   \n",
       "2  2024-08-01 00:00:00  28.339233  41.097107  sxk1uc             65   \n",
       "3  2024-08-01 00:00:00  28.229370  41.130066  sxk1fr             51   \n",
       "4  2024-08-01 00:00:00  28.493042  41.119080  sxk3bm             30   \n",
       "\n",
       "   MAXIMUM_SPEED  AVERAGE_SPEED  NUMBER_OF_VEHICLES  \n",
       "0            126             90                  50  \n",
       "1            154             89                  58  \n",
       "2            141             95                  38  \n",
       "3            129             84                  38  \n",
       "4            113             67                  23  "
      ]
     },
     "execution_count": 3,
     "metadata": {},
     "output_type": "execute_result"
    }
   ],
   "source": [
    "df.head()"
   ]
  },
  {
   "cell_type": "markdown",
   "id": "5db1947e",
   "metadata": {
    "papermill": {
     "duration": 0.018653,
     "end_time": "2024-10-14T10:12:11.945559",
     "exception": false,
     "start_time": "2024-10-14T10:12:11.926906",
     "status": "completed"
    },
    "tags": []
   },
   "source": []
  },
  {
   "cell_type": "markdown",
   "id": "17a3e2be",
   "metadata": {
    "papermill": {
     "duration": 0.014787,
     "end_time": "2024-10-14T10:12:11.975639",
     "exception": false,
     "start_time": "2024-10-14T10:12:11.960852",
     "status": "completed"
    },
    "tags": []
   },
   "source": [
    "# TOP Regions in Turkey with Highest Number of Vehicles"
   ]
  },
  {
   "cell_type": "code",
   "execution_count": 4,
   "id": "012fa14c",
   "metadata": {
    "execution": {
     "iopub.execute_input": "2024-10-14T10:12:12.021105Z",
     "iopub.status.busy": "2024-10-14T10:12:12.020457Z",
     "iopub.status.idle": "2024-10-14T10:12:14.365744Z",
     "shell.execute_reply": "2024-10-14T10:12:14.364565Z"
    },
    "papermill": {
     "duration": 2.375131,
     "end_time": "2024-10-14T10:12:14.369097",
     "exception": false,
     "start_time": "2024-10-14T10:12:11.993966",
     "status": "completed"
    },
    "tags": []
   },
   "outputs": [],
   "source": [
    "import matplotlib.pyplot as plt\n",
    "import seaborn as sns\n",
    "import folium"
   ]
  },
  {
   "cell_type": "code",
   "execution_count": 5,
   "id": "f4569c96",
   "metadata": {
    "execution": {
     "iopub.execute_input": "2024-10-14T10:12:14.394807Z",
     "iopub.status.busy": "2024-10-14T10:12:14.394142Z",
     "iopub.status.idle": "2024-10-14T10:12:14.542384Z",
     "shell.execute_reply": "2024-10-14T10:12:14.540941Z"
    },
    "papermill": {
     "duration": 0.164797,
     "end_time": "2024-10-14T10:12:14.545718",
     "exception": false,
     "start_time": "2024-10-14T10:12:14.380921",
     "status": "completed"
    },
    "tags": []
   },
   "outputs": [],
   "source": [
    "df1 = df.groupby(['LONGITUDE','LATITUDE']).agg({\"NUMBER_OF_VEHICLES\":\"sum\"}).reset_index().sort_values(by='NUMBER_OF_VEHICLES',ascending=False)"
   ]
  },
  {
   "cell_type": "code",
   "execution_count": 6,
   "id": "81dfdc13",
   "metadata": {
    "execution": {
     "iopub.execute_input": "2024-10-14T10:12:14.571656Z",
     "iopub.status.busy": "2024-10-14T10:12:14.570350Z",
     "iopub.status.idle": "2024-10-14T10:12:14.631180Z",
     "shell.execute_reply": "2024-10-14T10:12:14.629819Z"
    },
    "papermill": {
     "duration": 0.076634,
     "end_time": "2024-10-14T10:12:14.634051",
     "exception": false,
     "start_time": "2024-10-14T10:12:14.557417",
     "status": "completed"
    },
    "tags": []
   },
   "outputs": [
    {
     "data": {
      "text/html": [
       "<div style=\"width:100%;\"><div style=\"position:relative;width:100%;height:0;padding-bottom:60%;\"><span style=\"color:#565656\">Make this Notebook Trusted to load map: File -> Trust Notebook</span><iframe srcdoc=\"&lt;!DOCTYPE html&gt;\n",
       "&lt;html&gt;\n",
       "&lt;head&gt;\n",
       "    \n",
       "    &lt;meta http-equiv=&quot;content-type&quot; content=&quot;text/html; charset=UTF-8&quot; /&gt;\n",
       "    \n",
       "        &lt;script&gt;\n",
       "            L_NO_TOUCH = false;\n",
       "            L_DISABLE_3D = false;\n",
       "        &lt;/script&gt;\n",
       "    \n",
       "    &lt;style&gt;html, body {width: 100%;height: 100%;margin: 0;padding: 0;}&lt;/style&gt;\n",
       "    &lt;style&gt;#map {position:absolute;top:0;bottom:0;right:0;left:0;}&lt;/style&gt;\n",
       "    &lt;script src=&quot;https://cdn.jsdelivr.net/npm/leaflet@1.9.3/dist/leaflet.js&quot;&gt;&lt;/script&gt;\n",
       "    &lt;script src=&quot;https://code.jquery.com/jquery-3.7.1.min.js&quot;&gt;&lt;/script&gt;\n",
       "    &lt;script src=&quot;https://cdn.jsdelivr.net/npm/bootstrap@5.2.2/dist/js/bootstrap.bundle.min.js&quot;&gt;&lt;/script&gt;\n",
       "    &lt;script src=&quot;https://cdnjs.cloudflare.com/ajax/libs/Leaflet.awesome-markers/2.0.2/leaflet.awesome-markers.js&quot;&gt;&lt;/script&gt;\n",
       "    &lt;link rel=&quot;stylesheet&quot; href=&quot;https://cdn.jsdelivr.net/npm/leaflet@1.9.3/dist/leaflet.css&quot;/&gt;\n",
       "    &lt;link rel=&quot;stylesheet&quot; href=&quot;https://cdn.jsdelivr.net/npm/bootstrap@5.2.2/dist/css/bootstrap.min.css&quot;/&gt;\n",
       "    &lt;link rel=&quot;stylesheet&quot; href=&quot;https://netdna.bootstrapcdn.com/bootstrap/3.0.0/css/bootstrap-glyphicons.css&quot;/&gt;\n",
       "    &lt;link rel=&quot;stylesheet&quot; href=&quot;https://cdn.jsdelivr.net/npm/@fortawesome/fontawesome-free@6.2.0/css/all.min.css&quot;/&gt;\n",
       "    &lt;link rel=&quot;stylesheet&quot; href=&quot;https://cdnjs.cloudflare.com/ajax/libs/Leaflet.awesome-markers/2.0.2/leaflet.awesome-markers.css&quot;/&gt;\n",
       "    &lt;link rel=&quot;stylesheet&quot; href=&quot;https://cdn.jsdelivr.net/gh/python-visualization/folium/folium/templates/leaflet.awesome.rotate.min.css&quot;/&gt;\n",
       "    \n",
       "            &lt;meta name=&quot;viewport&quot; content=&quot;width=device-width,\n",
       "                initial-scale=1.0, maximum-scale=1.0, user-scalable=no&quot; /&gt;\n",
       "            &lt;style&gt;\n",
       "                #map_1e4bbeacd7e8f47edcfa145f1cb1fcca {\n",
       "                    position: relative;\n",
       "                    width: 100.0%;\n",
       "                    height: 100.0%;\n",
       "                    left: 0.0%;\n",
       "                    top: 0.0%;\n",
       "                }\n",
       "                .leaflet-container { font-size: 1rem; }\n",
       "            &lt;/style&gt;\n",
       "        \n",
       "&lt;/head&gt;\n",
       "&lt;body&gt;\n",
       "    \n",
       "    \n",
       "            &lt;div class=&quot;folium-map&quot; id=&quot;map_1e4bbeacd7e8f47edcfa145f1cb1fcca&quot; &gt;&lt;/div&gt;\n",
       "        \n",
       "&lt;/body&gt;\n",
       "&lt;script&gt;\n",
       "    \n",
       "    \n",
       "            var map_1e4bbeacd7e8f47edcfa145f1cb1fcca = L.map(\n",
       "                &quot;map_1e4bbeacd7e8f47edcfa145f1cb1fcca&quot;,\n",
       "                {\n",
       "                    center: [40.9378051757813, 29.3280029296875],\n",
       "                    crs: L.CRS.EPSG3857,\n",
       "                    zoom: 10,\n",
       "                    zoomControl: true,\n",
       "                    preferCanvas: false,\n",
       "                }\n",
       "            );\n",
       "\n",
       "            \n",
       "\n",
       "        \n",
       "    \n",
       "            var tile_layer_a4107f0a8f27a762e92a5cfa329487e1 = L.tileLayer(\n",
       "                &quot;https://tile.openstreetmap.org/{z}/{x}/{y}.png&quot;,\n",
       "                {&quot;attribution&quot;: &quot;\\u0026copy; \\u003ca href=\\&quot;https://www.openstreetmap.org/copyright\\&quot;\\u003eOpenStreetMap\\u003c/a\\u003e contributors&quot;, &quot;detectRetina&quot;: false, &quot;maxNativeZoom&quot;: 19, &quot;maxZoom&quot;: 19, &quot;minZoom&quot;: 0, &quot;noWrap&quot;: false, &quot;opacity&quot;: 1, &quot;subdomains&quot;: &quot;abc&quot;, &quot;tms&quot;: false}\n",
       "            );\n",
       "        \n",
       "    \n",
       "            tile_layer_a4107f0a8f27a762e92a5cfa329487e1.addTo(map_1e4bbeacd7e8f47edcfa145f1cb1fcca);\n",
       "        \n",
       "    \n",
       "            var marker_4d5f05e2f66550582591b83f69e07dd1 = L.marker(\n",
       "                [40.9378051757813, 29.3280029296875],\n",
       "                {}\n",
       "            ).addTo(map_1e4bbeacd7e8f47edcfa145f1cb1fcca);\n",
       "        \n",
       "    \n",
       "        var popup_cb989fa98146ca354302e0d413845d71 = L.popup({&quot;maxWidth&quot;: &quot;100%&quot;});\n",
       "\n",
       "        \n",
       "            \n",
       "                var html_6c0a0e1b3de27bd74b80f4fc6369753d = $(`&lt;div id=&quot;html_6c0a0e1b3de27bd74b80f4fc6369753d&quot; style=&quot;width: 100.0%; height: 100.0%;&quot;&gt;0&lt;/div&gt;`)[0];\n",
       "                popup_cb989fa98146ca354302e0d413845d71.setContent(html_6c0a0e1b3de27bd74b80f4fc6369753d);\n",
       "            \n",
       "        \n",
       "\n",
       "        marker_4d5f05e2f66550582591b83f69e07dd1.bindPopup(popup_cb989fa98146ca354302e0d413845d71)\n",
       "        ;\n",
       "\n",
       "        \n",
       "    \n",
       "    \n",
       "            var marker_e94ea6fc83ce2d34689a13639dce3078 = L.marker(\n",
       "                [41.0641479492188, 28.8116455078125],\n",
       "                {}\n",
       "            ).addTo(map_1e4bbeacd7e8f47edcfa145f1cb1fcca);\n",
       "        \n",
       "    \n",
       "        var popup_5024cf297840fdba850196cc33aa13e6 = L.popup({&quot;maxWidth&quot;: &quot;100%&quot;});\n",
       "\n",
       "        \n",
       "            \n",
       "                var html_abc03c36b7fd35a714e024d857f11c24 = $(`&lt;div id=&quot;html_abc03c36b7fd35a714e024d857f11c24&quot; style=&quot;width: 100.0%; height: 100.0%;&quot;&gt;1&lt;/div&gt;`)[0];\n",
       "                popup_5024cf297840fdba850196cc33aa13e6.setContent(html_abc03c36b7fd35a714e024d857f11c24);\n",
       "            \n",
       "        \n",
       "\n",
       "        marker_e94ea6fc83ce2d34689a13639dce3078.bindPopup(popup_5024cf297840fdba850196cc33aa13e6)\n",
       "        ;\n",
       "\n",
       "        \n",
       "    \n",
       "    \n",
       "            var marker_5cbbc4787a2786dbe34bd3a2877d31f9 = L.marker(\n",
       "                [40.9323120117188, 29.3389892578125],\n",
       "                {}\n",
       "            ).addTo(map_1e4bbeacd7e8f47edcfa145f1cb1fcca);\n",
       "        \n",
       "    \n",
       "        var popup_95dd289a1a6e1ed18122103adf2aeb40 = L.popup({&quot;maxWidth&quot;: &quot;100%&quot;});\n",
       "\n",
       "        \n",
       "            \n",
       "                var html_c483ff3fa00ff4c4dc6dca6b1c93527d = $(`&lt;div id=&quot;html_c483ff3fa00ff4c4dc6dca6b1c93527d&quot; style=&quot;width: 100.0%; height: 100.0%;&quot;&gt;2&lt;/div&gt;`)[0];\n",
       "                popup_95dd289a1a6e1ed18122103adf2aeb40.setContent(html_c483ff3fa00ff4c4dc6dca6b1c93527d);\n",
       "            \n",
       "        \n",
       "\n",
       "        marker_5cbbc4787a2786dbe34bd3a2877d31f9.bindPopup(popup_95dd289a1a6e1ed18122103adf2aeb40)\n",
       "        ;\n",
       "\n",
       "        \n",
       "    \n",
       "    \n",
       "            var marker_4fd97fe2f8b7a5e93519bc6374287cd4 = L.marker(\n",
       "                [41.0641479492188, 28.8336181640625],\n",
       "                {}\n",
       "            ).addTo(map_1e4bbeacd7e8f47edcfa145f1cb1fcca);\n",
       "        \n",
       "    \n",
       "        var popup_d73da58c7ed352bac20660ad2ef12399 = L.popup({&quot;maxWidth&quot;: &quot;100%&quot;});\n",
       "\n",
       "        \n",
       "            \n",
       "                var html_389563b409c3317afc0c2c8d6c8a7231 = $(`&lt;div id=&quot;html_389563b409c3317afc0c2c8d6c8a7231&quot; style=&quot;width: 100.0%; height: 100.0%;&quot;&gt;3&lt;/div&gt;`)[0];\n",
       "                popup_d73da58c7ed352bac20660ad2ef12399.setContent(html_389563b409c3317afc0c2c8d6c8a7231);\n",
       "            \n",
       "        \n",
       "\n",
       "        marker_4fd97fe2f8b7a5e93519bc6374287cd4.bindPopup(popup_d73da58c7ed352bac20660ad2ef12399)\n",
       "        ;\n",
       "\n",
       "        \n",
       "    \n",
       "    \n",
       "            var marker_e46337bbbc4022f4785af8b8ad8d1016 = L.marker(\n",
       "                [40.9927368164063, 29.1522216796875],\n",
       "                {}\n",
       "            ).addTo(map_1e4bbeacd7e8f47edcfa145f1cb1fcca);\n",
       "        \n",
       "    \n",
       "        var popup_94d9b1320584b1616571686af8344038 = L.popup({&quot;maxWidth&quot;: &quot;100%&quot;});\n",
       "\n",
       "        \n",
       "            \n",
       "                var html_af5d2b134631b152dd704791d857a3b3 = $(`&lt;div id=&quot;html_af5d2b134631b152dd704791d857a3b3&quot; style=&quot;width: 100.0%; height: 100.0%;&quot;&gt;4&lt;/div&gt;`)[0];\n",
       "                popup_94d9b1320584b1616571686af8344038.setContent(html_af5d2b134631b152dd704791d857a3b3);\n",
       "            \n",
       "        \n",
       "\n",
       "        marker_e46337bbbc4022f4785af8b8ad8d1016.bindPopup(popup_94d9b1320584b1616571686af8344038)\n",
       "        ;\n",
       "\n",
       "        \n",
       "    \n",
       "    \n",
       "            var marker_a307716bc87e9748031e887c463d4ebe = L.marker(\n",
       "                [41.0586547851563, 28.8116455078125],\n",
       "                {}\n",
       "            ).addTo(map_1e4bbeacd7e8f47edcfa145f1cb1fcca);\n",
       "        \n",
       "    \n",
       "        var popup_ff061b9e531cf9328f64750ce34ea519 = L.popup({&quot;maxWidth&quot;: &quot;100%&quot;});\n",
       "\n",
       "        \n",
       "            \n",
       "                var html_f9e2fae2fa0777c73beec7b6221ddc34 = $(`&lt;div id=&quot;html_f9e2fae2fa0777c73beec7b6221ddc34&quot; style=&quot;width: 100.0%; height: 100.0%;&quot;&gt;5&lt;/div&gt;`)[0];\n",
       "                popup_ff061b9e531cf9328f64750ce34ea519.setContent(html_f9e2fae2fa0777c73beec7b6221ddc34);\n",
       "            \n",
       "        \n",
       "\n",
       "        marker_a307716bc87e9748031e887c463d4ebe.bindPopup(popup_ff061b9e531cf9328f64750ce34ea519)\n",
       "        ;\n",
       "\n",
       "        \n",
       "    \n",
       "    \n",
       "            var marker_c07dac336dbfe154fe029f498eba1790 = L.marker(\n",
       "                [41.0037231445313, 28.6798095703125],\n",
       "                {}\n",
       "            ).addTo(map_1e4bbeacd7e8f47edcfa145f1cb1fcca);\n",
       "        \n",
       "    \n",
       "        var popup_8f4ac9efdd54091761e5beceb4e28f8c = L.popup({&quot;maxWidth&quot;: &quot;100%&quot;});\n",
       "\n",
       "        \n",
       "            \n",
       "                var html_6ecae5f71e42d32feb2991f0df25dc8d = $(`&lt;div id=&quot;html_6ecae5f71e42d32feb2991f0df25dc8d&quot; style=&quot;width: 100.0%; height: 100.0%;&quot;&gt;6&lt;/div&gt;`)[0];\n",
       "                popup_8f4ac9efdd54091761e5beceb4e28f8c.setContent(html_6ecae5f71e42d32feb2991f0df25dc8d);\n",
       "            \n",
       "        \n",
       "\n",
       "        marker_c07dac336dbfe154fe029f498eba1790.bindPopup(popup_8f4ac9efdd54091761e5beceb4e28f8c)\n",
       "        ;\n",
       "\n",
       "        \n",
       "    \n",
       "    \n",
       "            var marker_88e0bb093df0cb7cae36327ebc46e2f2 = L.marker(\n",
       "                [40.8663940429688, 29.2730712890625],\n",
       "                {}\n",
       "            ).addTo(map_1e4bbeacd7e8f47edcfa145f1cb1fcca);\n",
       "        \n",
       "    \n",
       "        var popup_9ef20124c1b5902398b5af4acf4f15f3 = L.popup({&quot;maxWidth&quot;: &quot;100%&quot;});\n",
       "\n",
       "        \n",
       "            \n",
       "                var html_0b5dee5f2968145a0d4c7a041e6123c2 = $(`&lt;div id=&quot;html_0b5dee5f2968145a0d4c7a041e6123c2&quot; style=&quot;width: 100.0%; height: 100.0%;&quot;&gt;7&lt;/div&gt;`)[0];\n",
       "                popup_9ef20124c1b5902398b5af4acf4f15f3.setContent(html_0b5dee5f2968145a0d4c7a041e6123c2);\n",
       "            \n",
       "        \n",
       "\n",
       "        marker_88e0bb093df0cb7cae36327ebc46e2f2.bindPopup(popup_9ef20124c1b5902398b5af4acf4f15f3)\n",
       "        ;\n",
       "\n",
       "        \n",
       "    \n",
       "    \n",
       "            var marker_6f66a30e221420b5cdc2ca29aae18164 = L.marker(\n",
       "                [40.9982299804688, 29.1192626953125],\n",
       "                {}\n",
       "            ).addTo(map_1e4bbeacd7e8f47edcfa145f1cb1fcca);\n",
       "        \n",
       "    \n",
       "        var popup_6a9447ecfeb783a9e7c14298429263aa = L.popup({&quot;maxWidth&quot;: &quot;100%&quot;});\n",
       "\n",
       "        \n",
       "            \n",
       "                var html_2808ae3e13f83eacb8879243d070cd4a = $(`&lt;div id=&quot;html_2808ae3e13f83eacb8879243d070cd4a&quot; style=&quot;width: 100.0%; height: 100.0%;&quot;&gt;8&lt;/div&gt;`)[0];\n",
       "                popup_6a9447ecfeb783a9e7c14298429263aa.setContent(html_2808ae3e13f83eacb8879243d070cd4a);\n",
       "            \n",
       "        \n",
       "\n",
       "        marker_6f66a30e221420b5cdc2ca29aae18164.bindPopup(popup_6a9447ecfeb783a9e7c14298429263aa)\n",
       "        ;\n",
       "\n",
       "        \n",
       "    \n",
       "    \n",
       "            var marker_97d2fe076e0028e4c61ae37fa112053e = L.marker(\n",
       "                [41.0641479492188, 28.8006591796875],\n",
       "                {}\n",
       "            ).addTo(map_1e4bbeacd7e8f47edcfa145f1cb1fcca);\n",
       "        \n",
       "    \n",
       "        var popup_dd194cc86c516e68932a5fcbf7fa59a8 = L.popup({&quot;maxWidth&quot;: &quot;100%&quot;});\n",
       "\n",
       "        \n",
       "            \n",
       "                var html_5730822cc8791216c9d301924ad84ff8 = $(`&lt;div id=&quot;html_5730822cc8791216c9d301924ad84ff8&quot; style=&quot;width: 100.0%; height: 100.0%;&quot;&gt;9&lt;/div&gt;`)[0];\n",
       "                popup_dd194cc86c516e68932a5fcbf7fa59a8.setContent(html_5730822cc8791216c9d301924ad84ff8);\n",
       "            \n",
       "        \n",
       "\n",
       "        marker_97d2fe076e0028e4c61ae37fa112053e.bindPopup(popup_dd194cc86c516e68932a5fcbf7fa59a8)\n",
       "        ;\n",
       "\n",
       "        \n",
       "    \n",
       "    \n",
       "            var marker_3fcc64edcc2ee7fe3ec81afc2b0be087 = L.marker(\n",
       "                [41.0476684570313, 28.8116455078125],\n",
       "                {}\n",
       "            ).addTo(map_1e4bbeacd7e8f47edcfa145f1cb1fcca);\n",
       "        \n",
       "    \n",
       "        var popup_46372b329993ccb1dde214f477e2e20a = L.popup({&quot;maxWidth&quot;: &quot;100%&quot;});\n",
       "\n",
       "        \n",
       "            \n",
       "                var html_3b571c37f9bb1920623392e4574517e4 = $(`&lt;div id=&quot;html_3b571c37f9bb1920623392e4574517e4&quot; style=&quot;width: 100.0%; height: 100.0%;&quot;&gt;10&lt;/div&gt;`)[0];\n",
       "                popup_46372b329993ccb1dde214f477e2e20a.setContent(html_3b571c37f9bb1920623392e4574517e4);\n",
       "            \n",
       "        \n",
       "\n",
       "        marker_3fcc64edcc2ee7fe3ec81afc2b0be087.bindPopup(popup_46372b329993ccb1dde214f477e2e20a)\n",
       "        ;\n",
       "\n",
       "        \n",
       "    \n",
       "    \n",
       "            var marker_f1312e72769388fce30964a6eb629363 = L.marker(\n",
       "                [40.9762573242188, 29.2401123046875],\n",
       "                {}\n",
       "            ).addTo(map_1e4bbeacd7e8f47edcfa145f1cb1fcca);\n",
       "        \n",
       "    \n",
       "        var popup_748e5e146836ceaf82dd3ec3ccf9bb86 = L.popup({&quot;maxWidth&quot;: &quot;100%&quot;});\n",
       "\n",
       "        \n",
       "            \n",
       "                var html_72734be0f89f89640e7f31951f13792b = $(`&lt;div id=&quot;html_72734be0f89f89640e7f31951f13792b&quot; style=&quot;width: 100.0%; height: 100.0%;&quot;&gt;11&lt;/div&gt;`)[0];\n",
       "                popup_748e5e146836ceaf82dd3ec3ccf9bb86.setContent(html_72734be0f89f89640e7f31951f13792b);\n",
       "            \n",
       "        \n",
       "\n",
       "        marker_f1312e72769388fce30964a6eb629363.bindPopup(popup_748e5e146836ceaf82dd3ec3ccf9bb86)\n",
       "        ;\n",
       "\n",
       "        \n",
       "    \n",
       "    \n",
       "            var marker_ffc990188d5f716d614fc81ad08a49fe = L.marker(\n",
       "                [40.9817504882813, 29.2071533203125],\n",
       "                {}\n",
       "            ).addTo(map_1e4bbeacd7e8f47edcfa145f1cb1fcca);\n",
       "        \n",
       "    \n",
       "        var popup_c806c30a787033fe3205cc98d773adc4 = L.popup({&quot;maxWidth&quot;: &quot;100%&quot;});\n",
       "\n",
       "        \n",
       "            \n",
       "                var html_ed87e6a37403abdd2290b158d8856b58 = $(`&lt;div id=&quot;html_ed87e6a37403abdd2290b158d8856b58&quot; style=&quot;width: 100.0%; height: 100.0%;&quot;&gt;12&lt;/div&gt;`)[0];\n",
       "                popup_c806c30a787033fe3205cc98d773adc4.setContent(html_ed87e6a37403abdd2290b158d8856b58);\n",
       "            \n",
       "        \n",
       "\n",
       "        marker_ffc990188d5f716d614fc81ad08a49fe.bindPopup(popup_c806c30a787033fe3205cc98d773adc4)\n",
       "        ;\n",
       "\n",
       "        \n",
       "    \n",
       "    \n",
       "            var marker_77aada8f89c654946e8677951dd78618 = L.marker(\n",
       "                [40.9268188476563, 29.3499755859375],\n",
       "                {}\n",
       "            ).addTo(map_1e4bbeacd7e8f47edcfa145f1cb1fcca);\n",
       "        \n",
       "    \n",
       "        var popup_854f844122dd41cbf94a4479fb737644 = L.popup({&quot;maxWidth&quot;: &quot;100%&quot;});\n",
       "\n",
       "        \n",
       "            \n",
       "                var html_ae990bf0eb8679234eac4e9bfdccdfc5 = $(`&lt;div id=&quot;html_ae990bf0eb8679234eac4e9bfdccdfc5&quot; style=&quot;width: 100.0%; height: 100.0%;&quot;&gt;13&lt;/div&gt;`)[0];\n",
       "                popup_854f844122dd41cbf94a4479fb737644.setContent(html_ae990bf0eb8679234eac4e9bfdccdfc5);\n",
       "            \n",
       "        \n",
       "\n",
       "        marker_77aada8f89c654946e8677951dd78618.bindPopup(popup_854f844122dd41cbf94a4479fb737644)\n",
       "        ;\n",
       "\n",
       "        \n",
       "    \n",
       "    \n",
       "            var marker_2d4bc9270faa0a63405f4275ca2dc3f3 = L.marker(\n",
       "                [40.9432983398438, 29.3170166015625],\n",
       "                {}\n",
       "            ).addTo(map_1e4bbeacd7e8f47edcfa145f1cb1fcca);\n",
       "        \n",
       "    \n",
       "        var popup_3ddd0bcd20a9afbbff28968dd67d701a = L.popup({&quot;maxWidth&quot;: &quot;100%&quot;});\n",
       "\n",
       "        \n",
       "            \n",
       "                var html_df05e9f999aee6130add8edd0ad9fcc1 = $(`&lt;div id=&quot;html_df05e9f999aee6130add8edd0ad9fcc1&quot; style=&quot;width: 100.0%; height: 100.0%;&quot;&gt;14&lt;/div&gt;`)[0];\n",
       "                popup_3ddd0bcd20a9afbbff28968dd67d701a.setContent(html_df05e9f999aee6130add8edd0ad9fcc1);\n",
       "            \n",
       "        \n",
       "\n",
       "        marker_2d4bc9270faa0a63405f4275ca2dc3f3.bindPopup(popup_3ddd0bcd20a9afbbff28968dd67d701a)\n",
       "        ;\n",
       "\n",
       "        \n",
       "    \n",
       "    \n",
       "            var marker_70f67a53fe33969dd43617ac81df7f81 = L.marker(\n",
       "                [41.0256958007813, 28.8116455078125],\n",
       "                {}\n",
       "            ).addTo(map_1e4bbeacd7e8f47edcfa145f1cb1fcca);\n",
       "        \n",
       "    \n",
       "        var popup_8858164fc145f8fb8d830669a0a56be1 = L.popup({&quot;maxWidth&quot;: &quot;100%&quot;});\n",
       "\n",
       "        \n",
       "            \n",
       "                var html_67cd714b699403429dc03cd863cdf69a = $(`&lt;div id=&quot;html_67cd714b699403429dc03cd863cdf69a&quot; style=&quot;width: 100.0%; height: 100.0%;&quot;&gt;15&lt;/div&gt;`)[0];\n",
       "                popup_8858164fc145f8fb8d830669a0a56be1.setContent(html_67cd714b699403429dc03cd863cdf69a);\n",
       "            \n",
       "        \n",
       "\n",
       "        marker_70f67a53fe33969dd43617ac81df7f81.bindPopup(popup_8858164fc145f8fb8d830669a0a56be1)\n",
       "        ;\n",
       "\n",
       "        \n",
       "    \n",
       "    \n",
       "            var marker_cd76e02dc87774a17b6863923a8df618 = L.marker(\n",
       "                [40.9817504882813, 29.2181396484375],\n",
       "                {}\n",
       "            ).addTo(map_1e4bbeacd7e8f47edcfa145f1cb1fcca);\n",
       "        \n",
       "    \n",
       "        var popup_a0579b4b1c50979aac3c0bde3bcf9562 = L.popup({&quot;maxWidth&quot;: &quot;100%&quot;});\n",
       "\n",
       "        \n",
       "            \n",
       "                var html_9fe2115aae67d56bea9518d3b9cf82e9 = $(`&lt;div id=&quot;html_9fe2115aae67d56bea9518d3b9cf82e9&quot; style=&quot;width: 100.0%; height: 100.0%;&quot;&gt;16&lt;/div&gt;`)[0];\n",
       "                popup_a0579b4b1c50979aac3c0bde3bcf9562.setContent(html_9fe2115aae67d56bea9518d3b9cf82e9);\n",
       "            \n",
       "        \n",
       "\n",
       "        marker_cd76e02dc87774a17b6863923a8df618.bindPopup(popup_a0579b4b1c50979aac3c0bde3bcf9562)\n",
       "        ;\n",
       "\n",
       "        \n",
       "    \n",
       "    \n",
       "            var marker_25ee3ad3cb01ef2f0df40dcebfd60042 = L.marker(\n",
       "                [41.0531616210938, 28.6798095703125],\n",
       "                {}\n",
       "            ).addTo(map_1e4bbeacd7e8f47edcfa145f1cb1fcca);\n",
       "        \n",
       "    \n",
       "        var popup_f613ce629a891c9a119d022f9e35c250 = L.popup({&quot;maxWidth&quot;: &quot;100%&quot;});\n",
       "\n",
       "        \n",
       "            \n",
       "                var html_8fa79eecabf97a9a73ed88dd33dbf4e1 = $(`&lt;div id=&quot;html_8fa79eecabf97a9a73ed88dd33dbf4e1&quot; style=&quot;width: 100.0%; height: 100.0%;&quot;&gt;17&lt;/div&gt;`)[0];\n",
       "                popup_f613ce629a891c9a119d022f9e35c250.setContent(html_8fa79eecabf97a9a73ed88dd33dbf4e1);\n",
       "            \n",
       "        \n",
       "\n",
       "        marker_25ee3ad3cb01ef2f0df40dcebfd60042.bindPopup(popup_f613ce629a891c9a119d022f9e35c250)\n",
       "        ;\n",
       "\n",
       "        \n",
       "    \n",
       "    \n",
       "            var marker_5c6e9a5185ad584dd621adf85d86a572 = L.marker(\n",
       "                [40.9707641601563, 29.2620849609375],\n",
       "                {}\n",
       "            ).addTo(map_1e4bbeacd7e8f47edcfa145f1cb1fcca);\n",
       "        \n",
       "    \n",
       "        var popup_06ea107f865e5afdc5fccc2345e33e95 = L.popup({&quot;maxWidth&quot;: &quot;100%&quot;});\n",
       "\n",
       "        \n",
       "            \n",
       "                var html_b0231246342df41bdbda5ef77dea0a36 = $(`&lt;div id=&quot;html_b0231246342df41bdbda5ef77dea0a36&quot; style=&quot;width: 100.0%; height: 100.0%;&quot;&gt;18&lt;/div&gt;`)[0];\n",
       "                popup_06ea107f865e5afdc5fccc2345e33e95.setContent(html_b0231246342df41bdbda5ef77dea0a36);\n",
       "            \n",
       "        \n",
       "\n",
       "        marker_5c6e9a5185ad584dd621adf85d86a572.bindPopup(popup_06ea107f865e5afdc5fccc2345e33e95)\n",
       "        ;\n",
       "\n",
       "        \n",
       "    \n",
       "    \n",
       "            var marker_0fda6456db420658c0ac4f12d5cc1974 = L.marker(\n",
       "                [41.0531616210938, 28.7237548828125],\n",
       "                {}\n",
       "            ).addTo(map_1e4bbeacd7e8f47edcfa145f1cb1fcca);\n",
       "        \n",
       "    \n",
       "        var popup_f87a000dbd207d61eee840477043e370 = L.popup({&quot;maxWidth&quot;: &quot;100%&quot;});\n",
       "\n",
       "        \n",
       "            \n",
       "                var html_c57cbfa866572202c2af559a580362bb = $(`&lt;div id=&quot;html_c57cbfa866572202c2af559a580362bb&quot; style=&quot;width: 100.0%; height: 100.0%;&quot;&gt;19&lt;/div&gt;`)[0];\n",
       "                popup_f87a000dbd207d61eee840477043e370.setContent(html_c57cbfa866572202c2af559a580362bb);\n",
       "            \n",
       "        \n",
       "\n",
       "        marker_0fda6456db420658c0ac4f12d5cc1974.bindPopup(popup_f87a000dbd207d61eee840477043e370)\n",
       "        ;\n",
       "\n",
       "        \n",
       "    \n",
       "&lt;/script&gt;\n",
       "&lt;/html&gt;\" style=\"position:absolute;width:100%;height:100%;left:0;top:0;border:none !important;\" allowfullscreen webkitallowfullscreen mozallowfullscreen></iframe></div></div>"
      ],
      "text/plain": [
       "<folium.folium.Map at 0x7e176042eb90>"
      ]
     },
     "execution_count": 6,
     "metadata": {},
     "output_type": "execute_result"
    }
   ],
   "source": [
    "my_map = folium.Map(location=[df1.iloc[0]['LATITUDE'], df1.iloc[0]['LONGITUDE']])\n",
    "for index,record in df1.reset_index().head(20).iterrows():\n",
    "    \n",
    "\n",
    "    folium.Marker([record[\"LATITUDE\"], record['LONGITUDE']], popup=index ).add_to(my_map)\n",
    "\n",
    "   \n",
    "    \n",
    "\n",
    "my_map\n"
   ]
  },
  {
   "cell_type": "markdown",
   "id": "4e792b08",
   "metadata": {
    "papermill": {
     "duration": 0.012003,
     "end_time": "2024-10-14T10:12:14.658599",
     "exception": false,
     "start_time": "2024-10-14T10:12:14.646596",
     "status": "completed"
    },
    "tags": []
   },
   "source": [
    "## REGIONS IN TURKEY WITH HIGH  DRIVING SPEED "
   ]
  },
  {
   "cell_type": "code",
   "execution_count": null,
   "id": "d57576a3",
   "metadata": {
    "papermill": {
     "duration": 0.011916,
     "end_time": "2024-10-14T10:12:14.682670",
     "exception": false,
     "start_time": "2024-10-14T10:12:14.670754",
     "status": "completed"
    },
    "tags": []
   },
   "outputs": [],
   "source": []
  },
  {
   "cell_type": "code",
   "execution_count": 7,
   "id": "bcb4d3b4",
   "metadata": {
    "execution": {
     "iopub.execute_input": "2024-10-14T10:12:14.709606Z",
     "iopub.status.busy": "2024-10-14T10:12:14.708533Z",
     "iopub.status.idle": "2024-10-14T10:12:14.897277Z",
     "shell.execute_reply": "2024-10-14T10:12:14.896038Z"
    },
    "papermill": {
     "duration": 0.205024,
     "end_time": "2024-10-14T10:12:14.899847",
     "exception": false,
     "start_time": "2024-10-14T10:12:14.694823",
     "status": "completed"
    },
    "tags": []
   },
   "outputs": [
    {
     "data": {
      "text/html": [
       "<div style=\"width:100%;\"><div style=\"position:relative;width:100%;height:0;padding-bottom:60%;\"><span style=\"color:#565656\">Make this Notebook Trusted to load map: File -> Trust Notebook</span><iframe srcdoc=\"&lt;!DOCTYPE html&gt;\n",
       "&lt;html&gt;\n",
       "&lt;head&gt;\n",
       "    \n",
       "    &lt;meta http-equiv=&quot;content-type&quot; content=&quot;text/html; charset=UTF-8&quot; /&gt;\n",
       "    \n",
       "        &lt;script&gt;\n",
       "            L_NO_TOUCH = false;\n",
       "            L_DISABLE_3D = false;\n",
       "        &lt;/script&gt;\n",
       "    \n",
       "    &lt;style&gt;html, body {width: 100%;height: 100%;margin: 0;padding: 0;}&lt;/style&gt;\n",
       "    &lt;style&gt;#map {position:absolute;top:0;bottom:0;right:0;left:0;}&lt;/style&gt;\n",
       "    &lt;script src=&quot;https://cdn.jsdelivr.net/npm/leaflet@1.9.3/dist/leaflet.js&quot;&gt;&lt;/script&gt;\n",
       "    &lt;script src=&quot;https://code.jquery.com/jquery-3.7.1.min.js&quot;&gt;&lt;/script&gt;\n",
       "    &lt;script src=&quot;https://cdn.jsdelivr.net/npm/bootstrap@5.2.2/dist/js/bootstrap.bundle.min.js&quot;&gt;&lt;/script&gt;\n",
       "    &lt;script src=&quot;https://cdnjs.cloudflare.com/ajax/libs/Leaflet.awesome-markers/2.0.2/leaflet.awesome-markers.js&quot;&gt;&lt;/script&gt;\n",
       "    &lt;link rel=&quot;stylesheet&quot; href=&quot;https://cdn.jsdelivr.net/npm/leaflet@1.9.3/dist/leaflet.css&quot;/&gt;\n",
       "    &lt;link rel=&quot;stylesheet&quot; href=&quot;https://cdn.jsdelivr.net/npm/bootstrap@5.2.2/dist/css/bootstrap.min.css&quot;/&gt;\n",
       "    &lt;link rel=&quot;stylesheet&quot; href=&quot;https://netdna.bootstrapcdn.com/bootstrap/3.0.0/css/bootstrap-glyphicons.css&quot;/&gt;\n",
       "    &lt;link rel=&quot;stylesheet&quot; href=&quot;https://cdn.jsdelivr.net/npm/@fortawesome/fontawesome-free@6.2.0/css/all.min.css&quot;/&gt;\n",
       "    &lt;link rel=&quot;stylesheet&quot; href=&quot;https://cdnjs.cloudflare.com/ajax/libs/Leaflet.awesome-markers/2.0.2/leaflet.awesome-markers.css&quot;/&gt;\n",
       "    &lt;link rel=&quot;stylesheet&quot; href=&quot;https://cdn.jsdelivr.net/gh/python-visualization/folium/folium/templates/leaflet.awesome.rotate.min.css&quot;/&gt;\n",
       "    \n",
       "            &lt;meta name=&quot;viewport&quot; content=&quot;width=device-width,\n",
       "                initial-scale=1.0, maximum-scale=1.0, user-scalable=no&quot; /&gt;\n",
       "            &lt;style&gt;\n",
       "                #map_576fb907ecd0598e3a9d31267edf76d8 {\n",
       "                    position: relative;\n",
       "                    width: 100.0%;\n",
       "                    height: 100.0%;\n",
       "                    left: 0.0%;\n",
       "                    top: 0.0%;\n",
       "                }\n",
       "                .leaflet-container { font-size: 1rem; }\n",
       "            &lt;/style&gt;\n",
       "        \n",
       "&lt;/head&gt;\n",
       "&lt;body&gt;\n",
       "    \n",
       "    \n",
       "            &lt;div class=&quot;folium-map&quot; id=&quot;map_576fb907ecd0598e3a9d31267edf76d8&quot; &gt;&lt;/div&gt;\n",
       "        \n",
       "&lt;/body&gt;\n",
       "&lt;script&gt;\n",
       "    \n",
       "    \n",
       "            var map_576fb907ecd0598e3a9d31267edf76d8 = L.map(\n",
       "                &quot;map_576fb907ecd0598e3a9d31267edf76d8&quot;,\n",
       "                {\n",
       "                    center: [41.0586547851563, 29.1741943359375],\n",
       "                    crs: L.CRS.EPSG3857,\n",
       "                    zoom: 10,\n",
       "                    zoomControl: true,\n",
       "                    preferCanvas: false,\n",
       "                }\n",
       "            );\n",
       "\n",
       "            \n",
       "\n",
       "        \n",
       "    \n",
       "            var tile_layer_fc54094b7e49093c4d28e673322d6176 = L.tileLayer(\n",
       "                &quot;https://tile.openstreetmap.org/{z}/{x}/{y}.png&quot;,\n",
       "                {&quot;attribution&quot;: &quot;\\u0026copy; \\u003ca href=\\&quot;https://www.openstreetmap.org/copyright\\&quot;\\u003eOpenStreetMap\\u003c/a\\u003e contributors&quot;, &quot;detectRetina&quot;: false, &quot;maxNativeZoom&quot;: 19, &quot;maxZoom&quot;: 19, &quot;minZoom&quot;: 0, &quot;noWrap&quot;: false, &quot;opacity&quot;: 1, &quot;subdomains&quot;: &quot;abc&quot;, &quot;tms&quot;: false}\n",
       "            );\n",
       "        \n",
       "    \n",
       "            tile_layer_fc54094b7e49093c4d28e673322d6176.addTo(map_576fb907ecd0598e3a9d31267edf76d8);\n",
       "        \n",
       "    \n",
       "            var marker_ff4388c33f35d76aa8bc643320061c15 = L.marker(\n",
       "                [41.0586547851563, 29.1741943359375],\n",
       "                {}\n",
       "            ).addTo(map_576fb907ecd0598e3a9d31267edf76d8);\n",
       "        \n",
       "    \n",
       "        var popup_6134a95706b9fb7c26b2c3ed253287fb = L.popup({&quot;maxWidth&quot;: &quot;100%&quot;});\n",
       "\n",
       "        \n",
       "            \n",
       "                var html_81d6eca48e7b5677c8363f554d0ff5a7 = $(`&lt;div id=&quot;html_81d6eca48e7b5677c8363f554d0ff5a7&quot; style=&quot;width: 100.0%; height: 100.0%;&quot;&gt;0&lt;/div&gt;`)[0];\n",
       "                popup_6134a95706b9fb7c26b2c3ed253287fb.setContent(html_81d6eca48e7b5677c8363f554d0ff5a7);\n",
       "            \n",
       "        \n",
       "\n",
       "        marker_ff4388c33f35d76aa8bc643320061c15.bindPopup(popup_6134a95706b9fb7c26b2c3ed253287fb)\n",
       "        ;\n",
       "\n",
       "        \n",
       "    \n",
       "    \n",
       "            var marker_3b21a7a05f37d9d3da0275af72105bc6 = L.marker(\n",
       "                [41.0586547851563, 29.1851806640625],\n",
       "                {}\n",
       "            ).addTo(map_576fb907ecd0598e3a9d31267edf76d8);\n",
       "        \n",
       "    \n",
       "        var popup_c06b8cd6b2001a60d99a224b16ee163b = L.popup({&quot;maxWidth&quot;: &quot;100%&quot;});\n",
       "\n",
       "        \n",
       "            \n",
       "                var html_09046ee0a8591cccd87fe8777c096ba8 = $(`&lt;div id=&quot;html_09046ee0a8591cccd87fe8777c096ba8&quot; style=&quot;width: 100.0%; height: 100.0%;&quot;&gt;1&lt;/div&gt;`)[0];\n",
       "                popup_c06b8cd6b2001a60d99a224b16ee163b.setContent(html_09046ee0a8591cccd87fe8777c096ba8);\n",
       "            \n",
       "        \n",
       "\n",
       "        marker_3b21a7a05f37d9d3da0275af72105bc6.bindPopup(popup_c06b8cd6b2001a60d99a224b16ee163b)\n",
       "        ;\n",
       "\n",
       "        \n",
       "    \n",
       "    \n",
       "            var marker_8f9eb046b31ddf801047e3ed36ac5de8 = L.marker(\n",
       "                [41.0531616210938, 29.1522216796875],\n",
       "                {}\n",
       "            ).addTo(map_576fb907ecd0598e3a9d31267edf76d8);\n",
       "        \n",
       "    \n",
       "        var popup_fc89d2221c1b0f71f3b39876f86084ef = L.popup({&quot;maxWidth&quot;: &quot;100%&quot;});\n",
       "\n",
       "        \n",
       "            \n",
       "                var html_971c074202efa18fde339eafa6ba50d3 = $(`&lt;div id=&quot;html_971c074202efa18fde339eafa6ba50d3&quot; style=&quot;width: 100.0%; height: 100.0%;&quot;&gt;2&lt;/div&gt;`)[0];\n",
       "                popup_fc89d2221c1b0f71f3b39876f86084ef.setContent(html_971c074202efa18fde339eafa6ba50d3);\n",
       "            \n",
       "        \n",
       "\n",
       "        marker_8f9eb046b31ddf801047e3ed36ac5de8.bindPopup(popup_fc89d2221c1b0f71f3b39876f86084ef)\n",
       "        ;\n",
       "\n",
       "        \n",
       "    \n",
       "    \n",
       "            var marker_401a01932986775fc60dfdb429ba63a0 = L.marker(\n",
       "                [41.0531616210938, 29.1851806640625],\n",
       "                {}\n",
       "            ).addTo(map_576fb907ecd0598e3a9d31267edf76d8);\n",
       "        \n",
       "    \n",
       "        var popup_bbeb9bd43504ba608495fb38fea97ad1 = L.popup({&quot;maxWidth&quot;: &quot;100%&quot;});\n",
       "\n",
       "        \n",
       "            \n",
       "                var html_877d7084c07701cf7285f5ae173272a9 = $(`&lt;div id=&quot;html_877d7084c07701cf7285f5ae173272a9&quot; style=&quot;width: 100.0%; height: 100.0%;&quot;&gt;3&lt;/div&gt;`)[0];\n",
       "                popup_bbeb9bd43504ba608495fb38fea97ad1.setContent(html_877d7084c07701cf7285f5ae173272a9);\n",
       "            \n",
       "        \n",
       "\n",
       "        marker_401a01932986775fc60dfdb429ba63a0.bindPopup(popup_bbeb9bd43504ba608495fb38fea97ad1)\n",
       "        ;\n",
       "\n",
       "        \n",
       "    \n",
       "    \n",
       "            var marker_17a482d869d8a092f8f069272d459fe2 = L.marker(\n",
       "                [41.0476684570313, 29.2291259765625],\n",
       "                {}\n",
       "            ).addTo(map_576fb907ecd0598e3a9d31267edf76d8);\n",
       "        \n",
       "    \n",
       "        var popup_e25865dc96089cf370980b7ffc4b09f5 = L.popup({&quot;maxWidth&quot;: &quot;100%&quot;});\n",
       "\n",
       "        \n",
       "            \n",
       "                var html_b28efdd1a2a8f5bdb9dc1cff294b7af2 = $(`&lt;div id=&quot;html_b28efdd1a2a8f5bdb9dc1cff294b7af2&quot; style=&quot;width: 100.0%; height: 100.0%;&quot;&gt;4&lt;/div&gt;`)[0];\n",
       "                popup_e25865dc96089cf370980b7ffc4b09f5.setContent(html_b28efdd1a2a8f5bdb9dc1cff294b7af2);\n",
       "            \n",
       "        \n",
       "\n",
       "        marker_17a482d869d8a092f8f069272d459fe2.bindPopup(popup_e25865dc96089cf370980b7ffc4b09f5)\n",
       "        ;\n",
       "\n",
       "        \n",
       "    \n",
       "    \n",
       "            var marker_088112d7fb4d9dd9fcdc64ccf4f5bbc6 = L.marker(\n",
       "                [41.0476684570313, 29.2401123046875],\n",
       "                {}\n",
       "            ).addTo(map_576fb907ecd0598e3a9d31267edf76d8);\n",
       "        \n",
       "    \n",
       "        var popup_2c2f45eab886648fe66330dc22736d0a = L.popup({&quot;maxWidth&quot;: &quot;100%&quot;});\n",
       "\n",
       "        \n",
       "            \n",
       "                var html_55e237099786961643a820e5a5d5203a = $(`&lt;div id=&quot;html_55e237099786961643a820e5a5d5203a&quot; style=&quot;width: 100.0%; height: 100.0%;&quot;&gt;5&lt;/div&gt;`)[0];\n",
       "                popup_2c2f45eab886648fe66330dc22736d0a.setContent(html_55e237099786961643a820e5a5d5203a);\n",
       "            \n",
       "        \n",
       "\n",
       "        marker_088112d7fb4d9dd9fcdc64ccf4f5bbc6.bindPopup(popup_2c2f45eab886648fe66330dc22736d0a)\n",
       "        ;\n",
       "\n",
       "        \n",
       "    \n",
       "    \n",
       "            var marker_3609eaa5aed2f2add9f29d5048c60ee1 = L.marker(\n",
       "                [41.0421752929688, 29.2291259765625],\n",
       "                {}\n",
       "            ).addTo(map_576fb907ecd0598e3a9d31267edf76d8);\n",
       "        \n",
       "    \n",
       "        var popup_de76c31143cea52c83fd7ffb77fa3be7 = L.popup({&quot;maxWidth&quot;: &quot;100%&quot;});\n",
       "\n",
       "        \n",
       "            \n",
       "                var html_e64db05f8c7e6c73225e6978b28e823f = $(`&lt;div id=&quot;html_e64db05f8c7e6c73225e6978b28e823f&quot; style=&quot;width: 100.0%; height: 100.0%;&quot;&gt;6&lt;/div&gt;`)[0];\n",
       "                popup_de76c31143cea52c83fd7ffb77fa3be7.setContent(html_e64db05f8c7e6c73225e6978b28e823f);\n",
       "            \n",
       "        \n",
       "\n",
       "        marker_3609eaa5aed2f2add9f29d5048c60ee1.bindPopup(popup_de76c31143cea52c83fd7ffb77fa3be7)\n",
       "        ;\n",
       "\n",
       "        \n",
       "    \n",
       "    \n",
       "            var marker_a13d9e39b14747c56df5e6e8b3050476 = L.marker(\n",
       "                [41.0476684570313, 29.2071533203125],\n",
       "                {}\n",
       "            ).addTo(map_576fb907ecd0598e3a9d31267edf76d8);\n",
       "        \n",
       "    \n",
       "        var popup_68b886ce6f00e7eb90fa3515c0c08f0b = L.popup({&quot;maxWidth&quot;: &quot;100%&quot;});\n",
       "\n",
       "        \n",
       "            \n",
       "                var html_a1e04511d3d3e9ca497c9bc2aa0fbc16 = $(`&lt;div id=&quot;html_a1e04511d3d3e9ca497c9bc2aa0fbc16&quot; style=&quot;width: 100.0%; height: 100.0%;&quot;&gt;7&lt;/div&gt;`)[0];\n",
       "                popup_68b886ce6f00e7eb90fa3515c0c08f0b.setContent(html_a1e04511d3d3e9ca497c9bc2aa0fbc16);\n",
       "            \n",
       "        \n",
       "\n",
       "        marker_a13d9e39b14747c56df5e6e8b3050476.bindPopup(popup_68b886ce6f00e7eb90fa3515c0c08f0b)\n",
       "        ;\n",
       "\n",
       "        \n",
       "    \n",
       "    \n",
       "            var marker_2e6855b1520a23127fdb0d00b3f879ad = L.marker(\n",
       "                [41.0421752929688, 29.2071533203125],\n",
       "                {}\n",
       "            ).addTo(map_576fb907ecd0598e3a9d31267edf76d8);\n",
       "        \n",
       "    \n",
       "        var popup_e052b0fa106d218f03e75f842de479ad = L.popup({&quot;maxWidth&quot;: &quot;100%&quot;});\n",
       "\n",
       "        \n",
       "            \n",
       "                var html_d1e9db9a15027833ea2c53a7f0c4b52a = $(`&lt;div id=&quot;html_d1e9db9a15027833ea2c53a7f0c4b52a&quot; style=&quot;width: 100.0%; height: 100.0%;&quot;&gt;8&lt;/div&gt;`)[0];\n",
       "                popup_e052b0fa106d218f03e75f842de479ad.setContent(html_d1e9db9a15027833ea2c53a7f0c4b52a);\n",
       "            \n",
       "        \n",
       "\n",
       "        marker_2e6855b1520a23127fdb0d00b3f879ad.bindPopup(popup_e052b0fa106d218f03e75f842de479ad)\n",
       "        ;\n",
       "\n",
       "        \n",
       "    \n",
       "    \n",
       "            var marker_a992b01eae1e15ab61b25a164580dbe8 = L.marker(\n",
       "                [41.0531616210938, 29.1961669921875],\n",
       "                {}\n",
       "            ).addTo(map_576fb907ecd0598e3a9d31267edf76d8);\n",
       "        \n",
       "    \n",
       "        var popup_f6dd067e4a90821beb5dd652b8d0eb9d = L.popup({&quot;maxWidth&quot;: &quot;100%&quot;});\n",
       "\n",
       "        \n",
       "            \n",
       "                var html_ebd828dcf528ae6092533919ae4fa2cc = $(`&lt;div id=&quot;html_ebd828dcf528ae6092533919ae4fa2cc&quot; style=&quot;width: 100.0%; height: 100.0%;&quot;&gt;9&lt;/div&gt;`)[0];\n",
       "                popup_f6dd067e4a90821beb5dd652b8d0eb9d.setContent(html_ebd828dcf528ae6092533919ae4fa2cc);\n",
       "            \n",
       "        \n",
       "\n",
       "        marker_a992b01eae1e15ab61b25a164580dbe8.bindPopup(popup_f6dd067e4a90821beb5dd652b8d0eb9d)\n",
       "        ;\n",
       "\n",
       "        \n",
       "    \n",
       "    \n",
       "            var marker_0028beec7d8810fb2d3f03c781fb51cf = L.marker(\n",
       "                [41.0421752929688, 29.2181396484375],\n",
       "                {}\n",
       "            ).addTo(map_576fb907ecd0598e3a9d31267edf76d8);\n",
       "        \n",
       "    \n",
       "        var popup_0f18ed37a2e647931139c1e4201cffd5 = L.popup({&quot;maxWidth&quot;: &quot;100%&quot;});\n",
       "\n",
       "        \n",
       "            \n",
       "                var html_655154b4e4c6b65f2d3235915b851c8e = $(`&lt;div id=&quot;html_655154b4e4c6b65f2d3235915b851c8e&quot; style=&quot;width: 100.0%; height: 100.0%;&quot;&gt;10&lt;/div&gt;`)[0];\n",
       "                popup_0f18ed37a2e647931139c1e4201cffd5.setContent(html_655154b4e4c6b65f2d3235915b851c8e);\n",
       "            \n",
       "        \n",
       "\n",
       "        marker_0028beec7d8810fb2d3f03c781fb51cf.bindPopup(popup_0f18ed37a2e647931139c1e4201cffd5)\n",
       "        ;\n",
       "\n",
       "        \n",
       "    \n",
       "    \n",
       "            var marker_de526366bb787bb43cd7b03f0a40842e = L.marker(\n",
       "                [41.2124633789063, 29.0863037109375],\n",
       "                {}\n",
       "            ).addTo(map_576fb907ecd0598e3a9d31267edf76d8);\n",
       "        \n",
       "    \n",
       "        var popup_4a03333f8dd2540d49651901c9adc315 = L.popup({&quot;maxWidth&quot;: &quot;100%&quot;});\n",
       "\n",
       "        \n",
       "            \n",
       "                var html_aa134ad9dbfbaad19e4c845fa7ded6b3 = $(`&lt;div id=&quot;html_aa134ad9dbfbaad19e4c845fa7ded6b3&quot; style=&quot;width: 100.0%; height: 100.0%;&quot;&gt;11&lt;/div&gt;`)[0];\n",
       "                popup_4a03333f8dd2540d49651901c9adc315.setContent(html_aa134ad9dbfbaad19e4c845fa7ded6b3);\n",
       "            \n",
       "        \n",
       "\n",
       "        marker_de526366bb787bb43cd7b03f0a40842e.bindPopup(popup_4a03333f8dd2540d49651901c9adc315)\n",
       "        ;\n",
       "\n",
       "        \n",
       "    \n",
       "    \n",
       "            var marker_9d05f8edd3a82e8efa74d1a7efbc4915 = L.marker(\n",
       "                [41.0476684570313, 29.1412353515625],\n",
       "                {}\n",
       "            ).addTo(map_576fb907ecd0598e3a9d31267edf76d8);\n",
       "        \n",
       "    \n",
       "        var popup_a58737b5cc7ed3f513840f90e0c24f15 = L.popup({&quot;maxWidth&quot;: &quot;100%&quot;});\n",
       "\n",
       "        \n",
       "            \n",
       "                var html_7b1913e18ca660ef395b8e5e6570e788 = $(`&lt;div id=&quot;html_7b1913e18ca660ef395b8e5e6570e788&quot; style=&quot;width: 100.0%; height: 100.0%;&quot;&gt;12&lt;/div&gt;`)[0];\n",
       "                popup_a58737b5cc7ed3f513840f90e0c24f15.setContent(html_7b1913e18ca660ef395b8e5e6570e788);\n",
       "            \n",
       "        \n",
       "\n",
       "        marker_9d05f8edd3a82e8efa74d1a7efbc4915.bindPopup(popup_a58737b5cc7ed3f513840f90e0c24f15)\n",
       "        ;\n",
       "\n",
       "        \n",
       "    \n",
       "    \n",
       "            var marker_10fb2447f12dcd7030da896ffb8b34b3 = L.marker(\n",
       "                [41.0476684570313, 29.1522216796875],\n",
       "                {}\n",
       "            ).addTo(map_576fb907ecd0598e3a9d31267edf76d8);\n",
       "        \n",
       "    \n",
       "        var popup_cd21bf7456694357214d032a96c11f69 = L.popup({&quot;maxWidth&quot;: &quot;100%&quot;});\n",
       "\n",
       "        \n",
       "            \n",
       "                var html_2e74072d14058012ffe6e94a49aa4b10 = $(`&lt;div id=&quot;html_2e74072d14058012ffe6e94a49aa4b10&quot; style=&quot;width: 100.0%; height: 100.0%;&quot;&gt;13&lt;/div&gt;`)[0];\n",
       "                popup_cd21bf7456694357214d032a96c11f69.setContent(html_2e74072d14058012ffe6e94a49aa4b10);\n",
       "            \n",
       "        \n",
       "\n",
       "        marker_10fb2447f12dcd7030da896ffb8b34b3.bindPopup(popup_cd21bf7456694357214d032a96c11f69)\n",
       "        ;\n",
       "\n",
       "        \n",
       "    \n",
       "    \n",
       "            var marker_59d5a866d6207b2870bebc0b448c7a28 = L.marker(\n",
       "                [41.1630249023438, 28.3721923828125],\n",
       "                {}\n",
       "            ).addTo(map_576fb907ecd0598e3a9d31267edf76d8);\n",
       "        \n",
       "    \n",
       "        var popup_2c96fbc8639d5f7a6a301965a7e46f55 = L.popup({&quot;maxWidth&quot;: &quot;100%&quot;});\n",
       "\n",
       "        \n",
       "            \n",
       "                var html_c8c15ccab639a1de7fbb53104698c132 = $(`&lt;div id=&quot;html_c8c15ccab639a1de7fbb53104698c132&quot; style=&quot;width: 100.0%; height: 100.0%;&quot;&gt;14&lt;/div&gt;`)[0];\n",
       "                popup_2c96fbc8639d5f7a6a301965a7e46f55.setContent(html_c8c15ccab639a1de7fbb53104698c132);\n",
       "            \n",
       "        \n",
       "\n",
       "        marker_59d5a866d6207b2870bebc0b448c7a28.bindPopup(popup_2c96fbc8639d5f7a6a301965a7e46f55)\n",
       "        ;\n",
       "\n",
       "        \n",
       "    \n",
       "    \n",
       "            var marker_f2a2da885cc7c708a775cd96b039c65f = L.marker(\n",
       "                [41.1685180664063, 28.3721923828125],\n",
       "                {}\n",
       "            ).addTo(map_576fb907ecd0598e3a9d31267edf76d8);\n",
       "        \n",
       "    \n",
       "        var popup_e96fdfdb26fdd7e14e4de0a3f234740e = L.popup({&quot;maxWidth&quot;: &quot;100%&quot;});\n",
       "\n",
       "        \n",
       "            \n",
       "                var html_f4a7ccd9f9c9473f446b34da9287dfb9 = $(`&lt;div id=&quot;html_f4a7ccd9f9c9473f446b34da9287dfb9&quot; style=&quot;width: 100.0%; height: 100.0%;&quot;&gt;15&lt;/div&gt;`)[0];\n",
       "                popup_e96fdfdb26fdd7e14e4de0a3f234740e.setContent(html_f4a7ccd9f9c9473f446b34da9287dfb9);\n",
       "            \n",
       "        \n",
       "\n",
       "        marker_f2a2da885cc7c708a775cd96b039c65f.bindPopup(popup_e96fdfdb26fdd7e14e4de0a3f234740e)\n",
       "        ;\n",
       "\n",
       "        \n",
       "    \n",
       "    \n",
       "            var marker_902534402891363ec19e0d65e78eea28 = L.marker(\n",
       "                [41.1465454101563, 29.2840576171875],\n",
       "                {}\n",
       "            ).addTo(map_576fb907ecd0598e3a9d31267edf76d8);\n",
       "        \n",
       "    \n",
       "        var popup_c3b48e25961ec7c8d35a78a145c789e3 = L.popup({&quot;maxWidth&quot;: &quot;100%&quot;});\n",
       "\n",
       "        \n",
       "            \n",
       "                var html_f83f0ad29708526e84af9a727eec47eb = $(`&lt;div id=&quot;html_f83f0ad29708526e84af9a727eec47eb&quot; style=&quot;width: 100.0%; height: 100.0%;&quot;&gt;16&lt;/div&gt;`)[0];\n",
       "                popup_c3b48e25961ec7c8d35a78a145c789e3.setContent(html_f83f0ad29708526e84af9a727eec47eb);\n",
       "            \n",
       "        \n",
       "\n",
       "        marker_902534402891363ec19e0d65e78eea28.bindPopup(popup_c3b48e25961ec7c8d35a78a145c789e3)\n",
       "        ;\n",
       "\n",
       "        \n",
       "    \n",
       "    \n",
       "            var marker_80e862c2fa71c6258722eb424842d691 = L.marker(\n",
       "                [41.1685180664063, 28.4051513671875],\n",
       "                {}\n",
       "            ).addTo(map_576fb907ecd0598e3a9d31267edf76d8);\n",
       "        \n",
       "    \n",
       "        var popup_2ff663a028cc4b711b46923d7396b696 = L.popup({&quot;maxWidth&quot;: &quot;100%&quot;});\n",
       "\n",
       "        \n",
       "            \n",
       "                var html_fdbe541f7b4f14d6c0aa7934438c7d5b = $(`&lt;div id=&quot;html_fdbe541f7b4f14d6c0aa7934438c7d5b&quot; style=&quot;width: 100.0%; height: 100.0%;&quot;&gt;17&lt;/div&gt;`)[0];\n",
       "                popup_2ff663a028cc4b711b46923d7396b696.setContent(html_fdbe541f7b4f14d6c0aa7934438c7d5b);\n",
       "            \n",
       "        \n",
       "\n",
       "        marker_80e862c2fa71c6258722eb424842d691.bindPopup(popup_2ff663a028cc4b711b46923d7396b696)\n",
       "        ;\n",
       "\n",
       "        \n",
       "    \n",
       "    \n",
       "            var marker_4425ebc656de12a8d9ed2ffb61b3b86f = L.marker(\n",
       "                [41.0531616210938, 29.1632080078125],\n",
       "                {}\n",
       "            ).addTo(map_576fb907ecd0598e3a9d31267edf76d8);\n",
       "        \n",
       "    \n",
       "        var popup_7c52cd990d5e42482cf87147acdcbecf = L.popup({&quot;maxWidth&quot;: &quot;100%&quot;});\n",
       "\n",
       "        \n",
       "            \n",
       "                var html_b957c1bb084b3323e5500d829a489ef5 = $(`&lt;div id=&quot;html_b957c1bb084b3323e5500d829a489ef5&quot; style=&quot;width: 100.0%; height: 100.0%;&quot;&gt;18&lt;/div&gt;`)[0];\n",
       "                popup_7c52cd990d5e42482cf87147acdcbecf.setContent(html_b957c1bb084b3323e5500d829a489ef5);\n",
       "            \n",
       "        \n",
       "\n",
       "        marker_4425ebc656de12a8d9ed2ffb61b3b86f.bindPopup(popup_7c52cd990d5e42482cf87147acdcbecf)\n",
       "        ;\n",
       "\n",
       "        \n",
       "    \n",
       "    \n",
       "            var marker_473e0682bc5178b24f47a22153e0dc45 = L.marker(\n",
       "                [41.1685180664063, 28.4161376953125],\n",
       "                {}\n",
       "            ).addTo(map_576fb907ecd0598e3a9d31267edf76d8);\n",
       "        \n",
       "    \n",
       "        var popup_29651a424eb8a4842cf57ea14498ecc1 = L.popup({&quot;maxWidth&quot;: &quot;100%&quot;});\n",
       "\n",
       "        \n",
       "            \n",
       "                var html_33cbde8f1ccf126b8c3b00e1f1088818 = $(`&lt;div id=&quot;html_33cbde8f1ccf126b8c3b00e1f1088818&quot; style=&quot;width: 100.0%; height: 100.0%;&quot;&gt;19&lt;/div&gt;`)[0];\n",
       "                popup_29651a424eb8a4842cf57ea14498ecc1.setContent(html_33cbde8f1ccf126b8c3b00e1f1088818);\n",
       "            \n",
       "        \n",
       "\n",
       "        marker_473e0682bc5178b24f47a22153e0dc45.bindPopup(popup_29651a424eb8a4842cf57ea14498ecc1)\n",
       "        ;\n",
       "\n",
       "        \n",
       "    \n",
       "&lt;/script&gt;\n",
       "&lt;/html&gt;\" style=\"position:absolute;width:100%;height:100%;left:0;top:0;border:none !important;\" allowfullscreen webkitallowfullscreen mozallowfullscreen></iframe></div></div>"
      ],
      "text/plain": [
       "<folium.folium.Map at 0x7e17864886d0>"
      ]
     },
     "execution_count": 7,
     "metadata": {},
     "output_type": "execute_result"
    }
   ],
   "source": [
    "df1 = df.groupby(['LONGITUDE','LATITUDE']).agg({\"AVERAGE_SPEED\":\"mean\"}).reset_index().sort_values(by='AVERAGE_SPEED',ascending=False)\n",
    "my_map = folium.Map(location=[df1.iloc[0]['LATITUDE'], df1.iloc[0]['LONGITUDE']])\n",
    "for index,record in df1.reset_index().head(20).iterrows():\n",
    "    \n",
    "\n",
    "    folium.Marker([record[\"LATITUDE\"], record['LONGITUDE']], popup=index ).add_to(my_map)\n",
    "\n",
    "   \n",
    "    \n",
    "\n",
    "my_map\n"
   ]
  },
  {
   "cell_type": "markdown",
   "id": "2a45234e",
   "metadata": {
    "papermill": {
     "duration": 0.013255,
     "end_time": "2024-10-14T10:12:14.926541",
     "exception": false,
     "start_time": "2024-10-14T10:12:14.913286",
     "status": "completed"
    },
    "tags": []
   },
   "source": [
    "## TOP 5 REGIONS IN TURKEY WITH SLOWEST DRIVING SPEED "
   ]
  },
  {
   "cell_type": "code",
   "execution_count": 8,
   "id": "732dae68",
   "metadata": {
    "execution": {
     "iopub.execute_input": "2024-10-14T10:12:14.955557Z",
     "iopub.status.busy": "2024-10-14T10:12:14.955095Z",
     "iopub.status.idle": "2024-10-14T10:12:15.126404Z",
     "shell.execute_reply": "2024-10-14T10:12:15.125295Z"
    },
    "papermill": {
     "duration": 0.189341,
     "end_time": "2024-10-14T10:12:15.129179",
     "exception": false,
     "start_time": "2024-10-14T10:12:14.939838",
     "status": "completed"
    },
    "tags": []
   },
   "outputs": [
    {
     "data": {
      "text/html": [
       "<div style=\"width:100%;\"><div style=\"position:relative;width:100%;height:0;padding-bottom:60%;\"><span style=\"color:#565656\">Make this Notebook Trusted to load map: File -> Trust Notebook</span><iframe srcdoc=\"&lt;!DOCTYPE html&gt;\n",
       "&lt;html&gt;\n",
       "&lt;head&gt;\n",
       "    \n",
       "    &lt;meta http-equiv=&quot;content-type&quot; content=&quot;text/html; charset=UTF-8&quot; /&gt;\n",
       "    \n",
       "        &lt;script&gt;\n",
       "            L_NO_TOUCH = false;\n",
       "            L_DISABLE_3D = false;\n",
       "        &lt;/script&gt;\n",
       "    \n",
       "    &lt;style&gt;html, body {width: 100%;height: 100%;margin: 0;padding: 0;}&lt;/style&gt;\n",
       "    &lt;style&gt;#map {position:absolute;top:0;bottom:0;right:0;left:0;}&lt;/style&gt;\n",
       "    &lt;script src=&quot;https://cdn.jsdelivr.net/npm/leaflet@1.9.3/dist/leaflet.js&quot;&gt;&lt;/script&gt;\n",
       "    &lt;script src=&quot;https://code.jquery.com/jquery-3.7.1.min.js&quot;&gt;&lt;/script&gt;\n",
       "    &lt;script src=&quot;https://cdn.jsdelivr.net/npm/bootstrap@5.2.2/dist/js/bootstrap.bundle.min.js&quot;&gt;&lt;/script&gt;\n",
       "    &lt;script src=&quot;https://cdnjs.cloudflare.com/ajax/libs/Leaflet.awesome-markers/2.0.2/leaflet.awesome-markers.js&quot;&gt;&lt;/script&gt;\n",
       "    &lt;link rel=&quot;stylesheet&quot; href=&quot;https://cdn.jsdelivr.net/npm/leaflet@1.9.3/dist/leaflet.css&quot;/&gt;\n",
       "    &lt;link rel=&quot;stylesheet&quot; href=&quot;https://cdn.jsdelivr.net/npm/bootstrap@5.2.2/dist/css/bootstrap.min.css&quot;/&gt;\n",
       "    &lt;link rel=&quot;stylesheet&quot; href=&quot;https://netdna.bootstrapcdn.com/bootstrap/3.0.0/css/bootstrap-glyphicons.css&quot;/&gt;\n",
       "    &lt;link rel=&quot;stylesheet&quot; href=&quot;https://cdn.jsdelivr.net/npm/@fortawesome/fontawesome-free@6.2.0/css/all.min.css&quot;/&gt;\n",
       "    &lt;link rel=&quot;stylesheet&quot; href=&quot;https://cdnjs.cloudflare.com/ajax/libs/Leaflet.awesome-markers/2.0.2/leaflet.awesome-markers.css&quot;/&gt;\n",
       "    &lt;link rel=&quot;stylesheet&quot; href=&quot;https://cdn.jsdelivr.net/gh/python-visualization/folium/folium/templates/leaflet.awesome.rotate.min.css&quot;/&gt;\n",
       "    \n",
       "            &lt;meta name=&quot;viewport&quot; content=&quot;width=device-width,\n",
       "                initial-scale=1.0, maximum-scale=1.0, user-scalable=no&quot; /&gt;\n",
       "            &lt;style&gt;\n",
       "                #map_7353671cf9d0e35916c264adf3384a92 {\n",
       "                    position: relative;\n",
       "                    width: 100.0%;\n",
       "                    height: 100.0%;\n",
       "                    left: 0.0%;\n",
       "                    top: 0.0%;\n",
       "                }\n",
       "                .leaflet-container { font-size: 1rem; }\n",
       "            &lt;/style&gt;\n",
       "        \n",
       "&lt;/head&gt;\n",
       "&lt;body&gt;\n",
       "    \n",
       "    \n",
       "            &lt;div class=&quot;folium-map&quot; id=&quot;map_7353671cf9d0e35916c264adf3384a92&quot; &gt;&lt;/div&gt;\n",
       "        \n",
       "&lt;/body&gt;\n",
       "&lt;script&gt;\n",
       "    \n",
       "    \n",
       "            var map_7353671cf9d0e35916c264adf3384a92 = L.map(\n",
       "                &quot;map_7353671cf9d0e35916c264adf3384a92&quot;,\n",
       "                {\n",
       "                    center: [41.0641479492188, 28.9984130859375],\n",
       "                    crs: L.CRS.EPSG3857,\n",
       "                    zoom: 10,\n",
       "                    zoomControl: true,\n",
       "                    preferCanvas: false,\n",
       "                }\n",
       "            );\n",
       "\n",
       "            \n",
       "\n",
       "        \n",
       "    \n",
       "            var tile_layer_157f943a44e4e82b39942ec274a76e40 = L.tileLayer(\n",
       "                &quot;https://tile.openstreetmap.org/{z}/{x}/{y}.png&quot;,\n",
       "                {&quot;attribution&quot;: &quot;\\u0026copy; \\u003ca href=\\&quot;https://www.openstreetmap.org/copyright\\&quot;\\u003eOpenStreetMap\\u003c/a\\u003e contributors&quot;, &quot;detectRetina&quot;: false, &quot;maxNativeZoom&quot;: 19, &quot;maxZoom&quot;: 19, &quot;minZoom&quot;: 0, &quot;noWrap&quot;: false, &quot;opacity&quot;: 1, &quot;subdomains&quot;: &quot;abc&quot;, &quot;tms&quot;: false}\n",
       "            );\n",
       "        \n",
       "    \n",
       "            tile_layer_157f943a44e4e82b39942ec274a76e40.addTo(map_7353671cf9d0e35916c264adf3384a92);\n",
       "        \n",
       "    \n",
       "            var marker_633b3ba0b4cb4b12ca3d9ca593bc7e2c = L.marker(\n",
       "                [41.0641479492188, 28.9984130859375],\n",
       "                {}\n",
       "            ).addTo(map_7353671cf9d0e35916c264adf3384a92);\n",
       "        \n",
       "    \n",
       "        var popup_0a7c217afdc5e3cb4bfdf3790af0fa1e = L.popup({&quot;maxWidth&quot;: &quot;100%&quot;});\n",
       "\n",
       "        \n",
       "            \n",
       "                var html_06383c841639fb72486b1722711b318d = $(`&lt;div id=&quot;html_06383c841639fb72486b1722711b318d&quot; style=&quot;width: 100.0%; height: 100.0%;&quot;&gt;1.653259361997226&lt;/div&gt;`)[0];\n",
       "                popup_0a7c217afdc5e3cb4bfdf3790af0fa1e.setContent(html_06383c841639fb72486b1722711b318d);\n",
       "            \n",
       "        \n",
       "\n",
       "        marker_633b3ba0b4cb4b12ca3d9ca593bc7e2c.bindPopup(popup_0a7c217afdc5e3cb4bfdf3790af0fa1e)\n",
       "        ;\n",
       "\n",
       "        \n",
       "    \n",
       "    \n",
       "            var marker_829e1e6719d9b09a9c2118a87f2aa24f = L.marker(\n",
       "                [41.0421752929688, 28.9874267578125],\n",
       "                {}\n",
       "            ).addTo(map_7353671cf9d0e35916c264adf3384a92);\n",
       "        \n",
       "    \n",
       "        var popup_81b1a49267a874112f9d7dec213c4018 = L.popup({&quot;maxWidth&quot;: &quot;100%&quot;});\n",
       "\n",
       "        \n",
       "            \n",
       "                var html_42661dc407ef01dedf6c445816803595 = $(`&lt;div id=&quot;html_42661dc407ef01dedf6c445816803595&quot; style=&quot;width: 100.0%; height: 100.0%;&quot;&gt;1.8044382801664356&lt;/div&gt;`)[0];\n",
       "                popup_81b1a49267a874112f9d7dec213c4018.setContent(html_42661dc407ef01dedf6c445816803595);\n",
       "            \n",
       "        \n",
       "\n",
       "        marker_829e1e6719d9b09a9c2118a87f2aa24f.bindPopup(popup_81b1a49267a874112f9d7dec213c4018)\n",
       "        ;\n",
       "\n",
       "        \n",
       "    \n",
       "    \n",
       "            var marker_5fdaaeda33909574e90efd155a0fd649 = L.marker(\n",
       "                [41.0641479492188, 28.9874267578125],\n",
       "                {}\n",
       "            ).addTo(map_7353671cf9d0e35916c264adf3384a92);\n",
       "        \n",
       "    \n",
       "        var popup_197448263a7c0b3680ce6b805a24468f = L.popup({&quot;maxWidth&quot;: &quot;100%&quot;});\n",
       "\n",
       "        \n",
       "            \n",
       "                var html_620a8c5bca2df2266797d2ff0c8a6c7f = $(`&lt;div id=&quot;html_620a8c5bca2df2266797d2ff0c8a6c7f&quot; style=&quot;width: 100.0%; height: 100.0%;&quot;&gt;1.8058252427184467&lt;/div&gt;`)[0];\n",
       "                popup_197448263a7c0b3680ce6b805a24468f.setContent(html_620a8c5bca2df2266797d2ff0c8a6c7f);\n",
       "            \n",
       "        \n",
       "\n",
       "        marker_5fdaaeda33909574e90efd155a0fd649.bindPopup(popup_197448263a7c0b3680ce6b805a24468f)\n",
       "        ;\n",
       "\n",
       "        \n",
       "    \n",
       "    \n",
       "            var marker_90129396d7e282d4a9d802862c0a7970 = L.marker(\n",
       "                [41.0092163085938, 28.9544677734375],\n",
       "                {}\n",
       "            ).addTo(map_7353671cf9d0e35916c264adf3384a92);\n",
       "        \n",
       "    \n",
       "        var popup_b30c93aa2c60dfda8012350af1c90307 = L.popup({&quot;maxWidth&quot;: &quot;100%&quot;});\n",
       "\n",
       "        \n",
       "            \n",
       "                var html_c4c0369ee4250fa9ce3d29b8f36e9ad8 = $(`&lt;div id=&quot;html_c4c0369ee4250fa9ce3d29b8f36e9ad8&quot; style=&quot;width: 100.0%; height: 100.0%;&quot;&gt;1.8210818307905687&lt;/div&gt;`)[0];\n",
       "                popup_b30c93aa2c60dfda8012350af1c90307.setContent(html_c4c0369ee4250fa9ce3d29b8f36e9ad8);\n",
       "            \n",
       "        \n",
       "\n",
       "        marker_90129396d7e282d4a9d802862c0a7970.bindPopup(popup_b30c93aa2c60dfda8012350af1c90307)\n",
       "        ;\n",
       "\n",
       "        \n",
       "    \n",
       "    \n",
       "            var marker_ea03a8d68600adef22b098fe28b9cf48 = L.marker(\n",
       "                [41.0421752929688, 29.0093994140625],\n",
       "                {}\n",
       "            ).addTo(map_7353671cf9d0e35916c264adf3384a92);\n",
       "        \n",
       "    \n",
       "        var popup_5c899fd4c72b002658e8d955f802d9fd = L.popup({&quot;maxWidth&quot;: &quot;100%&quot;});\n",
       "\n",
       "        \n",
       "            \n",
       "                var html_74d4aedff68fc64a1a7d5d2719482ddf = $(`&lt;div id=&quot;html_74d4aedff68fc64a1a7d5d2719482ddf&quot; style=&quot;width: 100.0%; height: 100.0%;&quot;&gt;1.8959778085991679&lt;/div&gt;`)[0];\n",
       "                popup_5c899fd4c72b002658e8d955f802d9fd.setContent(html_74d4aedff68fc64a1a7d5d2719482ddf);\n",
       "            \n",
       "        \n",
       "\n",
       "        marker_ea03a8d68600adef22b098fe28b9cf48.bindPopup(popup_5c899fd4c72b002658e8d955f802d9fd)\n",
       "        ;\n",
       "\n",
       "        \n",
       "    \n",
       "    \n",
       "            var marker_2ad86024b1cf48d2eeedd237993489c0 = L.marker(\n",
       "                [41.0531616210938, 28.9874267578125],\n",
       "                {}\n",
       "            ).addTo(map_7353671cf9d0e35916c264adf3384a92);\n",
       "        \n",
       "    \n",
       "        var popup_b9f7c9879143e7a043d1a0b29cc2bedf = L.popup({&quot;maxWidth&quot;: &quot;100%&quot;});\n",
       "\n",
       "        \n",
       "            \n",
       "                var html_b47c9f51af8f9e74203ab39c68e7b335 = $(`&lt;div id=&quot;html_b47c9f51af8f9e74203ab39c68e7b335&quot; style=&quot;width: 100.0%; height: 100.0%;&quot;&gt;1.91123439667129&lt;/div&gt;`)[0];\n",
       "                popup_b9f7c9879143e7a043d1a0b29cc2bedf.setContent(html_b47c9f51af8f9e74203ab39c68e7b335);\n",
       "            \n",
       "        \n",
       "\n",
       "        marker_2ad86024b1cf48d2eeedd237993489c0.bindPopup(popup_b9f7c9879143e7a043d1a0b29cc2bedf)\n",
       "        ;\n",
       "\n",
       "        \n",
       "    \n",
       "    \n",
       "            var marker_90d66523841e3ca4e24846d62a867d7f = L.marker(\n",
       "                [41.0366821289063, 28.9764404296875],\n",
       "                {}\n",
       "            ).addTo(map_7353671cf9d0e35916c264adf3384a92);\n",
       "        \n",
       "    \n",
       "        var popup_67ea0d65e407ee50758a3a376112b94d = L.popup({&quot;maxWidth&quot;: &quot;100%&quot;});\n",
       "\n",
       "        \n",
       "            \n",
       "                var html_35adcc84214f3206f961a007fe2f3da3 = $(`&lt;div id=&quot;html_35adcc84214f3206f961a007fe2f3da3&quot; style=&quot;width: 100.0%; height: 100.0%;&quot;&gt;1.912621359223301&lt;/div&gt;`)[0];\n",
       "                popup_67ea0d65e407ee50758a3a376112b94d.setContent(html_35adcc84214f3206f961a007fe2f3da3);\n",
       "            \n",
       "        \n",
       "\n",
       "        marker_90d66523841e3ca4e24846d62a867d7f.bindPopup(popup_67ea0d65e407ee50758a3a376112b94d)\n",
       "        ;\n",
       "\n",
       "        \n",
       "    \n",
       "    \n",
       "            var marker_a5dd03f21382be997c34e8a12a1f329f = L.marker(\n",
       "                [40.9817504882813, 28.7237548828125],\n",
       "                {}\n",
       "            ).addTo(map_7353671cf9d0e35916c264adf3384a92);\n",
       "        \n",
       "    \n",
       "        var popup_b745c4f5f7f2cba587a20ad8fb0b18b8 = L.popup({&quot;maxWidth&quot;: &quot;100%&quot;});\n",
       "\n",
       "        \n",
       "            \n",
       "                var html_62e81e34933a7798144d6be37d87504f = $(`&lt;div id=&quot;html_62e81e34933a7798144d6be37d87504f&quot; style=&quot;width: 100.0%; height: 100.0%;&quot;&gt;1.940360610263523&lt;/div&gt;`)[0];\n",
       "                popup_b745c4f5f7f2cba587a20ad8fb0b18b8.setContent(html_62e81e34933a7798144d6be37d87504f);\n",
       "            \n",
       "        \n",
       "\n",
       "        marker_a5dd03f21382be997c34e8a12a1f329f.bindPopup(popup_b745c4f5f7f2cba587a20ad8fb0b18b8)\n",
       "        ;\n",
       "\n",
       "        \n",
       "    \n",
       "    \n",
       "            var marker_1f929f275939f23dafb2bd07b191f379 = L.marker(\n",
       "                [41.0256958007813, 28.9764404296875],\n",
       "                {}\n",
       "            ).addTo(map_7353671cf9d0e35916c264adf3384a92);\n",
       "        \n",
       "    \n",
       "        var popup_63469dbf51bbd235da49483c645abeaa = L.popup({&quot;maxWidth&quot;: &quot;100%&quot;});\n",
       "\n",
       "        \n",
       "            \n",
       "                var html_2d67849a924b3bfbe1af3988082a79a1 = $(`&lt;div id=&quot;html_2d67849a924b3bfbe1af3988082a79a1&quot; style=&quot;width: 100.0%; height: 100.0%;&quot;&gt;1.943134535367545&lt;/div&gt;`)[0];\n",
       "                popup_63469dbf51bbd235da49483c645abeaa.setContent(html_2d67849a924b3bfbe1af3988082a79a1);\n",
       "            \n",
       "        \n",
       "\n",
       "        marker_1f929f275939f23dafb2bd07b191f379.bindPopup(popup_63469dbf51bbd235da49483c645abeaa)\n",
       "        ;\n",
       "\n",
       "        \n",
       "    \n",
       "    \n",
       "            var marker_5350ac4ed14b5ea16186685be3892da0 = L.marker(\n",
       "                [41.0806274414063, 29.0093994140625],\n",
       "                {}\n",
       "            ).addTo(map_7353671cf9d0e35916c264adf3384a92);\n",
       "        \n",
       "    \n",
       "        var popup_08b00e05e0f401eea781924ae315caec = L.popup({&quot;maxWidth&quot;: &quot;100%&quot;});\n",
       "\n",
       "        \n",
       "            \n",
       "                var html_5cc2fed1d55fa003647eb5a8eafdd0a4 = $(`&lt;div id=&quot;html_5cc2fed1d55fa003647eb5a8eafdd0a4&quot; style=&quot;width: 100.0%; height: 100.0%;&quot;&gt;2.0&lt;/div&gt;`)[0];\n",
       "                popup_08b00e05e0f401eea781924ae315caec.setContent(html_5cc2fed1d55fa003647eb5a8eafdd0a4);\n",
       "            \n",
       "        \n",
       "\n",
       "        marker_5350ac4ed14b5ea16186685be3892da0.bindPopup(popup_08b00e05e0f401eea781924ae315caec)\n",
       "        ;\n",
       "\n",
       "        \n",
       "    \n",
       "&lt;/script&gt;\n",
       "&lt;/html&gt;\" style=\"position:absolute;width:100%;height:100%;left:0;top:0;border:none !important;\" allowfullscreen webkitallowfullscreen mozallowfullscreen></iframe></div></div>"
      ],
      "text/plain": [
       "<folium.folium.Map at 0x7e1786488670>"
      ]
     },
     "execution_count": 8,
     "metadata": {},
     "output_type": "execute_result"
    }
   ],
   "source": [
    "\n",
    "df1 = df.groupby(['LONGITUDE','LATITUDE']).agg({\"MINIMUM_SPEED\":\"mean\"}).reset_index().sort_values(by='MINIMUM_SPEED')\n",
    "my_map = folium.Map(location=[df1.iloc[0]['LATITUDE'], df1.iloc[0]['LONGITUDE']])\n",
    "for index,record in df1.reset_index().head(10).iterrows():\n",
    "    \n",
    "\n",
    "    folium.Marker([record[\"LATITUDE\"], record['LONGITUDE']], popup=record['MINIMUM_SPEED'] ).add_to(my_map)\n",
    "\n",
    "   \n",
    "    \n",
    "\n",
    "my_map\n"
   ]
  },
  {
   "cell_type": "code",
   "execution_count": 9,
   "id": "a1ea0a3c",
   "metadata": {
    "execution": {
     "iopub.execute_input": "2024-10-14T10:12:15.160126Z",
     "iopub.status.busy": "2024-10-14T10:12:15.159643Z",
     "iopub.status.idle": "2024-10-14T10:12:15.510923Z",
     "shell.execute_reply": "2024-10-14T10:12:15.509553Z"
    },
    "papermill": {
     "duration": 0.370657,
     "end_time": "2024-10-14T10:12:15.514097",
     "exception": false,
     "start_time": "2024-10-14T10:12:15.143440",
     "status": "completed"
    },
    "tags": []
   },
   "outputs": [],
   "source": [
    "df['DATE_TIME']=pd.to_datetime(df['DATE_TIME'])"
   ]
  },
  {
   "cell_type": "code",
   "execution_count": 10,
   "id": "9a12243d",
   "metadata": {
    "execution": {
     "iopub.execute_input": "2024-10-14T10:12:15.543296Z",
     "iopub.status.busy": "2024-10-14T10:12:15.542834Z",
     "iopub.status.idle": "2024-10-14T10:12:15.551266Z",
     "shell.execute_reply": "2024-10-14T10:12:15.549803Z"
    },
    "papermill": {
     "duration": 0.026643,
     "end_time": "2024-10-14T10:12:15.554362",
     "exception": false,
     "start_time": "2024-10-14T10:12:15.527719",
     "status": "completed"
    },
    "tags": []
   },
   "outputs": [
    {
     "data": {
      "text/plain": [
       "Index(['DATE_TIME', 'LONGITUDE', 'LATITUDE', 'GEOHASH', 'MINIMUM_SPEED',\n",
       "       'MAXIMUM_SPEED', 'AVERAGE_SPEED', 'NUMBER_OF_VEHICLES'],\n",
       "      dtype='object')"
      ]
     },
     "execution_count": 10,
     "metadata": {},
     "output_type": "execute_result"
    }
   ],
   "source": [
    "df.columns"
   ]
  },
  {
   "cell_type": "markdown",
   "id": "8c8e4834",
   "metadata": {
    "papermill": {
     "duration": 0.01348,
     "end_time": "2024-10-14T10:12:15.581644",
     "exception": false,
     "start_time": "2024-10-14T10:12:15.568164",
     "status": "completed"
    },
    "tags": []
   },
   "source": [
    "## GENERAL TREND OF SPEED OVER THE SPAN OF YEARS"
   ]
  },
  {
   "cell_type": "code",
   "execution_count": 11,
   "id": "c1c6e245",
   "metadata": {
    "execution": {
     "iopub.execute_input": "2024-10-14T10:12:15.611100Z",
     "iopub.status.busy": "2024-10-14T10:12:15.610557Z",
     "iopub.status.idle": "2024-10-14T10:12:16.260096Z",
     "shell.execute_reply": "2024-10-14T10:12:16.258395Z"
    },
    "papermill": {
     "duration": 0.667503,
     "end_time": "2024-10-14T10:12:16.262798",
     "exception": false,
     "start_time": "2024-10-14T10:12:15.595295",
     "status": "completed"
    },
    "tags": []
   },
   "outputs": [
    {
     "name": "stderr",
     "output_type": "stream",
     "text": [
      "/opt/conda/lib/python3.10/site-packages/seaborn/_oldcore.py:1119: FutureWarning: use_inf_as_na option is deprecated and will be removed in a future version. Convert inf values to NaN before operating instead.\n",
      "  with pd.option_context('mode.use_inf_as_na', True):\n",
      "/opt/conda/lib/python3.10/site-packages/seaborn/_oldcore.py:1119: FutureWarning: use_inf_as_na option is deprecated and will be removed in a future version. Convert inf values to NaN before operating instead.\n",
      "  with pd.option_context('mode.use_inf_as_na', True):\n"
     ]
    },
    {
     "data": {
      "text/plain": [
       "<Axes: xlabel='DATE_TIME', ylabel='MAXIMUM_SPEED'>"
      ]
     },
     "execution_count": 11,
     "metadata": {},
     "output_type": "execute_result"
    },
    {
     "data": {
      "image/png": "[encoded data removed]",
      "text/plain": [
       "<Figure size 1000x1000 with 1 Axes>"
      ]
     },
     "metadata": {},
     "output_type": "display_data"
    }
   ],
   "source": [
    "df2=df.groupby(\"DATE_TIME\").agg({\"MAXIMUM_SPEED\":'max'}).sort_values(by='DATE_TIME')\n",
    "plt.figure(figsize=(10,10))\n",
    "sns.lineplot(x='DATE_TIME',y='MAXIMUM_SPEED',data=df2)"
   ]
  },
  {
   "cell_type": "markdown",
   "id": "eff2254d",
   "metadata": {
    "papermill": {
     "duration": 0.015713,
     "end_time": "2024-10-14T10:12:16.294780",
     "exception": false,
     "start_time": "2024-10-14T10:12:16.279067",
     "status": "completed"
    },
    "tags": []
   },
   "source": [
    "# Oh the data is just for a month!"
   ]
  },
  {
   "cell_type": "code",
   "execution_count": null,
   "id": "220efbf1",
   "metadata": {
    "papermill": {
     "duration": 0.015708,
     "end_time": "2024-10-14T10:12:16.326832",
     "exception": false,
     "start_time": "2024-10-14T10:12:16.311124",
     "status": "completed"
    },
    "tags": []
   },
   "outputs": [],
   "source": []
  },
  {
   "cell_type": "markdown",
   "id": "37de5fdf",
   "metadata": {
    "papermill": {
     "duration": 0.015868,
     "end_time": "2024-10-14T10:12:16.358814",
     "exception": false,
     "start_time": "2024-10-14T10:12:16.342946",
     "status": "completed"
    },
    "tags": []
   },
   "source": [
    "# Clustering places based on driving speeds using K-Means"
   ]
  },
  {
   "cell_type": "code",
   "execution_count": 12,
   "id": "336933e6",
   "metadata": {
    "execution": {
     "iopub.execute_input": "2024-10-14T10:12:16.394314Z",
     "iopub.status.busy": "2024-10-14T10:12:16.392782Z",
     "iopub.status.idle": "2024-10-14T10:12:17.091481Z",
     "shell.execute_reply": "2024-10-14T10:12:17.090008Z"
    },
    "papermill": {
     "duration": 0.720054,
     "end_time": "2024-10-14T10:12:17.094890",
     "exception": false,
     "start_time": "2024-10-14T10:12:16.374836",
     "status": "completed"
    },
    "tags": []
   },
   "outputs": [],
   "source": [
    "from sklearn.cluster import KMeans\n",
    "kmeans = KMeans(n_clusters=4)\n"
   ]
  },
  {
   "cell_type": "code",
   "execution_count": 13,
   "id": "d19a2f6a",
   "metadata": {
    "execution": {
     "iopub.execute_input": "2024-10-14T10:12:17.135061Z",
     "iopub.status.busy": "2024-10-14T10:12:17.134575Z",
     "iopub.status.idle": "2024-10-14T10:12:17.143484Z",
     "shell.execute_reply": "2024-10-14T10:12:17.142042Z"
    },
    "papermill": {
     "duration": 0.032867,
     "end_time": "2024-10-14T10:12:17.146558",
     "exception": false,
     "start_time": "2024-10-14T10:12:17.113691",
     "status": "completed"
    },
    "tags": []
   },
   "outputs": [
    {
     "data": {
      "text/plain": [
       "Index(['DATE_TIME', 'LONGITUDE', 'LATITUDE', 'GEOHASH', 'MINIMUM_SPEED',\n",
       "       'MAXIMUM_SPEED', 'AVERAGE_SPEED', 'NUMBER_OF_VEHICLES'],\n",
       "      dtype='object')"
      ]
     },
     "execution_count": 13,
     "metadata": {},
     "output_type": "execute_result"
    }
   ],
   "source": [
    "df.columns"
   ]
  },
  {
   "cell_type": "code",
   "execution_count": 14,
   "id": "3759ab02",
   "metadata": {
    "execution": {
     "iopub.execute_input": "2024-10-14T10:12:17.181628Z",
     "iopub.status.busy": "2024-10-14T10:12:17.180941Z",
     "iopub.status.idle": "2024-10-14T10:12:28.531789Z",
     "shell.execute_reply": "2024-10-14T10:12:28.530175Z"
    },
    "papermill": {
     "duration": 11.371372,
     "end_time": "2024-10-14T10:12:28.534584",
     "exception": false,
     "start_time": "2024-10-14T10:12:17.163212",
     "status": "completed"
    },
    "tags": []
   },
   "outputs": [
    {
     "name": "stderr",
     "output_type": "stream",
     "text": [
      "/opt/conda/lib/python3.10/site-packages/sklearn/cluster/_kmeans.py:870: FutureWarning: The default value of `n_init` will change from 10 to 'auto' in 1.4. Set the value of `n_init` explicitly to suppress the warning\n",
      "  warnings.warn(\n"
     ]
    },
    {
     "data": {
      "text/html": [
       "<style>#sk-container-id-1 {color: black;background-color: white;}#sk-container-id-1 pre{padding: 0;}#sk-container-id-1 div.sk-toggleable {background-color: white;}#sk-container-id-1 label.sk-toggleable__label {cursor: pointer;display: block;width: 100%;margin-bottom: 0;padding: 0.3em;box-sizing: border-box;text-align: center;}#sk-container-id-1 label.sk-toggleable__label-arrow:before {content: \"▸\";float: left;margin-right: 0.25em;color: #696969;}#sk-container-id-1 label.sk-toggleable__label-arrow:hover:before {color: black;}#sk-container-id-1 div.sk-estimator:hover label.sk-toggleable__label-arrow:before {color: black;}#sk-container-id-1 div.sk-toggleable__content {max-height: 0;max-width: 0;overflow: hidden;text-align: left;background-color: #f0f8ff;}#sk-container-id-1 div.sk-toggleable__content pre {margin: 0.2em;color: black;border-radius: 0.25em;background-color: #f0f8ff;}#sk-container-id-1 input.sk-toggleable__control:checked~div.sk-toggleable__content {max-height: 200px;max-width: 100%;overflow: auto;}#sk-container-id-1 input.sk-toggleable__control:checked~label.sk-toggleable__label-arrow:before {content: \"▾\";}#sk-container-id-1 div.sk-estimator input.sk-toggleable__control:checked~label.sk-toggleable__label {background-color: #d4ebff;}#sk-container-id-1 div.sk-label input.sk-toggleable__control:checked~label.sk-toggleable__label {background-color: #d4ebff;}#sk-container-id-1 input.sk-hidden--visually {border: 0;clip: rect(1px 1px 1px 1px);clip: rect(1px, 1px, 1px, 1px);height: 1px;margin: -1px;overflow: hidden;padding: 0;position: absolute;width: 1px;}#sk-container-id-1 div.sk-estimator {font-family: monospace;background-color: #f0f8ff;border: 1px dotted black;border-radius: 0.25em;box-sizing: border-box;margin-bottom: 0.5em;}#sk-container-id-1 div.sk-estimator:hover {background-color: #d4ebff;}#sk-container-id-1 div.sk-parallel-item::after {content: \"\";width: 100%;border-bottom: 1px solid gray;flex-grow: 1;}#sk-container-id-1 div.sk-label:hover label.sk-toggleable__label {background-color: #d4ebff;}#sk-container-id-1 div.sk-serial::before {content: \"\";position: absolute;border-left: 1px solid gray;box-sizing: border-box;top: 0;bottom: 0;left: 50%;z-index: 0;}#sk-container-id-1 div.sk-serial {display: flex;flex-direction: column;align-items: center;background-color: white;padding-right: 0.2em;padding-left: 0.2em;position: relative;}#sk-container-id-1 div.sk-item {position: relative;z-index: 1;}#sk-container-id-1 div.sk-parallel {display: flex;align-items: stretch;justify-content: center;background-color: white;position: relative;}#sk-container-id-1 div.sk-item::before, #sk-container-id-1 div.sk-parallel-item::before {content: \"\";position: absolute;border-left: 1px solid gray;box-sizing: border-box;top: 0;bottom: 0;left: 50%;z-index: -1;}#sk-container-id-1 div.sk-parallel-item {display: flex;flex-direction: column;z-index: 1;position: relative;background-color: white;}#sk-container-id-1 div.sk-parallel-item:first-child::after {align-self: flex-end;width: 50%;}#sk-container-id-1 div.sk-parallel-item:last-child::after {align-self: flex-start;width: 50%;}#sk-container-id-1 div.sk-parallel-item:only-child::after {width: 0;}#sk-container-id-1 div.sk-dashed-wrapped {border: 1px dashed gray;margin: 0 0.4em 0.5em 0.4em;box-sizing: border-box;padding-bottom: 0.4em;background-color: white;}#sk-container-id-1 div.sk-label label {font-family: monospace;font-weight: bold;display: inline-block;line-height: 1.2em;}#sk-container-id-1 div.sk-label-container {text-align: center;}#sk-container-id-1 div.sk-container {/* jupyter's `normalize.less` sets `[hidden] { display: none; }` but bootstrap.min.css set `[hidden] { display: none !important; }` so we also need the `!important` here to be able to override the default hidden behavior on the sphinx rendered scikit-learn.org. See: https://github.com/scikit-learn/scikit-learn/issues/21755 */display: inline-block !important;position: relative;}#sk-container-id-1 div.sk-text-repr-fallback {display: none;}</style><div id=\"sk-container-id-1\" class=\"sk-top-container\"><div class=\"sk-text-repr-fallback\"><pre>KMeans(n_clusters=4)</pre><b>In a Jupyter environment, please rerun this cell to show the HTML representation or trust the notebook. <br />On GitHub, the HTML representation is unable to render, please try loading this page with nbviewer.org.</b></div><div class=\"sk-container\" hidden><div class=\"sk-item\"><div class=\"sk-estimator sk-toggleable\"><input class=\"sk-toggleable__control sk-hidden--visually\" id=\"sk-estimator-id-1\" type=\"checkbox\" checked><label for=\"sk-estimator-id-1\" class=\"sk-toggleable__label sk-toggleable__label-arrow\">KMeans</label><div class=\"sk-toggleable__content\"><pre>KMeans(n_clusters=4)</pre></div></div></div></div></div>"
      ],
      "text/plain": [
       "KMeans(n_clusters=4)"
      ]
     },
     "execution_count": 14,
     "metadata": {},
     "output_type": "execute_result"
    }
   ],
   "source": [
    "kmeans.fit(df.drop(columns=[\"DATE_TIME\",\"GEOHASH\"],axis=1))"
   ]
  },
  {
   "cell_type": "code",
   "execution_count": 15,
   "id": "09d5d560",
   "metadata": {
    "execution": {
     "iopub.execute_input": "2024-10-14T10:12:28.571719Z",
     "iopub.status.busy": "2024-10-14T10:12:28.571202Z",
     "iopub.status.idle": "2024-10-14T10:12:28.579832Z",
     "shell.execute_reply": "2024-10-14T10:12:28.578382Z"
    },
    "papermill": {
     "duration": 0.030353,
     "end_time": "2024-10-14T10:12:28.582670",
     "exception": false,
     "start_time": "2024-10-14T10:12:28.552317",
     "status": "completed"
    },
    "tags": []
   },
   "outputs": [
    {
     "data": {
      "text/plain": [
       "6957951213.809159"
      ]
     },
     "execution_count": 15,
     "metadata": {},
     "output_type": "execute_result"
    }
   ],
   "source": [
    "kmeans.inertia_"
   ]
  },
  {
   "cell_type": "code",
   "execution_count": 16,
   "id": "f2eb11db",
   "metadata": {
    "execution": {
     "iopub.execute_input": "2024-10-14T10:12:28.619876Z",
     "iopub.status.busy": "2024-10-14T10:12:28.619373Z",
     "iopub.status.idle": "2024-10-14T10:12:56.730350Z",
     "shell.execute_reply": "2024-10-14T10:12:56.728954Z"
    },
    "papermill": {
     "duration": 28.133692,
     "end_time": "2024-10-14T10:12:56.733633",
     "exception": false,
     "start_time": "2024-10-14T10:12:28.599941",
     "status": "completed"
    },
    "tags": []
   },
   "outputs": [
    {
     "name": "stderr",
     "output_type": "stream",
     "text": [
      "/opt/conda/lib/python3.10/site-packages/sklearn/cluster/_kmeans.py:870: FutureWarning: The default value of `n_init` will change from 10 to 'auto' in 1.4. Set the value of `n_init` explicitly to suppress the warning\n",
      "  warnings.warn(\n",
      "/opt/conda/lib/python3.10/site-packages/sklearn/cluster/_kmeans.py:870: FutureWarning: The default value of `n_init` will change from 10 to 'auto' in 1.4. Set the value of `n_init` explicitly to suppress the warning\n",
      "  warnings.warn(\n",
      "/opt/conda/lib/python3.10/site-packages/sklearn/cluster/_kmeans.py:870: FutureWarning: The default value of `n_init` will change from 10 to 'auto' in 1.4. Set the value of `n_init` explicitly to suppress the warning\n",
      "  warnings.warn(\n",
      "/opt/conda/lib/python3.10/site-packages/sklearn/cluster/_kmeans.py:870: FutureWarning: The default value of `n_init` will change from 10 to 'auto' in 1.4. Set the value of `n_init` explicitly to suppress the warning\n",
      "  warnings.warn(\n"
     ]
    }
   ],
   "source": [
    "inertia=[]\n",
    "for i in range(1,5):\n",
    "    kmeans = KMeans(n_clusters=i)\n",
    "    kmeans.fit(df.drop(columns=[\"DATE_TIME\",\"GEOHASH\"],axis=1))\n",
    "    inertia.append(kmeans.inertia_)"
   ]
  },
  {
   "cell_type": "code",
   "execution_count": 17,
   "id": "19ee062f",
   "metadata": {
    "execution": {
     "iopub.execute_input": "2024-10-14T10:12:56.772114Z",
     "iopub.status.busy": "2024-10-14T10:12:56.771663Z",
     "iopub.status.idle": "2024-10-14T10:12:57.087932Z",
     "shell.execute_reply": "2024-10-14T10:12:57.086573Z"
    },
    "papermill": {
     "duration": 0.338716,
     "end_time": "2024-10-14T10:12:57.090637",
     "exception": false,
     "start_time": "2024-10-14T10:12:56.751921",
     "status": "completed"
    },
    "tags": []
   },
   "outputs": [
    {
     "name": "stderr",
     "output_type": "stream",
     "text": [
      "/opt/conda/lib/python3.10/site-packages/seaborn/_oldcore.py:1119: FutureWarning: use_inf_as_na option is deprecated and will be removed in a future version. Convert inf values to NaN before operating instead.\n",
      "  with pd.option_context('mode.use_inf_as_na', True):\n",
      "/opt/conda/lib/python3.10/site-packages/seaborn/_oldcore.py:1119: FutureWarning: use_inf_as_na option is deprecated and will be removed in a future version. Convert inf values to NaN before operating instead.\n",
      "  with pd.option_context('mode.use_inf_as_na', True):\n"
     ]
    },
    {
     "data": {
      "text/plain": [
       "<Axes: >"
      ]
     },
     "execution_count": 17,
     "metadata": {},
     "output_type": "execute_result"
    },
    {
     "data": {
      "image/png": "[encoded data removed]",
      "text/plain": [
       "<Figure size 640x480 with 1 Axes>"
      ]
     },
     "metadata": {},
     "output_type": "display_data"
    }
   ],
   "source": [
    "sns.lineplot(x=range(1,5),y=inertia)"
   ]
  },
  {
   "cell_type": "markdown",
   "id": "8b67c7ca",
   "metadata": {
    "papermill": {
     "duration": 0.018095,
     "end_time": "2024-10-14T10:12:57.127623",
     "exception": false,
     "start_time": "2024-10-14T10:12:57.109528",
     "status": "completed"
    },
    "tags": []
   },
   "source": [
    "# The optimum number of clusters is 3. Lets refit the data on 3 clusters"
   ]
  },
  {
   "cell_type": "code",
   "execution_count": 18,
   "id": "16f1ecf3",
   "metadata": {
    "execution": {
     "iopub.execute_input": "2024-10-14T10:12:57.166432Z",
     "iopub.status.busy": "2024-10-14T10:12:57.165921Z",
     "iopub.status.idle": "2024-10-14T10:13:06.976857Z",
     "shell.execute_reply": "2024-10-14T10:13:06.975591Z"
    },
    "papermill": {
     "duration": 9.83335,
     "end_time": "2024-10-14T10:13:06.979602",
     "exception": false,
     "start_time": "2024-10-14T10:12:57.146252",
     "status": "completed"
    },
    "tags": []
   },
   "outputs": [
    {
     "name": "stderr",
     "output_type": "stream",
     "text": [
      "/opt/conda/lib/python3.10/site-packages/sklearn/cluster/_kmeans.py:870: FutureWarning: The default value of `n_init` will change from 10 to 'auto' in 1.4. Set the value of `n_init` explicitly to suppress the warning\n",
      "  warnings.warn(\n"
     ]
    },
    {
     "data": {
      "text/html": [
       "<style>#sk-container-id-2 {color: black;background-color: white;}#sk-container-id-2 pre{padding: 0;}#sk-container-id-2 div.sk-toggleable {background-color: white;}#sk-container-id-2 label.sk-toggleable__label {cursor: pointer;display: block;width: 100%;margin-bottom: 0;padding: 0.3em;box-sizing: border-box;text-align: center;}#sk-container-id-2 label.sk-toggleable__label-arrow:before {content: \"▸\";float: left;margin-right: 0.25em;color: #696969;}#sk-container-id-2 label.sk-toggleable__label-arrow:hover:before {color: black;}#sk-container-id-2 div.sk-estimator:hover label.sk-toggleable__label-arrow:before {color: black;}#sk-container-id-2 div.sk-toggleable__content {max-height: 0;max-width: 0;overflow: hidden;text-align: left;background-color: #f0f8ff;}#sk-container-id-2 div.sk-toggleable__content pre {margin: 0.2em;color: black;border-radius: 0.25em;background-color: #f0f8ff;}#sk-container-id-2 input.sk-toggleable__control:checked~div.sk-toggleable__content {max-height: 200px;max-width: 100%;overflow: auto;}#sk-container-id-2 input.sk-toggleable__control:checked~label.sk-toggleable__label-arrow:before {content: \"▾\";}#sk-container-id-2 div.sk-estimator input.sk-toggleable__control:checked~label.sk-toggleable__label {background-color: #d4ebff;}#sk-container-id-2 div.sk-label input.sk-toggleable__control:checked~label.sk-toggleable__label {background-color: #d4ebff;}#sk-container-id-2 input.sk-hidden--visually {border: 0;clip: rect(1px 1px 1px 1px);clip: rect(1px, 1px, 1px, 1px);height: 1px;margin: -1px;overflow: hidden;padding: 0;position: absolute;width: 1px;}#sk-container-id-2 div.sk-estimator {font-family: monospace;background-color: #f0f8ff;border: 1px dotted black;border-radius: 0.25em;box-sizing: border-box;margin-bottom: 0.5em;}#sk-container-id-2 div.sk-estimator:hover {background-color: #d4ebff;}#sk-container-id-2 div.sk-parallel-item::after {content: \"\";width: 100%;border-bottom: 1px solid gray;flex-grow: 1;}#sk-container-id-2 div.sk-label:hover label.sk-toggleable__label {background-color: #d4ebff;}#sk-container-id-2 div.sk-serial::before {content: \"\";position: absolute;border-left: 1px solid gray;box-sizing: border-box;top: 0;bottom: 0;left: 50%;z-index: 0;}#sk-container-id-2 div.sk-serial {display: flex;flex-direction: column;align-items: center;background-color: white;padding-right: 0.2em;padding-left: 0.2em;position: relative;}#sk-container-id-2 div.sk-item {position: relative;z-index: 1;}#sk-container-id-2 div.sk-parallel {display: flex;align-items: stretch;justify-content: center;background-color: white;position: relative;}#sk-container-id-2 div.sk-item::before, #sk-container-id-2 div.sk-parallel-item::before {content: \"\";position: absolute;border-left: 1px solid gray;box-sizing: border-box;top: 0;bottom: 0;left: 50%;z-index: -1;}#sk-container-id-2 div.sk-parallel-item {display: flex;flex-direction: column;z-index: 1;position: relative;background-color: white;}#sk-container-id-2 div.sk-parallel-item:first-child::after {align-self: flex-end;width: 50%;}#sk-container-id-2 div.sk-parallel-item:last-child::after {align-self: flex-start;width: 50%;}#sk-container-id-2 div.sk-parallel-item:only-child::after {width: 0;}#sk-container-id-2 div.sk-dashed-wrapped {border: 1px dashed gray;margin: 0 0.4em 0.5em 0.4em;box-sizing: border-box;padding-bottom: 0.4em;background-color: white;}#sk-container-id-2 div.sk-label label {font-family: monospace;font-weight: bold;display: inline-block;line-height: 1.2em;}#sk-container-id-2 div.sk-label-container {text-align: center;}#sk-container-id-2 div.sk-container {/* jupyter's `normalize.less` sets `[hidden] { display: none; }` but bootstrap.min.css set `[hidden] { display: none !important; }` so we also need the `!important` here to be able to override the default hidden behavior on the sphinx rendered scikit-learn.org. See: https://github.com/scikit-learn/scikit-learn/issues/21755 */display: inline-block !important;position: relative;}#sk-container-id-2 div.sk-text-repr-fallback {display: none;}</style><div id=\"sk-container-id-2\" class=\"sk-top-container\"><div class=\"sk-text-repr-fallback\"><pre>KMeans(n_clusters=3)</pre><b>In a Jupyter environment, please rerun this cell to show the HTML representation or trust the notebook. <br />On GitHub, the HTML representation is unable to render, please try loading this page with nbviewer.org.</b></div><div class=\"sk-container\" hidden><div class=\"sk-item\"><div class=\"sk-estimator sk-toggleable\"><input class=\"sk-toggleable__control sk-hidden--visually\" id=\"sk-estimator-id-2\" type=\"checkbox\" checked><label for=\"sk-estimator-id-2\" class=\"sk-toggleable__label sk-toggleable__label-arrow\">KMeans</label><div class=\"sk-toggleable__content\"><pre>KMeans(n_clusters=3)</pre></div></div></div></div></div>"
      ],
      "text/plain": [
       "KMeans(n_clusters=3)"
      ]
     },
     "execution_count": 18,
     "metadata": {},
     "output_type": "execute_result"
    }
   ],
   "source": [
    "kmeans = KMeans(n_clusters=3)\n",
    "kmeans.fit(df.drop(columns=[\"DATE_TIME\",\"GEOHASH\"],axis=1))"
   ]
  },
  {
   "cell_type": "code",
   "execution_count": 19,
   "id": "9da5acff",
   "metadata": {
    "execution": {
     "iopub.execute_input": "2024-10-14T10:13:07.022265Z",
     "iopub.status.busy": "2024-10-14T10:13:07.021764Z",
     "iopub.status.idle": "2024-10-14T10:13:07.029220Z",
     "shell.execute_reply": "2024-10-14T10:13:07.027812Z"
    },
    "papermill": {
     "duration": 0.033279,
     "end_time": "2024-10-14T10:13:07.032265",
     "exception": false,
     "start_time": "2024-10-14T10:13:06.998986",
     "status": "completed"
    },
    "tags": []
   },
   "outputs": [],
   "source": [
    "df['Cluster']=kmeans.labels_"
   ]
  },
  {
   "cell_type": "markdown",
   "id": "78fc5ba6",
   "metadata": {
    "papermill": {
     "duration": 0.018832,
     "end_time": "2024-10-14T10:13:07.070568",
     "exception": false,
     "start_time": "2024-10-14T10:13:07.051736",
     "status": "completed"
    },
    "tags": []
   },
   "source": [
    "## Lets View  the places which are clustered "
   ]
  },
  {
   "cell_type": "code",
   "execution_count": 20,
   "id": "612a72a9",
   "metadata": {
    "execution": {
     "iopub.execute_input": "2024-10-14T10:13:07.114239Z",
     "iopub.status.busy": "2024-10-14T10:13:07.113584Z",
     "iopub.status.idle": "2024-10-14T10:13:14.252823Z",
     "shell.execute_reply": "2024-10-14T10:13:14.251240Z"
    },
    "papermill": {
     "duration": 7.165313,
     "end_time": "2024-10-14T10:13:14.255845",
     "exception": false,
     "start_time": "2024-10-14T10:13:07.090532",
     "status": "completed"
    },
    "tags": []
   },
   "outputs": [
    {
     "data": {
      "text/plain": [
       "<Axes: xlabel='Cluster', ylabel='NUMBER_OF_VEHICLES'>"
      ]
     },
     "execution_count": 20,
     "metadata": {},
     "output_type": "execute_result"
    },
    {
     "data": {
      "image/png": "[encoded data removed]",
      "text/plain": [
       "<Figure size 640x480 with 1 Axes>"
      ]
     },
     "metadata": {},
     "output_type": "display_data"
    }
   ],
   "source": [
    "import seaborn as sns\n",
    "sns.scatterplot(y='NUMBER_OF_VEHICLES',x='Cluster',data=df)"
   ]
  },
  {
   "cell_type": "code",
   "execution_count": 21,
   "id": "bffdcc66",
   "metadata": {
    "execution": {
     "iopub.execute_input": "2024-10-14T10:13:14.296729Z",
     "iopub.status.busy": "2024-10-14T10:13:14.296278Z",
     "iopub.status.idle": "2024-10-14T10:13:21.392208Z",
     "shell.execute_reply": "2024-10-14T10:13:21.390617Z"
    },
    "papermill": {
     "duration": 7.120192,
     "end_time": "2024-10-14T10:13:21.395627",
     "exception": false,
     "start_time": "2024-10-14T10:13:14.275435",
     "status": "completed"
    },
    "tags": []
   },
   "outputs": [
    {
     "data": {
      "text/plain": [
       "<Axes: xlabel='Cluster', ylabel='MAXIMUM_SPEED'>"
      ]
     },
     "execution_count": 21,
     "metadata": {},
     "output_type": "execute_result"
    },
    {
     "data": {
      "image/png": "[encoded data removed]",
      "text/plain": [
       "<Figure size 640x480 with 1 Axes>"
      ]
     },
     "metadata": {},
     "output_type": "display_data"
    }
   ],
   "source": [
    "sns.scatterplot(y='MAXIMUM_SPEED',x='Cluster',data=df)"
   ]
  },
  {
   "cell_type": "code",
   "execution_count": 22,
   "id": "bcc23fa0",
   "metadata": {
    "execution": {
     "iopub.execute_input": "2024-10-14T10:13:21.442952Z",
     "iopub.status.busy": "2024-10-14T10:13:21.442517Z",
     "iopub.status.idle": "2024-10-14T10:13:28.576883Z",
     "shell.execute_reply": "2024-10-14T10:13:28.575525Z"
    },
    "papermill": {
     "duration": 7.161337,
     "end_time": "2024-10-14T10:13:28.579845",
     "exception": false,
     "start_time": "2024-10-14T10:13:21.418508",
     "status": "completed"
    },
    "tags": []
   },
   "outputs": [
    {
     "data": {
      "text/plain": [
       "<Axes: xlabel='Cluster', ylabel='AVERAGE_SPEED'>"
      ]
     },
     "execution_count": 22,
     "metadata": {},
     "output_type": "execute_result"
    },
    {
     "data": {
      "image/png": "[encoded data removed]",
      "text/plain": [
       "<Figure size 640x480 with 1 Axes>"
      ]
     },
     "metadata": {},
     "output_type": "display_data"
    }
   ],
   "source": [
    "sns.scatterplot(y='AVERAGE_SPEED',x='Cluster',data=df)"
   ]
  },
  {
   "cell_type": "code",
   "execution_count": 23,
   "id": "9873aa18",
   "metadata": {
    "execution": {
     "iopub.execute_input": "2024-10-14T10:13:28.627335Z",
     "iopub.status.busy": "2024-10-14T10:13:28.626885Z",
     "iopub.status.idle": "2024-10-14T10:13:35.751193Z",
     "shell.execute_reply": "2024-10-14T10:13:35.749823Z"
    },
    "papermill": {
     "duration": 7.151779,
     "end_time": "2024-10-14T10:13:35.754410",
     "exception": false,
     "start_time": "2024-10-14T10:13:28.602631",
     "status": "completed"
    },
    "tags": []
   },
   "outputs": [
    {
     "data": {
      "text/plain": [
       "<Axes: xlabel='Cluster', ylabel='MINIMUM_SPEED'>"
      ]
     },
     "execution_count": 23,
     "metadata": {},
     "output_type": "execute_result"
    },
    {
     "data": {
      "image/png": "[encoded data removed]",
      "text/plain": [
       "<Figure size 640x480 with 1 Axes>"
      ]
     },
     "metadata": {},
     "output_type": "display_data"
    }
   ],
   "source": [
    "sns.scatterplot(y='MINIMUM_SPEED',x='Cluster',data=df)"
   ]
  },
  {
   "cell_type": "markdown",
   "id": "5af70129",
   "metadata": {
    "papermill": {
     "duration": 0.023106,
     "end_time": "2024-10-14T10:13:35.799862",
     "exception": false,
     "start_time": "2024-10-14T10:13:35.776756",
     "status": "completed"
    },
    "tags": []
   },
   "source": [
    "## CONCLUSION "
   ]
  },
  {
   "cell_type": "markdown",
   "id": "bb352123",
   "metadata": {
    "papermill": {
     "duration": 0.022096,
     "end_time": "2024-10-14T10:13:35.845319",
     "exception": false,
     "start_time": "2024-10-14T10:13:35.823223",
     "status": "completed"
    },
    "tags": []
   },
   "source": [
    "Our dataset has been finely divided into clusters . Each cluster has its own value of Average Speed , No. of Vehicles and Speed. "
   ]
  },
  {
   "cell_type": "code",
   "execution_count": null,
   "id": "cfdbd5a0",
   "metadata": {
    "papermill": {
     "duration": 0.022165,
     "end_time": "2024-10-14T10:13:35.889626",
     "exception": false,
     "start_time": "2024-10-14T10:13:35.867461",
     "status": "completed"
    },
    "tags": []
   },
   "outputs": [],
   "source": []
  }
 ],
 "metadata": {
  "kaggle": {
   "accelerator": "none",
   "dataSources": [
    {
     "datasetId": 5764394,
     "sourceId": 9477558,
     "sourceType": "datasetVersion"
    }
   ],
   "dockerImageVersionId": 30786,
   "isGpuEnabled": false,
   "isInternetEnabled": true,
   "language": "python",
   "sourceType": "notebook"
  },
  "kernelspec": {
   "display_name": "Python 3",
   "language": "python",
   "name": "python3"
  },
  "language_info": {
   "codemirror_mode": {
    "name": "ipython",
    "version": 3
   },
   "file_extension": ".py",
   "mimetype": "text/x-python",
   "name": "python",
   "nbconvert_exporter": "python",
   "pygments_lexer": "ipython3",
   "version": "3.10.14"
  },
  "papermill": {
   "default_parameters": {},
   "duration": 93.613305,
   "end_time": "2024-10-14T10:13:37.140103",
   "environment_variables": {},
   "exception": null,
   "input_path": "__notebook__.ipynb",
   "output_path": "__notebook__.ipynb",
   "parameters": {},
   "start_time": "2024-10-14T10:12:03.526798",
   "version": "2.6.0"
  }
 },
 "nbformat": 4,
 "nbformat_minor": 5
}
