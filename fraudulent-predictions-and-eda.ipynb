{
 "cells": [
  {
   "cell_type": "code",
   "execution_count": 1,
   "id": "a1fad249",
   "metadata": {
    "_cell_guid": "b1076dfc-b9ad-4769-8c92-a6c4dae69d19",
    "_uuid": "8f2839f25d086af736a60e9eeb907d3b93b6e0e5",
    "execution": {
     "iopub.execute_input": "2024-10-22T13:08:37.022863Z",
     "iopub.status.busy": "2024-10-22T13:08:37.022322Z",
     "iopub.status.idle": "2024-10-22T13:08:37.933785Z",
     "shell.execute_reply": "2024-10-22T13:08:37.932178Z"
    },
    "papermill": {
     "duration": 0.923049,
     "end_time": "2024-10-22T13:08:37.936405",
     "exception": false,
     "start_time": "2024-10-22T13:08:37.013356",
     "status": "completed"
    },
    "tags": []
   },
   "outputs": [
    {
     "name": "stdout",
     "output_type": "stream",
     "text": [
      "/kaggle/input/credit-card-fraud-detection/credit_card_fraud_dataset.csv\n"
     ]
    }
   ],
   "source": [
    "# This Python 3 environment comes with many helpful analytics libraries installed\n",
    "# It is defined by the kaggle/python Docker image: https://github.com/kaggle/docker-python\n",
    "# For example, here's several helpful packages to load\n",
    "\n",
    "import numpy as np # linear algebra\n",
    "import pandas as pd # data processing, CSV file I/O (e.g. pd.read_csv)\n",
    "\n",
    "# Input data files are available in the read-only \"../input/\" directory\n",
    "# For example, running this (by clicking run or pressing Shift+Enter) will list all files under the input directory\n",
    "\n",
    "import os\n",
    "for dirname, _, filenames in os.walk('/kaggle/input'):\n",
    "    for filename in filenames:\n",
    "        print(os.path.join(dirname, filename))\n",
    "\n",
    "# You can write up to 20GB to the current directory (/kaggle/working/) that gets preserved as output when you create a version using \"Save & Run All\" \n",
    "# You can also write temporary files to /kaggle/temp/, but they won't be saved outside of the current session"
   ]
  },
  {
   "cell_type": "code",
   "execution_count": 2,
   "id": "059f51ab",
   "metadata": {
    "execution": {
     "iopub.execute_input": "2024-10-22T13:08:37.952954Z",
     "iopub.status.busy": "2024-10-22T13:08:37.952384Z",
     "iopub.status.idle": "2024-10-22T13:08:38.198922Z",
     "shell.execute_reply": "2024-10-22T13:08:38.197709Z"
    },
    "papermill": {
     "duration": 0.258136,
     "end_time": "2024-10-22T13:08:38.201542",
     "exception": false,
     "start_time": "2024-10-22T13:08:37.943406",
     "status": "completed"
    },
    "tags": []
   },
   "outputs": [],
   "source": [
    "df = pd.read_csv(\"/kaggle/input/credit-card-fraud-detection/credit_card_fraud_dataset.csv\")"
   ]
  },
  {
   "cell_type": "code",
   "execution_count": 3,
   "id": "e90aef75",
   "metadata": {
    "execution": {
     "iopub.execute_input": "2024-10-22T13:08:38.217488Z",
     "iopub.status.busy": "2024-10-22T13:08:38.216469Z",
     "iopub.status.idle": "2024-10-22T13:08:38.243374Z",
     "shell.execute_reply": "2024-10-22T13:08:38.242048Z"
    },
    "papermill": {
     "duration": 0.038282,
     "end_time": "2024-10-22T13:08:38.246707",
     "exception": false,
     "start_time": "2024-10-22T13:08:38.208425",
     "status": "completed"
    },
    "tags": []
   },
   "outputs": [
    {
     "data": {
      "text/html": [
       "<div>\n",
       "<style scoped>\n",
       "    .dataframe tbody tr th:only-of-type {\n",
       "        vertical-align: middle;\n",
       "    }\n",
       "\n",
       "    .dataframe tbody tr th {\n",
       "        vertical-align: top;\n",
       "    }\n",
       "\n",
       "    .dataframe thead th {\n",
       "        text-align: right;\n",
       "    }\n",
       "</style>\n",
       "<table border=\"1\" class=\"dataframe\">\n",
       "  <thead>\n",
       "    <tr style=\"text-align: right;\">\n",
       "      <th></th>\n",
       "      <th>TransactionID</th>\n",
       "      <th>TransactionDate</th>\n",
       "      <th>Amount</th>\n",
       "      <th>MerchantID</th>\n",
       "      <th>TransactionType</th>\n",
       "      <th>Location</th>\n",
       "      <th>IsFraud</th>\n",
       "    </tr>\n",
       "  </thead>\n",
       "  <tbody>\n",
       "    <tr>\n",
       "      <th>0</th>\n",
       "      <td>1</td>\n",
       "      <td>2024-04-03 14:15:35.462794</td>\n",
       "      <td>4189.27</td>\n",
       "      <td>688</td>\n",
       "      <td>refund</td>\n",
       "      <td>San Antonio</td>\n",
       "      <td>0</td>\n",
       "    </tr>\n",
       "    <tr>\n",
       "      <th>1</th>\n",
       "      <td>2</td>\n",
       "      <td>2024-03-19 13:20:35.462824</td>\n",
       "      <td>2659.71</td>\n",
       "      <td>109</td>\n",
       "      <td>refund</td>\n",
       "      <td>Dallas</td>\n",
       "      <td>0</td>\n",
       "    </tr>\n",
       "    <tr>\n",
       "      <th>2</th>\n",
       "      <td>3</td>\n",
       "      <td>2024-01-08 10:08:35.462834</td>\n",
       "      <td>784.00</td>\n",
       "      <td>394</td>\n",
       "      <td>purchase</td>\n",
       "      <td>New York</td>\n",
       "      <td>0</td>\n",
       "    </tr>\n",
       "    <tr>\n",
       "      <th>3</th>\n",
       "      <td>4</td>\n",
       "      <td>2024-04-13 23:50:35.462850</td>\n",
       "      <td>3514.40</td>\n",
       "      <td>944</td>\n",
       "      <td>purchase</td>\n",
       "      <td>Philadelphia</td>\n",
       "      <td>0</td>\n",
       "    </tr>\n",
       "    <tr>\n",
       "      <th>4</th>\n",
       "      <td>5</td>\n",
       "      <td>2024-07-12 18:51:35.462858</td>\n",
       "      <td>369.07</td>\n",
       "      <td>475</td>\n",
       "      <td>purchase</td>\n",
       "      <td>Phoenix</td>\n",
       "      <td>0</td>\n",
       "    </tr>\n",
       "  </tbody>\n",
       "</table>\n",
       "</div>"
      ],
      "text/plain": [
       "   TransactionID             TransactionDate   Amount  MerchantID  \\\n",
       "0              1  2024-04-03 14:15:35.462794  4189.27         688   \n",
       "1              2  2024-03-19 13:20:35.462824  2659.71         109   \n",
       "2              3  2024-01-08 10:08:35.462834   784.00         394   \n",
       "3              4  2024-04-13 23:50:35.462850  3514.40         944   \n",
       "4              5  2024-07-12 18:51:35.462858   369.07         475   \n",
       "\n",
       "  TransactionType      Location  IsFraud  \n",
       "0          refund   San Antonio        0  \n",
       "1          refund        Dallas        0  \n",
       "2        purchase      New York        0  \n",
       "3        purchase  Philadelphia        0  \n",
       "4        purchase       Phoenix        0  "
      ]
     },
     "execution_count": 3,
     "metadata": {},
     "output_type": "execute_result"
    }
   ],
   "source": [
    "df.head()"
   ]
  },
  {
   "cell_type": "code",
   "execution_count": 4,
   "id": "15eb6cbe",
   "metadata": {
    "execution": {
     "iopub.execute_input": "2024-10-22T13:08:38.262421Z",
     "iopub.status.busy": "2024-10-22T13:08:38.262032Z",
     "iopub.status.idle": "2024-10-22T13:08:38.281822Z",
     "shell.execute_reply": "2024-10-22T13:08:38.280685Z"
    },
    "papermill": {
     "duration": 0.030393,
     "end_time": "2024-10-22T13:08:38.284212",
     "exception": false,
     "start_time": "2024-10-22T13:08:38.253819",
     "status": "completed"
    },
    "tags": []
   },
   "outputs": [
    {
     "data": {
      "text/html": [
       "<div>\n",
       "<style scoped>\n",
       "    .dataframe tbody tr th:only-of-type {\n",
       "        vertical-align: middle;\n",
       "    }\n",
       "\n",
       "    .dataframe tbody tr th {\n",
       "        vertical-align: top;\n",
       "    }\n",
       "\n",
       "    .dataframe thead th {\n",
       "        text-align: right;\n",
       "    }\n",
       "</style>\n",
       "<table border=\"1\" class=\"dataframe\">\n",
       "  <thead>\n",
       "    <tr style=\"text-align: right;\">\n",
       "      <th></th>\n",
       "      <th>TransactionID</th>\n",
       "      <th>TransactionDate</th>\n",
       "      <th>Amount</th>\n",
       "      <th>MerchantID</th>\n",
       "      <th>TransactionType</th>\n",
       "      <th>Location</th>\n",
       "      <th>IsFraud</th>\n",
       "    </tr>\n",
       "  </thead>\n",
       "  <tbody>\n",
       "    <tr>\n",
       "      <th>190</th>\n",
       "      <td>191</td>\n",
       "      <td>2024-09-07 18:24:35.463748</td>\n",
       "      <td>1703.80</td>\n",
       "      <td>916</td>\n",
       "      <td>purchase</td>\n",
       "      <td>San Jose</td>\n",
       "      <td>1</td>\n",
       "    </tr>\n",
       "    <tr>\n",
       "      <th>191</th>\n",
       "      <td>192</td>\n",
       "      <td>2024-04-27 01:48:35.463751</td>\n",
       "      <td>4248.10</td>\n",
       "      <td>862</td>\n",
       "      <td>purchase</td>\n",
       "      <td>San Jose</td>\n",
       "      <td>1</td>\n",
       "    </tr>\n",
       "    <tr>\n",
       "      <th>208</th>\n",
       "      <td>209</td>\n",
       "      <td>2023-11-05 01:05:35.463826</td>\n",
       "      <td>1641.32</td>\n",
       "      <td>826</td>\n",
       "      <td>purchase</td>\n",
       "      <td>San Jose</td>\n",
       "      <td>1</td>\n",
       "    </tr>\n",
       "    <tr>\n",
       "      <th>319</th>\n",
       "      <td>320</td>\n",
       "      <td>2024-06-16 18:30:35.464289</td>\n",
       "      <td>281.18</td>\n",
       "      <td>237</td>\n",
       "      <td>purchase</td>\n",
       "      <td>Philadelphia</td>\n",
       "      <td>1</td>\n",
       "    </tr>\n",
       "    <tr>\n",
       "      <th>370</th>\n",
       "      <td>371</td>\n",
       "      <td>2023-10-29 04:09:35.464522</td>\n",
       "      <td>3047.66</td>\n",
       "      <td>789</td>\n",
       "      <td>purchase</td>\n",
       "      <td>New York</td>\n",
       "      <td>1</td>\n",
       "    </tr>\n",
       "    <tr>\n",
       "      <th>...</th>\n",
       "      <td>...</td>\n",
       "      <td>...</td>\n",
       "      <td>...</td>\n",
       "      <td>...</td>\n",
       "      <td>...</td>\n",
       "      <td>...</td>\n",
       "      <td>...</td>\n",
       "    </tr>\n",
       "    <tr>\n",
       "      <th>99392</th>\n",
       "      <td>99393</td>\n",
       "      <td>2024-06-05 00:58:36.024971</td>\n",
       "      <td>3358.10</td>\n",
       "      <td>286</td>\n",
       "      <td>purchase</td>\n",
       "      <td>Chicago</td>\n",
       "      <td>1</td>\n",
       "    </tr>\n",
       "    <tr>\n",
       "      <th>99607</th>\n",
       "      <td>99608</td>\n",
       "      <td>2023-10-27 08:34:36.026018</td>\n",
       "      <td>564.19</td>\n",
       "      <td>454</td>\n",
       "      <td>purchase</td>\n",
       "      <td>Phoenix</td>\n",
       "      <td>1</td>\n",
       "    </tr>\n",
       "    <tr>\n",
       "      <th>99614</th>\n",
       "      <td>99615</td>\n",
       "      <td>2023-11-21 04:18:36.026049</td>\n",
       "      <td>4083.63</td>\n",
       "      <td>514</td>\n",
       "      <td>purchase</td>\n",
       "      <td>Philadelphia</td>\n",
       "      <td>1</td>\n",
       "    </tr>\n",
       "    <tr>\n",
       "      <th>99725</th>\n",
       "      <td>99726</td>\n",
       "      <td>2024-08-30 04:40:36.026481</td>\n",
       "      <td>3825.68</td>\n",
       "      <td>15</td>\n",
       "      <td>refund</td>\n",
       "      <td>Los Angeles</td>\n",
       "      <td>1</td>\n",
       "    </tr>\n",
       "    <tr>\n",
       "      <th>99985</th>\n",
       "      <td>99986</td>\n",
       "      <td>2023-11-09 01:03:36.027557</td>\n",
       "      <td>314.63</td>\n",
       "      <td>108</td>\n",
       "      <td>purchase</td>\n",
       "      <td>San Jose</td>\n",
       "      <td>1</td>\n",
       "    </tr>\n",
       "  </tbody>\n",
       "</table>\n",
       "<p>1000 rows × 7 columns</p>\n",
       "</div>"
      ],
      "text/plain": [
       "       TransactionID             TransactionDate   Amount  MerchantID  \\\n",
       "190              191  2024-09-07 18:24:35.463748  1703.80         916   \n",
       "191              192  2024-04-27 01:48:35.463751  4248.10         862   \n",
       "208              209  2023-11-05 01:05:35.463826  1641.32         826   \n",
       "319              320  2024-06-16 18:30:35.464289   281.18         237   \n",
       "370              371  2023-10-29 04:09:35.464522  3047.66         789   \n",
       "...              ...                         ...      ...         ...   \n",
       "99392          99393  2024-06-05 00:58:36.024971  3358.10         286   \n",
       "99607          99608  2023-10-27 08:34:36.026018   564.19         454   \n",
       "99614          99615  2023-11-21 04:18:36.026049  4083.63         514   \n",
       "99725          99726  2024-08-30 04:40:36.026481  3825.68          15   \n",
       "99985          99986  2023-11-09 01:03:36.027557   314.63         108   \n",
       "\n",
       "      TransactionType      Location  IsFraud  \n",
       "190          purchase      San Jose        1  \n",
       "191          purchase      San Jose        1  \n",
       "208          purchase      San Jose        1  \n",
       "319          purchase  Philadelphia        1  \n",
       "370          purchase      New York        1  \n",
       "...               ...           ...      ...  \n",
       "99392        purchase       Chicago        1  \n",
       "99607        purchase       Phoenix        1  \n",
       "99614        purchase  Philadelphia        1  \n",
       "99725          refund   Los Angeles        1  \n",
       "99985        purchase      San Jose        1  \n",
       "\n",
       "[1000 rows x 7 columns]"
      ]
     },
     "execution_count": 4,
     "metadata": {},
     "output_type": "execute_result"
    }
   ],
   "source": [
    "df[(df.IsFraud==1)]"
   ]
  },
  {
   "cell_type": "code",
   "execution_count": 5,
   "id": "7443b9ad",
   "metadata": {
    "execution": {
     "iopub.execute_input": "2024-10-22T13:08:38.301202Z",
     "iopub.status.busy": "2024-10-22T13:08:38.300802Z",
     "iopub.status.idle": "2024-10-22T13:08:38.326478Z",
     "shell.execute_reply": "2024-10-22T13:08:38.325419Z"
    },
    "papermill": {
     "duration": 0.036395,
     "end_time": "2024-10-22T13:08:38.328780",
     "exception": false,
     "start_time": "2024-10-22T13:08:38.292385",
     "status": "completed"
    },
    "tags": []
   },
   "outputs": [
    {
     "data": {
      "text/plain": [
       "TransactionID      0\n",
       "TransactionDate    0\n",
       "Amount             0\n",
       "MerchantID         0\n",
       "TransactionType    0\n",
       "Location           0\n",
       "IsFraud            0\n",
       "dtype: int64"
      ]
     },
     "execution_count": 5,
     "metadata": {},
     "output_type": "execute_result"
    }
   ],
   "source": [
    "df.isnull().sum()"
   ]
  },
  {
   "cell_type": "code",
   "execution_count": 6,
   "id": "e4ba51ff",
   "metadata": {
    "execution": {
     "iopub.execute_input": "2024-10-22T13:08:38.345070Z",
     "iopub.status.busy": "2024-10-22T13:08:38.344667Z",
     "iopub.status.idle": "2024-10-22T13:08:38.356933Z",
     "shell.execute_reply": "2024-10-22T13:08:38.355912Z"
    },
    "papermill": {
     "duration": 0.023197,
     "end_time": "2024-10-22T13:08:38.359317",
     "exception": false,
     "start_time": "2024-10-22T13:08:38.336120",
     "status": "completed"
    },
    "tags": []
   },
   "outputs": [],
   "source": [
    "df1=df.drop(columns=['TransactionID'])"
   ]
  },
  {
   "cell_type": "code",
   "execution_count": 7,
   "id": "4972e4b2",
   "metadata": {
    "execution": {
     "iopub.execute_input": "2024-10-22T13:08:38.375500Z",
     "iopub.status.busy": "2024-10-22T13:08:38.375106Z",
     "iopub.status.idle": "2024-10-22T13:08:38.390678Z",
     "shell.execute_reply": "2024-10-22T13:08:38.389661Z"
    },
    "papermill": {
     "duration": 0.026051,
     "end_time": "2024-10-22T13:08:38.392793",
     "exception": false,
     "start_time": "2024-10-22T13:08:38.366742",
     "status": "completed"
    },
    "tags": []
   },
   "outputs": [
    {
     "data": {
      "text/html": [
       "<div>\n",
       "<style scoped>\n",
       "    .dataframe tbody tr th:only-of-type {\n",
       "        vertical-align: middle;\n",
       "    }\n",
       "\n",
       "    .dataframe tbody tr th {\n",
       "        vertical-align: top;\n",
       "    }\n",
       "\n",
       "    .dataframe thead th {\n",
       "        text-align: right;\n",
       "    }\n",
       "</style>\n",
       "<table border=\"1\" class=\"dataframe\">\n",
       "  <thead>\n",
       "    <tr style=\"text-align: right;\">\n",
       "      <th></th>\n",
       "      <th>TransactionDate</th>\n",
       "      <th>Amount</th>\n",
       "      <th>MerchantID</th>\n",
       "      <th>TransactionType</th>\n",
       "      <th>Location</th>\n",
       "      <th>IsFraud</th>\n",
       "    </tr>\n",
       "  </thead>\n",
       "  <tbody>\n",
       "    <tr>\n",
       "      <th>0</th>\n",
       "      <td>2024-04-03 14:15:35.462794</td>\n",
       "      <td>4189.27</td>\n",
       "      <td>688</td>\n",
       "      <td>refund</td>\n",
       "      <td>San Antonio</td>\n",
       "      <td>0</td>\n",
       "    </tr>\n",
       "    <tr>\n",
       "      <th>1</th>\n",
       "      <td>2024-03-19 13:20:35.462824</td>\n",
       "      <td>2659.71</td>\n",
       "      <td>109</td>\n",
       "      <td>refund</td>\n",
       "      <td>Dallas</td>\n",
       "      <td>0</td>\n",
       "    </tr>\n",
       "    <tr>\n",
       "      <th>2</th>\n",
       "      <td>2024-01-08 10:08:35.462834</td>\n",
       "      <td>784.00</td>\n",
       "      <td>394</td>\n",
       "      <td>purchase</td>\n",
       "      <td>New York</td>\n",
       "      <td>0</td>\n",
       "    </tr>\n",
       "    <tr>\n",
       "      <th>3</th>\n",
       "      <td>2024-04-13 23:50:35.462850</td>\n",
       "      <td>3514.40</td>\n",
       "      <td>944</td>\n",
       "      <td>purchase</td>\n",
       "      <td>Philadelphia</td>\n",
       "      <td>0</td>\n",
       "    </tr>\n",
       "    <tr>\n",
       "      <th>4</th>\n",
       "      <td>2024-07-12 18:51:35.462858</td>\n",
       "      <td>369.07</td>\n",
       "      <td>475</td>\n",
       "      <td>purchase</td>\n",
       "      <td>Phoenix</td>\n",
       "      <td>0</td>\n",
       "    </tr>\n",
       "    <tr>\n",
       "      <th>...</th>\n",
       "      <td>...</td>\n",
       "      <td>...</td>\n",
       "      <td>...</td>\n",
       "      <td>...</td>\n",
       "      <td>...</td>\n",
       "      <td>...</td>\n",
       "    </tr>\n",
       "    <tr>\n",
       "      <th>99995</th>\n",
       "      <td>2024-06-07 00:57:36.027591</td>\n",
       "      <td>1057.29</td>\n",
       "      <td>289</td>\n",
       "      <td>refund</td>\n",
       "      <td>San Antonio</td>\n",
       "      <td>0</td>\n",
       "    </tr>\n",
       "    <tr>\n",
       "      <th>99996</th>\n",
       "      <td>2023-10-22 23:12:36.027594</td>\n",
       "      <td>297.25</td>\n",
       "      <td>745</td>\n",
       "      <td>refund</td>\n",
       "      <td>San Antonio</td>\n",
       "      <td>0</td>\n",
       "    </tr>\n",
       "    <tr>\n",
       "      <th>99997</th>\n",
       "      <td>2024-05-31 19:27:36.027597</td>\n",
       "      <td>3448.56</td>\n",
       "      <td>690</td>\n",
       "      <td>purchase</td>\n",
       "      <td>San Antonio</td>\n",
       "      <td>0</td>\n",
       "    </tr>\n",
       "    <tr>\n",
       "      <th>99998</th>\n",
       "      <td>2024-10-18 09:43:36.027601</td>\n",
       "      <td>3750.79</td>\n",
       "      <td>644</td>\n",
       "      <td>purchase</td>\n",
       "      <td>Philadelphia</td>\n",
       "      <td>0</td>\n",
       "    </tr>\n",
       "    <tr>\n",
       "      <th>99999</th>\n",
       "      <td>2024-03-05 19:41:36.027606</td>\n",
       "      <td>1596.79</td>\n",
       "      <td>675</td>\n",
       "      <td>refund</td>\n",
       "      <td>Houston</td>\n",
       "      <td>0</td>\n",
       "    </tr>\n",
       "  </tbody>\n",
       "</table>\n",
       "<p>100000 rows × 6 columns</p>\n",
       "</div>"
      ],
      "text/plain": [
       "                  TransactionDate   Amount  MerchantID TransactionType  \\\n",
       "0      2024-04-03 14:15:35.462794  4189.27         688          refund   \n",
       "1      2024-03-19 13:20:35.462824  2659.71         109          refund   \n",
       "2      2024-01-08 10:08:35.462834   784.00         394        purchase   \n",
       "3      2024-04-13 23:50:35.462850  3514.40         944        purchase   \n",
       "4      2024-07-12 18:51:35.462858   369.07         475        purchase   \n",
       "...                           ...      ...         ...             ...   \n",
       "99995  2024-06-07 00:57:36.027591  1057.29         289          refund   \n",
       "99996  2023-10-22 23:12:36.027594   297.25         745          refund   \n",
       "99997  2024-05-31 19:27:36.027597  3448.56         690        purchase   \n",
       "99998  2024-10-18 09:43:36.027601  3750.79         644        purchase   \n",
       "99999  2024-03-05 19:41:36.027606  1596.79         675          refund   \n",
       "\n",
       "           Location  IsFraud  \n",
       "0       San Antonio        0  \n",
       "1            Dallas        0  \n",
       "2          New York        0  \n",
       "3      Philadelphia        0  \n",
       "4           Phoenix        0  \n",
       "...             ...      ...  \n",
       "99995   San Antonio        0  \n",
       "99996   San Antonio        0  \n",
       "99997   San Antonio        0  \n",
       "99998  Philadelphia        0  \n",
       "99999       Houston        0  \n",
       "\n",
       "[100000 rows x 6 columns]"
      ]
     },
     "execution_count": 7,
     "metadata": {},
     "output_type": "execute_result"
    }
   ],
   "source": [
    "df1"
   ]
  },
  {
   "cell_type": "markdown",
   "id": "30fd5ee6",
   "metadata": {
    "papermill": {
     "duration": 0.007659,
     "end_time": "2024-10-22T13:08:38.408076",
     "exception": false,
     "start_time": "2024-10-22T13:08:38.400417",
     "status": "completed"
    },
    "tags": []
   },
   "source": [
    "## TOP MERCHANTS WITH HIGHEST FRAUDS "
   ]
  },
  {
   "cell_type": "code",
   "execution_count": 8,
   "id": "38b51652",
   "metadata": {
    "execution": {
     "iopub.execute_input": "2024-10-22T13:08:38.425308Z",
     "iopub.status.busy": "2024-10-22T13:08:38.424774Z",
     "iopub.status.idle": "2024-10-22T13:08:40.474871Z",
     "shell.execute_reply": "2024-10-22T13:08:40.473708Z"
    },
    "papermill": {
     "duration": 2.061271,
     "end_time": "2024-10-22T13:08:40.477090",
     "exception": false,
     "start_time": "2024-10-22T13:08:38.415819",
     "status": "completed"
    },
    "tags": []
   },
   "outputs": [
    {
     "data": {
      "text/plain": [
       "<Axes: xlabel='MerchantID', ylabel='IsFraud'>"
      ]
     },
     "execution_count": 8,
     "metadata": {},
     "output_type": "execute_result"
    },
    {
     "data": {
      "image/png": "[encoded data removed]",
      "text/plain": [
       "<Figure size 1500x500 with 1 Axes>"
      ]
     },
     "metadata": {},
     "output_type": "display_data"
    }
   ],
   "source": [
    "import matplotlib.pyplot as plt \n",
    "import seaborn as sns\n",
    "df2=df1.groupby(['MerchantID']).agg({\"IsFraud\":\"sum\"}).reset_index().sort_values(by='IsFraud',ascending=False)\n",
    "plt.figure(figsize=(15,5))\n",
    "sns.barplot(x='MerchantID',y='IsFraud',data=df2[df2.IsFraud>=4])"
   ]
  },
  {
   "cell_type": "markdown",
   "id": "0ccd0b37",
   "metadata": {
    "papermill": {
     "duration": 0.007985,
     "end_time": "2024-10-22T13:08:40.493363",
     "exception": false,
     "start_time": "2024-10-22T13:08:40.485378",
     "status": "completed"
    },
    "tags": []
   },
   "source": [
    "## TOP LOCATIONS WHERE FRAUD IS MORE IN NUMBER"
   ]
  },
  {
   "cell_type": "code",
   "execution_count": 9,
   "id": "fef01cd1",
   "metadata": {
    "execution": {
     "iopub.execute_input": "2024-10-22T13:08:40.511739Z",
     "iopub.status.busy": "2024-10-22T13:08:40.510812Z",
     "iopub.status.idle": "2024-10-22T13:08:40.815529Z",
     "shell.execute_reply": "2024-10-22T13:08:40.814071Z"
    },
    "papermill": {
     "duration": 0.316791,
     "end_time": "2024-10-22T13:08:40.818208",
     "exception": false,
     "start_time": "2024-10-22T13:08:40.501417",
     "status": "completed"
    },
    "tags": []
   },
   "outputs": [
    {
     "data": {
      "text/plain": [
       "<Axes: xlabel='Location', ylabel='IsFraud'>"
      ]
     },
     "execution_count": 9,
     "metadata": {},
     "output_type": "execute_result"
    },
    {
     "data": {
      "image/png": "[encoded data removed]",
      "text/plain": [
       "<Figure size 1500x500 with 1 Axes>"
      ]
     },
     "metadata": {},
     "output_type": "display_data"
    }
   ],
   "source": [
    "df2=df1.groupby(['Location']).agg({\"IsFraud\":\"sum\"}).reset_index().sort_values(by='IsFraud',ascending=False)\n",
    "plt.figure(figsize=(15,5))\n",
    "sns.barplot(x='Location',y='IsFraud',data=df2[df2.IsFraud>=4])\n"
   ]
  },
  {
   "cell_type": "markdown",
   "id": "05796218",
   "metadata": {
    "papermill": {
     "duration": 0.009175,
     "end_time": "2024-10-22T13:08:40.836294",
     "exception": false,
     "start_time": "2024-10-22T13:08:40.827119",
     "status": "completed"
    },
    "tags": []
   },
   "source": [
    "## LOCATIONS WITH LEAST FRAUDS"
   ]
  },
  {
   "cell_type": "code",
   "execution_count": 10,
   "id": "1f3e12de",
   "metadata": {
    "execution": {
     "iopub.execute_input": "2024-10-22T13:08:40.856150Z",
     "iopub.status.busy": "2024-10-22T13:08:40.855130Z",
     "iopub.status.idle": "2024-10-22T13:08:41.051183Z",
     "shell.execute_reply": "2024-10-22T13:08:41.050119Z"
    },
    "papermill": {
     "duration": 0.208618,
     "end_time": "2024-10-22T13:08:41.053484",
     "exception": false,
     "start_time": "2024-10-22T13:08:40.844866",
     "status": "completed"
    },
    "tags": []
   },
   "outputs": [
    {
     "data": {
      "text/plain": [
       "<Axes: xlabel='Location', ylabel='IsFraud'>"
      ]
     },
     "execution_count": 10,
     "metadata": {},
     "output_type": "execute_result"
    },
    {
     "data": {
      "image/png": "[encoded data removed]",
      "text/plain": [
       "<Figure size 1500x500 with 1 Axes>"
      ]
     },
     "metadata": {},
     "output_type": "display_data"
    }
   ],
   "source": [
    "df2=df1.groupby(['Location']).agg({\"IsFraud\":\"sum\"}).reset_index().sort_values(by='IsFraud',ascending=True)\n",
    "plt.figure(figsize=(15,5))\n",
    "sns.barplot(x='Location',y='IsFraud',data=df2.head(3))\n"
   ]
  },
  {
   "cell_type": "markdown",
   "id": "0d7dc49a",
   "metadata": {
    "papermill": {
     "duration": 0.008688,
     "end_time": "2024-10-22T13:08:41.071114",
     "exception": false,
     "start_time": "2024-10-22T13:08:41.062426",
     "status": "completed"
    },
    "tags": []
   },
   "source": [
    "## AVG AMOUNT THAT IS FLAGGED AS FRAUD"
   ]
  },
  {
   "cell_type": "code",
   "execution_count": 11,
   "id": "ba6e9e90",
   "metadata": {
    "execution": {
     "iopub.execute_input": "2024-10-22T13:08:41.091562Z",
     "iopub.status.busy": "2024-10-22T13:08:41.091149Z",
     "iopub.status.idle": "2024-10-22T13:08:41.420861Z",
     "shell.execute_reply": "2024-10-22T13:08:41.419561Z"
    },
    "papermill": {
     "duration": 0.343194,
     "end_time": "2024-10-22T13:08:41.423360",
     "exception": false,
     "start_time": "2024-10-22T13:08:41.080166",
     "status": "completed"
    },
    "tags": []
   },
   "outputs": [
    {
     "name": "stderr",
     "output_type": "stream",
     "text": [
      "/opt/conda/lib/python3.10/site-packages/seaborn/_oldcore.py:1119: FutureWarning: use_inf_as_na option is deprecated and will be removed in a future version. Convert inf values to NaN before operating instead.\n",
      "  with pd.option_context('mode.use_inf_as_na', True):\n",
      "/opt/conda/lib/python3.10/site-packages/seaborn/_oldcore.py:1119: FutureWarning: use_inf_as_na option is deprecated and will be removed in a future version. Convert inf values to NaN before operating instead.\n",
      "  with pd.option_context('mode.use_inf_as_na', True):\n",
      "/opt/conda/lib/python3.10/site-packages/seaborn/_oldcore.py:1075: FutureWarning: When grouping with a length-1 list-like, you will need to pass a length-1 tuple to get_group in a future version of pandas. Pass `(name,)` instead of `name` to silence this warning.\n",
      "  data_subset = grouped_data.get_group(pd_key)\n",
      "/opt/conda/lib/python3.10/site-packages/seaborn/_oldcore.py:1075: FutureWarning: When grouping with a length-1 list-like, you will need to pass a length-1 tuple to get_group in a future version of pandas. Pass `(name,)` instead of `name` to silence this warning.\n",
      "  data_subset = grouped_data.get_group(pd_key)\n"
     ]
    },
    {
     "data": {
      "text/plain": [
       "<Axes: xlabel='IsFraud', ylabel='Amount'>"
      ]
     },
     "execution_count": 11,
     "metadata": {},
     "output_type": "execute_result"
    },
    {
     "data": {
      "image/png": "[encoded data removed]",
      "text/plain": [
       "<Figure size 640x480 with 1 Axes>"
      ]
     },
     "metadata": {},
     "output_type": "display_data"
    }
   ],
   "source": [
    "df2=df1.groupby(['IsFraud','TransactionType']).agg({\"Amount\":\"mean\"}).reset_index()\n",
    "sns.lineplot(x='IsFraud',y='Amount',data=df2,hue='TransactionType')\n"
   ]
  },
  {
   "cell_type": "markdown",
   "id": "98c71d2f",
   "metadata": {
    "papermill": {
     "duration": 0.00957,
     "end_time": "2024-10-22T13:08:41.442916",
     "exception": false,
     "start_time": "2024-10-22T13:08:41.433346",
     "status": "completed"
    },
    "tags": []
   },
   "source": [
    "### Inference:\n",
    "1. Few merchants are known to commit fraudalant transactions\n",
    "2. Frauds happen more in New York, San Diego,Houston while lesser in Sanjose, Philadelphia and Chicago\n",
    "3. Mean amount marked as fraudalent is more than 2515 for purchase as well as for refund. Where as amount around 2400 is not marked as fraud\n"
   ]
  },
  {
   "cell_type": "markdown",
   "id": "5dde88fa",
   "metadata": {
    "papermill": {
     "duration": 0.009356,
     "end_time": "2024-10-22T13:08:41.461902",
     "exception": false,
     "start_time": "2024-10-22T13:08:41.452546",
     "status": "completed"
    },
    "tags": []
   },
   "source": [
    "## Data Transformations and Predictions"
   ]
  },
  {
   "cell_type": "code",
   "execution_count": 12,
   "id": "965784f1",
   "metadata": {
    "execution": {
     "iopub.execute_input": "2024-10-22T13:08:41.483960Z",
     "iopub.status.busy": "2024-10-22T13:08:41.483506Z",
     "iopub.status.idle": "2024-10-22T13:08:42.219363Z",
     "shell.execute_reply": "2024-10-22T13:08:42.217762Z"
    },
    "papermill": {
     "duration": 0.750692,
     "end_time": "2024-10-22T13:08:42.222327",
     "exception": false,
     "start_time": "2024-10-22T13:08:41.471635",
     "status": "completed"
    },
    "tags": []
   },
   "outputs": [],
   "source": [
    "from sklearn.compose import ColumnTransformer\n",
    "from sklearn.preprocessing import OneHotEncoder,OrdinalEncoder\n",
    "from sklearn.model_selection import train_test_split\n",
    "from sklearn.ensemble import RandomForestClassifier\n",
    "from xgboost import XGBClassifier\n",
    "from sklearn.tree import DecisionTreeClassifier\n",
    "from sklearn.linear_model import LogisticRegression\n",
    "from sklearn.metrics import confusion_matrix,classification_report,accuracy_score"
   ]
  },
  {
   "cell_type": "code",
   "execution_count": 13,
   "id": "dec8116b",
   "metadata": {
    "execution": {
     "iopub.execute_input": "2024-10-22T13:08:42.247500Z",
     "iopub.status.busy": "2024-10-22T13:08:42.245780Z",
     "iopub.status.idle": "2024-10-22T13:08:42.261979Z",
     "shell.execute_reply": "2024-10-22T13:08:42.260730Z"
    },
    "papermill": {
     "duration": 0.0318,
     "end_time": "2024-10-22T13:08:42.264994",
     "exception": false,
     "start_time": "2024-10-22T13:08:42.233194",
     "status": "completed"
    },
    "tags": []
   },
   "outputs": [
    {
     "data": {
      "text/html": [
       "<div>\n",
       "<style scoped>\n",
       "    .dataframe tbody tr th:only-of-type {\n",
       "        vertical-align: middle;\n",
       "    }\n",
       "\n",
       "    .dataframe tbody tr th {\n",
       "        vertical-align: top;\n",
       "    }\n",
       "\n",
       "    .dataframe thead th {\n",
       "        text-align: right;\n",
       "    }\n",
       "</style>\n",
       "<table border=\"1\" class=\"dataframe\">\n",
       "  <thead>\n",
       "    <tr style=\"text-align: right;\">\n",
       "      <th></th>\n",
       "      <th>TransactionDate</th>\n",
       "      <th>Amount</th>\n",
       "      <th>MerchantID</th>\n",
       "      <th>TransactionType</th>\n",
       "      <th>Location</th>\n",
       "      <th>IsFraud</th>\n",
       "    </tr>\n",
       "  </thead>\n",
       "  <tbody>\n",
       "    <tr>\n",
       "      <th>0</th>\n",
       "      <td>2024-04-03 14:15:35.462794</td>\n",
       "      <td>4189.27</td>\n",
       "      <td>688</td>\n",
       "      <td>refund</td>\n",
       "      <td>San Antonio</td>\n",
       "      <td>0</td>\n",
       "    </tr>\n",
       "    <tr>\n",
       "      <th>1</th>\n",
       "      <td>2024-03-19 13:20:35.462824</td>\n",
       "      <td>2659.71</td>\n",
       "      <td>109</td>\n",
       "      <td>refund</td>\n",
       "      <td>Dallas</td>\n",
       "      <td>0</td>\n",
       "    </tr>\n",
       "    <tr>\n",
       "      <th>2</th>\n",
       "      <td>2024-01-08 10:08:35.462834</td>\n",
       "      <td>784.00</td>\n",
       "      <td>394</td>\n",
       "      <td>purchase</td>\n",
       "      <td>New York</td>\n",
       "      <td>0</td>\n",
       "    </tr>\n",
       "    <tr>\n",
       "      <th>3</th>\n",
       "      <td>2024-04-13 23:50:35.462850</td>\n",
       "      <td>3514.40</td>\n",
       "      <td>944</td>\n",
       "      <td>purchase</td>\n",
       "      <td>Philadelphia</td>\n",
       "      <td>0</td>\n",
       "    </tr>\n",
       "    <tr>\n",
       "      <th>4</th>\n",
       "      <td>2024-07-12 18:51:35.462858</td>\n",
       "      <td>369.07</td>\n",
       "      <td>475</td>\n",
       "      <td>purchase</td>\n",
       "      <td>Phoenix</td>\n",
       "      <td>0</td>\n",
       "    </tr>\n",
       "  </tbody>\n",
       "</table>\n",
       "</div>"
      ],
      "text/plain": [
       "              TransactionDate   Amount  MerchantID TransactionType  \\\n",
       "0  2024-04-03 14:15:35.462794  4189.27         688          refund   \n",
       "1  2024-03-19 13:20:35.462824  2659.71         109          refund   \n",
       "2  2024-01-08 10:08:35.462834   784.00         394        purchase   \n",
       "3  2024-04-13 23:50:35.462850  3514.40         944        purchase   \n",
       "4  2024-07-12 18:51:35.462858   369.07         475        purchase   \n",
       "\n",
       "       Location  IsFraud  \n",
       "0   San Antonio        0  \n",
       "1        Dallas        0  \n",
       "2      New York        0  \n",
       "3  Philadelphia        0  \n",
       "4       Phoenix        0  "
      ]
     },
     "execution_count": 13,
     "metadata": {},
     "output_type": "execute_result"
    }
   ],
   "source": [
    "df1.head()"
   ]
  },
  {
   "cell_type": "markdown",
   "id": "79075a83",
   "metadata": {
    "papermill": {
     "duration": 0.01202,
     "end_time": "2024-10-22T13:08:42.287268",
     "exception": false,
     "start_time": "2024-10-22T13:08:42.275248",
     "status": "completed"
    },
    "tags": []
   },
   "source": [
    "#### We will take Amount,MerchantID,TransactionType,Location as Features whereas IsFraud as Target Variable"
   ]
  },
  {
   "cell_type": "code",
   "execution_count": 14,
   "id": "d6d2d57d",
   "metadata": {
    "execution": {
     "iopub.execute_input": "2024-10-22T13:08:42.311113Z",
     "iopub.status.busy": "2024-10-22T13:08:42.310695Z",
     "iopub.status.idle": "2024-10-22T13:08:42.315983Z",
     "shell.execute_reply": "2024-10-22T13:08:42.314851Z"
    },
    "papermill": {
     "duration": 0.019455,
     "end_time": "2024-10-22T13:08:42.318414",
     "exception": false,
     "start_time": "2024-10-22T13:08:42.298959",
     "status": "completed"
    },
    "tags": []
   },
   "outputs": [],
   "source": [
    "features=['Amount','MerchantID','TransactionType','Location']\n",
    "target='IsFraud'\n"
   ]
  },
  {
   "cell_type": "code",
   "execution_count": 15,
   "id": "bd753ca1",
   "metadata": {
    "execution": {
     "iopub.execute_input": "2024-10-22T13:08:42.342203Z",
     "iopub.status.busy": "2024-10-22T13:08:42.341773Z",
     "iopub.status.idle": "2024-10-22T13:08:42.377841Z",
     "shell.execute_reply": "2024-10-22T13:08:42.376617Z"
    },
    "papermill": {
     "duration": 0.051972,
     "end_time": "2024-10-22T13:08:42.381560",
     "exception": false,
     "start_time": "2024-10-22T13:08:42.329588",
     "status": "completed"
    },
    "tags": []
   },
   "outputs": [],
   "source": [
    "X=df1[features]\n",
    "y=df[target]\n",
    "X_train,X_test,Y_train,Y_test = train_test_split(X,y,test_size=0.25,random_state=42)\n",
    "transformer = ColumnTransformer(\n",
    "    [\n",
    "       (\"encoder\",OneHotEncoder(),['TransactionType','Location'])\n",
    "    ]\n",
    ")"
   ]
  },
  {
   "cell_type": "code",
   "execution_count": 16,
   "id": "8f6f132b",
   "metadata": {
    "execution": {
     "iopub.execute_input": "2024-10-22T13:08:42.405066Z",
     "iopub.status.busy": "2024-10-22T13:08:42.404446Z",
     "iopub.status.idle": "2024-10-22T13:08:42.459546Z",
     "shell.execute_reply": "2024-10-22T13:08:42.458261Z"
    },
    "papermill": {
     "duration": 0.069399,
     "end_time": "2024-10-22T13:08:42.462171",
     "exception": false,
     "start_time": "2024-10-22T13:08:42.392772",
     "status": "completed"
    },
    "tags": []
   },
   "outputs": [],
   "source": [
    "X_train_transformed = transformer.fit_transform(X_train)"
   ]
  },
  {
   "cell_type": "code",
   "execution_count": 17,
   "id": "a86a508d",
   "metadata": {
    "execution": {
     "iopub.execute_input": "2024-10-22T13:08:42.485927Z",
     "iopub.status.busy": "2024-10-22T13:08:42.485480Z",
     "iopub.status.idle": "2024-10-22T13:08:42.506820Z",
     "shell.execute_reply": "2024-10-22T13:08:42.505615Z"
    },
    "papermill": {
     "duration": 0.035931,
     "end_time": "2024-10-22T13:08:42.509756",
     "exception": false,
     "start_time": "2024-10-22T13:08:42.473825",
     "status": "completed"
    },
    "tags": []
   },
   "outputs": [],
   "source": [
    "X_test_transformed = transformer.transform(X_test)"
   ]
  },
  {
   "cell_type": "code",
   "execution_count": 18,
   "id": "3041783d",
   "metadata": {
    "execution": {
     "iopub.execute_input": "2024-10-22T13:08:42.533211Z",
     "iopub.status.busy": "2024-10-22T13:08:42.532785Z",
     "iopub.status.idle": "2024-10-22T13:08:42.539811Z",
     "shell.execute_reply": "2024-10-22T13:08:42.538718Z"
    },
    "papermill": {
     "duration": 0.021995,
     "end_time": "2024-10-22T13:08:42.542241",
     "exception": false,
     "start_time": "2024-10-22T13:08:42.520246",
     "status": "completed"
    },
    "tags": []
   },
   "outputs": [],
   "source": [
    "models ={\"randomForest\":RandomForestClassifier(),\n",
    "        \"DecisionTree\":DecisionTreeClassifier(),\n",
    "        \"XGBClassifier\":XGBClassifier(),\n",
    "        \"LogisticRegression\":LogisticRegression()   \n",
    "        }"
   ]
  },
  {
   "cell_type": "code",
   "execution_count": 19,
   "id": "3f1aa0f4",
   "metadata": {
    "execution": {
     "iopub.execute_input": "2024-10-22T13:08:42.565169Z",
     "iopub.status.busy": "2024-10-22T13:08:42.564743Z",
     "iopub.status.idle": "2024-10-22T13:08:47.227102Z",
     "shell.execute_reply": "2024-10-22T13:08:47.225663Z"
    },
    "papermill": {
     "duration": 4.677188,
     "end_time": "2024-10-22T13:08:47.229834",
     "exception": false,
     "start_time": "2024-10-22T13:08:42.552646",
     "status": "completed"
    },
    "tags": []
   },
   "outputs": [],
   "source": [
    "accuracies=[]\n",
    "for name,model in models.items():\n",
    "    model.fit(X_train_transformed,Y_train)\n",
    "    ypred = model.predict(X_test_transformed)\n",
    "    accuracies.append({\"Model\":name,\"Accuracy\":accuracy_score(Y_test,ypred)})\n",
    "    "
   ]
  },
  {
   "cell_type": "code",
   "execution_count": 20,
   "id": "dbec2a92",
   "metadata": {
    "execution": {
     "iopub.execute_input": "2024-10-22T13:08:47.253556Z",
     "iopub.status.busy": "2024-10-22T13:08:47.253124Z",
     "iopub.status.idle": "2024-10-22T13:08:47.260732Z",
     "shell.execute_reply": "2024-10-22T13:08:47.259356Z"
    },
    "papermill": {
     "duration": 0.022916,
     "end_time": "2024-10-22T13:08:47.263306",
     "exception": false,
     "start_time": "2024-10-22T13:08:47.240390",
     "status": "completed"
    },
    "tags": []
   },
   "outputs": [
    {
     "data": {
      "text/plain": [
       "[{'Model': 'randomForest', 'Accuracy': 0.98956},\n",
       " {'Model': 'DecisionTree', 'Accuracy': 0.98956},\n",
       " {'Model': 'XGBClassifier', 'Accuracy': 0.98956},\n",
       " {'Model': 'LogisticRegression', 'Accuracy': 0.98956}]"
      ]
     },
     "execution_count": 20,
     "metadata": {},
     "output_type": "execute_result"
    }
   ],
   "source": [
    "accuracies"
   ]
  },
  {
   "cell_type": "code",
   "execution_count": 21,
   "id": "5282d7cd",
   "metadata": {
    "execution": {
     "iopub.execute_input": "2024-10-22T13:08:47.287560Z",
     "iopub.status.busy": "2024-10-22T13:08:47.287151Z",
     "iopub.status.idle": "2024-10-22T13:08:47.335571Z",
     "shell.execute_reply": "2024-10-22T13:08:47.334335Z"
    },
    "papermill": {
     "duration": 0.063266,
     "end_time": "2024-10-22T13:08:47.338214",
     "exception": false,
     "start_time": "2024-10-22T13:08:47.274948",
     "status": "completed"
    },
    "tags": []
   },
   "outputs": [
    {
     "name": "stdout",
     "output_type": "stream",
     "text": [
      "              precision    recall  f1-score   support\n",
      "\n",
      "           0       0.99      1.00      0.99     24739\n",
      "           1       0.00      0.00      0.00       261\n",
      "\n",
      "    accuracy                           0.99     25000\n",
      "   macro avg       0.49      0.50      0.50     25000\n",
      "weighted avg       0.98      0.99      0.98     25000\n",
      "\n"
     ]
    },
    {
     "name": "stderr",
     "output_type": "stream",
     "text": [
      "/opt/conda/lib/python3.10/site-packages/sklearn/metrics/_classification.py:1344: UndefinedMetricWarning: Precision and F-score are ill-defined and being set to 0.0 in labels with no predicted samples. Use `zero_division` parameter to control this behavior.\n",
      "  _warn_prf(average, modifier, msg_start, len(result))\n",
      "/opt/conda/lib/python3.10/site-packages/sklearn/metrics/_classification.py:1344: UndefinedMetricWarning: Precision and F-score are ill-defined and being set to 0.0 in labels with no predicted samples. Use `zero_division` parameter to control this behavior.\n",
      "  _warn_prf(average, modifier, msg_start, len(result))\n",
      "/opt/conda/lib/python3.10/site-packages/sklearn/metrics/_classification.py:1344: UndefinedMetricWarning: Precision and F-score are ill-defined and being set to 0.0 in labels with no predicted samples. Use `zero_division` parameter to control this behavior.\n",
      "  _warn_prf(average, modifier, msg_start, len(result))\n"
     ]
    }
   ],
   "source": [
    "print(classification_report(Y_test,ypred))"
   ]
  },
  {
   "cell_type": "code",
   "execution_count": 22,
   "id": "fb1f9352",
   "metadata": {
    "execution": {
     "iopub.execute_input": "2024-10-22T13:08:47.360760Z",
     "iopub.status.busy": "2024-10-22T13:08:47.360298Z",
     "iopub.status.idle": "2024-10-22T13:08:47.372369Z",
     "shell.execute_reply": "2024-10-22T13:08:47.371308Z"
    },
    "papermill": {
     "duration": 0.026268,
     "end_time": "2024-10-22T13:08:47.374703",
     "exception": false,
     "start_time": "2024-10-22T13:08:47.348435",
     "status": "completed"
    },
    "tags": []
   },
   "outputs": [
    {
     "data": {
      "text/plain": [
       "array([[24739,     0],\n",
       "       [  261,     0]])"
      ]
     },
     "execution_count": 22,
     "metadata": {},
     "output_type": "execute_result"
    }
   ],
   "source": [
    "confusion_matrix(Y_test,ypred)"
   ]
  },
  {
   "cell_type": "code",
   "execution_count": null,
   "id": "290367ad",
   "metadata": {
    "papermill": {
     "duration": 0.009897,
     "end_time": "2024-10-22T13:08:47.395339",
     "exception": false,
     "start_time": "2024-10-22T13:08:47.385442",
     "status": "completed"
    },
    "tags": []
   },
   "outputs": [],
   "source": []
  }
 ],
 "metadata": {
  "kaggle": {
   "accelerator": "none",
   "dataSources": [
    {
     "datasetId": 5917849,
     "sourceId": 9681626,
     "sourceType": "datasetVersion"
    }
   ],
   "dockerImageVersionId": 30786,
   "isGpuEnabled": false,
   "isInternetEnabled": true,
   "language": "python",
   "sourceType": "notebook"
  },
  "kernelspec": {
   "display_name": "Python 3",
   "language": "python",
   "name": "python3"
  },
  "language_info": {
   "codemirror_mode": {
    "name": "ipython",
    "version": 3
   },
   "file_extension": ".py",
   "mimetype": "text/x-python",
   "name": "python",
   "nbconvert_exporter": "python",
   "pygments_lexer": "ipython3",
   "version": "3.10.14"
  },
  "papermill": {
   "default_parameters": {},
   "duration": 13.904712,
   "end_time": "2024-10-22T13:08:48.128339",
   "environment_variables": {},
   "exception": null,
   "input_path": "__notebook__.ipynb",
   "output_path": "__notebook__.ipynb",
   "parameters": {},
   "start_time": "2024-10-22T13:08:34.223627",
   "version": "2.6.0"
  }
 },
 "nbformat": 4,
 "nbformat_minor": 5
}
