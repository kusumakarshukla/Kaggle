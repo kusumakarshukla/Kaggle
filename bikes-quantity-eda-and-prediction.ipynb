{
 "cells": [
  {
   "cell_type": "code",
   "execution_count": 1,
   "id": "84be97b0",
   "metadata": {
    "_cell_guid": "b1076dfc-b9ad-4769-8c92-a6c4dae69d19",
    "_uuid": "8f2839f25d086af736a60e9eeb907d3b93b6e0e5",
    "execution": {
     "iopub.execute_input": "2024-10-01T08:43:11.024302Z",
     "iopub.status.busy": "2024-10-01T08:43:11.023724Z",
     "iopub.status.idle": "2024-10-01T08:43:12.108414Z",
     "shell.execute_reply": "2024-10-01T08:43:12.107110Z"
    },
    "papermill": {
     "duration": 1.107602,
     "end_time": "2024-10-01T08:43:12.111442",
     "exception": false,
     "start_time": "2024-10-01T08:43:11.003840",
     "status": "completed"
    },
    "tags": []
   },
   "outputs": [
    {
     "name": "stdout",
     "output_type": "stream",
     "text": [
      "/kaggle/input/bike-sales-data-of-100k/bike_sales_100k.csv\n"
     ]
    }
   ],
   "source": [
    "# This Python 3 environment comes with many helpful analytics libraries installed\n",
    "# It is defined by the kaggle/python Docker image: https://github.com/kaggle/docker-python\n",
    "# For example, here's several helpful packages to load\n",
    "\n",
    "import numpy as np # linear algebra\n",
    "import pandas as pd # data processing, CSV file I/O (e.g. pd.read_csv)\n",
    "\n",
    "# Input data files are available in the read-only \"../input/\" directory\n",
    "# For example, running this (by clicking run or pressing Shift+Enter) will list all files under the input directory\n",
    "\n",
    "import os\n",
    "for dirname, _, filenames in os.walk('/kaggle/input'):\n",
    "    for filename in filenames:\n",
    "        print(os.path.join(dirname, filename))\n",
    "\n",
    "# You can write up to 20GB to the current directory (/kaggle/working/) that gets preserved as output when you create a version using \"Save & Run All\" \n",
    "# You can also write temporary files to /kaggle/temp/, but they won't be saved outside of the current session"
   ]
  },
  {
   "cell_type": "code",
   "execution_count": 2,
   "id": "acc5deb7",
   "metadata": {
    "execution": {
     "iopub.execute_input": "2024-10-01T08:43:12.150200Z",
     "iopub.status.busy": "2024-10-01T08:43:12.148510Z",
     "iopub.status.idle": "2024-10-01T08:43:12.467958Z",
     "shell.execute_reply": "2024-10-01T08:43:12.466610Z"
    },
    "papermill": {
     "duration": 0.342599,
     "end_time": "2024-10-01T08:43:12.471241",
     "exception": false,
     "start_time": "2024-10-01T08:43:12.128642",
     "status": "completed"
    },
    "tags": []
   },
   "outputs": [],
   "source": [
    "\n",
    "import warnings\n",
    "warnings.filterwarnings('ignore')\n",
    "df=pd.read_csv(\"/kaggle/input/bike-sales-data-of-100k/bike_sales_100k.csv\")"
   ]
  },
  {
   "cell_type": "code",
   "execution_count": 3,
   "id": "5fa53c91",
   "metadata": {
    "execution": {
     "iopub.execute_input": "2024-10-01T08:43:12.507117Z",
     "iopub.status.busy": "2024-10-01T08:43:12.506580Z",
     "iopub.status.idle": "2024-10-01T08:43:12.538895Z",
     "shell.execute_reply": "2024-10-01T08:43:12.537464Z"
    },
    "papermill": {
     "duration": 0.05341,
     "end_time": "2024-10-01T08:43:12.541588",
     "exception": false,
     "start_time": "2024-10-01T08:43:12.488178",
     "status": "completed"
    },
    "tags": []
   },
   "outputs": [
    {
     "data": {
      "text/html": [
       "<div>\n",
       "<style scoped>\n",
       "    .dataframe tbody tr th:only-of-type {\n",
       "        vertical-align: middle;\n",
       "    }\n",
       "\n",
       "    .dataframe tbody tr th {\n",
       "        vertical-align: top;\n",
       "    }\n",
       "\n",
       "    .dataframe thead th {\n",
       "        text-align: right;\n",
       "    }\n",
       "</style>\n",
       "<table border=\"1\" class=\"dataframe\">\n",
       "  <thead>\n",
       "    <tr style=\"text-align: right;\">\n",
       "      <th></th>\n",
       "      <th>Sale_ID</th>\n",
       "      <th>Date</th>\n",
       "      <th>Customer_ID</th>\n",
       "      <th>Bike_Model</th>\n",
       "      <th>Price</th>\n",
       "      <th>Quantity</th>\n",
       "      <th>Store_Location</th>\n",
       "      <th>Salesperson_ID</th>\n",
       "      <th>Payment_Method</th>\n",
       "      <th>Customer_Age</th>\n",
       "      <th>Customer_Gender</th>\n",
       "    </tr>\n",
       "  </thead>\n",
       "  <tbody>\n",
       "    <tr>\n",
       "      <th>0</th>\n",
       "      <td>1</td>\n",
       "      <td>11-07-2022</td>\n",
       "      <td>9390</td>\n",
       "      <td>Cruiser</td>\n",
       "      <td>318.32</td>\n",
       "      <td>1</td>\n",
       "      <td>Philadelphia</td>\n",
       "      <td>589</td>\n",
       "      <td>Apple Pay</td>\n",
       "      <td>70</td>\n",
       "      <td>Female</td>\n",
       "    </tr>\n",
       "    <tr>\n",
       "      <th>1</th>\n",
       "      <td>2</td>\n",
       "      <td>03-05-2024</td>\n",
       "      <td>3374</td>\n",
       "      <td>Hybrid Bike</td>\n",
       "      <td>3093.47</td>\n",
       "      <td>4</td>\n",
       "      <td>Chicago</td>\n",
       "      <td>390</td>\n",
       "      <td>Apple Pay</td>\n",
       "      <td>37</td>\n",
       "      <td>Male</td>\n",
       "    </tr>\n",
       "    <tr>\n",
       "      <th>2</th>\n",
       "      <td>3</td>\n",
       "      <td>01-09-2022</td>\n",
       "      <td>2689</td>\n",
       "      <td>Folding Bike</td>\n",
       "      <td>4247.99</td>\n",
       "      <td>3</td>\n",
       "      <td>San Antonio</td>\n",
       "      <td>338</td>\n",
       "      <td>PayPal</td>\n",
       "      <td>59</td>\n",
       "      <td>Female</td>\n",
       "    </tr>\n",
       "    <tr>\n",
       "      <th>3</th>\n",
       "      <td>4</td>\n",
       "      <td>28-09-2022</td>\n",
       "      <td>3797</td>\n",
       "      <td>Mountain Bike</td>\n",
       "      <td>1722.01</td>\n",
       "      <td>3</td>\n",
       "      <td>San Antonio</td>\n",
       "      <td>352</td>\n",
       "      <td>Apple Pay</td>\n",
       "      <td>19</td>\n",
       "      <td>Male</td>\n",
       "    </tr>\n",
       "    <tr>\n",
       "      <th>4</th>\n",
       "      <td>5</td>\n",
       "      <td>05-01-2021</td>\n",
       "      <td>1633</td>\n",
       "      <td>BMX</td>\n",
       "      <td>3941.44</td>\n",
       "      <td>3</td>\n",
       "      <td>Philadelphia</td>\n",
       "      <td>580</td>\n",
       "      <td>PayPal</td>\n",
       "      <td>67</td>\n",
       "      <td>Female</td>\n",
       "    </tr>\n",
       "  </tbody>\n",
       "</table>\n",
       "</div>"
      ],
      "text/plain": [
       "   Sale_ID        Date  Customer_ID     Bike_Model    Price  Quantity  \\\n",
       "0        1  11-07-2022         9390        Cruiser   318.32         1   \n",
       "1        2  03-05-2024         3374    Hybrid Bike  3093.47         4   \n",
       "2        3  01-09-2022         2689   Folding Bike  4247.99         3   \n",
       "3        4  28-09-2022         3797  Mountain Bike  1722.01         3   \n",
       "4        5  05-01-2021         1633            BMX  3941.44         3   \n",
       "\n",
       "  Store_Location  Salesperson_ID Payment_Method  Customer_Age Customer_Gender  \n",
       "0   Philadelphia             589      Apple Pay            70          Female  \n",
       "1        Chicago             390      Apple Pay            37            Male  \n",
       "2    San Antonio             338         PayPal            59          Female  \n",
       "3    San Antonio             352      Apple Pay            19            Male  \n",
       "4   Philadelphia             580         PayPal            67          Female  "
      ]
     },
     "execution_count": 3,
     "metadata": {},
     "output_type": "execute_result"
    }
   ],
   "source": [
    "df.head()"
   ]
  },
  {
   "cell_type": "code",
   "execution_count": 4,
   "id": "b2a13f20",
   "metadata": {
    "execution": {
     "iopub.execute_input": "2024-10-01T08:43:12.579814Z",
     "iopub.status.busy": "2024-10-01T08:43:12.579354Z",
     "iopub.status.idle": "2024-10-01T08:43:12.648055Z",
     "shell.execute_reply": "2024-10-01T08:43:12.646795Z"
    },
    "papermill": {
     "duration": 0.091794,
     "end_time": "2024-10-01T08:43:12.651059",
     "exception": false,
     "start_time": "2024-10-01T08:43:12.559265",
     "status": "completed"
    },
    "tags": []
   },
   "outputs": [
    {
     "data": {
      "text/plain": [
       "Sale_ID            0\n",
       "Date               0\n",
       "Customer_ID        0\n",
       "Bike_Model         0\n",
       "Price              0\n",
       "Quantity           0\n",
       "Store_Location     0\n",
       "Salesperson_ID     0\n",
       "Payment_Method     0\n",
       "Customer_Age       0\n",
       "Customer_Gender    0\n",
       "dtype: int64"
      ]
     },
     "execution_count": 4,
     "metadata": {},
     "output_type": "execute_result"
    }
   ],
   "source": [
    "df.isnull().sum()"
   ]
  },
  {
   "cell_type": "markdown",
   "id": "e62df805",
   "metadata": {
    "papermill": {
     "duration": 0.017307,
     "end_time": "2024-10-01T08:43:12.685755",
     "exception": false,
     "start_time": "2024-10-01T08:43:12.668448",
     "status": "completed"
    },
    "tags": []
   },
   "source": [
    "# We will do the following analysis:\n",
    "\n",
    "1. Age Group more interested in bikes\n",
    "2. Brand of bike that a category is interested in\n",
    "3. Time during which most sales occur\n",
    "4. Which region buys bikes more \n"
   ]
  },
  {
   "cell_type": "markdown",
   "id": "b23b3d0e",
   "metadata": {
    "papermill": {
     "duration": 0.016886,
     "end_time": "2024-10-01T08:43:12.719928",
     "exception": false,
     "start_time": "2024-10-01T08:43:12.703042",
     "status": "completed"
    },
    "tags": []
   },
   "source": [
    "## Let us first remove the columns that have distinct values - ID related "
   ]
  },
  {
   "cell_type": "code",
   "execution_count": 5,
   "id": "ad8a7887",
   "metadata": {
    "execution": {
     "iopub.execute_input": "2024-10-01T08:43:12.756763Z",
     "iopub.status.busy": "2024-10-01T08:43:12.756315Z",
     "iopub.status.idle": "2024-10-01T08:43:12.764909Z",
     "shell.execute_reply": "2024-10-01T08:43:12.763712Z"
    },
    "papermill": {
     "duration": 0.030677,
     "end_time": "2024-10-01T08:43:12.767743",
     "exception": false,
     "start_time": "2024-10-01T08:43:12.737066",
     "status": "completed"
    },
    "tags": []
   },
   "outputs": [
    {
     "data": {
      "text/plain": [
       "Index(['Sale_ID', 'Date', 'Customer_ID', 'Bike_Model', 'Price', 'Quantity',\n",
       "       'Store_Location', 'Salesperson_ID', 'Payment_Method', 'Customer_Age',\n",
       "       'Customer_Gender'],\n",
       "      dtype='object')"
      ]
     },
     "execution_count": 5,
     "metadata": {},
     "output_type": "execute_result"
    }
   ],
   "source": [
    "df.columns"
   ]
  },
  {
   "cell_type": "code",
   "execution_count": 6,
   "id": "04b81b6a",
   "metadata": {
    "execution": {
     "iopub.execute_input": "2024-10-01T08:43:12.806549Z",
     "iopub.status.busy": "2024-10-01T08:43:12.806061Z",
     "iopub.status.idle": "2024-10-01T08:43:12.825661Z",
     "shell.execute_reply": "2024-10-01T08:43:12.824050Z"
    },
    "papermill": {
     "duration": 0.041927,
     "end_time": "2024-10-01T08:43:12.828863",
     "exception": false,
     "start_time": "2024-10-01T08:43:12.786936",
     "status": "completed"
    },
    "tags": []
   },
   "outputs": [],
   "source": [
    "df.drop(columns=['Sale_ID','Customer_ID','Salesperson_ID'],inplace=True)"
   ]
  },
  {
   "cell_type": "code",
   "execution_count": 7,
   "id": "5abd70cf",
   "metadata": {
    "execution": {
     "iopub.execute_input": "2024-10-01T08:43:12.868021Z",
     "iopub.status.busy": "2024-10-01T08:43:12.867613Z",
     "iopub.status.idle": "2024-10-01T08:43:12.884447Z",
     "shell.execute_reply": "2024-10-01T08:43:12.883325Z"
    },
    "papermill": {
     "duration": 0.039188,
     "end_time": "2024-10-01T08:43:12.886963",
     "exception": false,
     "start_time": "2024-10-01T08:43:12.847775",
     "status": "completed"
    },
    "tags": []
   },
   "outputs": [
    {
     "data": {
      "text/html": [
       "<div>\n",
       "<style scoped>\n",
       "    .dataframe tbody tr th:only-of-type {\n",
       "        vertical-align: middle;\n",
       "    }\n",
       "\n",
       "    .dataframe tbody tr th {\n",
       "        vertical-align: top;\n",
       "    }\n",
       "\n",
       "    .dataframe thead th {\n",
       "        text-align: right;\n",
       "    }\n",
       "</style>\n",
       "<table border=\"1\" class=\"dataframe\">\n",
       "  <thead>\n",
       "    <tr style=\"text-align: right;\">\n",
       "      <th></th>\n",
       "      <th>Date</th>\n",
       "      <th>Bike_Model</th>\n",
       "      <th>Price</th>\n",
       "      <th>Quantity</th>\n",
       "      <th>Store_Location</th>\n",
       "      <th>Payment_Method</th>\n",
       "      <th>Customer_Age</th>\n",
       "      <th>Customer_Gender</th>\n",
       "    </tr>\n",
       "  </thead>\n",
       "  <tbody>\n",
       "    <tr>\n",
       "      <th>0</th>\n",
       "      <td>11-07-2022</td>\n",
       "      <td>Cruiser</td>\n",
       "      <td>318.32</td>\n",
       "      <td>1</td>\n",
       "      <td>Philadelphia</td>\n",
       "      <td>Apple Pay</td>\n",
       "      <td>70</td>\n",
       "      <td>Female</td>\n",
       "    </tr>\n",
       "    <tr>\n",
       "      <th>1</th>\n",
       "      <td>03-05-2024</td>\n",
       "      <td>Hybrid Bike</td>\n",
       "      <td>3093.47</td>\n",
       "      <td>4</td>\n",
       "      <td>Chicago</td>\n",
       "      <td>Apple Pay</td>\n",
       "      <td>37</td>\n",
       "      <td>Male</td>\n",
       "    </tr>\n",
       "    <tr>\n",
       "      <th>2</th>\n",
       "      <td>01-09-2022</td>\n",
       "      <td>Folding Bike</td>\n",
       "      <td>4247.99</td>\n",
       "      <td>3</td>\n",
       "      <td>San Antonio</td>\n",
       "      <td>PayPal</td>\n",
       "      <td>59</td>\n",
       "      <td>Female</td>\n",
       "    </tr>\n",
       "    <tr>\n",
       "      <th>3</th>\n",
       "      <td>28-09-2022</td>\n",
       "      <td>Mountain Bike</td>\n",
       "      <td>1722.01</td>\n",
       "      <td>3</td>\n",
       "      <td>San Antonio</td>\n",
       "      <td>Apple Pay</td>\n",
       "      <td>19</td>\n",
       "      <td>Male</td>\n",
       "    </tr>\n",
       "    <tr>\n",
       "      <th>4</th>\n",
       "      <td>05-01-2021</td>\n",
       "      <td>BMX</td>\n",
       "      <td>3941.44</td>\n",
       "      <td>3</td>\n",
       "      <td>Philadelphia</td>\n",
       "      <td>PayPal</td>\n",
       "      <td>67</td>\n",
       "      <td>Female</td>\n",
       "    </tr>\n",
       "  </tbody>\n",
       "</table>\n",
       "</div>"
      ],
      "text/plain": [
       "         Date     Bike_Model    Price  Quantity Store_Location Payment_Method  \\\n",
       "0  11-07-2022        Cruiser   318.32         1   Philadelphia      Apple Pay   \n",
       "1  03-05-2024    Hybrid Bike  3093.47         4        Chicago      Apple Pay   \n",
       "2  01-09-2022   Folding Bike  4247.99         3    San Antonio         PayPal   \n",
       "3  28-09-2022  Mountain Bike  1722.01         3    San Antonio      Apple Pay   \n",
       "4  05-01-2021            BMX  3941.44         3   Philadelphia         PayPal   \n",
       "\n",
       "   Customer_Age Customer_Gender  \n",
       "0            70          Female  \n",
       "1            37            Male  \n",
       "2            59          Female  \n",
       "3            19            Male  \n",
       "4            67          Female  "
      ]
     },
     "execution_count": 7,
     "metadata": {},
     "output_type": "execute_result"
    }
   ],
   "source": [
    "df.head()"
   ]
  },
  {
   "cell_type": "markdown",
   "id": "abfb36e6",
   "metadata": {
    "papermill": {
     "duration": 0.017882,
     "end_time": "2024-10-01T08:43:12.922626",
     "exception": false,
     "start_time": "2024-10-01T08:43:12.904744",
     "status": "completed"
    },
    "tags": []
   },
   "source": [
    "####  We will just extract the month from Date. This will help the business find insights about the season ( summer / winter/ automn) more bikes to sell"
   ]
  },
  {
   "cell_type": "code",
   "execution_count": 8,
   "id": "79103c43",
   "metadata": {
    "execution": {
     "iopub.execute_input": "2024-10-01T08:43:12.960287Z",
     "iopub.status.busy": "2024-10-01T08:43:12.959825Z",
     "iopub.status.idle": "2024-10-01T08:43:13.436976Z",
     "shell.execute_reply": "2024-10-01T08:43:13.435709Z"
    },
    "papermill": {
     "duration": 0.499641,
     "end_time": "2024-10-01T08:43:13.439933",
     "exception": false,
     "start_time": "2024-10-01T08:43:12.940292",
     "status": "completed"
    },
    "tags": []
   },
   "outputs": [],
   "source": [
    "df['Date']=pd.to_datetime(df['Date'],format=\"%d-%m-%Y\").dt.month"
   ]
  },
  {
   "cell_type": "code",
   "execution_count": 9,
   "id": "ae68d34f",
   "metadata": {
    "execution": {
     "iopub.execute_input": "2024-10-01T08:43:13.478244Z",
     "iopub.status.busy": "2024-10-01T08:43:13.477782Z",
     "iopub.status.idle": "2024-10-01T08:43:13.495105Z",
     "shell.execute_reply": "2024-10-01T08:43:13.493825Z"
    },
    "papermill": {
     "duration": 0.039367,
     "end_time": "2024-10-01T08:43:13.497626",
     "exception": false,
     "start_time": "2024-10-01T08:43:13.458259",
     "status": "completed"
    },
    "tags": []
   },
   "outputs": [
    {
     "data": {
      "text/html": [
       "<div>\n",
       "<style scoped>\n",
       "    .dataframe tbody tr th:only-of-type {\n",
       "        vertical-align: middle;\n",
       "    }\n",
       "\n",
       "    .dataframe tbody tr th {\n",
       "        vertical-align: top;\n",
       "    }\n",
       "\n",
       "    .dataframe thead th {\n",
       "        text-align: right;\n",
       "    }\n",
       "</style>\n",
       "<table border=\"1\" class=\"dataframe\">\n",
       "  <thead>\n",
       "    <tr style=\"text-align: right;\">\n",
       "      <th></th>\n",
       "      <th>Date</th>\n",
       "      <th>Bike_Model</th>\n",
       "      <th>Price</th>\n",
       "      <th>Quantity</th>\n",
       "      <th>Store_Location</th>\n",
       "      <th>Payment_Method</th>\n",
       "      <th>Customer_Age</th>\n",
       "      <th>Customer_Gender</th>\n",
       "    </tr>\n",
       "  </thead>\n",
       "  <tbody>\n",
       "    <tr>\n",
       "      <th>0</th>\n",
       "      <td>7</td>\n",
       "      <td>Cruiser</td>\n",
       "      <td>318.32</td>\n",
       "      <td>1</td>\n",
       "      <td>Philadelphia</td>\n",
       "      <td>Apple Pay</td>\n",
       "      <td>70</td>\n",
       "      <td>Female</td>\n",
       "    </tr>\n",
       "    <tr>\n",
       "      <th>1</th>\n",
       "      <td>5</td>\n",
       "      <td>Hybrid Bike</td>\n",
       "      <td>3093.47</td>\n",
       "      <td>4</td>\n",
       "      <td>Chicago</td>\n",
       "      <td>Apple Pay</td>\n",
       "      <td>37</td>\n",
       "      <td>Male</td>\n",
       "    </tr>\n",
       "    <tr>\n",
       "      <th>2</th>\n",
       "      <td>9</td>\n",
       "      <td>Folding Bike</td>\n",
       "      <td>4247.99</td>\n",
       "      <td>3</td>\n",
       "      <td>San Antonio</td>\n",
       "      <td>PayPal</td>\n",
       "      <td>59</td>\n",
       "      <td>Female</td>\n",
       "    </tr>\n",
       "    <tr>\n",
       "      <th>3</th>\n",
       "      <td>9</td>\n",
       "      <td>Mountain Bike</td>\n",
       "      <td>1722.01</td>\n",
       "      <td>3</td>\n",
       "      <td>San Antonio</td>\n",
       "      <td>Apple Pay</td>\n",
       "      <td>19</td>\n",
       "      <td>Male</td>\n",
       "    </tr>\n",
       "    <tr>\n",
       "      <th>4</th>\n",
       "      <td>1</td>\n",
       "      <td>BMX</td>\n",
       "      <td>3941.44</td>\n",
       "      <td>3</td>\n",
       "      <td>Philadelphia</td>\n",
       "      <td>PayPal</td>\n",
       "      <td>67</td>\n",
       "      <td>Female</td>\n",
       "    </tr>\n",
       "  </tbody>\n",
       "</table>\n",
       "</div>"
      ],
      "text/plain": [
       "   Date     Bike_Model    Price  Quantity Store_Location Payment_Method  \\\n",
       "0     7        Cruiser   318.32         1   Philadelphia      Apple Pay   \n",
       "1     5    Hybrid Bike  3093.47         4        Chicago      Apple Pay   \n",
       "2     9   Folding Bike  4247.99         3    San Antonio         PayPal   \n",
       "3     9  Mountain Bike  1722.01         3    San Antonio      Apple Pay   \n",
       "4     1            BMX  3941.44         3   Philadelphia         PayPal   \n",
       "\n",
       "   Customer_Age Customer_Gender  \n",
       "0            70          Female  \n",
       "1            37            Male  \n",
       "2            59          Female  \n",
       "3            19            Male  \n",
       "4            67          Female  "
      ]
     },
     "execution_count": 9,
     "metadata": {},
     "output_type": "execute_result"
    }
   ],
   "source": [
    "df.head()"
   ]
  },
  {
   "cell_type": "code",
   "execution_count": 10,
   "id": "840ca524",
   "metadata": {
    "execution": {
     "iopub.execute_input": "2024-10-01T08:43:13.537000Z",
     "iopub.status.busy": "2024-10-01T08:43:13.535964Z",
     "iopub.status.idle": "2024-10-01T08:43:13.557550Z",
     "shell.execute_reply": "2024-10-01T08:43:13.556272Z"
    },
    "papermill": {
     "duration": 0.044669,
     "end_time": "2024-10-01T08:43:13.560554",
     "exception": false,
     "start_time": "2024-10-01T08:43:13.515885",
     "status": "completed"
    },
    "tags": []
   },
   "outputs": [
    {
     "data": {
      "text/plain": [
       "array(['Cruiser', 'Hybrid Bike', 'Folding Bike', 'Mountain Bike', 'BMX',\n",
       "       'Road Bike', 'Electric Bike'], dtype=object)"
      ]
     },
     "execution_count": 10,
     "metadata": {},
     "output_type": "execute_result"
    }
   ],
   "source": [
    "### Different Types of Bike Models\n",
    "df['Bike_Model'].unique()"
   ]
  },
  {
   "cell_type": "code",
   "execution_count": 11,
   "id": "c57d6111",
   "metadata": {
    "execution": {
     "iopub.execute_input": "2024-10-01T08:43:13.599303Z",
     "iopub.status.busy": "2024-10-01T08:43:13.598824Z",
     "iopub.status.idle": "2024-10-01T08:43:13.651844Z",
     "shell.execute_reply": "2024-10-01T08:43:13.650686Z"
    },
    "papermill": {
     "duration": 0.075826,
     "end_time": "2024-10-01T08:43:13.654599",
     "exception": false,
     "start_time": "2024-10-01T08:43:13.578773",
     "status": "completed"
    },
    "tags": []
   },
   "outputs": [
    {
     "data": {
      "text/html": [
       "<div>\n",
       "<style scoped>\n",
       "    .dataframe tbody tr th:only-of-type {\n",
       "        vertical-align: middle;\n",
       "    }\n",
       "\n",
       "    .dataframe tbody tr th {\n",
       "        vertical-align: top;\n",
       "    }\n",
       "\n",
       "    .dataframe thead th {\n",
       "        text-align: right;\n",
       "    }\n",
       "</style>\n",
       "<table border=\"1\" class=\"dataframe\">\n",
       "  <thead>\n",
       "    <tr style=\"text-align: right;\">\n",
       "      <th></th>\n",
       "      <th>Date</th>\n",
       "      <th>Bike_Model</th>\n",
       "      <th>Price</th>\n",
       "      <th>Quantity</th>\n",
       "      <th>Store_Location</th>\n",
       "      <th>Payment_Method</th>\n",
       "      <th>Customer_Age</th>\n",
       "      <th>Customer_Gender</th>\n",
       "    </tr>\n",
       "  </thead>\n",
       "  <tbody>\n",
       "    <tr>\n",
       "      <th>43076</th>\n",
       "      <td>8</td>\n",
       "      <td>Electric Bike</td>\n",
       "      <td>4999.81</td>\n",
       "      <td>1</td>\n",
       "      <td>San Antonio</td>\n",
       "      <td>Apple Pay</td>\n",
       "      <td>63</td>\n",
       "      <td>Male</td>\n",
       "    </tr>\n",
       "    <tr>\n",
       "      <th>66929</th>\n",
       "      <td>8</td>\n",
       "      <td>BMX</td>\n",
       "      <td>4999.75</td>\n",
       "      <td>2</td>\n",
       "      <td>Chicago</td>\n",
       "      <td>Credit Card</td>\n",
       "      <td>67</td>\n",
       "      <td>Female</td>\n",
       "    </tr>\n",
       "    <tr>\n",
       "      <th>24836</th>\n",
       "      <td>7</td>\n",
       "      <td>Electric Bike</td>\n",
       "      <td>4999.71</td>\n",
       "      <td>2</td>\n",
       "      <td>Chicago</td>\n",
       "      <td>Credit Card</td>\n",
       "      <td>54</td>\n",
       "      <td>Male</td>\n",
       "    </tr>\n",
       "    <tr>\n",
       "      <th>59187</th>\n",
       "      <td>8</td>\n",
       "      <td>Road Bike</td>\n",
       "      <td>4999.70</td>\n",
       "      <td>4</td>\n",
       "      <td>Philadelphia</td>\n",
       "      <td>Credit Card</td>\n",
       "      <td>45</td>\n",
       "      <td>Female</td>\n",
       "    </tr>\n",
       "    <tr>\n",
       "      <th>5673</th>\n",
       "      <td>3</td>\n",
       "      <td>BMX</td>\n",
       "      <td>4999.67</td>\n",
       "      <td>5</td>\n",
       "      <td>Chicago</td>\n",
       "      <td>Credit Card</td>\n",
       "      <td>22</td>\n",
       "      <td>Male</td>\n",
       "    </tr>\n",
       "    <tr>\n",
       "      <th>...</th>\n",
       "      <td>...</td>\n",
       "      <td>...</td>\n",
       "      <td>...</td>\n",
       "      <td>...</td>\n",
       "      <td>...</td>\n",
       "      <td>...</td>\n",
       "      <td>...</td>\n",
       "      <td>...</td>\n",
       "    </tr>\n",
       "    <tr>\n",
       "      <th>66157</th>\n",
       "      <td>6</td>\n",
       "      <td>BMX</td>\n",
       "      <td>200.05</td>\n",
       "      <td>3</td>\n",
       "      <td>Los Angeles</td>\n",
       "      <td>Credit Card</td>\n",
       "      <td>46</td>\n",
       "      <td>Female</td>\n",
       "    </tr>\n",
       "    <tr>\n",
       "      <th>39046</th>\n",
       "      <td>3</td>\n",
       "      <td>Hybrid Bike</td>\n",
       "      <td>200.03</td>\n",
       "      <td>2</td>\n",
       "      <td>Houston</td>\n",
       "      <td>Credit Card</td>\n",
       "      <td>64</td>\n",
       "      <td>Female</td>\n",
       "    </tr>\n",
       "    <tr>\n",
       "      <th>94161</th>\n",
       "      <td>1</td>\n",
       "      <td>Mountain Bike</td>\n",
       "      <td>200.03</td>\n",
       "      <td>5</td>\n",
       "      <td>Chicago</td>\n",
       "      <td>Google Pay</td>\n",
       "      <td>31</td>\n",
       "      <td>Male</td>\n",
       "    </tr>\n",
       "    <tr>\n",
       "      <th>63054</th>\n",
       "      <td>3</td>\n",
       "      <td>BMX</td>\n",
       "      <td>200.02</td>\n",
       "      <td>2</td>\n",
       "      <td>Los Angeles</td>\n",
       "      <td>Google Pay</td>\n",
       "      <td>55</td>\n",
       "      <td>Male</td>\n",
       "    </tr>\n",
       "    <tr>\n",
       "      <th>6069</th>\n",
       "      <td>3</td>\n",
       "      <td>Folding Bike</td>\n",
       "      <td>200.01</td>\n",
       "      <td>4</td>\n",
       "      <td>New York</td>\n",
       "      <td>PayPal</td>\n",
       "      <td>21</td>\n",
       "      <td>Male</td>\n",
       "    </tr>\n",
       "  </tbody>\n",
       "</table>\n",
       "<p>100000 rows × 8 columns</p>\n",
       "</div>"
      ],
      "text/plain": [
       "       Date     Bike_Model    Price  Quantity Store_Location Payment_Method  \\\n",
       "43076     8  Electric Bike  4999.81         1    San Antonio      Apple Pay   \n",
       "66929     8            BMX  4999.75         2        Chicago    Credit Card   \n",
       "24836     7  Electric Bike  4999.71         2        Chicago    Credit Card   \n",
       "59187     8      Road Bike  4999.70         4   Philadelphia    Credit Card   \n",
       "5673      3            BMX  4999.67         5        Chicago    Credit Card   \n",
       "...     ...            ...      ...       ...            ...            ...   \n",
       "66157     6            BMX   200.05         3    Los Angeles    Credit Card   \n",
       "39046     3    Hybrid Bike   200.03         2        Houston    Credit Card   \n",
       "94161     1  Mountain Bike   200.03         5        Chicago     Google Pay   \n",
       "63054     3            BMX   200.02         2    Los Angeles     Google Pay   \n",
       "6069      3   Folding Bike   200.01         4       New York         PayPal   \n",
       "\n",
       "       Customer_Age Customer_Gender  \n",
       "43076            63            Male  \n",
       "66929            67          Female  \n",
       "24836            54            Male  \n",
       "59187            45          Female  \n",
       "5673             22            Male  \n",
       "...             ...             ...  \n",
       "66157            46          Female  \n",
       "39046            64          Female  \n",
       "94161            31            Male  \n",
       "63054            55            Male  \n",
       "6069             21            Male  \n",
       "\n",
       "[100000 rows x 8 columns]"
      ]
     },
     "execution_count": 11,
     "metadata": {},
     "output_type": "execute_result"
    }
   ],
   "source": [
    "df.sort_values(by=['Price'],ascending=False)"
   ]
  },
  {
   "cell_type": "markdown",
   "id": "5fef608c",
   "metadata": {
    "papermill": {
     "duration": 0.018715,
     "end_time": "2024-10-01T08:43:13.691970",
     "exception": false,
     "start_time": "2024-10-01T08:43:13.673255",
     "status": "completed"
    },
    "tags": []
   },
   "source": [
    "## For the sake of simplicity, calculate the Avg Price of Bikes"
   ]
  },
  {
   "cell_type": "code",
   "execution_count": 12,
   "id": "7135c11b",
   "metadata": {
    "execution": {
     "iopub.execute_input": "2024-10-01T08:43:13.731556Z",
     "iopub.status.busy": "2024-10-01T08:43:13.731060Z",
     "iopub.status.idle": "2024-10-01T08:43:13.774180Z",
     "shell.execute_reply": "2024-10-01T08:43:13.772469Z"
    },
    "papermill": {
     "duration": 0.066595,
     "end_time": "2024-10-01T08:43:13.777186",
     "exception": false,
     "start_time": "2024-10-01T08:43:13.710591",
     "status": "completed"
    },
    "tags": []
   },
   "outputs": [],
   "source": [
    "df2=df.groupby(['Bike_Model','Store_Location']).agg({'Price':'mean','Quantity':'sum'}).reset_index().sort_values(by='Price')"
   ]
  },
  {
   "cell_type": "code",
   "execution_count": 13,
   "id": "06cb7092",
   "metadata": {
    "execution": {
     "iopub.execute_input": "2024-10-01T08:43:13.821295Z",
     "iopub.status.busy": "2024-10-01T08:43:13.820806Z",
     "iopub.status.idle": "2024-10-01T08:43:15.916048Z",
     "shell.execute_reply": "2024-10-01T08:43:15.914673Z"
    },
    "papermill": {
     "duration": 2.121515,
     "end_time": "2024-10-01T08:43:15.919023",
     "exception": false,
     "start_time": "2024-10-01T08:43:13.797508",
     "status": "completed"
    },
    "tags": []
   },
   "outputs": [],
   "source": [
    "import matplotlib.pyplot as plt \n",
    "import seaborn as sns"
   ]
  },
  {
   "cell_type": "markdown",
   "id": "7abccaf9",
   "metadata": {
    "papermill": {
     "duration": 0.019326,
     "end_time": "2024-10-01T08:43:15.957646",
     "exception": false,
     "start_time": "2024-10-01T08:43:15.938320",
     "status": "completed"
    },
    "tags": []
   },
   "source": [
    "# BIKE MODEL VS PRICE"
   ]
  },
  {
   "cell_type": "code",
   "execution_count": 14,
   "id": "34e2c910",
   "metadata": {
    "execution": {
     "iopub.execute_input": "2024-10-01T08:43:16.005857Z",
     "iopub.status.busy": "2024-10-01T08:43:16.005258Z",
     "iopub.status.idle": "2024-10-01T08:43:16.412860Z",
     "shell.execute_reply": "2024-10-01T08:43:16.411568Z"
    },
    "papermill": {
     "duration": 0.434153,
     "end_time": "2024-10-01T08:43:16.415473",
     "exception": false,
     "start_time": "2024-10-01T08:43:15.981320",
     "status": "completed"
    },
    "tags": []
   },
   "outputs": [
    {
     "data": {
      "text/plain": [
       "<Axes: xlabel='Bike_Model', ylabel='Price'>"
      ]
     },
     "execution_count": 14,
     "metadata": {},
     "output_type": "execute_result"
    },
    {
     "data": {
      "image/png": "[encoded data removed]",
      "text/plain": [
       "<Figure size 800x750 with 1 Axes>"
      ]
     },
     "metadata": {},
     "output_type": "display_data"
    }
   ],
   "source": [
    "df3=df2.groupby(['Bike_Model']).agg({'Price':'mean'}).reset_index().sort_values(by='Price')\n",
    "plt.figure(figsize=(8,7.5))\n",
    "sns.lineplot(x='Bike_Model',y='Price',data=df3,orient='x')"
   ]
  },
  {
   "cell_type": "markdown",
   "id": "af19c096",
   "metadata": {
    "papermill": {
     "duration": 0.019762,
     "end_time": "2024-10-01T08:43:16.455617",
     "exception": false,
     "start_time": "2024-10-01T08:43:16.435855",
     "status": "completed"
    },
    "tags": []
   },
   "source": []
  },
  {
   "cell_type": "code",
   "execution_count": 15,
   "id": "e9e71155",
   "metadata": {
    "execution": {
     "iopub.execute_input": "2024-10-01T08:43:16.497172Z",
     "iopub.status.busy": "2024-10-01T08:43:16.496681Z",
     "iopub.status.idle": "2024-10-01T08:43:16.769451Z",
     "shell.execute_reply": "2024-10-01T08:43:16.768129Z"
    },
    "papermill": {
     "duration": 0.297504,
     "end_time": "2024-10-01T08:43:16.772335",
     "exception": false,
     "start_time": "2024-10-01T08:43:16.474831",
     "status": "completed"
    },
    "tags": []
   },
   "outputs": [
    {
     "data": {
      "text/plain": [
       "<Axes: xlabel='Store_Location', ylabel='Quantity'>"
      ]
     },
     "execution_count": 15,
     "metadata": {},
     "output_type": "execute_result"
    },
    {
     "data": {
      "image/png": "[encoded data removed]",
      "text/plain": [
       "<Figure size 700x700 with 1 Axes>"
      ]
     },
     "metadata": {},
     "output_type": "display_data"
    }
   ],
   "source": [
    "df4=df.groupby(['Store_Location']).agg({'Quantity':'sum'}).reset_index()\n",
    "plt.figure(figsize=(7,7))\n",
    "sns.lineplot(x='Store_Location',y='Quantity',data=df4,orient='x')"
   ]
  },
  {
   "cell_type": "code",
   "execution_count": 16,
   "id": "2eea576b",
   "metadata": {
    "execution": {
     "iopub.execute_input": "2024-10-01T08:43:16.816063Z",
     "iopub.status.busy": "2024-10-01T08:43:16.815583Z",
     "iopub.status.idle": "2024-10-01T08:43:16.827019Z",
     "shell.execute_reply": "2024-10-01T08:43:16.825813Z"
    },
    "papermill": {
     "duration": 0.03719,
     "end_time": "2024-10-01T08:43:16.830038",
     "exception": false,
     "start_time": "2024-10-01T08:43:16.792848",
     "status": "completed"
    },
    "tags": []
   },
   "outputs": [],
   "source": [
    "df3=df.groupby('Customer_Age').agg({'Quantity':'sum'}).reset_index().sort_values(by='Customer_Age',ascending=False)"
   ]
  },
  {
   "cell_type": "code",
   "execution_count": 17,
   "id": "850bddf5",
   "metadata": {
    "execution": {
     "iopub.execute_input": "2024-10-01T08:43:16.874844Z",
     "iopub.status.busy": "2024-10-01T08:43:16.874405Z",
     "iopub.status.idle": "2024-10-01T08:43:16.938330Z",
     "shell.execute_reply": "2024-10-01T08:43:16.937045Z"
    },
    "papermill": {
     "duration": 0.090918,
     "end_time": "2024-10-01T08:43:16.941571",
     "exception": false,
     "start_time": "2024-10-01T08:43:16.850653",
     "status": "completed"
    },
    "tags": []
   },
   "outputs": [],
   "source": [
    "def categorize_age(x):\n",
    "    if x<=35:\n",
    "        return \"A\"\n",
    "    elif x>35 and x<=55:\n",
    "        return \"M\"\n",
    "    else:\n",
    "        return \"O\"\n",
    "df['Customer_Age']=df['Customer_Age'].apply(lambda x:categorize_age(x))"
   ]
  },
  {
   "cell_type": "code",
   "execution_count": 18,
   "id": "815363b4",
   "metadata": {
    "execution": {
     "iopub.execute_input": "2024-10-01T08:43:16.984976Z",
     "iopub.status.busy": "2024-10-01T08:43:16.984562Z",
     "iopub.status.idle": "2024-10-01T08:43:17.260727Z",
     "shell.execute_reply": "2024-10-01T08:43:17.259158Z"
    },
    "papermill": {
     "duration": 0.301595,
     "end_time": "2024-10-01T08:43:17.263483",
     "exception": false,
     "start_time": "2024-10-01T08:43:16.961888",
     "status": "completed"
    },
    "tags": []
   },
   "outputs": [
    {
     "data": {
      "text/plain": [
       "<Axes: xlabel='Customer_Age', ylabel='Quantity'>"
      ]
     },
     "execution_count": 18,
     "metadata": {},
     "output_type": "execute_result"
    },
    {
     "data": {
      "image/png": "[encoded data removed]",
      "text/plain": [
       "<Figure size 640x480 with 1 Axes>"
      ]
     },
     "metadata": {},
     "output_type": "display_data"
    }
   ],
   "source": [
    "df4=df.groupby('Customer_Age').agg({'Quantity':'sum'}).reset_index()\n",
    "sns.lineplot(x='Customer_Age',y='Quantity',data=df4)"
   ]
  },
  {
   "cell_type": "code",
   "execution_count": 19,
   "id": "101f32d2",
   "metadata": {
    "execution": {
     "iopub.execute_input": "2024-10-01T08:43:17.307627Z",
     "iopub.status.busy": "2024-10-01T08:43:17.307197Z",
     "iopub.status.idle": "2024-10-01T08:43:17.320655Z",
     "shell.execute_reply": "2024-10-01T08:43:17.319361Z"
    },
    "papermill": {
     "duration": 0.038766,
     "end_time": "2024-10-01T08:43:17.323383",
     "exception": false,
     "start_time": "2024-10-01T08:43:17.284617",
     "status": "completed"
    },
    "tags": []
   },
   "outputs": [
    {
     "data": {
      "text/plain": [
       "Customer_Age\n",
       "70    1\n",
       "43    1\n",
       "41    1\n",
       "40    1\n",
       "39    1\n",
       "38    1\n",
       "37    1\n",
       "36    1\n",
       "35    1\n",
       "34    1\n",
       "33    1\n",
       "32    1\n",
       "31    1\n",
       "30    1\n",
       "29    1\n",
       "28    1\n",
       "27    1\n",
       "26    1\n",
       "25    1\n",
       "24    1\n",
       "23    1\n",
       "22    1\n",
       "21    1\n",
       "20    1\n",
       "19    1\n",
       "42    1\n",
       "44    1\n",
       "69    1\n",
       "45    1\n",
       "68    1\n",
       "67    1\n",
       "66    1\n",
       "65    1\n",
       "64    1\n",
       "63    1\n",
       "62    1\n",
       "61    1\n",
       "60    1\n",
       "59    1\n",
       "58    1\n",
       "57    1\n",
       "56    1\n",
       "55    1\n",
       "54    1\n",
       "53    1\n",
       "52    1\n",
       "51    1\n",
       "50    1\n",
       "49    1\n",
       "48    1\n",
       "47    1\n",
       "46    1\n",
       "18    1\n",
       "Name: count, dtype: int64"
      ]
     },
     "execution_count": 19,
     "metadata": {},
     "output_type": "execute_result"
    }
   ],
   "source": [
    "df3['Customer_Age'].value_counts()"
   ]
  },
  {
   "cell_type": "markdown",
   "id": "4c61bea6",
   "metadata": {
    "papermill": {
     "duration": 0.020974,
     "end_time": "2024-10-01T08:43:17.365498",
     "exception": false,
     "start_time": "2024-10-01T08:43:17.344524",
     "status": "completed"
    },
    "tags": []
   },
   "source": [
    "## Model of Bikes Age groups are interested in "
   ]
  },
  {
   "cell_type": "code",
   "execution_count": 20,
   "id": "2148b389",
   "metadata": {
    "execution": {
     "iopub.execute_input": "2024-10-01T08:43:17.410551Z",
     "iopub.status.busy": "2024-10-01T08:43:17.409643Z",
     "iopub.status.idle": "2024-10-01T08:43:17.428952Z",
     "shell.execute_reply": "2024-10-01T08:43:17.427755Z"
    },
    "papermill": {
     "duration": 0.044595,
     "end_time": "2024-10-01T08:43:17.431634",
     "exception": false,
     "start_time": "2024-10-01T08:43:17.387039",
     "status": "completed"
    },
    "tags": []
   },
   "outputs": [
    {
     "data": {
      "text/html": [
       "<div>\n",
       "<style scoped>\n",
       "    .dataframe tbody tr th:only-of-type {\n",
       "        vertical-align: middle;\n",
       "    }\n",
       "\n",
       "    .dataframe tbody tr th {\n",
       "        vertical-align: top;\n",
       "    }\n",
       "\n",
       "    .dataframe thead th {\n",
       "        text-align: right;\n",
       "    }\n",
       "</style>\n",
       "<table border=\"1\" class=\"dataframe\">\n",
       "  <thead>\n",
       "    <tr style=\"text-align: right;\">\n",
       "      <th></th>\n",
       "      <th>Date</th>\n",
       "      <th>Bike_Model</th>\n",
       "      <th>Price</th>\n",
       "      <th>Quantity</th>\n",
       "      <th>Store_Location</th>\n",
       "      <th>Payment_Method</th>\n",
       "      <th>Customer_Age</th>\n",
       "      <th>Customer_Gender</th>\n",
       "    </tr>\n",
       "  </thead>\n",
       "  <tbody>\n",
       "    <tr>\n",
       "      <th>0</th>\n",
       "      <td>7</td>\n",
       "      <td>Cruiser</td>\n",
       "      <td>318.32</td>\n",
       "      <td>1</td>\n",
       "      <td>Philadelphia</td>\n",
       "      <td>Apple Pay</td>\n",
       "      <td>O</td>\n",
       "      <td>Female</td>\n",
       "    </tr>\n",
       "    <tr>\n",
       "      <th>1</th>\n",
       "      <td>5</td>\n",
       "      <td>Hybrid Bike</td>\n",
       "      <td>3093.47</td>\n",
       "      <td>4</td>\n",
       "      <td>Chicago</td>\n",
       "      <td>Apple Pay</td>\n",
       "      <td>M</td>\n",
       "      <td>Male</td>\n",
       "    </tr>\n",
       "    <tr>\n",
       "      <th>2</th>\n",
       "      <td>9</td>\n",
       "      <td>Folding Bike</td>\n",
       "      <td>4247.99</td>\n",
       "      <td>3</td>\n",
       "      <td>San Antonio</td>\n",
       "      <td>PayPal</td>\n",
       "      <td>O</td>\n",
       "      <td>Female</td>\n",
       "    </tr>\n",
       "    <tr>\n",
       "      <th>3</th>\n",
       "      <td>9</td>\n",
       "      <td>Mountain Bike</td>\n",
       "      <td>1722.01</td>\n",
       "      <td>3</td>\n",
       "      <td>San Antonio</td>\n",
       "      <td>Apple Pay</td>\n",
       "      <td>A</td>\n",
       "      <td>Male</td>\n",
       "    </tr>\n",
       "    <tr>\n",
       "      <th>4</th>\n",
       "      <td>1</td>\n",
       "      <td>BMX</td>\n",
       "      <td>3941.44</td>\n",
       "      <td>3</td>\n",
       "      <td>Philadelphia</td>\n",
       "      <td>PayPal</td>\n",
       "      <td>O</td>\n",
       "      <td>Female</td>\n",
       "    </tr>\n",
       "    <tr>\n",
       "      <th>...</th>\n",
       "      <td>...</td>\n",
       "      <td>...</td>\n",
       "      <td>...</td>\n",
       "      <td>...</td>\n",
       "      <td>...</td>\n",
       "      <td>...</td>\n",
       "      <td>...</td>\n",
       "      <td>...</td>\n",
       "    </tr>\n",
       "    <tr>\n",
       "      <th>99995</th>\n",
       "      <td>6</td>\n",
       "      <td>Hybrid Bike</td>\n",
       "      <td>3088.13</td>\n",
       "      <td>2</td>\n",
       "      <td>Philadelphia</td>\n",
       "      <td>PayPal</td>\n",
       "      <td>O</td>\n",
       "      <td>Female</td>\n",
       "    </tr>\n",
       "    <tr>\n",
       "      <th>99996</th>\n",
       "      <td>12</td>\n",
       "      <td>Road Bike</td>\n",
       "      <td>1051.44</td>\n",
       "      <td>2</td>\n",
       "      <td>Phoenix</td>\n",
       "      <td>Credit Card</td>\n",
       "      <td>O</td>\n",
       "      <td>Female</td>\n",
       "    </tr>\n",
       "    <tr>\n",
       "      <th>99997</th>\n",
       "      <td>2</td>\n",
       "      <td>Folding Bike</td>\n",
       "      <td>2783.79</td>\n",
       "      <td>4</td>\n",
       "      <td>Phoenix</td>\n",
       "      <td>Google Pay</td>\n",
       "      <td>M</td>\n",
       "      <td>Female</td>\n",
       "    </tr>\n",
       "    <tr>\n",
       "      <th>99998</th>\n",
       "      <td>12</td>\n",
       "      <td>Hybrid Bike</td>\n",
       "      <td>4265.42</td>\n",
       "      <td>4</td>\n",
       "      <td>Philadelphia</td>\n",
       "      <td>Credit Card</td>\n",
       "      <td>O</td>\n",
       "      <td>Male</td>\n",
       "    </tr>\n",
       "    <tr>\n",
       "      <th>99999</th>\n",
       "      <td>1</td>\n",
       "      <td>Cruiser</td>\n",
       "      <td>2529.65</td>\n",
       "      <td>1</td>\n",
       "      <td>San Antonio</td>\n",
       "      <td>Debit Card</td>\n",
       "      <td>M</td>\n",
       "      <td>Female</td>\n",
       "    </tr>\n",
       "  </tbody>\n",
       "</table>\n",
       "<p>100000 rows × 8 columns</p>\n",
       "</div>"
      ],
      "text/plain": [
       "       Date     Bike_Model    Price  Quantity Store_Location Payment_Method  \\\n",
       "0         7        Cruiser   318.32         1   Philadelphia      Apple Pay   \n",
       "1         5    Hybrid Bike  3093.47         4        Chicago      Apple Pay   \n",
       "2         9   Folding Bike  4247.99         3    San Antonio         PayPal   \n",
       "3         9  Mountain Bike  1722.01         3    San Antonio      Apple Pay   \n",
       "4         1            BMX  3941.44         3   Philadelphia         PayPal   \n",
       "...     ...            ...      ...       ...            ...            ...   \n",
       "99995     6    Hybrid Bike  3088.13         2   Philadelphia         PayPal   \n",
       "99996    12      Road Bike  1051.44         2        Phoenix    Credit Card   \n",
       "99997     2   Folding Bike  2783.79         4        Phoenix     Google Pay   \n",
       "99998    12    Hybrid Bike  4265.42         4   Philadelphia    Credit Card   \n",
       "99999     1        Cruiser  2529.65         1    San Antonio     Debit Card   \n",
       "\n",
       "      Customer_Age Customer_Gender  \n",
       "0                O          Female  \n",
       "1                M            Male  \n",
       "2                O          Female  \n",
       "3                A            Male  \n",
       "4                O          Female  \n",
       "...            ...             ...  \n",
       "99995            O          Female  \n",
       "99996            O          Female  \n",
       "99997            M          Female  \n",
       "99998            O            Male  \n",
       "99999            M          Female  \n",
       "\n",
       "[100000 rows x 8 columns]"
      ]
     },
     "execution_count": 20,
     "metadata": {},
     "output_type": "execute_result"
    }
   ],
   "source": [
    "df"
   ]
  },
  {
   "cell_type": "code",
   "execution_count": 21,
   "id": "5f73a5f6",
   "metadata": {
    "execution": {
     "iopub.execute_input": "2024-10-01T08:43:17.478855Z",
     "iopub.status.busy": "2024-10-01T08:43:17.478429Z",
     "iopub.status.idle": "2024-10-01T08:43:17.518744Z",
     "shell.execute_reply": "2024-10-01T08:43:17.517454Z"
    },
    "papermill": {
     "duration": 0.067619,
     "end_time": "2024-10-01T08:43:17.521564",
     "exception": false,
     "start_time": "2024-10-01T08:43:17.453945",
     "status": "completed"
    },
    "tags": []
   },
   "outputs": [
    {
     "data": {
      "text/plain": [
       "Bike_Model\n",
       "BMX              4133\n",
       "Cruiser          4129\n",
       "Hybrid Bike      4122\n",
       "Road Bike        4061\n",
       "Mountain Bike    4025\n",
       "Electric Bike    3996\n",
       "Folding Bike     3993\n",
       "Name: count, dtype: int64"
      ]
     },
     "execution_count": 21,
     "metadata": {},
     "output_type": "execute_result"
    }
   ],
   "source": [
    "df2=df[df.Customer_Age=='O']['Bike_Model'].value_counts()\n",
    "df2"
   ]
  },
  {
   "cell_type": "code",
   "execution_count": 22,
   "id": "f4ecd9ca",
   "metadata": {
    "execution": {
     "iopub.execute_input": "2024-10-01T08:43:17.569133Z",
     "iopub.status.busy": "2024-10-01T08:43:17.568642Z",
     "iopub.status.idle": "2024-10-01T08:43:17.609397Z",
     "shell.execute_reply": "2024-10-01T08:43:17.608070Z"
    },
    "papermill": {
     "duration": 0.068076,
     "end_time": "2024-10-01T08:43:17.612453",
     "exception": false,
     "start_time": "2024-10-01T08:43:17.544377",
     "status": "completed"
    },
    "tags": []
   },
   "outputs": [
    {
     "data": {
      "text/plain": [
       "Bike_Model\n",
       "Folding Bike     5501\n",
       "Road Bike        5469\n",
       "BMX              5414\n",
       "Electric Bike    5373\n",
       "Hybrid Bike      5367\n",
       "Mountain Bike    5303\n",
       "Cruiser          5222\n",
       "Name: count, dtype: int64"
      ]
     },
     "execution_count": 22,
     "metadata": {},
     "output_type": "execute_result"
    }
   ],
   "source": [
    "df2=df[df.Customer_Age=='M']['Bike_Model'].value_counts()\n",
    "df2"
   ]
  },
  {
   "cell_type": "code",
   "execution_count": 23,
   "id": "4c3a6bab",
   "metadata": {
    "execution": {
     "iopub.execute_input": "2024-10-01T08:43:17.658446Z",
     "iopub.status.busy": "2024-10-01T08:43:17.657966Z",
     "iopub.status.idle": "2024-10-01T08:43:18.094723Z",
     "shell.execute_reply": "2024-10-01T08:43:18.093422Z"
    },
    "papermill": {
     "duration": 0.462995,
     "end_time": "2024-10-01T08:43:18.097465",
     "exception": false,
     "start_time": "2024-10-01T08:43:17.634470",
     "status": "completed"
    },
    "tags": []
   },
   "outputs": [
    {
     "data": {
      "text/plain": [
       "<Axes: title={'center': 'BIKE PREFERENCE FOR ADULTS'}, xlabel='Bike_Model', ylabel='count'>"
      ]
     },
     "execution_count": 23,
     "metadata": {},
     "output_type": "execute_result"
    },
    {
     "data": {
      "image/png": "[encoded data removed]",
      "text/plain": [
       "<Figure size 800x800 with 1 Axes>"
      ]
     },
     "metadata": {},
     "output_type": "display_data"
    }
   ],
   "source": [
    "df2=df[df.Customer_Age=='A']['Bike_Model'].value_counts().reset_index()\n",
    "plt.figure(figsize=(8,8))\n",
    "plt.title(\"BIKE PREFERENCE FOR ADULTS\")\n",
    "sns.lineplot(x='Bike_Model',y='count',data=df2)"
   ]
  },
  {
   "cell_type": "code",
   "execution_count": 24,
   "id": "dedaadd5",
   "metadata": {
    "execution": {
     "iopub.execute_input": "2024-10-01T08:43:18.145771Z",
     "iopub.status.busy": "2024-10-01T08:43:18.145270Z",
     "iopub.status.idle": "2024-10-01T08:43:18.539441Z",
     "shell.execute_reply": "2024-10-01T08:43:18.538246Z"
    },
    "papermill": {
     "duration": 0.421957,
     "end_time": "2024-10-01T08:43:18.542676",
     "exception": false,
     "start_time": "2024-10-01T08:43:18.120719",
     "status": "completed"
    },
    "tags": []
   },
   "outputs": [
    {
     "data": {
      "text/plain": [
       "<Axes: title={'center': 'BIKE PREFERENCE FOR MIDDLE AGED'}, xlabel='Bike_Model', ylabel='count'>"
      ]
     },
     "execution_count": 24,
     "metadata": {},
     "output_type": "execute_result"
    },
    {
     "data": {
      "image/png": "[encoded data removed]",
      "text/plain": [
       "<Figure size 800x800 with 1 Axes>"
      ]
     },
     "metadata": {},
     "output_type": "display_data"
    }
   ],
   "source": [
    "df2=df[df.Customer_Age=='M']['Bike_Model'].value_counts().reset_index()\n",
    "plt.figure(figsize=(8,8))\n",
    "plt.title(\"BIKE PREFERENCE FOR MIDDLE AGED\")\n",
    "sns.lineplot(x='Bike_Model',y='count',data=df2)"
   ]
  },
  {
   "cell_type": "code",
   "execution_count": 25,
   "id": "3e4132cd",
   "metadata": {
    "execution": {
     "iopub.execute_input": "2024-10-01T08:43:18.592421Z",
     "iopub.status.busy": "2024-10-01T08:43:18.591961Z",
     "iopub.status.idle": "2024-10-01T08:43:18.950100Z",
     "shell.execute_reply": "2024-10-01T08:43:18.948854Z"
    },
    "papermill": {
     "duration": 0.386314,
     "end_time": "2024-10-01T08:43:18.952843",
     "exception": false,
     "start_time": "2024-10-01T08:43:18.566529",
     "status": "completed"
    },
    "tags": []
   },
   "outputs": [
    {
     "data": {
      "text/plain": [
       "<Axes: title={'center': 'BIKE PREFERENCE FOR OLD AGED'}, xlabel='Bike_Model', ylabel='count'>"
      ]
     },
     "execution_count": 25,
     "metadata": {},
     "output_type": "execute_result"
    },
    {
     "data": {
      "image/png": "[encoded data removed]",
      "text/plain": [
       "<Figure size 800x800 with 1 Axes>"
      ]
     },
     "metadata": {},
     "output_type": "display_data"
    }
   ],
   "source": [
    "df2=df[df.Customer_Age=='O']['Bike_Model'].value_counts().reset_index()\n",
    "plt.figure(figsize=(8,8))\n",
    "plt.title(\"BIKE PREFERENCE FOR OLD AGED\")\n",
    "sns.lineplot(x='Bike_Model',y='count',data=df2)"
   ]
  },
  {
   "cell_type": "markdown",
   "id": "848de867",
   "metadata": {
    "papermill": {
     "duration": 0.024786,
     "end_time": "2024-10-01T08:43:19.003915",
     "exception": false,
     "start_time": "2024-10-01T08:43:18.979129",
     "status": "completed"
    },
    "tags": []
   },
   "source": [
    "## BIKE PREFERENCE BY GENDER"
   ]
  },
  {
   "cell_type": "code",
   "execution_count": 26,
   "id": "804c21a0",
   "metadata": {
    "execution": {
     "iopub.execute_input": "2024-10-01T08:43:19.055806Z",
     "iopub.status.busy": "2024-10-01T08:43:19.054956Z",
     "iopub.status.idle": "2024-10-01T08:43:19.423702Z",
     "shell.execute_reply": "2024-10-01T08:43:19.422482Z"
    },
    "papermill": {
     "duration": 0.397908,
     "end_time": "2024-10-01T08:43:19.426575",
     "exception": false,
     "start_time": "2024-10-01T08:43:19.028667",
     "status": "completed"
    },
    "tags": []
   },
   "outputs": [
    {
     "data": {
      "text/plain": [
       "<Axes: title={'center': 'GENDER VS BIKE BOUGHT'}, xlabel='Customer_Gender', ylabel='Quantity'>"
      ]
     },
     "execution_count": 26,
     "metadata": {},
     "output_type": "execute_result"
    },
    {
     "data": {
      "image/png": "[encoded data removed]",
      "text/plain": [
       "<Figure size 800x800 with 1 Axes>"
      ]
     },
     "metadata": {},
     "output_type": "display_data"
    }
   ],
   "source": [
    "df2=df.groupby(\"Customer_Gender\").agg({\"Quantity\":\"sum\"}).reset_index()\n",
    "plt.figure(figsize=(8,8))\n",
    "plt.title(\"GENDER VS BIKE BOUGHT\")\n",
    "df2\n",
    "sns.lineplot(x='Customer_Gender',y='Quantity',data=df2)"
   ]
  },
  {
   "cell_type": "markdown",
   "id": "4c49dfc2",
   "metadata": {
    "papermill": {
     "duration": 0.026861,
     "end_time": "2024-10-01T08:43:19.479307",
     "exception": false,
     "start_time": "2024-10-01T08:43:19.452446",
     "status": "completed"
    },
    "tags": []
   },
   "source": [
    "### We can drop Payment_Method because it is not significant. "
   ]
  },
  {
   "cell_type": "code",
   "execution_count": 27,
   "id": "54145e61",
   "metadata": {
    "execution": {
     "iopub.execute_input": "2024-10-01T08:43:19.533341Z",
     "iopub.status.busy": "2024-10-01T08:43:19.532903Z",
     "iopub.status.idle": "2024-10-01T08:43:19.546952Z",
     "shell.execute_reply": "2024-10-01T08:43:19.545739Z"
    },
    "papermill": {
     "duration": 0.044295,
     "end_time": "2024-10-01T08:43:19.549900",
     "exception": false,
     "start_time": "2024-10-01T08:43:19.505605",
     "status": "completed"
    },
    "tags": []
   },
   "outputs": [],
   "source": [
    "df.drop(columns=[\"Payment_Method\"],inplace=True)"
   ]
  },
  {
   "cell_type": "markdown",
   "id": "a8651bd0",
   "metadata": {
    "papermill": {
     "duration": 0.026003,
     "end_time": "2024-10-01T08:43:19.603485",
     "exception": false,
     "start_time": "2024-10-01T08:43:19.577482",
     "status": "completed"
    },
    "tags": []
   },
   "source": [
    "## PREDICT THE QUANTITY OF BIKES THAT CAN BE SOLD IN A PARTICULAR MONTH"
   ]
  },
  {
   "cell_type": "code",
   "execution_count": 28,
   "id": "be7eff02",
   "metadata": {
    "execution": {
     "iopub.execute_input": "2024-10-01T08:43:19.657180Z",
     "iopub.status.busy": "2024-10-01T08:43:19.656738Z",
     "iopub.status.idle": "2024-10-01T08:43:19.872499Z",
     "shell.execute_reply": "2024-10-01T08:43:19.871191Z"
    },
    "papermill": {
     "duration": 0.246815,
     "end_time": "2024-10-01T08:43:19.876170",
     "exception": false,
     "start_time": "2024-10-01T08:43:19.629355",
     "status": "completed"
    },
    "tags": []
   },
   "outputs": [],
   "source": [
    "from sklearn.compose import ColumnTransformer\n",
    "from sklearn.preprocessing import StandardScaler,OneHotEncoder,LabelEncoder\n"
   ]
  },
  {
   "cell_type": "code",
   "execution_count": 29,
   "id": "4a6298b6",
   "metadata": {
    "execution": {
     "iopub.execute_input": "2024-10-01T08:43:19.932121Z",
     "iopub.status.busy": "2024-10-01T08:43:19.931506Z",
     "iopub.status.idle": "2024-10-01T08:43:19.940153Z",
     "shell.execute_reply": "2024-10-01T08:43:19.938813Z"
    },
    "papermill": {
     "duration": 0.039858,
     "end_time": "2024-10-01T08:43:19.942833",
     "exception": false,
     "start_time": "2024-10-01T08:43:19.902975",
     "status": "completed"
    },
    "tags": []
   },
   "outputs": [
    {
     "data": {
      "text/plain": [
       "Index(['Date', 'Bike_Model', 'Price', 'Quantity', 'Store_Location',\n",
       "       'Customer_Age', 'Customer_Gender'],\n",
       "      dtype='object')"
      ]
     },
     "execution_count": 29,
     "metadata": {},
     "output_type": "execute_result"
    }
   ],
   "source": [
    "df.columns"
   ]
  },
  {
   "cell_type": "code",
   "execution_count": 30,
   "id": "fa7267db",
   "metadata": {
    "execution": {
     "iopub.execute_input": "2024-10-01T08:43:19.997739Z",
     "iopub.status.busy": "2024-10-01T08:43:19.997269Z",
     "iopub.status.idle": "2024-10-01T08:43:20.014568Z",
     "shell.execute_reply": "2024-10-01T08:43:20.012966Z"
    },
    "papermill": {
     "duration": 0.048317,
     "end_time": "2024-10-01T08:43:20.017605",
     "exception": false,
     "start_time": "2024-10-01T08:43:19.969288",
     "status": "completed"
    },
    "tags": []
   },
   "outputs": [],
   "source": [
    "independent_features = list(df.drop(columns=['Quantity']).columns)\n",
    "dependent_features = ['Quantity']"
   ]
  },
  {
   "cell_type": "code",
   "execution_count": 31,
   "id": "4687e030",
   "metadata": {
    "execution": {
     "iopub.execute_input": "2024-10-01T08:43:20.072099Z",
     "iopub.status.busy": "2024-10-01T08:43:20.071019Z",
     "iopub.status.idle": "2024-10-01T08:43:20.079541Z",
     "shell.execute_reply": "2024-10-01T08:43:20.078163Z"
    },
    "papermill": {
     "duration": 0.038514,
     "end_time": "2024-10-01T08:43:20.082261",
     "exception": false,
     "start_time": "2024-10-01T08:43:20.043747",
     "status": "completed"
    },
    "tags": []
   },
   "outputs": [
    {
     "data": {
      "text/plain": [
       "['Date',\n",
       " 'Bike_Model',\n",
       " 'Price',\n",
       " 'Store_Location',\n",
       " 'Customer_Age',\n",
       " 'Customer_Gender']"
      ]
     },
     "execution_count": 31,
     "metadata": {},
     "output_type": "execute_result"
    }
   ],
   "source": [
    "independent_features"
   ]
  },
  {
   "cell_type": "code",
   "execution_count": 32,
   "id": "fb0afb70",
   "metadata": {
    "execution": {
     "iopub.execute_input": "2024-10-01T08:43:20.136586Z",
     "iopub.status.busy": "2024-10-01T08:43:20.136131Z",
     "iopub.status.idle": "2024-10-01T08:43:20.142774Z",
     "shell.execute_reply": "2024-10-01T08:43:20.141407Z"
    },
    "papermill": {
     "duration": 0.037016,
     "end_time": "2024-10-01T08:43:20.145381",
     "exception": false,
     "start_time": "2024-10-01T08:43:20.108365",
     "status": "completed"
    },
    "tags": []
   },
   "outputs": [],
   "source": [
    "transformer = ColumnTransformer([\n",
    "    \n",
    "    (\"encode\",OneHotEncoder(),['Bike_Model','Store_Location','Customer_Gender','Customer_Age']),\n",
    "    (\"Scaler\",StandardScaler(),[\"Price\"])\n",
    "])\n",
    "\n",
    "lbl=LabelEncoder()"
   ]
  },
  {
   "cell_type": "markdown",
   "id": "bedfdbad",
   "metadata": {
    "papermill": {
     "duration": 0.025463,
     "end_time": "2024-10-01T08:43:20.196754",
     "exception": false,
     "start_time": "2024-10-01T08:43:20.171291",
     "status": "completed"
    },
    "tags": []
   },
   "source": []
  },
  {
   "cell_type": "markdown",
   "id": "20a2872a",
   "metadata": {
    "papermill": {
     "duration": 0.026155,
     "end_time": "2024-10-01T08:43:20.249406",
     "exception": false,
     "start_time": "2024-10-01T08:43:20.223251",
     "status": "completed"
    },
    "tags": []
   },
   "source": []
  },
  {
   "cell_type": "markdown",
   "id": "0f669e4a",
   "metadata": {
    "papermill": {
     "duration": 0.025377,
     "end_time": "2024-10-01T08:43:20.300912",
     "exception": false,
     "start_time": "2024-10-01T08:43:20.275535",
     "status": "completed"
    },
    "tags": []
   },
   "source": [
    "# MODEL TRAINING"
   ]
  },
  {
   "cell_type": "code",
   "execution_count": 33,
   "id": "50006e57",
   "metadata": {
    "execution": {
     "iopub.execute_input": "2024-10-01T08:43:20.356186Z",
     "iopub.status.busy": "2024-10-01T08:43:20.355702Z",
     "iopub.status.idle": "2024-10-01T08:43:20.430892Z",
     "shell.execute_reply": "2024-10-01T08:43:20.429438Z"
    },
    "papermill": {
     "duration": 0.106223,
     "end_time": "2024-10-01T08:43:20.433548",
     "exception": false,
     "start_time": "2024-10-01T08:43:20.327325",
     "status": "completed"
    },
    "tags": []
   },
   "outputs": [
    {
     "data": {
      "text/html": [
       "<div>\n",
       "<style scoped>\n",
       "    .dataframe tbody tr th:only-of-type {\n",
       "        vertical-align: middle;\n",
       "    }\n",
       "\n",
       "    .dataframe tbody tr th {\n",
       "        vertical-align: top;\n",
       "    }\n",
       "\n",
       "    .dataframe thead th {\n",
       "        text-align: right;\n",
       "    }\n",
       "</style>\n",
       "<table border=\"1\" class=\"dataframe\">\n",
       "  <thead>\n",
       "    <tr style=\"text-align: right;\">\n",
       "      <th></th>\n",
       "      <th>Date</th>\n",
       "      <th>Bike_Model</th>\n",
       "      <th>Customer_Gender</th>\n",
       "      <th>Store_Location</th>\n",
       "      <th>Customer_Age</th>\n",
       "      <th>Quantity</th>\n",
       "      <th>Price</th>\n",
       "    </tr>\n",
       "  </thead>\n",
       "  <tbody>\n",
       "    <tr>\n",
       "      <th>0</th>\n",
       "      <td>1</td>\n",
       "      <td>BMX</td>\n",
       "      <td>Female</td>\n",
       "      <td>Chicago</td>\n",
       "      <td>A</td>\n",
       "      <td>86</td>\n",
       "      <td>2738.058529</td>\n",
       "    </tr>\n",
       "    <tr>\n",
       "      <th>1</th>\n",
       "      <td>1</td>\n",
       "      <td>BMX</td>\n",
       "      <td>Female</td>\n",
       "      <td>Chicago</td>\n",
       "      <td>M</td>\n",
       "      <td>121</td>\n",
       "      <td>2815.330000</td>\n",
       "    </tr>\n",
       "    <tr>\n",
       "      <th>2</th>\n",
       "      <td>1</td>\n",
       "      <td>BMX</td>\n",
       "      <td>Female</td>\n",
       "      <td>Chicago</td>\n",
       "      <td>O</td>\n",
       "      <td>76</td>\n",
       "      <td>2670.418636</td>\n",
       "    </tr>\n",
       "    <tr>\n",
       "      <th>3</th>\n",
       "      <td>1</td>\n",
       "      <td>BMX</td>\n",
       "      <td>Female</td>\n",
       "      <td>Houston</td>\n",
       "      <td>A</td>\n",
       "      <td>84</td>\n",
       "      <td>2629.621481</td>\n",
       "    </tr>\n",
       "    <tr>\n",
       "      <th>4</th>\n",
       "      <td>1</td>\n",
       "      <td>BMX</td>\n",
       "      <td>Female</td>\n",
       "      <td>Houston</td>\n",
       "      <td>M</td>\n",
       "      <td>91</td>\n",
       "      <td>2644.399412</td>\n",
       "    </tr>\n",
       "    <tr>\n",
       "      <th>...</th>\n",
       "      <td>...</td>\n",
       "      <td>...</td>\n",
       "      <td>...</td>\n",
       "      <td>...</td>\n",
       "      <td>...</td>\n",
       "      <td>...</td>\n",
       "      <td>...</td>\n",
       "    </tr>\n",
       "    <tr>\n",
       "      <th>3523</th>\n",
       "      <td>12</td>\n",
       "      <td>Road Bike</td>\n",
       "      <td>Male</td>\n",
       "      <td>Phoenix</td>\n",
       "      <td>M</td>\n",
       "      <td>113</td>\n",
       "      <td>2705.287143</td>\n",
       "    </tr>\n",
       "    <tr>\n",
       "      <th>3524</th>\n",
       "      <td>12</td>\n",
       "      <td>Road Bike</td>\n",
       "      <td>Male</td>\n",
       "      <td>Phoenix</td>\n",
       "      <td>O</td>\n",
       "      <td>55</td>\n",
       "      <td>2993.703000</td>\n",
       "    </tr>\n",
       "    <tr>\n",
       "      <th>3525</th>\n",
       "      <td>12</td>\n",
       "      <td>Road Bike</td>\n",
       "      <td>Male</td>\n",
       "      <td>San Antonio</td>\n",
       "      <td>A</td>\n",
       "      <td>70</td>\n",
       "      <td>2198.192609</td>\n",
       "    </tr>\n",
       "    <tr>\n",
       "      <th>3526</th>\n",
       "      <td>12</td>\n",
       "      <td>Road Bike</td>\n",
       "      <td>Male</td>\n",
       "      <td>San Antonio</td>\n",
       "      <td>M</td>\n",
       "      <td>76</td>\n",
       "      <td>2986.206250</td>\n",
       "    </tr>\n",
       "    <tr>\n",
       "      <th>3527</th>\n",
       "      <td>12</td>\n",
       "      <td>Road Bike</td>\n",
       "      <td>Male</td>\n",
       "      <td>San Antonio</td>\n",
       "      <td>O</td>\n",
       "      <td>74</td>\n",
       "      <td>2652.066250</td>\n",
       "    </tr>\n",
       "  </tbody>\n",
       "</table>\n",
       "<p>3528 rows × 7 columns</p>\n",
       "</div>"
      ],
      "text/plain": [
       "      Date Bike_Model Customer_Gender Store_Location Customer_Age  Quantity  \\\n",
       "0        1        BMX          Female        Chicago            A        86   \n",
       "1        1        BMX          Female        Chicago            M       121   \n",
       "2        1        BMX          Female        Chicago            O        76   \n",
       "3        1        BMX          Female        Houston            A        84   \n",
       "4        1        BMX          Female        Houston            M        91   \n",
       "...    ...        ...             ...            ...          ...       ...   \n",
       "3523    12  Road Bike            Male        Phoenix            M       113   \n",
       "3524    12  Road Bike            Male        Phoenix            O        55   \n",
       "3525    12  Road Bike            Male    San Antonio            A        70   \n",
       "3526    12  Road Bike            Male    San Antonio            M        76   \n",
       "3527    12  Road Bike            Male    San Antonio            O        74   \n",
       "\n",
       "            Price  \n",
       "0     2738.058529  \n",
       "1     2815.330000  \n",
       "2     2670.418636  \n",
       "3     2629.621481  \n",
       "4     2644.399412  \n",
       "...           ...  \n",
       "3523  2705.287143  \n",
       "3524  2993.703000  \n",
       "3525  2198.192609  \n",
       "3526  2986.206250  \n",
       "3527  2652.066250  \n",
       "\n",
       "[3528 rows x 7 columns]"
      ]
     },
     "execution_count": 33,
     "metadata": {},
     "output_type": "execute_result"
    }
   ],
   "source": [
    "# WE WILL CREATE A SUMMARISED DATA SET \n",
    "df2=df.groupby([\"Date\",\"Bike_Model\",\"Customer_Gender\",\"Store_Location\",\"Customer_Age\"]).agg({\"Quantity\":\"sum\",\"Price\":\"mean\"}).reset_index()\n",
    "df2"
   ]
  },
  {
   "cell_type": "code",
   "execution_count": 34,
   "id": "ba30785a",
   "metadata": {
    "execution": {
     "iopub.execute_input": "2024-10-01T08:43:20.488743Z",
     "iopub.status.busy": "2024-10-01T08:43:20.488267Z",
     "iopub.status.idle": "2024-10-01T08:43:20.498055Z",
     "shell.execute_reply": "2024-10-01T08:43:20.496822Z"
    },
    "papermill": {
     "duration": 0.04057,
     "end_time": "2024-10-01T08:43:20.500852",
     "exception": false,
     "start_time": "2024-10-01T08:43:20.460282",
     "status": "completed"
    },
    "tags": []
   },
   "outputs": [],
   "source": [
    "def quantity_categorise(s):\n",
    "    if s>=100:\n",
    "        return \"High\"\n",
    "    if s<100 and s>50:\n",
    "        return \"Medium\"\n",
    "    else:\n",
    "        return \"Low\"\n",
    "df2['Quantity']=df2['Quantity'].apply(lambda s:quantity_categorise(s))"
   ]
  },
  {
   "cell_type": "code",
   "execution_count": 35,
   "id": "751433fd",
   "metadata": {
    "execution": {
     "iopub.execute_input": "2024-10-01T08:43:20.556997Z",
     "iopub.status.busy": "2024-10-01T08:43:20.556521Z",
     "iopub.status.idle": "2024-10-01T08:43:20.577143Z",
     "shell.execute_reply": "2024-10-01T08:43:20.575641Z"
    },
    "papermill": {
     "duration": 0.053044,
     "end_time": "2024-10-01T08:43:20.580018",
     "exception": false,
     "start_time": "2024-10-01T08:43:20.526974",
     "status": "completed"
    },
    "tags": []
   },
   "outputs": [
    {
     "data": {
      "text/html": [
       "<div>\n",
       "<style scoped>\n",
       "    .dataframe tbody tr th:only-of-type {\n",
       "        vertical-align: middle;\n",
       "    }\n",
       "\n",
       "    .dataframe tbody tr th {\n",
       "        vertical-align: top;\n",
       "    }\n",
       "\n",
       "    .dataframe thead th {\n",
       "        text-align: right;\n",
       "    }\n",
       "</style>\n",
       "<table border=\"1\" class=\"dataframe\">\n",
       "  <thead>\n",
       "    <tr style=\"text-align: right;\">\n",
       "      <th></th>\n",
       "      <th>Date</th>\n",
       "      <th>Bike_Model</th>\n",
       "      <th>Customer_Gender</th>\n",
       "      <th>Store_Location</th>\n",
       "      <th>Customer_Age</th>\n",
       "      <th>Quantity</th>\n",
       "      <th>Price</th>\n",
       "    </tr>\n",
       "  </thead>\n",
       "  <tbody>\n",
       "    <tr>\n",
       "      <th>0</th>\n",
       "      <td>1</td>\n",
       "      <td>BMX</td>\n",
       "      <td>Female</td>\n",
       "      <td>Chicago</td>\n",
       "      <td>A</td>\n",
       "      <td>Medium</td>\n",
       "      <td>2738.058529</td>\n",
       "    </tr>\n",
       "    <tr>\n",
       "      <th>1</th>\n",
       "      <td>1</td>\n",
       "      <td>BMX</td>\n",
       "      <td>Female</td>\n",
       "      <td>Chicago</td>\n",
       "      <td>M</td>\n",
       "      <td>High</td>\n",
       "      <td>2815.330000</td>\n",
       "    </tr>\n",
       "    <tr>\n",
       "      <th>2</th>\n",
       "      <td>1</td>\n",
       "      <td>BMX</td>\n",
       "      <td>Female</td>\n",
       "      <td>Chicago</td>\n",
       "      <td>O</td>\n",
       "      <td>Medium</td>\n",
       "      <td>2670.418636</td>\n",
       "    </tr>\n",
       "    <tr>\n",
       "      <th>3</th>\n",
       "      <td>1</td>\n",
       "      <td>BMX</td>\n",
       "      <td>Female</td>\n",
       "      <td>Houston</td>\n",
       "      <td>A</td>\n",
       "      <td>Medium</td>\n",
       "      <td>2629.621481</td>\n",
       "    </tr>\n",
       "    <tr>\n",
       "      <th>4</th>\n",
       "      <td>1</td>\n",
       "      <td>BMX</td>\n",
       "      <td>Female</td>\n",
       "      <td>Houston</td>\n",
       "      <td>M</td>\n",
       "      <td>Medium</td>\n",
       "      <td>2644.399412</td>\n",
       "    </tr>\n",
       "    <tr>\n",
       "      <th>...</th>\n",
       "      <td>...</td>\n",
       "      <td>...</td>\n",
       "      <td>...</td>\n",
       "      <td>...</td>\n",
       "      <td>...</td>\n",
       "      <td>...</td>\n",
       "      <td>...</td>\n",
       "    </tr>\n",
       "    <tr>\n",
       "      <th>3523</th>\n",
       "      <td>12</td>\n",
       "      <td>Road Bike</td>\n",
       "      <td>Male</td>\n",
       "      <td>Phoenix</td>\n",
       "      <td>M</td>\n",
       "      <td>High</td>\n",
       "      <td>2705.287143</td>\n",
       "    </tr>\n",
       "    <tr>\n",
       "      <th>3524</th>\n",
       "      <td>12</td>\n",
       "      <td>Road Bike</td>\n",
       "      <td>Male</td>\n",
       "      <td>Phoenix</td>\n",
       "      <td>O</td>\n",
       "      <td>Medium</td>\n",
       "      <td>2993.703000</td>\n",
       "    </tr>\n",
       "    <tr>\n",
       "      <th>3525</th>\n",
       "      <td>12</td>\n",
       "      <td>Road Bike</td>\n",
       "      <td>Male</td>\n",
       "      <td>San Antonio</td>\n",
       "      <td>A</td>\n",
       "      <td>Medium</td>\n",
       "      <td>2198.192609</td>\n",
       "    </tr>\n",
       "    <tr>\n",
       "      <th>3526</th>\n",
       "      <td>12</td>\n",
       "      <td>Road Bike</td>\n",
       "      <td>Male</td>\n",
       "      <td>San Antonio</td>\n",
       "      <td>M</td>\n",
       "      <td>Medium</td>\n",
       "      <td>2986.206250</td>\n",
       "    </tr>\n",
       "    <tr>\n",
       "      <th>3527</th>\n",
       "      <td>12</td>\n",
       "      <td>Road Bike</td>\n",
       "      <td>Male</td>\n",
       "      <td>San Antonio</td>\n",
       "      <td>O</td>\n",
       "      <td>Medium</td>\n",
       "      <td>2652.066250</td>\n",
       "    </tr>\n",
       "  </tbody>\n",
       "</table>\n",
       "<p>3528 rows × 7 columns</p>\n",
       "</div>"
      ],
      "text/plain": [
       "      Date Bike_Model Customer_Gender Store_Location Customer_Age Quantity  \\\n",
       "0        1        BMX          Female        Chicago            A   Medium   \n",
       "1        1        BMX          Female        Chicago            M     High   \n",
       "2        1        BMX          Female        Chicago            O   Medium   \n",
       "3        1        BMX          Female        Houston            A   Medium   \n",
       "4        1        BMX          Female        Houston            M   Medium   \n",
       "...    ...        ...             ...            ...          ...      ...   \n",
       "3523    12  Road Bike            Male        Phoenix            M     High   \n",
       "3524    12  Road Bike            Male        Phoenix            O   Medium   \n",
       "3525    12  Road Bike            Male    San Antonio            A   Medium   \n",
       "3526    12  Road Bike            Male    San Antonio            M   Medium   \n",
       "3527    12  Road Bike            Male    San Antonio            O   Medium   \n",
       "\n",
       "            Price  \n",
       "0     2738.058529  \n",
       "1     2815.330000  \n",
       "2     2670.418636  \n",
       "3     2629.621481  \n",
       "4     2644.399412  \n",
       "...           ...  \n",
       "3523  2705.287143  \n",
       "3524  2993.703000  \n",
       "3525  2198.192609  \n",
       "3526  2986.206250  \n",
       "3527  2652.066250  \n",
       "\n",
       "[3528 rows x 7 columns]"
      ]
     },
     "execution_count": 35,
     "metadata": {},
     "output_type": "execute_result"
    }
   ],
   "source": [
    "df2"
   ]
  },
  {
   "cell_type": "code",
   "execution_count": 36,
   "id": "b61d44b5",
   "metadata": {
    "execution": {
     "iopub.execute_input": "2024-10-01T08:43:20.649829Z",
     "iopub.status.busy": "2024-10-01T08:43:20.648930Z",
     "iopub.status.idle": "2024-10-01T08:43:20.796339Z",
     "shell.execute_reply": "2024-10-01T08:43:20.794662Z"
    },
    "papermill": {
     "duration": 0.186771,
     "end_time": "2024-10-01T08:43:20.800189",
     "exception": false,
     "start_time": "2024-10-01T08:43:20.613418",
     "status": "completed"
    },
    "tags": []
   },
   "outputs": [],
   "source": [
    "from sklearn.model_selection import train_test_split\n",
    "X_train,X_test,Y_train,Y_test = train_test_split(df2[independent_features],df2[dependent_features],test_size=0.25,random_state=42)"
   ]
  },
  {
   "cell_type": "code",
   "execution_count": 37,
   "id": "16391d6c",
   "metadata": {
    "execution": {
     "iopub.execute_input": "2024-10-01T08:43:20.866906Z",
     "iopub.status.busy": "2024-10-01T08:43:20.865897Z",
     "iopub.status.idle": "2024-10-01T08:43:20.909589Z",
     "shell.execute_reply": "2024-10-01T08:43:20.908297Z"
    },
    "papermill": {
     "duration": 0.080737,
     "end_time": "2024-10-01T08:43:20.912614",
     "exception": false,
     "start_time": "2024-10-01T08:43:20.831877",
     "status": "completed"
    },
    "tags": []
   },
   "outputs": [],
   "source": [
    "X_train=transformer.fit_transform(X_train)\n",
    "X_test= transformer.transform(X_test)\n",
    "Y_train = lbl.fit_transform(Y_train)\n",
    "Y_test = lbl.transform(Y_test)"
   ]
  },
  {
   "cell_type": "code",
   "execution_count": 38,
   "id": "08ed4957",
   "metadata": {
    "execution": {
     "iopub.execute_input": "2024-10-01T08:43:20.970437Z",
     "iopub.status.busy": "2024-10-01T08:43:20.969661Z",
     "iopub.status.idle": "2024-10-01T08:43:21.186268Z",
     "shell.execute_reply": "2024-10-01T08:43:21.184391Z"
    },
    "papermill": {
     "duration": 0.249076,
     "end_time": "2024-10-01T08:43:21.189202",
     "exception": false,
     "start_time": "2024-10-01T08:43:20.940126",
     "status": "completed"
    },
    "tags": []
   },
   "outputs": [
    {
     "name": "stdout",
     "output_type": "stream",
     "text": [
      "0.717687074829932\n"
     ]
    }
   ],
   "source": [
    "\n",
    "from sklearn.linear_model import LogisticRegression\n",
    "from sklearn.metrics import accuracy_score\n",
    "model = LogisticRegression()\n",
    "model.fit(X_train,Y_train)\n",
    "y_pred  = model.predict(X_test)\n",
    "print(accuracy_score(Y_test,y_pred))"
   ]
  },
  {
   "cell_type": "code",
   "execution_count": null,
   "id": "bf94c490",
   "metadata": {
    "papermill": {
     "duration": 0.027606,
     "end_time": "2024-10-01T08:43:21.244402",
     "exception": false,
     "start_time": "2024-10-01T08:43:21.216796",
     "status": "completed"
    },
    "tags": []
   },
   "outputs": [],
   "source": []
  },
  {
   "cell_type": "markdown",
   "id": "0fc1d219",
   "metadata": {
    "papermill": {
     "duration": 0.027676,
     "end_time": "2024-10-01T08:43:21.298973",
     "exception": false,
     "start_time": "2024-10-01T08:43:21.271297",
     "status": "completed"
    },
    "tags": []
   },
   "source": [
    "# MODEL ACCURACY = 71.76%"
   ]
  },
  {
   "cell_type": "code",
   "execution_count": null,
   "id": "bc204e7d",
   "metadata": {
    "papermill": {
     "duration": 0.027786,
     "end_time": "2024-10-01T08:43:21.354327",
     "exception": false,
     "start_time": "2024-10-01T08:43:21.326541",
     "status": "completed"
    },
    "tags": []
   },
   "outputs": [],
   "source": []
  },
  {
   "cell_type": "markdown",
   "id": "5c316604",
   "metadata": {
    "papermill": {
     "duration": 0.026745,
     "end_time": "2024-10-01T08:43:21.407869",
     "exception": false,
     "start_time": "2024-10-01T08:43:21.381124",
     "status": "completed"
    },
    "tags": []
   },
   "source": [
    "# FUTURISTIC PREDICTIONS\n",
    "### Predict estimated bike sales in New York for December Month"
   ]
  },
  {
   "cell_type": "code",
   "execution_count": 39,
   "id": "875a4fd1",
   "metadata": {
    "execution": {
     "iopub.execute_input": "2024-10-01T08:43:21.464227Z",
     "iopub.status.busy": "2024-10-01T08:43:21.463675Z",
     "iopub.status.idle": "2024-10-01T08:43:21.490977Z",
     "shell.execute_reply": "2024-10-01T08:43:21.489478Z"
    },
    "papermill": {
     "duration": 0.059099,
     "end_time": "2024-10-01T08:43:21.493860",
     "exception": false,
     "start_time": "2024-10-01T08:43:21.434761",
     "status": "completed"
    },
    "tags": []
   },
   "outputs": [
    {
     "data": {
      "text/html": [
       "<div>\n",
       "<style scoped>\n",
       "    .dataframe tbody tr th:only-of-type {\n",
       "        vertical-align: middle;\n",
       "    }\n",
       "\n",
       "    .dataframe tbody tr th {\n",
       "        vertical-align: top;\n",
       "    }\n",
       "\n",
       "    .dataframe thead th {\n",
       "        text-align: right;\n",
       "    }\n",
       "</style>\n",
       "<table border=\"1\" class=\"dataframe\">\n",
       "  <thead>\n",
       "    <tr style=\"text-align: right;\">\n",
       "      <th></th>\n",
       "      <th>Date</th>\n",
       "      <th>Bike_Model</th>\n",
       "      <th>Customer_Gender</th>\n",
       "      <th>Store_Location</th>\n",
       "      <th>Customer_Age</th>\n",
       "      <th>Quantity</th>\n",
       "      <th>Price</th>\n",
       "    </tr>\n",
       "  </thead>\n",
       "  <tbody>\n",
       "    <tr>\n",
       "      <th>9</th>\n",
       "      <td>1</td>\n",
       "      <td>BMX</td>\n",
       "      <td>Female</td>\n",
       "      <td>New York</td>\n",
       "      <td>A</td>\n",
       "      <td>High</td>\n",
       "      <td>2298.535946</td>\n",
       "    </tr>\n",
       "    <tr>\n",
       "      <th>10</th>\n",
       "      <td>1</td>\n",
       "      <td>BMX</td>\n",
       "      <td>Female</td>\n",
       "      <td>New York</td>\n",
       "      <td>M</td>\n",
       "      <td>High</td>\n",
       "      <td>2643.035405</td>\n",
       "    </tr>\n",
       "    <tr>\n",
       "      <th>11</th>\n",
       "      <td>1</td>\n",
       "      <td>BMX</td>\n",
       "      <td>Female</td>\n",
       "      <td>New York</td>\n",
       "      <td>O</td>\n",
       "      <td>Medium</td>\n",
       "      <td>3084.261613</td>\n",
       "    </tr>\n",
       "    <tr>\n",
       "      <th>30</th>\n",
       "      <td>1</td>\n",
       "      <td>BMX</td>\n",
       "      <td>Male</td>\n",
       "      <td>New York</td>\n",
       "      <td>A</td>\n",
       "      <td>Medium</td>\n",
       "      <td>2612.981923</td>\n",
       "    </tr>\n",
       "    <tr>\n",
       "      <th>31</th>\n",
       "      <td>1</td>\n",
       "      <td>BMX</td>\n",
       "      <td>Male</td>\n",
       "      <td>New York</td>\n",
       "      <td>M</td>\n",
       "      <td>Medium</td>\n",
       "      <td>2155.172812</td>\n",
       "    </tr>\n",
       "    <tr>\n",
       "      <th>...</th>\n",
       "      <td>...</td>\n",
       "      <td>...</td>\n",
       "      <td>...</td>\n",
       "      <td>...</td>\n",
       "      <td>...</td>\n",
       "      <td>...</td>\n",
       "      <td>...</td>\n",
       "    </tr>\n",
       "    <tr>\n",
       "      <th>3244</th>\n",
       "      <td>12</td>\n",
       "      <td>BMX</td>\n",
       "      <td>Female</td>\n",
       "      <td>New York</td>\n",
       "      <td>M</td>\n",
       "      <td>Medium</td>\n",
       "      <td>2683.714231</td>\n",
       "    </tr>\n",
       "    <tr>\n",
       "      <th>3245</th>\n",
       "      <td>12</td>\n",
       "      <td>BMX</td>\n",
       "      <td>Female</td>\n",
       "      <td>New York</td>\n",
       "      <td>O</td>\n",
       "      <td>Medium</td>\n",
       "      <td>2333.635556</td>\n",
       "    </tr>\n",
       "    <tr>\n",
       "      <th>3264</th>\n",
       "      <td>12</td>\n",
       "      <td>BMX</td>\n",
       "      <td>Male</td>\n",
       "      <td>New York</td>\n",
       "      <td>A</td>\n",
       "      <td>High</td>\n",
       "      <td>3439.018214</td>\n",
       "    </tr>\n",
       "    <tr>\n",
       "      <th>3265</th>\n",
       "      <td>12</td>\n",
       "      <td>BMX</td>\n",
       "      <td>Male</td>\n",
       "      <td>New York</td>\n",
       "      <td>M</td>\n",
       "      <td>Medium</td>\n",
       "      <td>2413.712727</td>\n",
       "    </tr>\n",
       "    <tr>\n",
       "      <th>3266</th>\n",
       "      <td>12</td>\n",
       "      <td>BMX</td>\n",
       "      <td>Male</td>\n",
       "      <td>New York</td>\n",
       "      <td>O</td>\n",
       "      <td>Medium</td>\n",
       "      <td>2702.625455</td>\n",
       "    </tr>\n",
       "  </tbody>\n",
       "</table>\n",
       "<p>72 rows × 7 columns</p>\n",
       "</div>"
      ],
      "text/plain": [
       "      Date Bike_Model Customer_Gender Store_Location Customer_Age Quantity  \\\n",
       "9        1        BMX          Female       New York            A     High   \n",
       "10       1        BMX          Female       New York            M     High   \n",
       "11       1        BMX          Female       New York            O   Medium   \n",
       "30       1        BMX            Male       New York            A   Medium   \n",
       "31       1        BMX            Male       New York            M   Medium   \n",
       "...    ...        ...             ...            ...          ...      ...   \n",
       "3244    12        BMX          Female       New York            M   Medium   \n",
       "3245    12        BMX          Female       New York            O   Medium   \n",
       "3264    12        BMX            Male       New York            A     High   \n",
       "3265    12        BMX            Male       New York            M   Medium   \n",
       "3266    12        BMX            Male       New York            O   Medium   \n",
       "\n",
       "            Price  \n",
       "9     2298.535946  \n",
       "10    2643.035405  \n",
       "11    3084.261613  \n",
       "30    2612.981923  \n",
       "31    2155.172812  \n",
       "...           ...  \n",
       "3244  2683.714231  \n",
       "3245  2333.635556  \n",
       "3264  3439.018214  \n",
       "3265  2413.712727  \n",
       "3266  2702.625455  \n",
       "\n",
       "[72 rows x 7 columns]"
      ]
     },
     "execution_count": 39,
     "metadata": {},
     "output_type": "execute_result"
    }
   ],
   "source": [
    "df2[(df2.Bike_Model=='BMX')&(df2.Store_Location=='New York')]"
   ]
  },
  {
   "cell_type": "code",
   "execution_count": 40,
   "id": "c8ce0924",
   "metadata": {
    "execution": {
     "iopub.execute_input": "2024-10-01T08:43:21.551220Z",
     "iopub.status.busy": "2024-10-01T08:43:21.550760Z",
     "iopub.status.idle": "2024-10-01T08:43:21.569883Z",
     "shell.execute_reply": "2024-10-01T08:43:21.568242Z"
    },
    "papermill": {
     "duration": 0.050724,
     "end_time": "2024-10-01T08:43:21.572715",
     "exception": false,
     "start_time": "2024-10-01T08:43:21.521991",
     "status": "completed"
    },
    "tags": []
   },
   "outputs": [],
   "source": [
    "test_df = pd.DataFrame()\n",
    "test_df['Date']=[1]\n",
    "test_df['Bike_Model']=['BMX']\n",
    "test_df['Customer_Gender']=['Female']\n",
    "test_df['Store_Location']=['New York']\n",
    "test_df['Customer_Age']=['M']\n",
    "test_df['Price']=['2683']\n",
    "X_test = transformer.transform(test_df)\n",
    "\n"
   ]
  },
  {
   "cell_type": "code",
   "execution_count": 41,
   "id": "30cd4bbc",
   "metadata": {
    "execution": {
     "iopub.execute_input": "2024-10-01T08:43:21.633848Z",
     "iopub.status.busy": "2024-10-01T08:43:21.633234Z",
     "iopub.status.idle": "2024-10-01T08:43:21.643142Z",
     "shell.execute_reply": "2024-10-01T08:43:21.641304Z"
    },
    "papermill": {
     "duration": 0.044736,
     "end_time": "2024-10-01T08:43:21.646037",
     "exception": false,
     "start_time": "2024-10-01T08:43:21.601301",
     "status": "completed"
    },
    "tags": []
   },
   "outputs": [
    {
     "name": "stdout",
     "output_type": "stream",
     "text": [
      "Estimated Quantity  BMX Bikes predicted to be bought by Senior Aged Group ( Above 55)  in New York are in December for 2683$ :  High\n"
     ]
    }
   ],
   "source": [
    "print(\"Estimated Quantity  BMX Bikes predicted to be bought by Senior Aged Group ( Above 55)  in New York are in December for 2683$ : \",lbl.inverse_transform(model.predict(X_test))[0])"
   ]
  },
  {
   "cell_type": "markdown",
   "id": "1f705e1b",
   "metadata": {
    "papermill": {
     "duration": 0.027631,
     "end_time": "2024-10-01T08:43:21.702725",
     "exception": false,
     "start_time": "2024-10-01T08:43:21.675094",
     "status": "completed"
    },
    "tags": []
   },
   "source": [
    "## **High** Amount number of bikes will be bought by above group"
   ]
  },
  {
   "cell_type": "code",
   "execution_count": null,
   "id": "9dd0349e",
   "metadata": {
    "papermill": {
     "duration": 0.027201,
     "end_time": "2024-10-01T08:43:21.757418",
     "exception": false,
     "start_time": "2024-10-01T08:43:21.730217",
     "status": "completed"
    },
    "tags": []
   },
   "outputs": [],
   "source": []
  }
 ],
 "metadata": {
  "kaggle": {
   "accelerator": "none",
   "dataSources": [
    {
     "datasetId": 5769646,
     "sourceId": 9484529,
     "sourceType": "datasetVersion"
    }
   ],
   "dockerImageVersionId": 30775,
   "isGpuEnabled": false,
   "isInternetEnabled": true,
   "language": "python",
   "sourceType": "notebook"
  },
  "kernelspec": {
   "display_name": "Python 3",
   "language": "python",
   "name": "python3"
  },
  "language_info": {
   "codemirror_mode": {
    "name": "ipython",
    "version": 3
   },
   "file_extension": ".py",
   "mimetype": "text/x-python",
   "name": "python",
   "nbconvert_exporter": "python",
   "pygments_lexer": "ipython3",
   "version": "3.10.14"
  },
  "papermill": {
   "default_parameters": {},
   "duration": 14.845975,
   "end_time": "2024-10-01T08:43:22.509158",
   "environment_variables": {},
   "exception": null,
   "input_path": "__notebook__.ipynb",
   "output_path": "__notebook__.ipynb",
   "parameters": {},
   "start_time": "2024-10-01T08:43:07.663183",
   "version": "2.6.0"
  }
 },
 "nbformat": 4,
 "nbformat_minor": 5
}
