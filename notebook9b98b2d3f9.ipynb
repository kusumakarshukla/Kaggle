{
 "cells": [
  {
   "cell_type": "code",
   "execution_count": 1,
   "id": "f2ef00b1",
   "metadata": {
    "_cell_guid": "b1076dfc-b9ad-4769-8c92-a6c4dae69d19",
    "_uuid": "8f2839f25d086af736a60e9eeb907d3b93b6e0e5",
    "execution": {
     "iopub.execute_input": "2024-09-28T08:43:49.479035Z",
     "iopub.status.busy": "2024-09-28T08:43:49.478330Z",
     "iopub.status.idle": "2024-09-28T08:43:50.398605Z",
     "shell.execute_reply": "2024-09-28T08:43:50.397071Z"
    },
    "papermill": {
     "duration": 0.932328,
     "end_time": "2024-09-28T08:43:50.401396",
     "exception": false,
     "start_time": "2024-09-28T08:43:49.469068",
     "status": "completed"
    },
    "tags": []
   },
   "outputs": [
    {
     "name": "stdout",
     "output_type": "stream",
     "text": [
      "/kaggle/input/employee-performance-and-productivity-data/Extended_Employee_Performance_and_Productivity_Data.csv\n"
     ]
    }
   ],
   "source": [
    "# This Python 3 environment comes with many helpful analytics libraries installed\n",
    "# It is defined by the kaggle/python Docker image: https://github.com/kaggle/docker-python\n",
    "# For example, here's several helpful packages to load\n",
    "\n",
    "import numpy as np # linear algebra\n",
    "import pandas as pd # data processing, CSV file I/O (e.g. pd.read_csv)\n",
    "\n",
    "# Input data files are available in the read-only \"../input/\" directory\n",
    "# For example, running this (by clicking run or pressing Shift+Enter) will list all files under the input directory\n",
    "\n",
    "import os\n",
    "for dirname, _, filenames in os.walk('/kaggle/input'):\n",
    "    for filename in filenames:\n",
    "        print(os.path.join(dirname, filename))\n",
    "\n",
    "# You can write up to 20GB to the current directory (/kaggle/working/) that gets preserved as output when you create a version using \"Save & Run All\" \n",
    "# You can also write temporary files to /kaggle/temp/, but they won't be saved outside of the current session"
   ]
  },
  {
   "cell_type": "code",
   "execution_count": 2,
   "id": "2baccb4a",
   "metadata": {
    "execution": {
     "iopub.execute_input": "2024-09-28T08:43:50.417370Z",
     "iopub.status.busy": "2024-09-28T08:43:50.416802Z",
     "iopub.status.idle": "2024-09-28T08:43:50.834198Z",
     "shell.execute_reply": "2024-09-28T08:43:50.832855Z"
    },
    "papermill": {
     "duration": 0.428416,
     "end_time": "2024-09-28T08:43:50.836946",
     "exception": false,
     "start_time": "2024-09-28T08:43:50.408530",
     "status": "completed"
    },
    "tags": []
   },
   "outputs": [],
   "source": [
    "#LOAD THE DATA\n",
    "df=pd.read_csv(\"/kaggle/input/employee-performance-and-productivity-data/Extended_Employee_Performance_and_Productivity_Data.csv\")"
   ]
  },
  {
   "cell_type": "code",
   "execution_count": 3,
   "id": "74a159cd",
   "metadata": {
    "execution": {
     "iopub.execute_input": "2024-09-28T08:43:50.852162Z",
     "iopub.status.busy": "2024-09-28T08:43:50.851717Z",
     "iopub.status.idle": "2024-09-28T08:43:50.881485Z",
     "shell.execute_reply": "2024-09-28T08:43:50.880328Z"
    },
    "papermill": {
     "duration": 0.04014,
     "end_time": "2024-09-28T08:43:50.883896",
     "exception": false,
     "start_time": "2024-09-28T08:43:50.843756",
     "status": "completed"
    },
    "tags": []
   },
   "outputs": [
    {
     "data": {
      "text/html": [
       "<div>\n",
       "<style scoped>\n",
       "    .dataframe tbody tr th:only-of-type {\n",
       "        vertical-align: middle;\n",
       "    }\n",
       "\n",
       "    .dataframe tbody tr th {\n",
       "        vertical-align: top;\n",
       "    }\n",
       "\n",
       "    .dataframe thead th {\n",
       "        text-align: right;\n",
       "    }\n",
       "</style>\n",
       "<table border=\"1\" class=\"dataframe\">\n",
       "  <thead>\n",
       "    <tr style=\"text-align: right;\">\n",
       "      <th></th>\n",
       "      <th>Employee_ID</th>\n",
       "      <th>Department</th>\n",
       "      <th>Gender</th>\n",
       "      <th>Age</th>\n",
       "      <th>Job_Title</th>\n",
       "      <th>Hire_Date</th>\n",
       "      <th>Years_At_Company</th>\n",
       "      <th>Education_Level</th>\n",
       "      <th>Performance_Score</th>\n",
       "      <th>Monthly_Salary</th>\n",
       "      <th>Work_Hours_Per_Week</th>\n",
       "      <th>Projects_Handled</th>\n",
       "      <th>Overtime_Hours</th>\n",
       "      <th>Sick_Days</th>\n",
       "      <th>Remote_Work_Frequency</th>\n",
       "      <th>Team_Size</th>\n",
       "      <th>Training_Hours</th>\n",
       "      <th>Promotions</th>\n",
       "      <th>Employee_Satisfaction_Score</th>\n",
       "      <th>Resigned</th>\n",
       "    </tr>\n",
       "  </thead>\n",
       "  <tbody>\n",
       "    <tr>\n",
       "      <th>0</th>\n",
       "      <td>1</td>\n",
       "      <td>IT</td>\n",
       "      <td>Male</td>\n",
       "      <td>55</td>\n",
       "      <td>Specialist</td>\n",
       "      <td>2022-01-19 08:03:05.556036</td>\n",
       "      <td>2</td>\n",
       "      <td>High School</td>\n",
       "      <td>5</td>\n",
       "      <td>6750.0</td>\n",
       "      <td>33</td>\n",
       "      <td>32</td>\n",
       "      <td>22</td>\n",
       "      <td>2</td>\n",
       "      <td>0</td>\n",
       "      <td>14</td>\n",
       "      <td>66</td>\n",
       "      <td>0</td>\n",
       "      <td>2.63</td>\n",
       "      <td>False</td>\n",
       "    </tr>\n",
       "    <tr>\n",
       "      <th>1</th>\n",
       "      <td>2</td>\n",
       "      <td>Finance</td>\n",
       "      <td>Male</td>\n",
       "      <td>29</td>\n",
       "      <td>Developer</td>\n",
       "      <td>2024-04-18 08:03:05.556036</td>\n",
       "      <td>0</td>\n",
       "      <td>High School</td>\n",
       "      <td>5</td>\n",
       "      <td>7500.0</td>\n",
       "      <td>34</td>\n",
       "      <td>34</td>\n",
       "      <td>13</td>\n",
       "      <td>14</td>\n",
       "      <td>100</td>\n",
       "      <td>12</td>\n",
       "      <td>61</td>\n",
       "      <td>2</td>\n",
       "      <td>1.72</td>\n",
       "      <td>False</td>\n",
       "    </tr>\n",
       "    <tr>\n",
       "      <th>2</th>\n",
       "      <td>3</td>\n",
       "      <td>Finance</td>\n",
       "      <td>Male</td>\n",
       "      <td>55</td>\n",
       "      <td>Specialist</td>\n",
       "      <td>2015-10-26 08:03:05.556036</td>\n",
       "      <td>8</td>\n",
       "      <td>High School</td>\n",
       "      <td>3</td>\n",
       "      <td>5850.0</td>\n",
       "      <td>37</td>\n",
       "      <td>27</td>\n",
       "      <td>6</td>\n",
       "      <td>3</td>\n",
       "      <td>50</td>\n",
       "      <td>10</td>\n",
       "      <td>1</td>\n",
       "      <td>0</td>\n",
       "      <td>3.17</td>\n",
       "      <td>False</td>\n",
       "    </tr>\n",
       "    <tr>\n",
       "      <th>3</th>\n",
       "      <td>4</td>\n",
       "      <td>Customer Support</td>\n",
       "      <td>Female</td>\n",
       "      <td>48</td>\n",
       "      <td>Analyst</td>\n",
       "      <td>2016-10-22 08:03:05.556036</td>\n",
       "      <td>7</td>\n",
       "      <td>Bachelor</td>\n",
       "      <td>2</td>\n",
       "      <td>4800.0</td>\n",
       "      <td>52</td>\n",
       "      <td>10</td>\n",
       "      <td>28</td>\n",
       "      <td>12</td>\n",
       "      <td>100</td>\n",
       "      <td>10</td>\n",
       "      <td>0</td>\n",
       "      <td>1</td>\n",
       "      <td>1.86</td>\n",
       "      <td>False</td>\n",
       "    </tr>\n",
       "    <tr>\n",
       "      <th>4</th>\n",
       "      <td>5</td>\n",
       "      <td>Engineering</td>\n",
       "      <td>Female</td>\n",
       "      <td>36</td>\n",
       "      <td>Analyst</td>\n",
       "      <td>2021-07-23 08:03:05.556036</td>\n",
       "      <td>3</td>\n",
       "      <td>Bachelor</td>\n",
       "      <td>2</td>\n",
       "      <td>4800.0</td>\n",
       "      <td>38</td>\n",
       "      <td>11</td>\n",
       "      <td>29</td>\n",
       "      <td>13</td>\n",
       "      <td>100</td>\n",
       "      <td>15</td>\n",
       "      <td>9</td>\n",
       "      <td>1</td>\n",
       "      <td>1.25</td>\n",
       "      <td>False</td>\n",
       "    </tr>\n",
       "  </tbody>\n",
       "</table>\n",
       "</div>"
      ],
      "text/plain": [
       "   Employee_ID        Department  Gender  Age   Job_Title  \\\n",
       "0            1                IT    Male   55  Specialist   \n",
       "1            2           Finance    Male   29   Developer   \n",
       "2            3           Finance    Male   55  Specialist   \n",
       "3            4  Customer Support  Female   48     Analyst   \n",
       "4            5       Engineering  Female   36     Analyst   \n",
       "\n",
       "                    Hire_Date  Years_At_Company Education_Level  \\\n",
       "0  2022-01-19 08:03:05.556036                 2     High School   \n",
       "1  2024-04-18 08:03:05.556036                 0     High School   \n",
       "2  2015-10-26 08:03:05.556036                 8     High School   \n",
       "3  2016-10-22 08:03:05.556036                 7        Bachelor   \n",
       "4  2021-07-23 08:03:05.556036                 3        Bachelor   \n",
       "\n",
       "   Performance_Score  Monthly_Salary  Work_Hours_Per_Week  Projects_Handled  \\\n",
       "0                  5          6750.0                   33                32   \n",
       "1                  5          7500.0                   34                34   \n",
       "2                  3          5850.0                   37                27   \n",
       "3                  2          4800.0                   52                10   \n",
       "4                  2          4800.0                   38                11   \n",
       "\n",
       "   Overtime_Hours  Sick_Days  Remote_Work_Frequency  Team_Size  \\\n",
       "0              22          2                      0         14   \n",
       "1              13         14                    100         12   \n",
       "2               6          3                     50         10   \n",
       "3              28         12                    100         10   \n",
       "4              29         13                    100         15   \n",
       "\n",
       "   Training_Hours  Promotions  Employee_Satisfaction_Score  Resigned  \n",
       "0              66           0                         2.63     False  \n",
       "1              61           2                         1.72     False  \n",
       "2               1           0                         3.17     False  \n",
       "3               0           1                         1.86     False  \n",
       "4               9           1                         1.25     False  "
      ]
     },
     "execution_count": 3,
     "metadata": {},
     "output_type": "execute_result"
    }
   ],
   "source": [
    "df.head()"
   ]
  },
  {
   "cell_type": "code",
   "execution_count": 4,
   "id": "42dbfe96",
   "metadata": {
    "execution": {
     "iopub.execute_input": "2024-09-28T08:43:50.900733Z",
     "iopub.status.busy": "2024-09-28T08:43:50.899572Z",
     "iopub.status.idle": "2024-09-28T08:43:50.909094Z",
     "shell.execute_reply": "2024-09-28T08:43:50.907353Z"
    },
    "papermill": {
     "duration": 0.020599,
     "end_time": "2024-09-28T08:43:50.911699",
     "exception": false,
     "start_time": "2024-09-28T08:43:50.891100",
     "status": "completed"
    },
    "tags": []
   },
   "outputs": [
    {
     "data": {
      "text/plain": [
       "Index(['Employee_ID', 'Department', 'Gender', 'Age', 'Job_Title', 'Hire_Date',\n",
       "       'Years_At_Company', 'Education_Level', 'Performance_Score',\n",
       "       'Monthly_Salary', 'Work_Hours_Per_Week', 'Projects_Handled',\n",
       "       'Overtime_Hours', 'Sick_Days', 'Remote_Work_Frequency', 'Team_Size',\n",
       "       'Training_Hours', 'Promotions', 'Employee_Satisfaction_Score',\n",
       "       'Resigned'],\n",
       "      dtype='object')"
      ]
     },
     "execution_count": 4,
     "metadata": {},
     "output_type": "execute_result"
    }
   ],
   "source": [
    "df.columns"
   ]
  },
  {
   "cell_type": "code",
   "execution_count": 5,
   "id": "11bc40ae",
   "metadata": {
    "execution": {
     "iopub.execute_input": "2024-09-28T08:43:50.935722Z",
     "iopub.status.busy": "2024-09-28T08:43:50.934540Z",
     "iopub.status.idle": "2024-09-28T08:43:50.948715Z",
     "shell.execute_reply": "2024-09-28T08:43:50.947372Z"
    },
    "papermill": {
     "duration": 0.030671,
     "end_time": "2024-09-28T08:43:50.951413",
     "exception": false,
     "start_time": "2024-09-28T08:43:50.920742",
     "status": "completed"
    },
    "tags": []
   },
   "outputs": [
    {
     "data": {
      "text/plain": [
       "Employee_ID                      int64\n",
       "Department                      object\n",
       "Gender                          object\n",
       "Age                              int64\n",
       "Job_Title                       object\n",
       "Hire_Date                       object\n",
       "Years_At_Company                 int64\n",
       "Education_Level                 object\n",
       "Performance_Score                int64\n",
       "Monthly_Salary                 float64\n",
       "Work_Hours_Per_Week              int64\n",
       "Projects_Handled                 int64\n",
       "Overtime_Hours                   int64\n",
       "Sick_Days                        int64\n",
       "Remote_Work_Frequency            int64\n",
       "Team_Size                        int64\n",
       "Training_Hours                   int64\n",
       "Promotions                       int64\n",
       "Employee_Satisfaction_Score    float64\n",
       "Resigned                          bool\n",
       "dtype: object"
      ]
     },
     "execution_count": 5,
     "metadata": {},
     "output_type": "execute_result"
    }
   ],
   "source": [
    "df.dtypes"
   ]
  },
  {
   "cell_type": "code",
   "execution_count": 6,
   "id": "bcaf84cc",
   "metadata": {
    "execution": {
     "iopub.execute_input": "2024-09-28T08:43:50.968007Z",
     "iopub.status.busy": "2024-09-28T08:43:50.967565Z",
     "iopub.status.idle": "2024-09-28T08:43:51.106048Z",
     "shell.execute_reply": "2024-09-28T08:43:51.104671Z"
    },
    "papermill": {
     "duration": 0.150219,
     "end_time": "2024-09-28T08:43:51.109159",
     "exception": false,
     "start_time": "2024-09-28T08:43:50.958940",
     "status": "completed"
    },
    "tags": []
   },
   "outputs": [],
   "source": [
    "#CHECK THE CATEGORIES \n",
    "categorical_columns=[col for col in df if len(df[col].unique())<=5]\n",
    "discreet_columns=[col for col in df if len(df[col].unique())>5]"
   ]
  },
  {
   "cell_type": "code",
   "execution_count": 7,
   "id": "58ff589e",
   "metadata": {
    "execution": {
     "iopub.execute_input": "2024-09-28T08:43:51.126595Z",
     "iopub.status.busy": "2024-09-28T08:43:51.126154Z",
     "iopub.status.idle": "2024-09-28T08:43:51.134513Z",
     "shell.execute_reply": "2024-09-28T08:43:51.133364Z"
    },
    "papermill": {
     "duration": 0.020311,
     "end_time": "2024-09-28T08:43:51.137366",
     "exception": false,
     "start_time": "2024-09-28T08:43:51.117055",
     "status": "completed"
    },
    "tags": []
   },
   "outputs": [
    {
     "data": {
      "text/plain": [
       "['Gender',\n",
       " 'Education_Level',\n",
       " 'Performance_Score',\n",
       " 'Remote_Work_Frequency',\n",
       " 'Promotions',\n",
       " 'Resigned']"
      ]
     },
     "execution_count": 7,
     "metadata": {},
     "output_type": "execute_result"
    }
   ],
   "source": [
    "categorical_columns"
   ]
  },
  {
   "cell_type": "code",
   "execution_count": 8,
   "id": "c6eb0e43",
   "metadata": {
    "execution": {
     "iopub.execute_input": "2024-09-28T08:43:51.158908Z",
     "iopub.status.busy": "2024-09-28T08:43:51.158432Z",
     "iopub.status.idle": "2024-09-28T08:43:51.166078Z",
     "shell.execute_reply": "2024-09-28T08:43:51.164759Z"
    },
    "papermill": {
     "duration": 0.021379,
     "end_time": "2024-09-28T08:43:51.168921",
     "exception": false,
     "start_time": "2024-09-28T08:43:51.147542",
     "status": "completed"
    },
    "tags": []
   },
   "outputs": [
    {
     "data": {
      "text/plain": [
       "['Employee_ID',\n",
       " 'Department',\n",
       " 'Age',\n",
       " 'Job_Title',\n",
       " 'Hire_Date',\n",
       " 'Years_At_Company',\n",
       " 'Monthly_Salary',\n",
       " 'Work_Hours_Per_Week',\n",
       " 'Projects_Handled',\n",
       " 'Overtime_Hours',\n",
       " 'Sick_Days',\n",
       " 'Team_Size',\n",
       " 'Training_Hours',\n",
       " 'Employee_Satisfaction_Score']"
      ]
     },
     "execution_count": 8,
     "metadata": {},
     "output_type": "execute_result"
    }
   ],
   "source": [
    "discreet_columns"
   ]
  },
  {
   "cell_type": "code",
   "execution_count": 9,
   "id": "1ba17274",
   "metadata": {
    "execution": {
     "iopub.execute_input": "2024-09-28T08:43:51.191434Z",
     "iopub.status.busy": "2024-09-28T08:43:51.190966Z",
     "iopub.status.idle": "2024-09-28T08:43:51.212445Z",
     "shell.execute_reply": "2024-09-28T08:43:51.210939Z"
    },
    "papermill": {
     "duration": 0.036311,
     "end_time": "2024-09-28T08:43:51.215743",
     "exception": false,
     "start_time": "2024-09-28T08:43:51.179432",
     "status": "completed"
    },
    "tags": []
   },
   "outputs": [
    {
     "data": {
      "text/html": [
       "<div>\n",
       "<style scoped>\n",
       "    .dataframe tbody tr th:only-of-type {\n",
       "        vertical-align: middle;\n",
       "    }\n",
       "\n",
       "    .dataframe tbody tr th {\n",
       "        vertical-align: top;\n",
       "    }\n",
       "\n",
       "    .dataframe thead th {\n",
       "        text-align: right;\n",
       "    }\n",
       "</style>\n",
       "<table border=\"1\" class=\"dataframe\">\n",
       "  <thead>\n",
       "    <tr style=\"text-align: right;\">\n",
       "      <th></th>\n",
       "      <th>Gender</th>\n",
       "      <th>Education_Level</th>\n",
       "      <th>Performance_Score</th>\n",
       "      <th>Remote_Work_Frequency</th>\n",
       "      <th>Promotions</th>\n",
       "      <th>Resigned</th>\n",
       "    </tr>\n",
       "  </thead>\n",
       "  <tbody>\n",
       "    <tr>\n",
       "      <th>0</th>\n",
       "      <td>Male</td>\n",
       "      <td>High School</td>\n",
       "      <td>5</td>\n",
       "      <td>0</td>\n",
       "      <td>0</td>\n",
       "      <td>False</td>\n",
       "    </tr>\n",
       "    <tr>\n",
       "      <th>1</th>\n",
       "      <td>Male</td>\n",
       "      <td>High School</td>\n",
       "      <td>5</td>\n",
       "      <td>100</td>\n",
       "      <td>2</td>\n",
       "      <td>False</td>\n",
       "    </tr>\n",
       "    <tr>\n",
       "      <th>2</th>\n",
       "      <td>Male</td>\n",
       "      <td>High School</td>\n",
       "      <td>3</td>\n",
       "      <td>50</td>\n",
       "      <td>0</td>\n",
       "      <td>False</td>\n",
       "    </tr>\n",
       "    <tr>\n",
       "      <th>3</th>\n",
       "      <td>Female</td>\n",
       "      <td>Bachelor</td>\n",
       "      <td>2</td>\n",
       "      <td>100</td>\n",
       "      <td>1</td>\n",
       "      <td>False</td>\n",
       "    </tr>\n",
       "    <tr>\n",
       "      <th>4</th>\n",
       "      <td>Female</td>\n",
       "      <td>Bachelor</td>\n",
       "      <td>2</td>\n",
       "      <td>100</td>\n",
       "      <td>1</td>\n",
       "      <td>False</td>\n",
       "    </tr>\n",
       "  </tbody>\n",
       "</table>\n",
       "</div>"
      ],
      "text/plain": [
       "   Gender Education_Level  Performance_Score  Remote_Work_Frequency  \\\n",
       "0    Male     High School                  5                      0   \n",
       "1    Male     High School                  5                    100   \n",
       "2    Male     High School                  3                     50   \n",
       "3  Female        Bachelor                  2                    100   \n",
       "4  Female        Bachelor                  2                    100   \n",
       "\n",
       "   Promotions  Resigned  \n",
       "0           0     False  \n",
       "1           2     False  \n",
       "2           0     False  \n",
       "3           1     False  \n",
       "4           1     False  "
      ]
     },
     "execution_count": 9,
     "metadata": {},
     "output_type": "execute_result"
    }
   ],
   "source": [
    "df[categorical_columns].head()"
   ]
  },
  {
   "cell_type": "code",
   "execution_count": 10,
   "id": "88d9e18e",
   "metadata": {
    "execution": {
     "iopub.execute_input": "2024-09-28T08:43:51.234271Z",
     "iopub.status.busy": "2024-09-28T08:43:51.233795Z",
     "iopub.status.idle": "2024-09-28T08:43:51.266514Z",
     "shell.execute_reply": "2024-09-28T08:43:51.264413Z"
    },
    "papermill": {
     "duration": 0.045359,
     "end_time": "2024-09-28T08:43:51.269518",
     "exception": false,
     "start_time": "2024-09-28T08:43:51.224159",
     "status": "completed"
    },
    "tags": []
   },
   "outputs": [
    {
     "data": {
      "text/html": [
       "<div>\n",
       "<style scoped>\n",
       "    .dataframe tbody tr th:only-of-type {\n",
       "        vertical-align: middle;\n",
       "    }\n",
       "\n",
       "    .dataframe tbody tr th {\n",
       "        vertical-align: top;\n",
       "    }\n",
       "\n",
       "    .dataframe thead th {\n",
       "        text-align: right;\n",
       "    }\n",
       "</style>\n",
       "<table border=\"1\" class=\"dataframe\">\n",
       "  <thead>\n",
       "    <tr style=\"text-align: right;\">\n",
       "      <th></th>\n",
       "      <th>Employee_ID</th>\n",
       "      <th>Department</th>\n",
       "      <th>Age</th>\n",
       "      <th>Job_Title</th>\n",
       "      <th>Hire_Date</th>\n",
       "      <th>Years_At_Company</th>\n",
       "      <th>Monthly_Salary</th>\n",
       "      <th>Work_Hours_Per_Week</th>\n",
       "      <th>Projects_Handled</th>\n",
       "      <th>Overtime_Hours</th>\n",
       "      <th>Sick_Days</th>\n",
       "      <th>Team_Size</th>\n",
       "      <th>Training_Hours</th>\n",
       "      <th>Employee_Satisfaction_Score</th>\n",
       "    </tr>\n",
       "  </thead>\n",
       "  <tbody>\n",
       "    <tr>\n",
       "      <th>0</th>\n",
       "      <td>1</td>\n",
       "      <td>IT</td>\n",
       "      <td>55</td>\n",
       "      <td>Specialist</td>\n",
       "      <td>2022-01-19 08:03:05.556036</td>\n",
       "      <td>2</td>\n",
       "      <td>6750.0</td>\n",
       "      <td>33</td>\n",
       "      <td>32</td>\n",
       "      <td>22</td>\n",
       "      <td>2</td>\n",
       "      <td>14</td>\n",
       "      <td>66</td>\n",
       "      <td>2.63</td>\n",
       "    </tr>\n",
       "    <tr>\n",
       "      <th>1</th>\n",
       "      <td>2</td>\n",
       "      <td>Finance</td>\n",
       "      <td>29</td>\n",
       "      <td>Developer</td>\n",
       "      <td>2024-04-18 08:03:05.556036</td>\n",
       "      <td>0</td>\n",
       "      <td>7500.0</td>\n",
       "      <td>34</td>\n",
       "      <td>34</td>\n",
       "      <td>13</td>\n",
       "      <td>14</td>\n",
       "      <td>12</td>\n",
       "      <td>61</td>\n",
       "      <td>1.72</td>\n",
       "    </tr>\n",
       "    <tr>\n",
       "      <th>2</th>\n",
       "      <td>3</td>\n",
       "      <td>Finance</td>\n",
       "      <td>55</td>\n",
       "      <td>Specialist</td>\n",
       "      <td>2015-10-26 08:03:05.556036</td>\n",
       "      <td>8</td>\n",
       "      <td>5850.0</td>\n",
       "      <td>37</td>\n",
       "      <td>27</td>\n",
       "      <td>6</td>\n",
       "      <td>3</td>\n",
       "      <td>10</td>\n",
       "      <td>1</td>\n",
       "      <td>3.17</td>\n",
       "    </tr>\n",
       "    <tr>\n",
       "      <th>3</th>\n",
       "      <td>4</td>\n",
       "      <td>Customer Support</td>\n",
       "      <td>48</td>\n",
       "      <td>Analyst</td>\n",
       "      <td>2016-10-22 08:03:05.556036</td>\n",
       "      <td>7</td>\n",
       "      <td>4800.0</td>\n",
       "      <td>52</td>\n",
       "      <td>10</td>\n",
       "      <td>28</td>\n",
       "      <td>12</td>\n",
       "      <td>10</td>\n",
       "      <td>0</td>\n",
       "      <td>1.86</td>\n",
       "    </tr>\n",
       "    <tr>\n",
       "      <th>4</th>\n",
       "      <td>5</td>\n",
       "      <td>Engineering</td>\n",
       "      <td>36</td>\n",
       "      <td>Analyst</td>\n",
       "      <td>2021-07-23 08:03:05.556036</td>\n",
       "      <td>3</td>\n",
       "      <td>4800.0</td>\n",
       "      <td>38</td>\n",
       "      <td>11</td>\n",
       "      <td>29</td>\n",
       "      <td>13</td>\n",
       "      <td>15</td>\n",
       "      <td>9</td>\n",
       "      <td>1.25</td>\n",
       "    </tr>\n",
       "    <tr>\n",
       "      <th>...</th>\n",
       "      <td>...</td>\n",
       "      <td>...</td>\n",
       "      <td>...</td>\n",
       "      <td>...</td>\n",
       "      <td>...</td>\n",
       "      <td>...</td>\n",
       "      <td>...</td>\n",
       "      <td>...</td>\n",
       "      <td>...</td>\n",
       "      <td>...</td>\n",
       "      <td>...</td>\n",
       "      <td>...</td>\n",
       "      <td>...</td>\n",
       "      <td>...</td>\n",
       "    </tr>\n",
       "    <tr>\n",
       "      <th>99995</th>\n",
       "      <td>99996</td>\n",
       "      <td>Finance</td>\n",
       "      <td>27</td>\n",
       "      <td>Technician</td>\n",
       "      <td>2022-12-07 08:03:05.556036</td>\n",
       "      <td>1</td>\n",
       "      <td>4900.0</td>\n",
       "      <td>55</td>\n",
       "      <td>46</td>\n",
       "      <td>5</td>\n",
       "      <td>3</td>\n",
       "      <td>16</td>\n",
       "      <td>48</td>\n",
       "      <td>1.28</td>\n",
       "    </tr>\n",
       "    <tr>\n",
       "      <th>99996</th>\n",
       "      <td>99997</td>\n",
       "      <td>IT</td>\n",
       "      <td>36</td>\n",
       "      <td>Consultant</td>\n",
       "      <td>2018-07-24 08:03:05.556036</td>\n",
       "      <td>6</td>\n",
       "      <td>8250.0</td>\n",
       "      <td>39</td>\n",
       "      <td>35</td>\n",
       "      <td>7</td>\n",
       "      <td>0</td>\n",
       "      <td>10</td>\n",
       "      <td>77</td>\n",
       "      <td>3.48</td>\n",
       "    </tr>\n",
       "    <tr>\n",
       "      <th>99997</th>\n",
       "      <td>99998</td>\n",
       "      <td>Operations</td>\n",
       "      <td>53</td>\n",
       "      <td>Analyst</td>\n",
       "      <td>2015-11-24 08:03:05.556036</td>\n",
       "      <td>8</td>\n",
       "      <td>4800.0</td>\n",
       "      <td>31</td>\n",
       "      <td>13</td>\n",
       "      <td>6</td>\n",
       "      <td>5</td>\n",
       "      <td>5</td>\n",
       "      <td>87</td>\n",
       "      <td>2.60</td>\n",
       "    </tr>\n",
       "    <tr>\n",
       "      <th>99998</th>\n",
       "      <td>99999</td>\n",
       "      <td>HR</td>\n",
       "      <td>22</td>\n",
       "      <td>Consultant</td>\n",
       "      <td>2015-08-03 08:03:05.556036</td>\n",
       "      <td>9</td>\n",
       "      <td>8250.0</td>\n",
       "      <td>35</td>\n",
       "      <td>43</td>\n",
       "      <td>10</td>\n",
       "      <td>1</td>\n",
       "      <td>2</td>\n",
       "      <td>31</td>\n",
       "      <td>3.10</td>\n",
       "    </tr>\n",
       "    <tr>\n",
       "      <th>99999</th>\n",
       "      <td>100000</td>\n",
       "      <td>Finance</td>\n",
       "      <td>43</td>\n",
       "      <td>Analyst</td>\n",
       "      <td>2024-03-04 08:03:05.556036</td>\n",
       "      <td>0</td>\n",
       "      <td>4400.0</td>\n",
       "      <td>51</td>\n",
       "      <td>43</td>\n",
       "      <td>27</td>\n",
       "      <td>11</td>\n",
       "      <td>13</td>\n",
       "      <td>45</td>\n",
       "      <td>2.64</td>\n",
       "    </tr>\n",
       "  </tbody>\n",
       "</table>\n",
       "<p>100000 rows × 14 columns</p>\n",
       "</div>"
      ],
      "text/plain": [
       "       Employee_ID        Department  Age   Job_Title  \\\n",
       "0                1                IT   55  Specialist   \n",
       "1                2           Finance   29   Developer   \n",
       "2                3           Finance   55  Specialist   \n",
       "3                4  Customer Support   48     Analyst   \n",
       "4                5       Engineering   36     Analyst   \n",
       "...            ...               ...  ...         ...   \n",
       "99995        99996           Finance   27  Technician   \n",
       "99996        99997                IT   36  Consultant   \n",
       "99997        99998        Operations   53     Analyst   \n",
       "99998        99999                HR   22  Consultant   \n",
       "99999       100000           Finance   43     Analyst   \n",
       "\n",
       "                        Hire_Date  Years_At_Company  Monthly_Salary  \\\n",
       "0      2022-01-19 08:03:05.556036                 2          6750.0   \n",
       "1      2024-04-18 08:03:05.556036                 0          7500.0   \n",
       "2      2015-10-26 08:03:05.556036                 8          5850.0   \n",
       "3      2016-10-22 08:03:05.556036                 7          4800.0   \n",
       "4      2021-07-23 08:03:05.556036                 3          4800.0   \n",
       "...                           ...               ...             ...   \n",
       "99995  2022-12-07 08:03:05.556036                 1          4900.0   \n",
       "99996  2018-07-24 08:03:05.556036                 6          8250.0   \n",
       "99997  2015-11-24 08:03:05.556036                 8          4800.0   \n",
       "99998  2015-08-03 08:03:05.556036                 9          8250.0   \n",
       "99999  2024-03-04 08:03:05.556036                 0          4400.0   \n",
       "\n",
       "       Work_Hours_Per_Week  Projects_Handled  Overtime_Hours  Sick_Days  \\\n",
       "0                       33                32              22          2   \n",
       "1                       34                34              13         14   \n",
       "2                       37                27               6          3   \n",
       "3                       52                10              28         12   \n",
       "4                       38                11              29         13   \n",
       "...                    ...               ...             ...        ...   \n",
       "99995                   55                46               5          3   \n",
       "99996                   39                35               7          0   \n",
       "99997                   31                13               6          5   \n",
       "99998                   35                43              10          1   \n",
       "99999                   51                43              27         11   \n",
       "\n",
       "       Team_Size  Training_Hours  Employee_Satisfaction_Score  \n",
       "0             14              66                         2.63  \n",
       "1             12              61                         1.72  \n",
       "2             10               1                         3.17  \n",
       "3             10               0                         1.86  \n",
       "4             15               9                         1.25  \n",
       "...          ...             ...                          ...  \n",
       "99995         16              48                         1.28  \n",
       "99996         10              77                         3.48  \n",
       "99997          5              87                         2.60  \n",
       "99998          2              31                         3.10  \n",
       "99999         13              45                         2.64  \n",
       "\n",
       "[100000 rows x 14 columns]"
      ]
     },
     "execution_count": 10,
     "metadata": {},
     "output_type": "execute_result"
    }
   ],
   "source": [
    "df[discreet_columns]"
   ]
  },
  {
   "cell_type": "code",
   "execution_count": 11,
   "id": "3813bc95",
   "metadata": {
    "execution": {
     "iopub.execute_input": "2024-09-28T08:43:51.295392Z",
     "iopub.status.busy": "2024-09-28T08:43:51.294349Z",
     "iopub.status.idle": "2024-09-28T08:43:51.330971Z",
     "shell.execute_reply": "2024-09-28T08:43:51.329631Z"
    },
    "papermill": {
     "duration": 0.052917,
     "end_time": "2024-09-28T08:43:51.334323",
     "exception": false,
     "start_time": "2024-09-28T08:43:51.281406",
     "status": "completed"
    },
    "tags": []
   },
   "outputs": [
    {
     "data": {
      "text/plain": [
       "Employee_ID                    0\n",
       "Department                     0\n",
       "Gender                         0\n",
       "Age                            0\n",
       "Job_Title                      0\n",
       "Hire_Date                      0\n",
       "Years_At_Company               0\n",
       "Education_Level                0\n",
       "Performance_Score              0\n",
       "Monthly_Salary                 0\n",
       "Work_Hours_Per_Week            0\n",
       "Projects_Handled               0\n",
       "Overtime_Hours                 0\n",
       "Sick_Days                      0\n",
       "Remote_Work_Frequency          0\n",
       "Team_Size                      0\n",
       "Training_Hours                 0\n",
       "Promotions                     0\n",
       "Employee_Satisfaction_Score    0\n",
       "Resigned                       0\n",
       "dtype: int64"
      ]
     },
     "execution_count": 11,
     "metadata": {},
     "output_type": "execute_result"
    }
   ],
   "source": [
    "df.isnull().sum()"
   ]
  },
  {
   "cell_type": "code",
   "execution_count": 12,
   "id": "32a27e89",
   "metadata": {
    "execution": {
     "iopub.execute_input": "2024-09-28T08:43:51.356255Z",
     "iopub.status.busy": "2024-09-28T08:43:51.355040Z",
     "iopub.status.idle": "2024-09-28T08:43:51.369132Z",
     "shell.execute_reply": "2024-09-28T08:43:51.367936Z"
    },
    "papermill": {
     "duration": 0.027239,
     "end_time": "2024-09-28T08:43:51.372241",
     "exception": false,
     "start_time": "2024-09-28T08:43:51.345002",
     "status": "completed"
    },
    "tags": []
   },
   "outputs": [],
   "source": [
    "df2=df.copy()"
   ]
  },
  {
   "cell_type": "code",
   "execution_count": 13,
   "id": "8480f0a2",
   "metadata": {
    "execution": {
     "iopub.execute_input": "2024-09-28T08:43:51.391282Z",
     "iopub.status.busy": "2024-09-28T08:43:51.390866Z",
     "iopub.status.idle": "2024-09-28T08:43:51.407306Z",
     "shell.execute_reply": "2024-09-28T08:43:51.405958Z"
    },
    "papermill": {
     "duration": 0.029421,
     "end_time": "2024-09-28T08:43:51.410309",
     "exception": false,
     "start_time": "2024-09-28T08:43:51.380888",
     "status": "completed"
    },
    "tags": []
   },
   "outputs": [],
   "source": [
    "#EMPLOYEE ID AND HIRE DATE IS NOT NEEDED. HIRE DATE AND YEARS_AT_COMPANY ARE RELATED. SO WE CAN DROP HIRE DATE\n",
    "df3=df.drop(columns=['Employee_ID','Hire_Date'])"
   ]
  },
  {
   "cell_type": "code",
   "execution_count": 14,
   "id": "09e92440",
   "metadata": {
    "execution": {
     "iopub.execute_input": "2024-09-28T08:43:51.432676Z",
     "iopub.status.busy": "2024-09-28T08:43:51.432266Z",
     "iopub.status.idle": "2024-09-28T08:43:51.456021Z",
     "shell.execute_reply": "2024-09-28T08:43:51.454817Z"
    },
    "papermill": {
     "duration": 0.037684,
     "end_time": "2024-09-28T08:43:51.459389",
     "exception": false,
     "start_time": "2024-09-28T08:43:51.421705",
     "status": "completed"
    },
    "tags": []
   },
   "outputs": [
    {
     "data": {
      "text/html": [
       "<div>\n",
       "<style scoped>\n",
       "    .dataframe tbody tr th:only-of-type {\n",
       "        vertical-align: middle;\n",
       "    }\n",
       "\n",
       "    .dataframe tbody tr th {\n",
       "        vertical-align: top;\n",
       "    }\n",
       "\n",
       "    .dataframe thead th {\n",
       "        text-align: right;\n",
       "    }\n",
       "</style>\n",
       "<table border=\"1\" class=\"dataframe\">\n",
       "  <thead>\n",
       "    <tr style=\"text-align: right;\">\n",
       "      <th></th>\n",
       "      <th>Department</th>\n",
       "      <th>Gender</th>\n",
       "      <th>Age</th>\n",
       "      <th>Job_Title</th>\n",
       "      <th>Years_At_Company</th>\n",
       "      <th>Education_Level</th>\n",
       "      <th>Performance_Score</th>\n",
       "      <th>Monthly_Salary</th>\n",
       "      <th>Work_Hours_Per_Week</th>\n",
       "      <th>Projects_Handled</th>\n",
       "      <th>Overtime_Hours</th>\n",
       "      <th>Sick_Days</th>\n",
       "      <th>Remote_Work_Frequency</th>\n",
       "      <th>Team_Size</th>\n",
       "      <th>Training_Hours</th>\n",
       "      <th>Promotions</th>\n",
       "      <th>Employee_Satisfaction_Score</th>\n",
       "      <th>Resigned</th>\n",
       "    </tr>\n",
       "  </thead>\n",
       "  <tbody>\n",
       "    <tr>\n",
       "      <th>0</th>\n",
       "      <td>IT</td>\n",
       "      <td>Male</td>\n",
       "      <td>55</td>\n",
       "      <td>Specialist</td>\n",
       "      <td>2</td>\n",
       "      <td>High School</td>\n",
       "      <td>5</td>\n",
       "      <td>6750.0</td>\n",
       "      <td>33</td>\n",
       "      <td>32</td>\n",
       "      <td>22</td>\n",
       "      <td>2</td>\n",
       "      <td>0</td>\n",
       "      <td>14</td>\n",
       "      <td>66</td>\n",
       "      <td>0</td>\n",
       "      <td>2.63</td>\n",
       "      <td>False</td>\n",
       "    </tr>\n",
       "    <tr>\n",
       "      <th>1</th>\n",
       "      <td>Finance</td>\n",
       "      <td>Male</td>\n",
       "      <td>29</td>\n",
       "      <td>Developer</td>\n",
       "      <td>0</td>\n",
       "      <td>High School</td>\n",
       "      <td>5</td>\n",
       "      <td>7500.0</td>\n",
       "      <td>34</td>\n",
       "      <td>34</td>\n",
       "      <td>13</td>\n",
       "      <td>14</td>\n",
       "      <td>100</td>\n",
       "      <td>12</td>\n",
       "      <td>61</td>\n",
       "      <td>2</td>\n",
       "      <td>1.72</td>\n",
       "      <td>False</td>\n",
       "    </tr>\n",
       "    <tr>\n",
       "      <th>2</th>\n",
       "      <td>Finance</td>\n",
       "      <td>Male</td>\n",
       "      <td>55</td>\n",
       "      <td>Specialist</td>\n",
       "      <td>8</td>\n",
       "      <td>High School</td>\n",
       "      <td>3</td>\n",
       "      <td>5850.0</td>\n",
       "      <td>37</td>\n",
       "      <td>27</td>\n",
       "      <td>6</td>\n",
       "      <td>3</td>\n",
       "      <td>50</td>\n",
       "      <td>10</td>\n",
       "      <td>1</td>\n",
       "      <td>0</td>\n",
       "      <td>3.17</td>\n",
       "      <td>False</td>\n",
       "    </tr>\n",
       "    <tr>\n",
       "      <th>3</th>\n",
       "      <td>Customer Support</td>\n",
       "      <td>Female</td>\n",
       "      <td>48</td>\n",
       "      <td>Analyst</td>\n",
       "      <td>7</td>\n",
       "      <td>Bachelor</td>\n",
       "      <td>2</td>\n",
       "      <td>4800.0</td>\n",
       "      <td>52</td>\n",
       "      <td>10</td>\n",
       "      <td>28</td>\n",
       "      <td>12</td>\n",
       "      <td>100</td>\n",
       "      <td>10</td>\n",
       "      <td>0</td>\n",
       "      <td>1</td>\n",
       "      <td>1.86</td>\n",
       "      <td>False</td>\n",
       "    </tr>\n",
       "    <tr>\n",
       "      <th>4</th>\n",
       "      <td>Engineering</td>\n",
       "      <td>Female</td>\n",
       "      <td>36</td>\n",
       "      <td>Analyst</td>\n",
       "      <td>3</td>\n",
       "      <td>Bachelor</td>\n",
       "      <td>2</td>\n",
       "      <td>4800.0</td>\n",
       "      <td>38</td>\n",
       "      <td>11</td>\n",
       "      <td>29</td>\n",
       "      <td>13</td>\n",
       "      <td>100</td>\n",
       "      <td>15</td>\n",
       "      <td>9</td>\n",
       "      <td>1</td>\n",
       "      <td>1.25</td>\n",
       "      <td>False</td>\n",
       "    </tr>\n",
       "    <tr>\n",
       "      <th>...</th>\n",
       "      <td>...</td>\n",
       "      <td>...</td>\n",
       "      <td>...</td>\n",
       "      <td>...</td>\n",
       "      <td>...</td>\n",
       "      <td>...</td>\n",
       "      <td>...</td>\n",
       "      <td>...</td>\n",
       "      <td>...</td>\n",
       "      <td>...</td>\n",
       "      <td>...</td>\n",
       "      <td>...</td>\n",
       "      <td>...</td>\n",
       "      <td>...</td>\n",
       "      <td>...</td>\n",
       "      <td>...</td>\n",
       "      <td>...</td>\n",
       "      <td>...</td>\n",
       "    </tr>\n",
       "    <tr>\n",
       "      <th>99995</th>\n",
       "      <td>Finance</td>\n",
       "      <td>Male</td>\n",
       "      <td>27</td>\n",
       "      <td>Technician</td>\n",
       "      <td>1</td>\n",
       "      <td>Bachelor</td>\n",
       "      <td>4</td>\n",
       "      <td>4900.0</td>\n",
       "      <td>55</td>\n",
       "      <td>46</td>\n",
       "      <td>5</td>\n",
       "      <td>3</td>\n",
       "      <td>75</td>\n",
       "      <td>16</td>\n",
       "      <td>48</td>\n",
       "      <td>2</td>\n",
       "      <td>1.28</td>\n",
       "      <td>False</td>\n",
       "    </tr>\n",
       "    <tr>\n",
       "      <th>99996</th>\n",
       "      <td>IT</td>\n",
       "      <td>Female</td>\n",
       "      <td>36</td>\n",
       "      <td>Consultant</td>\n",
       "      <td>6</td>\n",
       "      <td>Master</td>\n",
       "      <td>5</td>\n",
       "      <td>8250.0</td>\n",
       "      <td>39</td>\n",
       "      <td>35</td>\n",
       "      <td>7</td>\n",
       "      <td>0</td>\n",
       "      <td>0</td>\n",
       "      <td>10</td>\n",
       "      <td>77</td>\n",
       "      <td>1</td>\n",
       "      <td>3.48</td>\n",
       "      <td>True</td>\n",
       "    </tr>\n",
       "    <tr>\n",
       "      <th>99997</th>\n",
       "      <td>Operations</td>\n",
       "      <td>Male</td>\n",
       "      <td>53</td>\n",
       "      <td>Analyst</td>\n",
       "      <td>8</td>\n",
       "      <td>High School</td>\n",
       "      <td>2</td>\n",
       "      <td>4800.0</td>\n",
       "      <td>31</td>\n",
       "      <td>13</td>\n",
       "      <td>6</td>\n",
       "      <td>5</td>\n",
       "      <td>0</td>\n",
       "      <td>5</td>\n",
       "      <td>87</td>\n",
       "      <td>1</td>\n",
       "      <td>2.60</td>\n",
       "      <td>False</td>\n",
       "    </tr>\n",
       "    <tr>\n",
       "      <th>99998</th>\n",
       "      <td>HR</td>\n",
       "      <td>Female</td>\n",
       "      <td>22</td>\n",
       "      <td>Consultant</td>\n",
       "      <td>9</td>\n",
       "      <td>High School</td>\n",
       "      <td>5</td>\n",
       "      <td>8250.0</td>\n",
       "      <td>35</td>\n",
       "      <td>43</td>\n",
       "      <td>10</td>\n",
       "      <td>1</td>\n",
       "      <td>75</td>\n",
       "      <td>2</td>\n",
       "      <td>31</td>\n",
       "      <td>1</td>\n",
       "      <td>3.10</td>\n",
       "      <td>False</td>\n",
       "    </tr>\n",
       "    <tr>\n",
       "      <th>99999</th>\n",
       "      <td>Finance</td>\n",
       "      <td>Female</td>\n",
       "      <td>43</td>\n",
       "      <td>Analyst</td>\n",
       "      <td>0</td>\n",
       "      <td>PhD</td>\n",
       "      <td>1</td>\n",
       "      <td>4400.0</td>\n",
       "      <td>51</td>\n",
       "      <td>43</td>\n",
       "      <td>27</td>\n",
       "      <td>11</td>\n",
       "      <td>75</td>\n",
       "      <td>13</td>\n",
       "      <td>45</td>\n",
       "      <td>1</td>\n",
       "      <td>2.64</td>\n",
       "      <td>False</td>\n",
       "    </tr>\n",
       "  </tbody>\n",
       "</table>\n",
       "<p>100000 rows × 18 columns</p>\n",
       "</div>"
      ],
      "text/plain": [
       "             Department  Gender  Age   Job_Title  Years_At_Company  \\\n",
       "0                    IT    Male   55  Specialist                 2   \n",
       "1               Finance    Male   29   Developer                 0   \n",
       "2               Finance    Male   55  Specialist                 8   \n",
       "3      Customer Support  Female   48     Analyst                 7   \n",
       "4           Engineering  Female   36     Analyst                 3   \n",
       "...                 ...     ...  ...         ...               ...   \n",
       "99995           Finance    Male   27  Technician                 1   \n",
       "99996                IT  Female   36  Consultant                 6   \n",
       "99997        Operations    Male   53     Analyst                 8   \n",
       "99998                HR  Female   22  Consultant                 9   \n",
       "99999           Finance  Female   43     Analyst                 0   \n",
       "\n",
       "      Education_Level  Performance_Score  Monthly_Salary  Work_Hours_Per_Week  \\\n",
       "0         High School                  5          6750.0                   33   \n",
       "1         High School                  5          7500.0                   34   \n",
       "2         High School                  3          5850.0                   37   \n",
       "3            Bachelor                  2          4800.0                   52   \n",
       "4            Bachelor                  2          4800.0                   38   \n",
       "...               ...                ...             ...                  ...   \n",
       "99995        Bachelor                  4          4900.0                   55   \n",
       "99996          Master                  5          8250.0                   39   \n",
       "99997     High School                  2          4800.0                   31   \n",
       "99998     High School                  5          8250.0                   35   \n",
       "99999             PhD                  1          4400.0                   51   \n",
       "\n",
       "       Projects_Handled  Overtime_Hours  Sick_Days  Remote_Work_Frequency  \\\n",
       "0                    32              22          2                      0   \n",
       "1                    34              13         14                    100   \n",
       "2                    27               6          3                     50   \n",
       "3                    10              28         12                    100   \n",
       "4                    11              29         13                    100   \n",
       "...                 ...             ...        ...                    ...   \n",
       "99995                46               5          3                     75   \n",
       "99996                35               7          0                      0   \n",
       "99997                13               6          5                      0   \n",
       "99998                43              10          1                     75   \n",
       "99999                43              27         11                     75   \n",
       "\n",
       "       Team_Size  Training_Hours  Promotions  Employee_Satisfaction_Score  \\\n",
       "0             14              66           0                         2.63   \n",
       "1             12              61           2                         1.72   \n",
       "2             10               1           0                         3.17   \n",
       "3             10               0           1                         1.86   \n",
       "4             15               9           1                         1.25   \n",
       "...          ...             ...         ...                          ...   \n",
       "99995         16              48           2                         1.28   \n",
       "99996         10              77           1                         3.48   \n",
       "99997          5              87           1                         2.60   \n",
       "99998          2              31           1                         3.10   \n",
       "99999         13              45           1                         2.64   \n",
       "\n",
       "       Resigned  \n",
       "0         False  \n",
       "1         False  \n",
       "2         False  \n",
       "3         False  \n",
       "4         False  \n",
       "...         ...  \n",
       "99995     False  \n",
       "99996      True  \n",
       "99997     False  \n",
       "99998     False  \n",
       "99999     False  \n",
       "\n",
       "[100000 rows x 18 columns]"
      ]
     },
     "execution_count": 14,
     "metadata": {},
     "output_type": "execute_result"
    }
   ],
   "source": [
    "df3"
   ]
  },
  {
   "cell_type": "code",
   "execution_count": 15,
   "id": "6647da6f",
   "metadata": {
    "execution": {
     "iopub.execute_input": "2024-09-28T08:43:51.484368Z",
     "iopub.status.busy": "2024-09-28T08:43:51.483933Z",
     "iopub.status.idle": "2024-09-28T08:43:52.797526Z",
     "shell.execute_reply": "2024-09-28T08:43:52.796371Z"
    },
    "papermill": {
     "duration": 1.329399,
     "end_time": "2024-09-28T08:43:52.800345",
     "exception": false,
     "start_time": "2024-09-28T08:43:51.470946",
     "status": "completed"
    },
    "tags": []
   },
   "outputs": [],
   "source": [
    "from sklearn.compose import ColumnTransformer\n"
   ]
  },
  {
   "cell_type": "code",
   "execution_count": 16,
   "id": "8a43bea4",
   "metadata": {
    "execution": {
     "iopub.execute_input": "2024-09-28T08:43:52.826268Z",
     "iopub.status.busy": "2024-09-28T08:43:52.825545Z",
     "iopub.status.idle": "2024-09-28T08:43:52.844885Z",
     "shell.execute_reply": "2024-09-28T08:43:52.843655Z"
    },
    "papermill": {
     "duration": 0.037914,
     "end_time": "2024-09-28T08:43:52.847589",
     "exception": false,
     "start_time": "2024-09-28T08:43:52.809675",
     "status": "completed"
    },
    "tags": []
   },
   "outputs": [],
   "source": [
    "#ENCODING CATEGORICAL COLUMNS (STRING) AND STANDARDISING NUMERICAL COLUMNS\n",
    "categories = df3.select_dtypes(include=['object']).columns\n",
    "numbers = df3.select_dtypes(exclude=['object','bool']).columns\n",
    "\n"
   ]
  },
  {
   "cell_type": "code",
   "execution_count": 17,
   "id": "c20580e5",
   "metadata": {
    "execution": {
     "iopub.execute_input": "2024-09-28T08:43:52.867346Z",
     "iopub.status.busy": "2024-09-28T08:43:52.866773Z",
     "iopub.status.idle": "2024-09-28T08:43:52.876435Z",
     "shell.execute_reply": "2024-09-28T08:43:52.875411Z"
    },
    "papermill": {
     "duration": 0.022071,
     "end_time": "2024-09-28T08:43:52.878550",
     "exception": false,
     "start_time": "2024-09-28T08:43:52.856479",
     "status": "completed"
    },
    "tags": []
   },
   "outputs": [
    {
     "data": {
      "text/plain": [
       "Index(['Age', 'Years_At_Company', 'Performance_Score', 'Monthly_Salary',\n",
       "       'Work_Hours_Per_Week', 'Projects_Handled', 'Overtime_Hours',\n",
       "       'Sick_Days', 'Remote_Work_Frequency', 'Team_Size', 'Training_Hours',\n",
       "       'Promotions', 'Employee_Satisfaction_Score'],\n",
       "      dtype='object')"
      ]
     },
     "execution_count": 17,
     "metadata": {},
     "output_type": "execute_result"
    }
   ],
   "source": [
    "numbers"
   ]
  },
  {
   "cell_type": "code",
   "execution_count": 18,
   "id": "0e934f91",
   "metadata": {
    "execution": {
     "iopub.execute_input": "2024-09-28T08:43:52.897736Z",
     "iopub.status.busy": "2024-09-28T08:43:52.897343Z",
     "iopub.status.idle": "2024-09-28T08:43:53.052154Z",
     "shell.execute_reply": "2024-09-28T08:43:53.050801Z"
    },
    "papermill": {
     "duration": 0.167284,
     "end_time": "2024-09-28T08:43:53.054722",
     "exception": false,
     "start_time": "2024-09-28T08:43:52.887438",
     "status": "completed"
    },
    "tags": []
   },
   "outputs": [],
   "source": [
    "from sklearn.model_selection import train_test_split\n",
    "from sklearn.preprocessing import LabelEncoder\n",
    "X = df3.drop(columns=[\"Resigned\"])\n",
    "y=df3['Resigned']\n",
    "\n",
    "X_train,X_test,y_train,y_test = train_test_split(X,y,test_size=0.2,random_state=42)"
   ]
  },
  {
   "cell_type": "code",
   "execution_count": 19,
   "id": "62c5c832",
   "metadata": {
    "execution": {
     "iopub.execute_input": "2024-09-28T08:43:53.075679Z",
     "iopub.status.busy": "2024-09-28T08:43:53.075277Z",
     "iopub.status.idle": "2024-09-28T08:43:53.081025Z",
     "shell.execute_reply": "2024-09-28T08:43:53.080048Z"
    },
    "papermill": {
     "duration": 0.019085,
     "end_time": "2024-09-28T08:43:53.083113",
     "exception": false,
     "start_time": "2024-09-28T08:43:53.064028",
     "status": "completed"
    },
    "tags": []
   },
   "outputs": [],
   "source": [
    "from sklearn.preprocessing import StandardScaler,OneHotEncoder\n",
    "\n",
    "transformation = ColumnTransformer(\n",
    "[\n",
    "    (\"cat\",OneHotEncoder(drop=\"first\"),categories),\n",
    "    (\"num\",StandardScaler(),numbers)\n",
    "],remainder=\"passthrough\")"
   ]
  },
  {
   "cell_type": "code",
   "execution_count": 20,
   "id": "7b2680d0",
   "metadata": {
    "execution": {
     "iopub.execute_input": "2024-09-28T08:43:53.103273Z",
     "iopub.status.busy": "2024-09-28T08:43:53.102216Z",
     "iopub.status.idle": "2024-09-28T08:43:53.113987Z",
     "shell.execute_reply": "2024-09-28T08:43:53.112911Z"
    },
    "papermill": {
     "duration": 0.024893,
     "end_time": "2024-09-28T08:43:53.116658",
     "exception": false,
     "start_time": "2024-09-28T08:43:53.091765",
     "status": "completed"
    },
    "tags": []
   },
   "outputs": [],
   "source": [
    "from sklearn.preprocessing import LabelEncoder\n",
    "lbl_encoder= LabelEncoder()\n",
    "y_train=lbl_encoder.fit_transform(y_train)"
   ]
  },
  {
   "cell_type": "code",
   "execution_count": 21,
   "id": "6e4058eb",
   "metadata": {
    "execution": {
     "iopub.execute_input": "2024-09-28T08:43:53.136689Z",
     "iopub.status.busy": "2024-09-28T08:43:53.136218Z",
     "iopub.status.idle": "2024-09-28T08:43:53.380294Z",
     "shell.execute_reply": "2024-09-28T08:43:53.378966Z"
    },
    "papermill": {
     "duration": 0.257447,
     "end_time": "2024-09-28T08:43:53.382971",
     "exception": false,
     "start_time": "2024-09-28T08:43:53.125524",
     "status": "completed"
    },
    "tags": []
   },
   "outputs": [],
   "source": [
    "X_train_transformed = transformation.fit_transform(X_train)\n",
    "X_test_transformed = transformation.transform(X_test)\n",
    "y_train_transformed = lbl_encoder.fit_transform(y_train)\n",
    "y_test_transformed = lbl_encoder.transform(y_test)"
   ]
  },
  {
   "cell_type": "code",
   "execution_count": 22,
   "id": "4c937983",
   "metadata": {
    "execution": {
     "iopub.execute_input": "2024-09-28T08:43:53.402842Z",
     "iopub.status.busy": "2024-09-28T08:43:53.402010Z",
     "iopub.status.idle": "2024-09-28T08:43:53.410697Z",
     "shell.execute_reply": "2024-09-28T08:43:53.409457Z"
    },
    "papermill": {
     "duration": 0.021658,
     "end_time": "2024-09-28T08:43:53.413346",
     "exception": false,
     "start_time": "2024-09-28T08:43:53.391688",
     "status": "completed"
    },
    "tags": []
   },
   "outputs": [
    {
     "data": {
      "text/plain": [
       "array([[ 0.        ,  0.        ,  0.        , ..., -1.46915603,\n",
       "        -1.22316613,  0.69176408],\n",
       "       [ 0.        ,  0.        ,  0.        , ..., -1.29596057,\n",
       "        -1.22316613, -0.69835826],\n",
       "       [ 0.        ,  0.        ,  0.        , ..., -1.50379512,\n",
       "         0.00197554, -0.69835826],\n",
       "       ...,\n",
       "       [ 0.        ,  0.        ,  0.        , ...,  0.67846767,\n",
       "        -1.22316613,  0.75258193],\n",
       "       [ 0.        ,  1.        ,  0.        , ..., -1.08812602,\n",
       "        -1.22316613,  0.96978855],\n",
       "       [ 0.        ,  0.        ,  0.        , ...,  0.33207675,\n",
       "         0.00197554,  0.96110028]])"
      ]
     },
     "execution_count": 22,
     "metadata": {},
     "output_type": "execute_result"
    }
   ],
   "source": [
    "X_train_transformed"
   ]
  },
  {
   "cell_type": "code",
   "execution_count": 23,
   "id": "0800d57d",
   "metadata": {
    "execution": {
     "iopub.execute_input": "2024-09-28T08:43:53.433565Z",
     "iopub.status.busy": "2024-09-28T08:43:53.433108Z",
     "iopub.status.idle": "2024-09-28T08:43:53.963949Z",
     "shell.execute_reply": "2024-09-28T08:43:53.962733Z"
    },
    "papermill": {
     "duration": 0.544445,
     "end_time": "2024-09-28T08:43:53.966724",
     "exception": false,
     "start_time": "2024-09-28T08:43:53.422279",
     "status": "completed"
    },
    "tags": []
   },
   "outputs": [],
   "source": [
    "# THIS IS EXTREMELY AND IMBALANCED DATA. WE WILL UNDERSAMPLE THE MAJORITY CLASS ( RESIGNED = 0)\n",
    "from imblearn.under_sampling import RandomUnderSampler\n",
    "undersampler = RandomUnderSampler(random_state=42)\n",
    "X_train_resampled,y_train_resampled=undersampler.fit_resample(X_train_transformed,y_train_transformed)\n"
   ]
  },
  {
   "cell_type": "code",
   "execution_count": 24,
   "id": "620d5b0c",
   "metadata": {
    "execution": {
     "iopub.execute_input": "2024-09-28T08:43:53.986972Z",
     "iopub.status.busy": "2024-09-28T08:43:53.985668Z",
     "iopub.status.idle": "2024-09-28T08:43:53.993284Z",
     "shell.execute_reply": "2024-09-28T08:43:53.992283Z"
    },
    "papermill": {
     "duration": 0.019804,
     "end_time": "2024-09-28T08:43:53.995505",
     "exception": false,
     "start_time": "2024-09-28T08:43:53.975701",
     "status": "completed"
    },
    "tags": []
   },
   "outputs": [
    {
     "data": {
      "text/plain": [
       "((16078, 32), (16078,))"
      ]
     },
     "execution_count": 24,
     "metadata": {},
     "output_type": "execute_result"
    }
   ],
   "source": [
    "X_train_resampled.shape,y_train_resampled.shape"
   ]
  },
  {
   "cell_type": "code",
   "execution_count": 25,
   "id": "43dd743a",
   "metadata": {
    "execution": {
     "iopub.execute_input": "2024-09-28T08:43:54.015906Z",
     "iopub.status.busy": "2024-09-28T08:43:54.014850Z",
     "iopub.status.idle": "2024-09-28T08:43:54.020634Z",
     "shell.execute_reply": "2024-09-28T08:43:54.019228Z"
    },
    "papermill": {
     "duration": 0.018686,
     "end_time": "2024-09-28T08:43:54.023150",
     "exception": false,
     "start_time": "2024-09-28T08:43:54.004464",
     "status": "completed"
    },
    "tags": []
   },
   "outputs": [],
   "source": [
    "# WILL ASSIGN MORE WEIGHT TO RESIGNATION=YES CLASS\n",
    "from sklearn.ensemble import RandomForestClassifier\n",
    "rf=RandomForestClassifier(class_weight={1:4})"
   ]
  },
  {
   "cell_type": "code",
   "execution_count": 26,
   "id": "e9a137b5",
   "metadata": {
    "execution": {
     "iopub.execute_input": "2024-09-28T08:43:54.043576Z",
     "iopub.status.busy": "2024-09-28T08:43:54.042381Z",
     "iopub.status.idle": "2024-09-28T08:43:57.604014Z",
     "shell.execute_reply": "2024-09-28T08:43:57.602664Z"
    },
    "papermill": {
     "duration": 3.574369,
     "end_time": "2024-09-28T08:43:57.606515",
     "exception": false,
     "start_time": "2024-09-28T08:43:54.032146",
     "status": "completed"
    },
    "tags": []
   },
   "outputs": [
    {
     "data": {
      "text/html": [
       "<style>#sk-container-id-1 {color: black;background-color: white;}#sk-container-id-1 pre{padding: 0;}#sk-container-id-1 div.sk-toggleable {background-color: white;}#sk-container-id-1 label.sk-toggleable__label {cursor: pointer;display: block;width: 100%;margin-bottom: 0;padding: 0.3em;box-sizing: border-box;text-align: center;}#sk-container-id-1 label.sk-toggleable__label-arrow:before {content: \"▸\";float: left;margin-right: 0.25em;color: #696969;}#sk-container-id-1 label.sk-toggleable__label-arrow:hover:before {color: black;}#sk-container-id-1 div.sk-estimator:hover label.sk-toggleable__label-arrow:before {color: black;}#sk-container-id-1 div.sk-toggleable__content {max-height: 0;max-width: 0;overflow: hidden;text-align: left;background-color: #f0f8ff;}#sk-container-id-1 div.sk-toggleable__content pre {margin: 0.2em;color: black;border-radius: 0.25em;background-color: #f0f8ff;}#sk-container-id-1 input.sk-toggleable__control:checked~div.sk-toggleable__content {max-height: 200px;max-width: 100%;overflow: auto;}#sk-container-id-1 input.sk-toggleable__control:checked~label.sk-toggleable__label-arrow:before {content: \"▾\";}#sk-container-id-1 div.sk-estimator input.sk-toggleable__control:checked~label.sk-toggleable__label {background-color: #d4ebff;}#sk-container-id-1 div.sk-label input.sk-toggleable__control:checked~label.sk-toggleable__label {background-color: #d4ebff;}#sk-container-id-1 input.sk-hidden--visually {border: 0;clip: rect(1px 1px 1px 1px);clip: rect(1px, 1px, 1px, 1px);height: 1px;margin: -1px;overflow: hidden;padding: 0;position: absolute;width: 1px;}#sk-container-id-1 div.sk-estimator {font-family: monospace;background-color: #f0f8ff;border: 1px dotted black;border-radius: 0.25em;box-sizing: border-box;margin-bottom: 0.5em;}#sk-container-id-1 div.sk-estimator:hover {background-color: #d4ebff;}#sk-container-id-1 div.sk-parallel-item::after {content: \"\";width: 100%;border-bottom: 1px solid gray;flex-grow: 1;}#sk-container-id-1 div.sk-label:hover label.sk-toggleable__label {background-color: #d4ebff;}#sk-container-id-1 div.sk-serial::before {content: \"\";position: absolute;border-left: 1px solid gray;box-sizing: border-box;top: 0;bottom: 0;left: 50%;z-index: 0;}#sk-container-id-1 div.sk-serial {display: flex;flex-direction: column;align-items: center;background-color: white;padding-right: 0.2em;padding-left: 0.2em;position: relative;}#sk-container-id-1 div.sk-item {position: relative;z-index: 1;}#sk-container-id-1 div.sk-parallel {display: flex;align-items: stretch;justify-content: center;background-color: white;position: relative;}#sk-container-id-1 div.sk-item::before, #sk-container-id-1 div.sk-parallel-item::before {content: \"\";position: absolute;border-left: 1px solid gray;box-sizing: border-box;top: 0;bottom: 0;left: 50%;z-index: -1;}#sk-container-id-1 div.sk-parallel-item {display: flex;flex-direction: column;z-index: 1;position: relative;background-color: white;}#sk-container-id-1 div.sk-parallel-item:first-child::after {align-self: flex-end;width: 50%;}#sk-container-id-1 div.sk-parallel-item:last-child::after {align-self: flex-start;width: 50%;}#sk-container-id-1 div.sk-parallel-item:only-child::after {width: 0;}#sk-container-id-1 div.sk-dashed-wrapped {border: 1px dashed gray;margin: 0 0.4em 0.5em 0.4em;box-sizing: border-box;padding-bottom: 0.4em;background-color: white;}#sk-container-id-1 div.sk-label label {font-family: monospace;font-weight: bold;display: inline-block;line-height: 1.2em;}#sk-container-id-1 div.sk-label-container {text-align: center;}#sk-container-id-1 div.sk-container {/* jupyter's `normalize.less` sets `[hidden] { display: none; }` but bootstrap.min.css set `[hidden] { display: none !important; }` so we also need the `!important` here to be able to override the default hidden behavior on the sphinx rendered scikit-learn.org. See: https://github.com/scikit-learn/scikit-learn/issues/21755 */display: inline-block !important;position: relative;}#sk-container-id-1 div.sk-text-repr-fallback {display: none;}</style><div id=\"sk-container-id-1\" class=\"sk-top-container\"><div class=\"sk-text-repr-fallback\"><pre>RandomForestClassifier(class_weight={1: 4})</pre><b>In a Jupyter environment, please rerun this cell to show the HTML representation or trust the notebook. <br />On GitHub, the HTML representation is unable to render, please try loading this page with nbviewer.org.</b></div><div class=\"sk-container\" hidden><div class=\"sk-item\"><div class=\"sk-estimator sk-toggleable\"><input class=\"sk-toggleable__control sk-hidden--visually\" id=\"sk-estimator-id-1\" type=\"checkbox\" checked><label for=\"sk-estimator-id-1\" class=\"sk-toggleable__label sk-toggleable__label-arrow\">RandomForestClassifier</label><div class=\"sk-toggleable__content\"><pre>RandomForestClassifier(class_weight={1: 4})</pre></div></div></div></div></div>"
      ],
      "text/plain": [
       "RandomForestClassifier(class_weight={1: 4})"
      ]
     },
     "execution_count": 26,
     "metadata": {},
     "output_type": "execute_result"
    }
   ],
   "source": [
    "rf.fit(X_train_resampled,y_train_resampled)"
   ]
  },
  {
   "cell_type": "code",
   "execution_count": 27,
   "id": "555efce6",
   "metadata": {
    "execution": {
     "iopub.execute_input": "2024-09-28T08:43:57.628193Z",
     "iopub.status.busy": "2024-09-28T08:43:57.626810Z",
     "iopub.status.idle": "2024-09-28T08:43:58.085600Z",
     "shell.execute_reply": "2024-09-28T08:43:58.084360Z"
    },
    "papermill": {
     "duration": 0.472138,
     "end_time": "2024-09-28T08:43:58.088299",
     "exception": false,
     "start_time": "2024-09-28T08:43:57.616161",
     "status": "completed"
    },
    "tags": []
   },
   "outputs": [
    {
     "data": {
      "text/plain": [
       "0.6446"
      ]
     },
     "execution_count": 27,
     "metadata": {},
     "output_type": "execute_result"
    }
   ],
   "source": [
    "from sklearn.metrics import accuracy_score\n",
    "y_pred=rf.predict(X_test_transformed)\n",
    "accuracy_score(y_pred,y_test_transformed)"
   ]
  },
  {
   "cell_type": "code",
   "execution_count": 28,
   "id": "182b2668",
   "metadata": {
    "execution": {
     "iopub.execute_input": "2024-09-28T08:43:58.109743Z",
     "iopub.status.busy": "2024-09-28T08:43:58.109328Z",
     "iopub.status.idle": "2024-09-28T08:43:58.154102Z",
     "shell.execute_reply": "2024-09-28T08:43:58.152872Z"
    },
    "papermill": {
     "duration": 0.058737,
     "end_time": "2024-09-28T08:43:58.156623",
     "exception": false,
     "start_time": "2024-09-28T08:43:58.097886",
     "status": "completed"
    },
    "tags": []
   },
   "outputs": [
    {
     "name": "stdout",
     "output_type": "stream",
     "text": [
      "              precision    recall  f1-score   support\n",
      "\n",
      "           0       0.68      0.90      0.78     13613\n",
      "           1       0.32      0.10      0.15      6387\n",
      "\n",
      "    accuracy                           0.64     20000\n",
      "   macro avg       0.50      0.50      0.46     20000\n",
      "weighted avg       0.56      0.64      0.58     20000\n",
      "\n"
     ]
    }
   ],
   "source": [
    "from sklearn.metrics import classification_report\n",
    "print(classification_report(y_pred,y_test))"
   ]
  },
  {
   "cell_type": "code",
   "execution_count": null,
   "id": "aaf04fec",
   "metadata": {
    "papermill": {
     "duration": 0.009012,
     "end_time": "2024-09-28T08:43:58.175324",
     "exception": false,
     "start_time": "2024-09-28T08:43:58.166312",
     "status": "completed"
    },
    "tags": []
   },
   "outputs": [],
   "source": []
  }
 ],
 "metadata": {
  "kaggle": {
   "accelerator": "none",
   "dataSources": [
    {
     "datasetId": 5641832,
     "sourceId": 9315109,
     "sourceType": "datasetVersion"
    }
   ],
   "dockerImageVersionId": 30775,
   "isGpuEnabled": false,
   "isInternetEnabled": true,
   "language": "python",
   "sourceType": "notebook"
  },
  "kernelspec": {
   "display_name": "Python 3",
   "language": "python",
   "name": "python3"
  },
  "language_info": {
   "codemirror_mode": {
    "name": "ipython",
    "version": 3
   },
   "file_extension": ".py",
   "mimetype": "text/x-python",
   "name": "python",
   "nbconvert_exporter": "python",
   "pygments_lexer": "ipython3",
   "version": "3.10.14"
  },
  "papermill": {
   "default_parameters": {},
   "duration": 12.67786,
   "end_time": "2024-09-28T08:43:58.907174",
   "environment_variables": {},
   "exception": null,
   "input_path": "__notebook__.ipynb",
   "output_path": "__notebook__.ipynb",
   "parameters": {},
   "start_time": "2024-09-28T08:43:46.229314",
   "version": "2.6.0"
  }
 },
 "nbformat": 4,
 "nbformat_minor": 5
}
