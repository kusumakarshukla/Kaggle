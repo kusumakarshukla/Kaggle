{
 "cells": [
  {
   "cell_type": "code",
   "execution_count": 1,
   "id": "b7399bea",
   "metadata": {
    "_cell_guid": "b1076dfc-b9ad-4769-8c92-a6c4dae69d19",
    "_uuid": "8f2839f25d086af736a60e9eeb907d3b93b6e0e5",
    "execution": {
     "iopub.execute_input": "2024-10-04T06:31:58.155111Z",
     "iopub.status.busy": "2024-10-04T06:31:58.154691Z",
     "iopub.status.idle": "2024-10-04T06:31:59.057820Z",
     "shell.execute_reply": "2024-10-04T06:31:59.056704Z"
    },
    "papermill": {
     "duration": 0.920093,
     "end_time": "2024-10-04T06:31:59.060563",
     "exception": false,
     "start_time": "2024-10-04T06:31:58.140470",
     "status": "completed"
    },
    "tags": []
   },
   "outputs": [
    {
     "name": "stdout",
     "output_type": "stream",
     "text": [
      "/kaggle/input/spotify-song-performance-dataset/spotify_data.csv\n"
     ]
    }
   ],
   "source": [
    "# This Python 3 environment comes with many helpful analytics libraries installed\n",
    "# It is defined by the kaggle/python Docker image: https://github.com/kaggle/docker-python\n",
    "# For example, here's several helpful packages to load\n",
    "\n",
    "import numpy as np # linear algebra\n",
    "import pandas as pd # data processing, CSV file I/O (e.g. pd.read_csv)\n",
    "\n",
    "# Input data files are available in the read-only \"../input/\" directory\n",
    "# For example, running this (by clicking run or pressing Shift+Enter) will list all files under the input directory\n",
    "\n",
    "import os\n",
    "for dirname, _, filenames in os.walk('/kaggle/input'):\n",
    "    for filename in filenames:\n",
    "        print(os.path.join(dirname, filename))\n",
    "\n",
    "# You can write up to 20GB to the current directory (/kaggle/working/) that gets preserved as output when you create a version using \"Save & Run All\" \n",
    "# You can also write temporary files to /kaggle/temp/, but they won't be saved outside of the current session"
   ]
  },
  {
   "cell_type": "code",
   "execution_count": 2,
   "id": "9bea9a4d",
   "metadata": {
    "execution": {
     "iopub.execute_input": "2024-10-04T06:31:59.085616Z",
     "iopub.status.busy": "2024-10-04T06:31:59.085035Z",
     "iopub.status.idle": "2024-10-04T06:31:59.109372Z",
     "shell.execute_reply": "2024-10-04T06:31:59.108231Z"
    },
    "papermill": {
     "duration": 0.039911,
     "end_time": "2024-10-04T06:31:59.112298",
     "exception": false,
     "start_time": "2024-10-04T06:31:59.072387",
     "status": "completed"
    },
    "tags": []
   },
   "outputs": [],
   "source": [
    "df=pd.read_csv(\"/kaggle/input/spotify-song-performance-dataset/spotify_data.csv\")"
   ]
  },
  {
   "cell_type": "markdown",
   "id": "2c7ed500",
   "metadata": {
    "papermill": {
     "duration": 0.011157,
     "end_time": "2024-10-04T06:31:59.135249",
     "exception": false,
     "start_time": "2024-10-04T06:31:59.124092",
     "status": "completed"
    },
    "tags": []
   },
   "source": [
    "# A LOOK AT THE DATA "
   ]
  },
  {
   "cell_type": "code",
   "execution_count": 3,
   "id": "02b6bba4",
   "metadata": {
    "execution": {
     "iopub.execute_input": "2024-10-04T06:31:59.161177Z",
     "iopub.status.busy": "2024-10-04T06:31:59.160765Z",
     "iopub.status.idle": "2024-10-04T06:31:59.182816Z",
     "shell.execute_reply": "2024-10-04T06:31:59.181640Z"
    },
    "papermill": {
     "duration": 0.037799,
     "end_time": "2024-10-04T06:31:59.185727",
     "exception": false,
     "start_time": "2024-10-04T06:31:59.147928",
     "status": "completed"
    },
    "tags": []
   },
   "outputs": [
    {
     "data": {
      "text/html": [
       "<div>\n",
       "<style scoped>\n",
       "    .dataframe tbody tr th:only-of-type {\n",
       "        vertical-align: middle;\n",
       "    }\n",
       "\n",
       "    .dataframe tbody tr th {\n",
       "        vertical-align: top;\n",
       "    }\n",
       "\n",
       "    .dataframe thead th {\n",
       "        text-align: right;\n",
       "    }\n",
       "</style>\n",
       "<table border=\"1\" class=\"dataframe\">\n",
       "  <thead>\n",
       "    <tr style=\"text-align: right;\">\n",
       "      <th></th>\n",
       "      <th>Songs &amp; Artist</th>\n",
       "      <th>Streams</th>\n",
       "      <th>Daily</th>\n",
       "    </tr>\n",
       "  </thead>\n",
       "  <tbody>\n",
       "    <tr>\n",
       "      <th>0</th>\n",
       "      <td>The Weeknd - Blinding Lights</td>\n",
       "      <td>4463658617</td>\n",
       "      <td>1619447.0</td>\n",
       "    </tr>\n",
       "    <tr>\n",
       "      <th>1</th>\n",
       "      <td>Ed Sheeran - Shape of You</td>\n",
       "      <td>4018102402</td>\n",
       "      <td>1001507.0</td>\n",
       "    </tr>\n",
       "    <tr>\n",
       "      <th>2</th>\n",
       "      <td>Lewis Capaldi - Someone You Loved</td>\n",
       "      <td>3588673578</td>\n",
       "      <td>1506961.0</td>\n",
       "    </tr>\n",
       "    <tr>\n",
       "      <th>3</th>\n",
       "      <td>Harry Styles - As It Was</td>\n",
       "      <td>3544187311</td>\n",
       "      <td>1611374.0</td>\n",
       "    </tr>\n",
       "    <tr>\n",
       "      <th>4</th>\n",
       "      <td>Post Malone - Sunflower</td>\n",
       "      <td>3518744128</td>\n",
       "      <td>1337404.0</td>\n",
       "    </tr>\n",
       "  </tbody>\n",
       "</table>\n",
       "</div>"
      ],
      "text/plain": [
       "                      Songs & Artist     Streams      Daily\n",
       "0       The Weeknd - Blinding Lights  4463658617  1619447.0\n",
       "1          Ed Sheeran - Shape of You  4018102402  1001507.0\n",
       "2  Lewis Capaldi - Someone You Loved  3588673578  1506961.0\n",
       "3           Harry Styles - As It Was  3544187311  1611374.0\n",
       "4            Post Malone - Sunflower  3518744128  1337404.0"
      ]
     },
     "execution_count": 3,
     "metadata": {},
     "output_type": "execute_result"
    }
   ],
   "source": [
    "df.head()"
   ]
  },
  {
   "cell_type": "markdown",
   "id": "364d8643",
   "metadata": {
    "papermill": {
     "duration": 0.011821,
     "end_time": "2024-10-04T06:31:59.209498",
     "exception": false,
     "start_time": "2024-10-04T06:31:59.197677",
     "status": "completed"
    },
    "tags": []
   },
   "source": [
    "## Check for null values"
   ]
  },
  {
   "cell_type": "code",
   "execution_count": 4,
   "id": "2a26a779",
   "metadata": {
    "execution": {
     "iopub.execute_input": "2024-10-04T06:31:59.234891Z",
     "iopub.status.busy": "2024-10-04T06:31:59.234489Z",
     "iopub.status.idle": "2024-10-04T06:31:59.245625Z",
     "shell.execute_reply": "2024-10-04T06:31:59.244549Z"
    },
    "papermill": {
     "duration": 0.026646,
     "end_time": "2024-10-04T06:31:59.248077",
     "exception": false,
     "start_time": "2024-10-04T06:31:59.221431",
     "status": "completed"
    },
    "tags": []
   },
   "outputs": [
    {
     "data": {
      "text/plain": [
       "Songs & Artist    0\n",
       "Streams           0\n",
       "Daily             2\n",
       "dtype: int64"
      ]
     },
     "execution_count": 4,
     "metadata": {},
     "output_type": "execute_result"
    }
   ],
   "source": [
    "df.isnull().sum()"
   ]
  },
  {
   "cell_type": "markdown",
   "id": "cb17a377",
   "metadata": {
    "papermill": {
     "duration": 0.011675,
     "end_time": "2024-10-04T06:31:59.271648",
     "exception": false,
     "start_time": "2024-10-04T06:31:59.259973",
     "status": "completed"
    },
    "tags": []
   },
   "source": [
    "#### Daily has 2 null values. We can drop those records "
   ]
  },
  {
   "cell_type": "code",
   "execution_count": 5,
   "id": "89d392c2",
   "metadata": {
    "execution": {
     "iopub.execute_input": "2024-10-04T06:31:59.297067Z",
     "iopub.status.busy": "2024-10-04T06:31:59.296647Z",
     "iopub.status.idle": "2024-10-04T06:31:59.309295Z",
     "shell.execute_reply": "2024-10-04T06:31:59.308121Z"
    },
    "papermill": {
     "duration": 0.028142,
     "end_time": "2024-10-04T06:31:59.311714",
     "exception": false,
     "start_time": "2024-10-04T06:31:59.283572",
     "status": "completed"
    },
    "tags": []
   },
   "outputs": [],
   "source": [
    "df.dropna(inplace=True)"
   ]
  },
  {
   "cell_type": "markdown",
   "id": "8aa09510",
   "metadata": {
    "papermill": {
     "duration": 0.011517,
     "end_time": "2024-10-04T06:31:59.335359",
     "exception": false,
     "start_time": "2024-10-04T06:31:59.323842",
     "status": "completed"
    },
    "tags": []
   },
   "source": [
    "### Final Record Count post Null removal"
   ]
  },
  {
   "cell_type": "code",
   "execution_count": 6,
   "id": "cfa5ffa9",
   "metadata": {
    "execution": {
     "iopub.execute_input": "2024-10-04T06:31:59.361078Z",
     "iopub.status.busy": "2024-10-04T06:31:59.360657Z",
     "iopub.status.idle": "2024-10-04T06:31:59.367638Z",
     "shell.execute_reply": "2024-10-04T06:31:59.366523Z"
    },
    "papermill": {
     "duration": 0.022522,
     "end_time": "2024-10-04T06:31:59.369894",
     "exception": false,
     "start_time": "2024-10-04T06:31:59.347372",
     "status": "completed"
    },
    "tags": []
   },
   "outputs": [
    {
     "data": {
      "text/plain": [
       "(2498, 3)"
      ]
     },
     "execution_count": 6,
     "metadata": {},
     "output_type": "execute_result"
    }
   ],
   "source": [
    "df.shape"
   ]
  },
  {
   "cell_type": "markdown",
   "id": "e67560d5",
   "metadata": {
    "papermill": {
     "duration": 0.011613,
     "end_time": "2024-10-04T06:31:59.393554",
     "exception": false,
     "start_time": "2024-10-04T06:31:59.381941",
     "status": "completed"
    },
    "tags": []
   },
   "source": [
    "### DATA PREPROCESSING"
   ]
  },
  {
   "cell_type": "markdown",
   "id": "e99fc238",
   "metadata": {
    "papermill": {
     "duration": 0.011512,
     "end_time": "2024-10-04T06:31:59.417125",
     "exception": false,
     "start_time": "2024-10-04T06:31:59.405613",
     "status": "completed"
    },
    "tags": []
   },
   "source": [
    "Let us first separate the song and artist"
   ]
  },
  {
   "cell_type": "code",
   "execution_count": 7,
   "id": "50d594e8",
   "metadata": {
    "execution": {
     "iopub.execute_input": "2024-10-04T06:31:59.442823Z",
     "iopub.status.busy": "2024-10-04T06:31:59.442403Z",
     "iopub.status.idle": "2024-10-04T06:31:59.456164Z",
     "shell.execute_reply": "2024-10-04T06:31:59.454979Z"
    },
    "papermill": {
     "duration": 0.029531,
     "end_time": "2024-10-04T06:31:59.458654",
     "exception": false,
     "start_time": "2024-10-04T06:31:59.429123",
     "status": "completed"
    },
    "tags": []
   },
   "outputs": [],
   "source": [
    "df['Artist']=df['Songs & Artist'].apply(lambda s:s.split(\"-\")[0])\n",
    "df['Song']=df['Songs & Artist'].apply(lambda s:s.split(\"-\")[1])\n",
    "df.drop(columns=['Songs & Artist'],inplace=True)"
   ]
  },
  {
   "cell_type": "code",
   "execution_count": 8,
   "id": "20cf3d9d",
   "metadata": {
    "execution": {
     "iopub.execute_input": "2024-10-04T06:31:59.484674Z",
     "iopub.status.busy": "2024-10-04T06:31:59.483832Z",
     "iopub.status.idle": "2024-10-04T06:31:59.490069Z",
     "shell.execute_reply": "2024-10-04T06:31:59.489050Z"
    },
    "papermill": {
     "duration": 0.021526,
     "end_time": "2024-10-04T06:31:59.492264",
     "exception": false,
     "start_time": "2024-10-04T06:31:59.470738",
     "status": "completed"
    },
    "tags": []
   },
   "outputs": [],
   "source": [
    "df=df[['Song','Artist','Streams','Daily']]"
   ]
  },
  {
   "cell_type": "code",
   "execution_count": 9,
   "id": "954e50b7",
   "metadata": {
    "execution": {
     "iopub.execute_input": "2024-10-04T06:31:59.518101Z",
     "iopub.status.busy": "2024-10-04T06:31:59.517716Z",
     "iopub.status.idle": "2024-10-04T06:31:59.531038Z",
     "shell.execute_reply": "2024-10-04T06:31:59.529829Z"
    },
    "papermill": {
     "duration": 0.028884,
     "end_time": "2024-10-04T06:31:59.533463",
     "exception": false,
     "start_time": "2024-10-04T06:31:59.504579",
     "status": "completed"
    },
    "tags": []
   },
   "outputs": [
    {
     "data": {
      "text/html": [
       "<div>\n",
       "<style scoped>\n",
       "    .dataframe tbody tr th:only-of-type {\n",
       "        vertical-align: middle;\n",
       "    }\n",
       "\n",
       "    .dataframe tbody tr th {\n",
       "        vertical-align: top;\n",
       "    }\n",
       "\n",
       "    .dataframe thead th {\n",
       "        text-align: right;\n",
       "    }\n",
       "</style>\n",
       "<table border=\"1\" class=\"dataframe\">\n",
       "  <thead>\n",
       "    <tr style=\"text-align: right;\">\n",
       "      <th></th>\n",
       "      <th>Song</th>\n",
       "      <th>Artist</th>\n",
       "      <th>Streams</th>\n",
       "      <th>Daily</th>\n",
       "    </tr>\n",
       "  </thead>\n",
       "  <tbody>\n",
       "    <tr>\n",
       "      <th>0</th>\n",
       "      <td>Blinding Lights</td>\n",
       "      <td>The Weeknd</td>\n",
       "      <td>4463658617</td>\n",
       "      <td>1619447.0</td>\n",
       "    </tr>\n",
       "    <tr>\n",
       "      <th>1</th>\n",
       "      <td>Shape of You</td>\n",
       "      <td>Ed Sheeran</td>\n",
       "      <td>4018102402</td>\n",
       "      <td>1001507.0</td>\n",
       "    </tr>\n",
       "    <tr>\n",
       "      <th>2</th>\n",
       "      <td>Someone You Loved</td>\n",
       "      <td>Lewis Capaldi</td>\n",
       "      <td>3588673578</td>\n",
       "      <td>1506961.0</td>\n",
       "    </tr>\n",
       "    <tr>\n",
       "      <th>3</th>\n",
       "      <td>As It Was</td>\n",
       "      <td>Harry Styles</td>\n",
       "      <td>3544187311</td>\n",
       "      <td>1611374.0</td>\n",
       "    </tr>\n",
       "    <tr>\n",
       "      <th>4</th>\n",
       "      <td>Sunflower</td>\n",
       "      <td>Post Malone</td>\n",
       "      <td>3518744128</td>\n",
       "      <td>1337404.0</td>\n",
       "    </tr>\n",
       "  </tbody>\n",
       "</table>\n",
       "</div>"
      ],
      "text/plain": [
       "                 Song          Artist     Streams      Daily\n",
       "0     Blinding Lights     The Weeknd   4463658617  1619447.0\n",
       "1        Shape of You     Ed Sheeran   4018102402  1001507.0\n",
       "2   Someone You Loved  Lewis Capaldi   3588673578  1506961.0\n",
       "3           As It Was   Harry Styles   3544187311  1611374.0\n",
       "4           Sunflower    Post Malone   3518744128  1337404.0"
      ]
     },
     "execution_count": 9,
     "metadata": {},
     "output_type": "execute_result"
    }
   ],
   "source": [
    "df.head()"
   ]
  },
  {
   "cell_type": "markdown",
   "id": "19ac4463",
   "metadata": {
    "papermill": {
     "duration": 0.012019,
     "end_time": "2024-10-04T06:31:59.557788",
     "exception": false,
     "start_time": "2024-10-04T06:31:59.545769",
     "status": "completed"
    },
    "tags": []
   },
   "source": [
    "## Exploratory Data Analysis"
   ]
  },
  {
   "cell_type": "markdown",
   "id": "6be2414c",
   "metadata": {
    "papermill": {
     "duration": 0.011993,
     "end_time": "2024-10-04T06:31:59.582007",
     "exception": false,
     "start_time": "2024-10-04T06:31:59.570014",
     "status": "completed"
    },
    "tags": []
   },
   "source": [
    "### Let us find the top Artists and Songs"
   ]
  },
  {
   "cell_type": "code",
   "execution_count": 10,
   "id": "85c5adb3",
   "metadata": {
    "execution": {
     "iopub.execute_input": "2024-10-04T06:31:59.608561Z",
     "iopub.status.busy": "2024-10-04T06:31:59.607789Z",
     "iopub.status.idle": "2024-10-04T06:32:01.281886Z",
     "shell.execute_reply": "2024-10-04T06:32:01.280773Z"
    },
    "papermill": {
     "duration": 1.690352,
     "end_time": "2024-10-04T06:32:01.284657",
     "exception": false,
     "start_time": "2024-10-04T06:31:59.594305",
     "status": "completed"
    },
    "tags": []
   },
   "outputs": [],
   "source": [
    "import matplotlib.pyplot as plt\n",
    "import seaborn as sns"
   ]
  },
  {
   "cell_type": "code",
   "execution_count": 11,
   "id": "d91e86b5",
   "metadata": {
    "execution": {
     "iopub.execute_input": "2024-10-04T06:32:01.311924Z",
     "iopub.status.busy": "2024-10-04T06:32:01.310862Z",
     "iopub.status.idle": "2024-10-04T06:32:01.328741Z",
     "shell.execute_reply": "2024-10-04T06:32:01.327638Z"
    },
    "papermill": {
     "duration": 0.034291,
     "end_time": "2024-10-04T06:32:01.331501",
     "exception": false,
     "start_time": "2024-10-04T06:32:01.297210",
     "status": "completed"
    },
    "tags": []
   },
   "outputs": [],
   "source": [
    "df2=df.groupby(\"Artist\").agg({\"Streams\":\"mean\"}).reset_index().sort_values(by=\"Streams\",ascending=False)"
   ]
  },
  {
   "cell_type": "code",
   "execution_count": 12,
   "id": "dc27a495",
   "metadata": {
    "execution": {
     "iopub.execute_input": "2024-10-04T06:32:01.357767Z",
     "iopub.status.busy": "2024-10-04T06:32:01.357354Z",
     "iopub.status.idle": "2024-10-04T06:32:01.805645Z",
     "shell.execute_reply": "2024-10-04T06:32:01.804529Z"
    },
    "papermill": {
     "duration": 0.464483,
     "end_time": "2024-10-04T06:32:01.808473",
     "exception": false,
     "start_time": "2024-10-04T06:32:01.343990",
     "status": "completed"
    },
    "tags": []
   },
   "outputs": [
    {
     "data": {
      "text/plain": [
       "<Axes: title={'center': 'TOP 10 ARTISTS BASED ON STREAMING COUNTS'}, xlabel='Artist', ylabel='Streams'>"
      ]
     },
     "execution_count": 12,
     "metadata": {},
     "output_type": "execute_result"
    },
    {
     "data": {
      "image/png": "[encoded data removed]",
      "text/plain": [
       "<Figure size 1500x500 with 1 Axes>"
      ]
     },
     "metadata": {},
     "output_type": "display_data"
    }
   ],
   "source": [
    "df2=df.groupby(\"Artist\").agg({\"Streams\":\"mean\"}).reset_index().sort_values(by=\"Streams\",ascending=False)\n",
    "plt.figure(figsize=(15,5))\n",
    "plt.title(\"TOP 10 ARTISTS BASED ON STREAMING COUNTS\")\n",
    "sns.barplot(x='Artist',y='Streams',data=df2.head(10))"
   ]
  },
  {
   "cell_type": "markdown",
   "id": "07f5e2cf",
   "metadata": {
    "papermill": {
     "duration": 0.013007,
     "end_time": "2024-10-04T06:32:01.834576",
     "exception": false,
     "start_time": "2024-10-04T06:32:01.821569",
     "status": "completed"
    },
    "tags": []
   },
   "source": [
    "### TOP ARTISTS BASED ON THEIR DAILY STREAMING ACTIVITY"
   ]
  },
  {
   "cell_type": "code",
   "execution_count": 13,
   "id": "7ed7b635",
   "metadata": {
    "execution": {
     "iopub.execute_input": "2024-10-04T06:32:01.862484Z",
     "iopub.status.busy": "2024-10-04T06:32:01.862035Z",
     "iopub.status.idle": "2024-10-04T06:32:02.283673Z",
     "shell.execute_reply": "2024-10-04T06:32:02.282350Z"
    },
    "papermill": {
     "duration": 0.438518,
     "end_time": "2024-10-04T06:32:02.286219",
     "exception": false,
     "start_time": "2024-10-04T06:32:01.847701",
     "status": "completed"
    },
    "tags": []
   },
   "outputs": [
    {
     "data": {
      "text/plain": [
       "<Axes: title={'center': 'TOP 10 ARTISTS BASED ON DAILY COUNTS'}, xlabel='Artist', ylabel='Daily'>"
      ]
     },
     "execution_count": 13,
     "metadata": {},
     "output_type": "execute_result"
    },
    {
     "data": {
      "image/png": "[encoded data removed]",
      "text/plain": [
       "<Figure size 1500x500 with 1 Axes>"
      ]
     },
     "metadata": {},
     "output_type": "display_data"
    }
   ],
   "source": [
    "df2=df.groupby(\"Artist\").agg({\"Daily\":\"mean\"}).reset_index().sort_values(by=\"Daily\",ascending=False)\n",
    "plt.figure(figsize=(15,5))\n",
    "plt.title(\"TOP 10 ARTISTS BASED ON DAILY COUNTS\")\n",
    "sns.barplot(x='Artist',y='Daily',data=df2.head(10))"
   ]
  },
  {
   "cell_type": "markdown",
   "id": "05bc124a",
   "metadata": {
    "papermill": {
     "duration": 0.01345,
     "end_time": "2024-10-04T06:32:02.313495",
     "exception": false,
     "start_time": "2024-10-04T06:32:02.300045",
     "status": "completed"
    },
    "tags": []
   },
   "source": [
    "## Lets check the relationship between Overall Streaming vs Daily Streaming"
   ]
  },
  {
   "cell_type": "code",
   "execution_count": 14,
   "id": "4439f35f",
   "metadata": {
    "execution": {
     "iopub.execute_input": "2024-10-04T06:32:02.343095Z",
     "iopub.status.busy": "2024-10-04T06:32:02.342219Z",
     "iopub.status.idle": "2024-10-04T06:32:02.354889Z",
     "shell.execute_reply": "2024-10-04T06:32:02.353824Z"
    },
    "papermill": {
     "duration": 0.029917,
     "end_time": "2024-10-04T06:32:02.357202",
     "exception": false,
     "start_time": "2024-10-04T06:32:02.327285",
     "status": "completed"
    },
    "tags": []
   },
   "outputs": [
    {
     "data": {
      "text/html": [
       "<div>\n",
       "<style scoped>\n",
       "    .dataframe tbody tr th:only-of-type {\n",
       "        vertical-align: middle;\n",
       "    }\n",
       "\n",
       "    .dataframe tbody tr th {\n",
       "        vertical-align: top;\n",
       "    }\n",
       "\n",
       "    .dataframe thead th {\n",
       "        text-align: right;\n",
       "    }\n",
       "</style>\n",
       "<table border=\"1\" class=\"dataframe\">\n",
       "  <thead>\n",
       "    <tr style=\"text-align: right;\">\n",
       "      <th></th>\n",
       "      <th>Daily</th>\n",
       "      <th>Streams</th>\n",
       "    </tr>\n",
       "  </thead>\n",
       "  <tbody>\n",
       "    <tr>\n",
       "      <th>Daily</th>\n",
       "      <td>1.000000</td>\n",
       "      <td>0.443207</td>\n",
       "    </tr>\n",
       "    <tr>\n",
       "      <th>Streams</th>\n",
       "      <td>0.443207</td>\n",
       "      <td>1.000000</td>\n",
       "    </tr>\n",
       "  </tbody>\n",
       "</table>\n",
       "</div>"
      ],
      "text/plain": [
       "            Daily   Streams\n",
       "Daily    1.000000  0.443207\n",
       "Streams  0.443207  1.000000"
      ]
     },
     "execution_count": 14,
     "metadata": {},
     "output_type": "execute_result"
    }
   ],
   "source": [
    "df[['Daily','Streams']].corr()"
   ]
  },
  {
   "cell_type": "code",
   "execution_count": 15,
   "id": "e77836c4",
   "metadata": {
    "execution": {
     "iopub.execute_input": "2024-10-04T06:32:02.387143Z",
     "iopub.status.busy": "2024-10-04T06:32:02.386393Z",
     "iopub.status.idle": "2024-10-04T06:32:02.715198Z",
     "shell.execute_reply": "2024-10-04T06:32:02.714050Z"
    },
    "papermill": {
     "duration": 0.346343,
     "end_time": "2024-10-04T06:32:02.717689",
     "exception": false,
     "start_time": "2024-10-04T06:32:02.371346",
     "status": "completed"
    },
    "tags": []
   },
   "outputs": [
    {
     "data": {
      "text/plain": [
       "<Axes: xlabel='Streams', ylabel='Daily'>"
      ]
     },
     "execution_count": 15,
     "metadata": {},
     "output_type": "execute_result"
    },
    {
     "data": {
      "image/png": "[encoded data removed]",
      "text/plain": [
       "<Figure size 640x480 with 1 Axes>"
      ]
     },
     "metadata": {},
     "output_type": "display_data"
    }
   ],
   "source": [
    "sns.scatterplot(x='Streams',y='Daily',data=df.groupby(\"Artist\").agg({'Streams':'mean','Daily':'mean'}).reset_index(),markers=True)"
   ]
  },
  {
   "cell_type": "markdown",
   "id": "08304b39",
   "metadata": {
    "papermill": {
     "duration": 0.014218,
     "end_time": "2024-10-04T06:32:02.747212",
     "exception": false,
     "start_time": "2024-10-04T06:32:02.732994",
     "status": "completed"
    },
    "tags": []
   },
   "source": [
    "## INFERENCE:\n",
    "\n",
    "DAILY Streaming Activity is linearly correlated with Overall Streaming Activity, though there are a few outliers"
   ]
  },
  {
   "cell_type": "markdown",
   "id": "98b3eeb8",
   "metadata": {
    "papermill": {
     "duration": 0.014165,
     "end_time": "2024-10-04T06:32:02.776252",
     "exception": false,
     "start_time": "2024-10-04T06:32:02.762087",
     "status": "completed"
    },
    "tags": []
   },
   "source": [
    "## DATA ENCODING AND TEST, TRAIN SPLITS"
   ]
  },
  {
   "cell_type": "code",
   "execution_count": 16,
   "id": "01ff7652",
   "metadata": {
    "execution": {
     "iopub.execute_input": "2024-10-04T06:32:02.807626Z",
     "iopub.status.busy": "2024-10-04T06:32:02.807158Z",
     "iopub.status.idle": "2024-10-04T06:32:03.404627Z",
     "shell.execute_reply": "2024-10-04T06:32:03.403429Z"
    },
    "papermill": {
     "duration": 0.616167,
     "end_time": "2024-10-04T06:32:03.407177",
     "exception": false,
     "start_time": "2024-10-04T06:32:02.791010",
     "status": "completed"
    },
    "tags": []
   },
   "outputs": [],
   "source": [
    "from sklearn.compose import ColumnTransformer\n",
    "from sklearn.preprocessing import StandardScaler,OneHotEncoder,LabelEncoder\n",
    "import category_encoders as ce\n",
    "\n"
   ]
  },
  {
   "cell_type": "markdown",
   "id": "928edd70",
   "metadata": {
    "papermill": {
     "duration": 0.014774,
     "end_time": "2024-10-04T06:32:03.436856",
     "exception": false,
     "start_time": "2024-10-04T06:32:03.422082",
     "status": "completed"
    },
    "tags": []
   },
   "source": [
    "Train, Test Splits"
   ]
  },
  {
   "cell_type": "code",
   "execution_count": 17,
   "id": "bc737c40",
   "metadata": {
    "execution": {
     "iopub.execute_input": "2024-10-04T06:32:03.467963Z",
     "iopub.status.busy": "2024-10-04T06:32:03.467327Z",
     "iopub.status.idle": "2024-10-04T06:32:03.472635Z",
     "shell.execute_reply": "2024-10-04T06:32:03.471482Z"
    },
    "papermill": {
     "duration": 0.023682,
     "end_time": "2024-10-04T06:32:03.475103",
     "exception": false,
     "start_time": "2024-10-04T06:32:03.451421",
     "status": "completed"
    },
    "tags": []
   },
   "outputs": [],
   "source": [
    "## We will use binary encoder to encode Artists because there are many unique artists ( more than 900)"
   ]
  },
  {
   "cell_type": "code",
   "execution_count": 18,
   "id": "9ebd52ca",
   "metadata": {
    "execution": {
     "iopub.execute_input": "2024-10-04T06:32:03.506698Z",
     "iopub.status.busy": "2024-10-04T06:32:03.505777Z",
     "iopub.status.idle": "2024-10-04T06:32:03.543609Z",
     "shell.execute_reply": "2024-10-04T06:32:03.542427Z"
    },
    "papermill": {
     "duration": 0.056392,
     "end_time": "2024-10-04T06:32:03.546321",
     "exception": false,
     "start_time": "2024-10-04T06:32:03.489929",
     "status": "completed"
    },
    "tags": []
   },
   "outputs": [],
   "source": [
    "binary_t=ce.BinaryEncoder(cols=['Artist'])\n",
    "artists_transformed = binary_t.fit_transform(df[['Artist']])\n",
    "df2 = pd.concat([df,artists_transformed],axis=1)\n"
   ]
  },
  {
   "cell_type": "markdown",
   "id": "1e431d70",
   "metadata": {
    "papermill": {
     "duration": 0.014446,
     "end_time": "2024-10-04T06:32:03.575471",
     "exception": false,
     "start_time": "2024-10-04T06:32:03.561025",
     "status": "completed"
    },
    "tags": []
   },
   "source": [
    "## "
   ]
  },
  {
   "cell_type": "code",
   "execution_count": 19,
   "id": "40abc68c",
   "metadata": {
    "execution": {
     "iopub.execute_input": "2024-10-04T06:32:03.606837Z",
     "iopub.status.busy": "2024-10-04T06:32:03.605841Z",
     "iopub.status.idle": "2024-10-04T06:32:03.626442Z",
     "shell.execute_reply": "2024-10-04T06:32:03.625380Z"
    },
    "papermill": {
     "duration": 0.038912,
     "end_time": "2024-10-04T06:32:03.628946",
     "exception": false,
     "start_time": "2024-10-04T06:32:03.590034",
     "status": "completed"
    },
    "tags": []
   },
   "outputs": [
    {
     "data": {
      "text/html": [
       "<div>\n",
       "<style scoped>\n",
       "    .dataframe tbody tr th:only-of-type {\n",
       "        vertical-align: middle;\n",
       "    }\n",
       "\n",
       "    .dataframe tbody tr th {\n",
       "        vertical-align: top;\n",
       "    }\n",
       "\n",
       "    .dataframe thead th {\n",
       "        text-align: right;\n",
       "    }\n",
       "</style>\n",
       "<table border=\"1\" class=\"dataframe\">\n",
       "  <thead>\n",
       "    <tr style=\"text-align: right;\">\n",
       "      <th></th>\n",
       "      <th>Song</th>\n",
       "      <th>Artist</th>\n",
       "      <th>Streams</th>\n",
       "      <th>Daily</th>\n",
       "      <th>Artist_0</th>\n",
       "      <th>Artist_1</th>\n",
       "      <th>Artist_2</th>\n",
       "      <th>Artist_3</th>\n",
       "      <th>Artist_4</th>\n",
       "      <th>Artist_5</th>\n",
       "      <th>Artist_6</th>\n",
       "      <th>Artist_7</th>\n",
       "      <th>Artist_8</th>\n",
       "      <th>Artist_9</th>\n",
       "    </tr>\n",
       "  </thead>\n",
       "  <tbody>\n",
       "    <tr>\n",
       "      <th>0</th>\n",
       "      <td>Blinding Lights</td>\n",
       "      <td>The Weeknd</td>\n",
       "      <td>4463658617</td>\n",
       "      <td>1619447.0</td>\n",
       "      <td>0</td>\n",
       "      <td>0</td>\n",
       "      <td>0</td>\n",
       "      <td>0</td>\n",
       "      <td>0</td>\n",
       "      <td>0</td>\n",
       "      <td>0</td>\n",
       "      <td>0</td>\n",
       "      <td>0</td>\n",
       "      <td>1</td>\n",
       "    </tr>\n",
       "    <tr>\n",
       "      <th>1</th>\n",
       "      <td>Shape of You</td>\n",
       "      <td>Ed Sheeran</td>\n",
       "      <td>4018102402</td>\n",
       "      <td>1001507.0</td>\n",
       "      <td>0</td>\n",
       "      <td>0</td>\n",
       "      <td>0</td>\n",
       "      <td>0</td>\n",
       "      <td>0</td>\n",
       "      <td>0</td>\n",
       "      <td>0</td>\n",
       "      <td>0</td>\n",
       "      <td>1</td>\n",
       "      <td>0</td>\n",
       "    </tr>\n",
       "    <tr>\n",
       "      <th>2</th>\n",
       "      <td>Someone You Loved</td>\n",
       "      <td>Lewis Capaldi</td>\n",
       "      <td>3588673578</td>\n",
       "      <td>1506961.0</td>\n",
       "      <td>0</td>\n",
       "      <td>0</td>\n",
       "      <td>0</td>\n",
       "      <td>0</td>\n",
       "      <td>0</td>\n",
       "      <td>0</td>\n",
       "      <td>0</td>\n",
       "      <td>0</td>\n",
       "      <td>1</td>\n",
       "      <td>1</td>\n",
       "    </tr>\n",
       "    <tr>\n",
       "      <th>3</th>\n",
       "      <td>As It Was</td>\n",
       "      <td>Harry Styles</td>\n",
       "      <td>3544187311</td>\n",
       "      <td>1611374.0</td>\n",
       "      <td>0</td>\n",
       "      <td>0</td>\n",
       "      <td>0</td>\n",
       "      <td>0</td>\n",
       "      <td>0</td>\n",
       "      <td>0</td>\n",
       "      <td>0</td>\n",
       "      <td>1</td>\n",
       "      <td>0</td>\n",
       "      <td>0</td>\n",
       "    </tr>\n",
       "    <tr>\n",
       "      <th>4</th>\n",
       "      <td>Sunflower</td>\n",
       "      <td>Post Malone</td>\n",
       "      <td>3518744128</td>\n",
       "      <td>1337404.0</td>\n",
       "      <td>0</td>\n",
       "      <td>0</td>\n",
       "      <td>0</td>\n",
       "      <td>0</td>\n",
       "      <td>0</td>\n",
       "      <td>0</td>\n",
       "      <td>0</td>\n",
       "      <td>1</td>\n",
       "      <td>0</td>\n",
       "      <td>1</td>\n",
       "    </tr>\n",
       "    <tr>\n",
       "      <th>...</th>\n",
       "      <td>...</td>\n",
       "      <td>...</td>\n",
       "      <td>...</td>\n",
       "      <td>...</td>\n",
       "      <td>...</td>\n",
       "      <td>...</td>\n",
       "      <td>...</td>\n",
       "      <td>...</td>\n",
       "      <td>...</td>\n",
       "      <td>...</td>\n",
       "      <td>...</td>\n",
       "      <td>...</td>\n",
       "      <td>...</td>\n",
       "      <td>...</td>\n",
       "    </tr>\n",
       "    <tr>\n",
       "      <th>2495</th>\n",
       "      <td>LA FALDA</td>\n",
       "      <td>Myke Towers</td>\n",
       "      <td>505592800</td>\n",
       "      <td>1278450.0</td>\n",
       "      <td>0</td>\n",
       "      <td>1</td>\n",
       "      <td>0</td>\n",
       "      <td>1</td>\n",
       "      <td>1</td>\n",
       "      <td>1</td>\n",
       "      <td>0</td>\n",
       "      <td>0</td>\n",
       "      <td>1</td>\n",
       "      <td>0</td>\n",
       "    </tr>\n",
       "    <tr>\n",
       "      <th>2496</th>\n",
       "      <td>Magic In The Hamptons</td>\n",
       "      <td>Social House</td>\n",
       "      <td>505511969</td>\n",
       "      <td>118483.0</td>\n",
       "      <td>1</td>\n",
       "      <td>1</td>\n",
       "      <td>1</td>\n",
       "      <td>1</td>\n",
       "      <td>1</td>\n",
       "      <td>0</td>\n",
       "      <td>0</td>\n",
       "      <td>0</td>\n",
       "      <td>0</td>\n",
       "      <td>0</td>\n",
       "    </tr>\n",
       "    <tr>\n",
       "      <th>2497</th>\n",
       "      <td>Rock And Roll All Nite</td>\n",
       "      <td>KISS</td>\n",
       "      <td>505386377</td>\n",
       "      <td>205701.0</td>\n",
       "      <td>0</td>\n",
       "      <td>1</td>\n",
       "      <td>0</td>\n",
       "      <td>1</td>\n",
       "      <td>1</td>\n",
       "      <td>0</td>\n",
       "      <td>0</td>\n",
       "      <td>0</td>\n",
       "      <td>1</td>\n",
       "      <td>0</td>\n",
       "    </tr>\n",
       "    <tr>\n",
       "      <th>2498</th>\n",
       "      <td>512</td>\n",
       "      <td>Mora</td>\n",
       "      <td>505309100</td>\n",
       "      <td>280336.0</td>\n",
       "      <td>1</td>\n",
       "      <td>0</td>\n",
       "      <td>0</td>\n",
       "      <td>0</td>\n",
       "      <td>1</td>\n",
       "      <td>0</td>\n",
       "      <td>0</td>\n",
       "      <td>0</td>\n",
       "      <td>1</td>\n",
       "      <td>0</td>\n",
       "    </tr>\n",
       "    <tr>\n",
       "      <th>2499</th>\n",
       "      <td>Me Too</td>\n",
       "      <td>Meghan Trainor</td>\n",
       "      <td>505249124</td>\n",
       "      <td>288515.0</td>\n",
       "      <td>0</td>\n",
       "      <td>1</td>\n",
       "      <td>0</td>\n",
       "      <td>1</td>\n",
       "      <td>0</td>\n",
       "      <td>0</td>\n",
       "      <td>1</td>\n",
       "      <td>0</td>\n",
       "      <td>0</td>\n",
       "      <td>1</td>\n",
       "    </tr>\n",
       "  </tbody>\n",
       "</table>\n",
       "<p>2498 rows × 14 columns</p>\n",
       "</div>"
      ],
      "text/plain": [
       "                         Song           Artist     Streams      Daily  \\\n",
       "0             Blinding Lights      The Weeknd   4463658617  1619447.0   \n",
       "1                Shape of You      Ed Sheeran   4018102402  1001507.0   \n",
       "2           Someone You Loved   Lewis Capaldi   3588673578  1506961.0   \n",
       "3                   As It Was    Harry Styles   3544187311  1611374.0   \n",
       "4                   Sunflower     Post Malone   3518744128  1337404.0   \n",
       "...                       ...              ...         ...        ...   \n",
       "2495                 LA FALDA     Myke Towers    505592800  1278450.0   \n",
       "2496    Magic In The Hamptons    Social House    505511969   118483.0   \n",
       "2497   Rock And Roll All Nite            KISS    505386377   205701.0   \n",
       "2498                      512            Mora    505309100   280336.0   \n",
       "2499                   Me Too  Meghan Trainor    505249124   288515.0   \n",
       "\n",
       "      Artist_0  Artist_1  Artist_2  Artist_3  Artist_4  Artist_5  Artist_6  \\\n",
       "0            0         0         0         0         0         0         0   \n",
       "1            0         0         0         0         0         0         0   \n",
       "2            0         0         0         0         0         0         0   \n",
       "3            0         0         0         0         0         0         0   \n",
       "4            0         0         0         0         0         0         0   \n",
       "...        ...       ...       ...       ...       ...       ...       ...   \n",
       "2495         0         1         0         1         1         1         0   \n",
       "2496         1         1         1         1         1         0         0   \n",
       "2497         0         1         0         1         1         0         0   \n",
       "2498         1         0         0         0         1         0         0   \n",
       "2499         0         1         0         1         0         0         1   \n",
       "\n",
       "      Artist_7  Artist_8  Artist_9  \n",
       "0            0         0         1  \n",
       "1            0         1         0  \n",
       "2            0         1         1  \n",
       "3            1         0         0  \n",
       "4            1         0         1  \n",
       "...        ...       ...       ...  \n",
       "2495         0         1         0  \n",
       "2496         0         0         0  \n",
       "2497         0         1         0  \n",
       "2498         0         1         0  \n",
       "2499         0         0         1  \n",
       "\n",
       "[2498 rows x 14 columns]"
      ]
     },
     "execution_count": 19,
     "metadata": {},
     "output_type": "execute_result"
    }
   ],
   "source": [
    "df2"
   ]
  },
  {
   "cell_type": "code",
   "execution_count": 20,
   "id": "eb4f1947",
   "metadata": {
    "execution": {
     "iopub.execute_input": "2024-10-04T06:32:03.665365Z",
     "iopub.status.busy": "2024-10-04T06:32:03.664261Z",
     "iopub.status.idle": "2024-10-04T06:32:03.671956Z",
     "shell.execute_reply": "2024-10-04T06:32:03.670683Z"
    },
    "papermill": {
     "duration": 0.029926,
     "end_time": "2024-10-04T06:32:03.674729",
     "exception": false,
     "start_time": "2024-10-04T06:32:03.644803",
     "status": "completed"
    },
    "tags": []
   },
   "outputs": [],
   "source": [
    "df2.drop(columns=['Artist','Song'],inplace=True)"
   ]
  },
  {
   "cell_type": "code",
   "execution_count": 21,
   "id": "f5a33fee",
   "metadata": {
    "execution": {
     "iopub.execute_input": "2024-10-04T06:32:03.714991Z",
     "iopub.status.busy": "2024-10-04T06:32:03.714583Z",
     "iopub.status.idle": "2024-10-04T06:32:03.733519Z",
     "shell.execute_reply": "2024-10-04T06:32:03.732348Z"
    },
    "papermill": {
     "duration": 0.043186,
     "end_time": "2024-10-04T06:32:03.735889",
     "exception": false,
     "start_time": "2024-10-04T06:32:03.692703",
     "status": "completed"
    },
    "tags": []
   },
   "outputs": [
    {
     "data": {
      "text/html": [
       "<div>\n",
       "<style scoped>\n",
       "    .dataframe tbody tr th:only-of-type {\n",
       "        vertical-align: middle;\n",
       "    }\n",
       "\n",
       "    .dataframe tbody tr th {\n",
       "        vertical-align: top;\n",
       "    }\n",
       "\n",
       "    .dataframe thead th {\n",
       "        text-align: right;\n",
       "    }\n",
       "</style>\n",
       "<table border=\"1\" class=\"dataframe\">\n",
       "  <thead>\n",
       "    <tr style=\"text-align: right;\">\n",
       "      <th></th>\n",
       "      <th>Streams</th>\n",
       "      <th>Daily</th>\n",
       "      <th>Artist_0</th>\n",
       "      <th>Artist_1</th>\n",
       "      <th>Artist_2</th>\n",
       "      <th>Artist_3</th>\n",
       "      <th>Artist_4</th>\n",
       "      <th>Artist_5</th>\n",
       "      <th>Artist_6</th>\n",
       "      <th>Artist_7</th>\n",
       "      <th>Artist_8</th>\n",
       "      <th>Artist_9</th>\n",
       "    </tr>\n",
       "  </thead>\n",
       "  <tbody>\n",
       "    <tr>\n",
       "      <th>0</th>\n",
       "      <td>4463658617</td>\n",
       "      <td>1619447.0</td>\n",
       "      <td>0</td>\n",
       "      <td>0</td>\n",
       "      <td>0</td>\n",
       "      <td>0</td>\n",
       "      <td>0</td>\n",
       "      <td>0</td>\n",
       "      <td>0</td>\n",
       "      <td>0</td>\n",
       "      <td>0</td>\n",
       "      <td>1</td>\n",
       "    </tr>\n",
       "    <tr>\n",
       "      <th>1</th>\n",
       "      <td>4018102402</td>\n",
       "      <td>1001507.0</td>\n",
       "      <td>0</td>\n",
       "      <td>0</td>\n",
       "      <td>0</td>\n",
       "      <td>0</td>\n",
       "      <td>0</td>\n",
       "      <td>0</td>\n",
       "      <td>0</td>\n",
       "      <td>0</td>\n",
       "      <td>1</td>\n",
       "      <td>0</td>\n",
       "    </tr>\n",
       "    <tr>\n",
       "      <th>2</th>\n",
       "      <td>3588673578</td>\n",
       "      <td>1506961.0</td>\n",
       "      <td>0</td>\n",
       "      <td>0</td>\n",
       "      <td>0</td>\n",
       "      <td>0</td>\n",
       "      <td>0</td>\n",
       "      <td>0</td>\n",
       "      <td>0</td>\n",
       "      <td>0</td>\n",
       "      <td>1</td>\n",
       "      <td>1</td>\n",
       "    </tr>\n",
       "    <tr>\n",
       "      <th>3</th>\n",
       "      <td>3544187311</td>\n",
       "      <td>1611374.0</td>\n",
       "      <td>0</td>\n",
       "      <td>0</td>\n",
       "      <td>0</td>\n",
       "      <td>0</td>\n",
       "      <td>0</td>\n",
       "      <td>0</td>\n",
       "      <td>0</td>\n",
       "      <td>1</td>\n",
       "      <td>0</td>\n",
       "      <td>0</td>\n",
       "    </tr>\n",
       "    <tr>\n",
       "      <th>4</th>\n",
       "      <td>3518744128</td>\n",
       "      <td>1337404.0</td>\n",
       "      <td>0</td>\n",
       "      <td>0</td>\n",
       "      <td>0</td>\n",
       "      <td>0</td>\n",
       "      <td>0</td>\n",
       "      <td>0</td>\n",
       "      <td>0</td>\n",
       "      <td>1</td>\n",
       "      <td>0</td>\n",
       "      <td>1</td>\n",
       "    </tr>\n",
       "    <tr>\n",
       "      <th>...</th>\n",
       "      <td>...</td>\n",
       "      <td>...</td>\n",
       "      <td>...</td>\n",
       "      <td>...</td>\n",
       "      <td>...</td>\n",
       "      <td>...</td>\n",
       "      <td>...</td>\n",
       "      <td>...</td>\n",
       "      <td>...</td>\n",
       "      <td>...</td>\n",
       "      <td>...</td>\n",
       "      <td>...</td>\n",
       "    </tr>\n",
       "    <tr>\n",
       "      <th>2495</th>\n",
       "      <td>505592800</td>\n",
       "      <td>1278450.0</td>\n",
       "      <td>0</td>\n",
       "      <td>1</td>\n",
       "      <td>0</td>\n",
       "      <td>1</td>\n",
       "      <td>1</td>\n",
       "      <td>1</td>\n",
       "      <td>0</td>\n",
       "      <td>0</td>\n",
       "      <td>1</td>\n",
       "      <td>0</td>\n",
       "    </tr>\n",
       "    <tr>\n",
       "      <th>2496</th>\n",
       "      <td>505511969</td>\n",
       "      <td>118483.0</td>\n",
       "      <td>1</td>\n",
       "      <td>1</td>\n",
       "      <td>1</td>\n",
       "      <td>1</td>\n",
       "      <td>1</td>\n",
       "      <td>0</td>\n",
       "      <td>0</td>\n",
       "      <td>0</td>\n",
       "      <td>0</td>\n",
       "      <td>0</td>\n",
       "    </tr>\n",
       "    <tr>\n",
       "      <th>2497</th>\n",
       "      <td>505386377</td>\n",
       "      <td>205701.0</td>\n",
       "      <td>0</td>\n",
       "      <td>1</td>\n",
       "      <td>0</td>\n",
       "      <td>1</td>\n",
       "      <td>1</td>\n",
       "      <td>0</td>\n",
       "      <td>0</td>\n",
       "      <td>0</td>\n",
       "      <td>1</td>\n",
       "      <td>0</td>\n",
       "    </tr>\n",
       "    <tr>\n",
       "      <th>2498</th>\n",
       "      <td>505309100</td>\n",
       "      <td>280336.0</td>\n",
       "      <td>1</td>\n",
       "      <td>0</td>\n",
       "      <td>0</td>\n",
       "      <td>0</td>\n",
       "      <td>1</td>\n",
       "      <td>0</td>\n",
       "      <td>0</td>\n",
       "      <td>0</td>\n",
       "      <td>1</td>\n",
       "      <td>0</td>\n",
       "    </tr>\n",
       "    <tr>\n",
       "      <th>2499</th>\n",
       "      <td>505249124</td>\n",
       "      <td>288515.0</td>\n",
       "      <td>0</td>\n",
       "      <td>1</td>\n",
       "      <td>0</td>\n",
       "      <td>1</td>\n",
       "      <td>0</td>\n",
       "      <td>0</td>\n",
       "      <td>1</td>\n",
       "      <td>0</td>\n",
       "      <td>0</td>\n",
       "      <td>1</td>\n",
       "    </tr>\n",
       "  </tbody>\n",
       "</table>\n",
       "<p>2498 rows × 12 columns</p>\n",
       "</div>"
      ],
      "text/plain": [
       "         Streams      Daily  Artist_0  Artist_1  Artist_2  Artist_3  Artist_4  \\\n",
       "0     4463658617  1619447.0         0         0         0         0         0   \n",
       "1     4018102402  1001507.0         0         0         0         0         0   \n",
       "2     3588673578  1506961.0         0         0         0         0         0   \n",
       "3     3544187311  1611374.0         0         0         0         0         0   \n",
       "4     3518744128  1337404.0         0         0         0         0         0   \n",
       "...          ...        ...       ...       ...       ...       ...       ...   \n",
       "2495   505592800  1278450.0         0         1         0         1         1   \n",
       "2496   505511969   118483.0         1         1         1         1         1   \n",
       "2497   505386377   205701.0         0         1         0         1         1   \n",
       "2498   505309100   280336.0         1         0         0         0         1   \n",
       "2499   505249124   288515.0         0         1         0         1         0   \n",
       "\n",
       "      Artist_5  Artist_6  Artist_7  Artist_8  Artist_9  \n",
       "0            0         0         0         0         1  \n",
       "1            0         0         0         1         0  \n",
       "2            0         0         0         1         1  \n",
       "3            0         0         1         0         0  \n",
       "4            0         0         1         0         1  \n",
       "...        ...       ...       ...       ...       ...  \n",
       "2495         1         0         0         1         0  \n",
       "2496         0         0         0         0         0  \n",
       "2497         0         0         0         1         0  \n",
       "2498         0         0         0         1         0  \n",
       "2499         0         1         0         0         1  \n",
       "\n",
       "[2498 rows x 12 columns]"
      ]
     },
     "execution_count": 21,
     "metadata": {},
     "output_type": "execute_result"
    }
   ],
   "source": [
    "df2"
   ]
  },
  {
   "cell_type": "code",
   "execution_count": 22,
   "id": "a1d4f18a",
   "metadata": {
    "execution": {
     "iopub.execute_input": "2024-10-04T06:32:03.770016Z",
     "iopub.status.busy": "2024-10-04T06:32:03.769589Z",
     "iopub.status.idle": "2024-10-04T06:32:03.878723Z",
     "shell.execute_reply": "2024-10-04T06:32:03.877364Z"
    },
    "papermill": {
     "duration": 0.129353,
     "end_time": "2024-10-04T06:32:03.881396",
     "exception": false,
     "start_time": "2024-10-04T06:32:03.752043",
     "status": "completed"
    },
    "tags": []
   },
   "outputs": [],
   "source": [
    "from sklearn.model_selection import train_test_split\n",
    "X = df2.drop(columns=['Daily'])\n",
    "y=df2['Daily']\n",
    "\n",
    "X_train,X_test,y_train,y_test = train_test_split(X,y,test_size=0.25,random_state=42)"
   ]
  },
  {
   "cell_type": "code",
   "execution_count": 23,
   "id": "e54260e3",
   "metadata": {
    "execution": {
     "iopub.execute_input": "2024-10-04T06:32:03.922898Z",
     "iopub.status.busy": "2024-10-04T06:32:03.922439Z",
     "iopub.status.idle": "2024-10-04T06:32:03.938439Z",
     "shell.execute_reply": "2024-10-04T06:32:03.937206Z"
    },
    "papermill": {
     "duration": 0.039678,
     "end_time": "2024-10-04T06:32:03.941066",
     "exception": false,
     "start_time": "2024-10-04T06:32:03.901388",
     "status": "completed"
    },
    "tags": []
   },
   "outputs": [],
   "source": [
    "scaler = ColumnTransformer([(\"scaler\",StandardScaler(),[\"Streams\"])],remainder='passthrough')\n",
    "X_train=scaler.fit_transform(X_train)\n",
    "X_test = scaler.transform(X_test)"
   ]
  },
  {
   "cell_type": "code",
   "execution_count": 24,
   "id": "28f2e0a8",
   "metadata": {
    "execution": {
     "iopub.execute_input": "2024-10-04T06:32:03.983679Z",
     "iopub.status.busy": "2024-10-04T06:32:03.982562Z",
     "iopub.status.idle": "2024-10-04T06:32:03.990316Z",
     "shell.execute_reply": "2024-10-04T06:32:03.989072Z"
    },
    "papermill": {
     "duration": 0.031924,
     "end_time": "2024-10-04T06:32:03.992830",
     "exception": false,
     "start_time": "2024-10-04T06:32:03.960906",
     "status": "completed"
    },
    "tags": []
   },
   "outputs": [],
   "source": [
    "scaler = StandardScaler()\n",
    "Y_train_transformed=scaler.fit_transform(y_train.values.reshape(-1,1))\n",
    "Y_test_transformed=scaler.transform(y_test.values.reshape(-1,1))"
   ]
  },
  {
   "cell_type": "code",
   "execution_count": 25,
   "id": "4145624b",
   "metadata": {
    "execution": {
     "iopub.execute_input": "2024-10-04T06:32:04.028177Z",
     "iopub.status.busy": "2024-10-04T06:32:04.027745Z",
     "iopub.status.idle": "2024-10-04T06:32:04.150806Z",
     "shell.execute_reply": "2024-10-04T06:32:04.149663Z"
    },
    "papermill": {
     "duration": 0.145079,
     "end_time": "2024-10-04T06:32:04.153643",
     "exception": false,
     "start_time": "2024-10-04T06:32:04.008564",
     "status": "completed"
    },
    "tags": []
   },
   "outputs": [
    {
     "data": {
      "text/plain": [
       "0.21793035490089893"
      ]
     },
     "execution_count": 25,
     "metadata": {},
     "output_type": "execute_result"
    }
   ],
   "source": [
    "from sklearn.linear_model import LinearRegression\n",
    "from sklearn.metrics import mean_squared_error as mse\n",
    "\n",
    "ln = LinearRegression()\n",
    "ln.fit(X_train,Y_train_transformed)\n",
    "y_pred = ln.predict(X_test)\n",
    "mse(y_pred,Y_test_transformed)"
   ]
  },
  {
   "cell_type": "code",
   "execution_count": null,
   "id": "68405a3c",
   "metadata": {
    "papermill": {
     "duration": 0.020813,
     "end_time": "2024-10-04T06:32:04.195861",
     "exception": false,
     "start_time": "2024-10-04T06:32:04.175048",
     "status": "completed"
    },
    "tags": []
   },
   "outputs": [],
   "source": []
  }
 ],
 "metadata": {
  "kaggle": {
   "accelerator": "none",
   "dataSources": [
    {
     "datasetId": 5755539,
     "sourceId": 9465770,
     "sourceType": "datasetVersion"
    }
   ],
   "dockerImageVersionId": 30786,
   "isGpuEnabled": false,
   "isInternetEnabled": true,
   "language": "python",
   "sourceType": "notebook"
  },
  "kernelspec": {
   "display_name": "Python 3",
   "language": "python",
   "name": "python3"
  },
  "language_info": {
   "codemirror_mode": {
    "name": "ipython",
    "version": 3
   },
   "file_extension": ".py",
   "mimetype": "text/x-python",
   "name": "python",
   "nbconvert_exporter": "python",
   "pygments_lexer": "ipython3",
   "version": "3.10.14"
  },
  "papermill": {
   "default_parameters": {},
   "duration": 9.619753,
   "end_time": "2024-10-04T06:32:04.839151",
   "environment_variables": {},
   "exception": null,
   "input_path": "__notebook__.ipynb",
   "output_path": "__notebook__.ipynb",
   "parameters": {},
   "start_time": "2024-10-04T06:31:55.219398",
   "version": "2.6.0"
  }
 },
 "nbformat": 4,
 "nbformat_minor": 5
}
